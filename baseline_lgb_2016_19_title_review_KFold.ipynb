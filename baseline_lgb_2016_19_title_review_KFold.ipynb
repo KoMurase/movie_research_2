{
  "nbformat": 4,
  "nbformat_minor": 0,
  "metadata": {
    "colab": {
      "name": "baseline_lgb_2016_19_title_review_KFold.ipynb",
      "provenance": [],
      "collapsed_sections": [],
      "toc_visible": true,
      "include_colab_link": true
    },
    "kernelspec": {
      "name": "python3",
      "display_name": "Python 3"
    }
  },
  "cells": [
    {
      "cell_type": "markdown",
      "metadata": {
        "id": "view-in-github",
        "colab_type": "text"
      },
      "source": [
        "<a href=\"https://colab.research.google.com/github/KoMurase/movie_research_2/blob/master/baseline_lgb_2016_19_title_review_KFold.ipynb\" target=\"_parent\"><img src=\"https://colab.research.google.com/assets/colab-badge.svg\" alt=\"Open In Colab\"/></a>"
      ]
    },
    {
      "cell_type": "code",
      "metadata": {
        "colab": {
          "base_uri": "https://localhost:8080/"
        },
        "id": "O5gdhZnx7JzO",
        "outputId": "3e706174-eca4-4929-b60d-97fa8e4ed508"
      },
      "source": [
        "from google.colab import drive\n",
        "drive.mount('/content/drive')"
      ],
      "execution_count": 1,
      "outputs": [
        {
          "output_type": "stream",
          "text": [
            "Drive already mounted at /content/drive; to attempt to forcibly remount, call drive.mount(\"/content/drive\", force_remount=True).\n"
          ],
          "name": "stdout"
        }
      ]
    },
    {
      "cell_type": "code",
      "metadata": {
        "id": "vaGdp8hBVgOu"
      },
      "source": [
        "!cp -r '/content/drive/MyDrive/Movies/data/mojo_japan/' '/content/'\r\n",
        "\r\n",
        "!cp -r '/content/drive/MyDrive/Movies/data/metadata_filmarks/' '/content/'"
      ],
      "execution_count": 2,
      "outputs": []
    },
    {
      "cell_type": "code",
      "metadata": {
        "colab": {
          "base_uri": "https://localhost:8080/"
        },
        "id": "s2kvrLjEVmVJ",
        "outputId": "e1ed2f62-d532-4d2f-a676-e4bb78bba51c"
      },
      "source": [
        "!pip install japanize_matplotlib\r\n",
        "import pandas as pd\r\n",
        "import codecs \r\n",
        "import numpy as np\r\n",
        "import seaborn as sns\r\n",
        "import matplotlib.pyplot as plt \r\n",
        "import japanize_matplotlib\r\n",
        "\r\n",
        "import warnings\r\n",
        "\r\n",
        "import os\r\n",
        "from tqdm import tqdm\r\n",
        "import gc"
      ],
      "execution_count": 3,
      "outputs": [
        {
          "output_type": "stream",
          "text": [
            "Requirement already satisfied: japanize_matplotlib in /usr/local/lib/python3.6/dist-packages (1.1.3)\n",
            "Requirement already satisfied: matplotlib in /usr/local/lib/python3.6/dist-packages (from japanize_matplotlib) (3.2.2)\n",
            "Requirement already satisfied: python-dateutil>=2.1 in /usr/local/lib/python3.6/dist-packages (from matplotlib->japanize_matplotlib) (2.8.1)\n",
            "Requirement already satisfied: cycler>=0.10 in /usr/local/lib/python3.6/dist-packages (from matplotlib->japanize_matplotlib) (0.10.0)\n",
            "Requirement already satisfied: kiwisolver>=1.0.1 in /usr/local/lib/python3.6/dist-packages (from matplotlib->japanize_matplotlib) (1.3.1)\n",
            "Requirement already satisfied: pyparsing!=2.0.4,!=2.1.2,!=2.1.6,>=2.0.1 in /usr/local/lib/python3.6/dist-packages (from matplotlib->japanize_matplotlib) (2.4.7)\n",
            "Requirement already satisfied: numpy>=1.11 in /usr/local/lib/python3.6/dist-packages (from matplotlib->japanize_matplotlib) (1.19.5)\n",
            "Requirement already satisfied: six>=1.5 in /usr/local/lib/python3.6/dist-packages (from python-dateutil>=2.1->matplotlib->japanize_matplotlib) (1.15.0)\n"
          ],
          "name": "stdout"
        }
      ]
    },
    {
      "cell_type": "code",
      "metadata": {
        "id": "mMZxM24jlFEP"
      },
      "source": [
        "import lightgbm as lgb\r\n",
        "import numpy as np\r\n",
        "from sklearn.model_selection import StratifiedKFold\r\n",
        "from sklearn.model_selection import KFold\r\n",
        "\r\n",
        "from sklearn.model_selection import train_test_split\r\n",
        "\r\n",
        "#評価\r\n",
        "from sklearn.metrics import r2_score\r\n",
        "#r2_score(y_true, y_pred)"
      ],
      "execution_count": 4,
      "outputs": []
    },
    {
      "cell_type": "code",
      "metadata": {
        "id": "sIFjdO-7WAOX"
      },
      "source": [
        "path = '/content/drive/MyDrive/Movies/preprocessed/'"
      ],
      "execution_count": 5,
      "outputs": []
    },
    {
      "cell_type": "code",
      "metadata": {
        "id": "2CGVvLRpVsCQ"
      },
      "source": [
        "def read_data(path, encode_type):\r\n",
        "  \r\n",
        "  with codecs.open(path, \"r\", encode_type, \"ignore\") as file:\r\n",
        "    output = pd.read_csv(file, delimiter=\",\")\r\n",
        "      \r\n",
        "  return output"
      ],
      "execution_count": 6,
      "outputs": []
    },
    {
      "cell_type": "code",
      "metadata": {
        "id": "eVYm7DPrVv-x",
        "colab": {
          "base_uri": "https://localhost:8080/"
        },
        "outputId": "d7c612da-cd75-4a95-c55b-891495b7ca65"
      },
      "source": [
        "train = read_data(path+'train_2016-2018_title.csv', encode_type='utf-8')\r\n",
        "test = read_data(path+'test_2019_title.csv', encode_type='utf-8')"
      ],
      "execution_count": 7,
      "outputs": [
        {
          "output_type": "stream",
          "text": [
            "/usr/local/lib/python3.6/dist-packages/IPython/core/interactiveshell.py:2822: DtypeWarning: Columns (5628) have mixed types.Specify dtype option on import or set low_memory=False.\n",
            "  if self.run_code(code, result):\n"
          ],
          "name": "stderr"
        }
      ]
    },
    {
      "cell_type": "markdown",
      "metadata": {
        "id": "_inDUf5Dovfa"
      },
      "source": [
        "#reviewデータの結合"
      ]
    },
    {
      "cell_type": "code",
      "metadata": {
        "id": "57PZBstUXc7y"
      },
      "source": [
        "review = pd.read_csv('/content/drive/MyDrive/Movies/preprocessed/keiyousi_2016-2019.csv')"
      ],
      "execution_count": 8,
      "outputs": []
    },
    {
      "cell_type": "code",
      "metadata": {
        "id": "N-dHRu4khu9X"
      },
      "source": [
        "review_ = review.drop_duplicates()"
      ],
      "execution_count": 36,
      "outputs": []
    },
    {
      "cell_type": "code",
      "metadata": {
        "colab": {
          "base_uri": "https://localhost:8080/"
        },
        "id": "xZosKoVEiira",
        "outputId": "b9497d79-4fb6-44a9-9716-27967cea606b"
      },
      "source": [
        "train.shape, review_.shape"
      ],
      "execution_count": 37,
      "outputs": [
        {
          "output_type": "execute_result",
          "data": {
            "text/plain": [
              "((642, 9063), (683, 489))"
            ]
          },
          "metadata": {
            "tags": []
          },
          "execution_count": 37
        }
      ]
    },
    {
      "cell_type": "code",
      "metadata": {
        "colab": {
          "base_uri": "https://localhost:8080/",
          "height": 779
        },
        "id": "zCDg1UaIjKA3",
        "outputId": "dd328abc-99df-48d2-a03a-d42774f4f66f"
      },
      "source": [
        "review_"
      ],
      "execution_count": 38,
      "outputs": [
        {
          "output_type": "execute_result",
          "data": {
            "text/html": [
              "<div>\n",
              "<style scoped>\n",
              "    .dataframe tbody tr th:only-of-type {\n",
              "        vertical-align: middle;\n",
              "    }\n",
              "\n",
              "    .dataframe tbody tr th {\n",
              "        vertical-align: top;\n",
              "    }\n",
              "\n",
              "    .dataframe thead th {\n",
              "        text-align: right;\n",
              "    }\n",
              "</style>\n",
              "<table border=\"1\" class=\"dataframe\">\n",
              "  <thead>\n",
              "    <tr style=\"text-align: right;\">\n",
              "      <th></th>\n",
              "      <th>Title</th>\n",
              "      <th>Title(ja)</th>\n",
              "      <th>title_url</th>\n",
              "      <th>keiyousi_contains_良い</th>\n",
              "      <th>keiyousi_contains_無い</th>\n",
              "      <th>keiyousi_contains_面白い</th>\n",
              "      <th>keiyousi_contains_凄い</th>\n",
              "      <th>keiyousi_contains_可愛い</th>\n",
              "      <th>keiyousi_contains_欲しい</th>\n",
              "      <th>keiyousi_contains_多い</th>\n",
              "      <th>keiyousi_contains_強い</th>\n",
              "      <th>keiyousi_contains_悪い</th>\n",
              "      <th>keiyousi_contains_楽しい</th>\n",
              "      <th>keiyousi_contains_素晴らしい</th>\n",
              "      <th>keiyousi_contains_怖い</th>\n",
              "      <th>keiyousi_contains_旨い</th>\n",
              "      <th>keiyousi_contains_美しい</th>\n",
              "      <th>keiyousi_contains_深い</th>\n",
              "      <th>keiyousi_contains_高い</th>\n",
              "      <th>keiyousi_contains_長い</th>\n",
              "      <th>keiyousi_contains_難しい</th>\n",
              "      <th>keiyousi_contains_優しい</th>\n",
              "      <th>keiyousi_contains_嬉しい</th>\n",
              "      <th>keiyousi_contains_辛い</th>\n",
              "      <th>keiyousi_contains_少ない</th>\n",
              "      <th>keiyousi_contains_悲しい</th>\n",
              "      <th>keiyousi_contains_早い</th>\n",
              "      <th>keiyousi_contains_切ない</th>\n",
              "      <th>keiyousi_contains_大きい</th>\n",
              "      <th>keiyousi_contains_新しい</th>\n",
              "      <th>keiyousi_contains_熱い</th>\n",
              "      <th>keiyousi_contains_若い</th>\n",
              "      <th>keiyousi_contains_久しい</th>\n",
              "      <th>keiyousi_contains_懐かしい</th>\n",
              "      <th>keiyousi_contains_酷い</th>\n",
              "      <th>keiyousi_contains_重い</th>\n",
              "      <th>keiyousi_contains_薄い</th>\n",
              "      <th>keiyousi_contains_弱い</th>\n",
              "      <th>keiyousi_contains_仕方無い</th>\n",
              "      <th>keiyousi_contains_小さい</th>\n",
              "      <th>...</th>\n",
              "      <th>keiyousi_contains_空々しい</th>\n",
              "      <th>keiyousi_contains_睦まじい</th>\n",
              "      <th>keiyousi_contains_細長い</th>\n",
              "      <th>keiyousi_contains_苦々しい</th>\n",
              "      <th>keiyousi_contains_捗々しい</th>\n",
              "      <th>keiyousi_contains_口惜しい</th>\n",
              "      <th>keiyousi_contains_そそっかしい</th>\n",
              "      <th>keiyousi_contains_姦しい</th>\n",
              "      <th>keiyousi_contains_まだるっこい</th>\n",
              "      <th>keiyousi_contains_名残惜しい</th>\n",
              "      <th>keiyousi_contains_甘辛い</th>\n",
              "      <th>keiyousi_contains_か黒い</th>\n",
              "      <th>keiyousi_contains_弛い</th>\n",
              "      <th>keiyousi_contains_恐れ多い</th>\n",
              "      <th>keiyousi_contains_気強い</th>\n",
              "      <th>keiyousi_contains_嘆かわしい</th>\n",
              "      <th>keiyousi_contains_肌寒い</th>\n",
              "      <th>keiyousi_contains_悪賢い</th>\n",
              "      <th>keiyousi_contains_人臭い</th>\n",
              "      <th>keiyousi_contains_えらしい</th>\n",
              "      <th>keiyousi_contains_妬ましい</th>\n",
              "      <th>keiyousi_contains_木暗い</th>\n",
              "      <th>keiyousi_contains_人悪い</th>\n",
              "      <th>keiyousi_contains_か細い</th>\n",
              "      <th>keiyousi_contains_しおらしい</th>\n",
              "      <th>keiyousi_contains_派手派手しい</th>\n",
              "      <th>keiyousi_contains_きな臭い</th>\n",
              "      <th>keiyousi_contains_はしこい</th>\n",
              "      <th>keiyousi_contains_せせこましい</th>\n",
              "      <th>keiyousi_contains_きしょい</th>\n",
              "      <th>keiyousi_contains_馴れ馴れしい</th>\n",
              "      <th>keiyousi_contains_青黒い</th>\n",
              "      <th>keiyousi_contains_疑り深い</th>\n",
              "      <th>keiyousi_contains_侘しい</th>\n",
              "      <th>keiyousi_contains_刺々しい</th>\n",
              "      <th>keiyousi_contains_雪深い</th>\n",
              "      <th>keiyousi_contains_疚しい</th>\n",
              "      <th>keiyousi_contains_いみじい</th>\n",
              "      <th>keiyousi_contains_脂っこい</th>\n",
              "      <th>keiyousi_contains_美々しい</th>\n",
              "    </tr>\n",
              "  </thead>\n",
              "  <tbody>\n",
              "    <tr>\n",
              "      <th>0</th>\n",
              "      <td>Detective Conan: Zero the Enforcer</td>\n",
              "      <td>TRi [̎sl</td>\n",
              "      <td>https://filmarks.com/movies/77412</td>\n",
              "      <td>0.440860</td>\n",
              "      <td>0.365591</td>\n",
              "      <td>0.247312</td>\n",
              "      <td>0.161290</td>\n",
              "      <td>0.021505</td>\n",
              "      <td>0.064516</td>\n",
              "      <td>0.032258</td>\n",
              "      <td>0.010753</td>\n",
              "      <td>0.032258</td>\n",
              "      <td>0.021505</td>\n",
              "      <td>0.010753</td>\n",
              "      <td>0.000000</td>\n",
              "      <td>0.010753</td>\n",
              "      <td>0.000000</td>\n",
              "      <td>0.000000</td>\n",
              "      <td>0.021505</td>\n",
              "      <td>0.010753</td>\n",
              "      <td>0.129032</td>\n",
              "      <td>0.000000</td>\n",
              "      <td>0.053763</td>\n",
              "      <td>0.010753</td>\n",
              "      <td>0.010753</td>\n",
              "      <td>0.000000</td>\n",
              "      <td>0.000000</td>\n",
              "      <td>0.000000</td>\n",
              "      <td>0.043011</td>\n",
              "      <td>0.010753</td>\n",
              "      <td>0.021505</td>\n",
              "      <td>0.010753</td>\n",
              "      <td>0.032258</td>\n",
              "      <td>0.000000</td>\n",
              "      <td>0.010753</td>\n",
              "      <td>0.000000</td>\n",
              "      <td>0.000000</td>\n",
              "      <td>0.000000</td>\n",
              "      <td>0.000000</td>\n",
              "      <td>0.000000</td>\n",
              "      <td>...</td>\n",
              "      <td>0.0</td>\n",
              "      <td>0.0</td>\n",
              "      <td>0.0</td>\n",
              "      <td>0.0</td>\n",
              "      <td>0.0</td>\n",
              "      <td>0.0</td>\n",
              "      <td>0.0</td>\n",
              "      <td>0.0</td>\n",
              "      <td>0.0</td>\n",
              "      <td>0.0</td>\n",
              "      <td>0.0</td>\n",
              "      <td>0.0</td>\n",
              "      <td>0.0</td>\n",
              "      <td>0.0</td>\n",
              "      <td>0.0</td>\n",
              "      <td>0.0</td>\n",
              "      <td>0.0</td>\n",
              "      <td>0.0</td>\n",
              "      <td>0.0</td>\n",
              "      <td>0.0</td>\n",
              "      <td>0.0</td>\n",
              "      <td>0.0</td>\n",
              "      <td>0.0</td>\n",
              "      <td>0.0</td>\n",
              "      <td>0.0</td>\n",
              "      <td>0.0</td>\n",
              "      <td>0.0</td>\n",
              "      <td>0.0</td>\n",
              "      <td>0.0</td>\n",
              "      <td>0.0</td>\n",
              "      <td>0.0</td>\n",
              "      <td>0.0</td>\n",
              "      <td>0.0</td>\n",
              "      <td>0.0</td>\n",
              "      <td>0.0</td>\n",
              "      <td>0.0</td>\n",
              "      <td>0.0</td>\n",
              "      <td>0.0</td>\n",
              "      <td>0.0</td>\n",
              "      <td>0.0</td>\n",
              "    </tr>\n",
              "    <tr>\n",
              "      <th>1</th>\n",
              "      <td>Code Blue the Movie</td>\n",
              "      <td>ŃR[hEu[ -hN^[wً}~-</td>\n",
              "      <td>https://filmarks.com/movies/76162</td>\n",
              "      <td>0.479167</td>\n",
              "      <td>0.281250</td>\n",
              "      <td>0.083333</td>\n",
              "      <td>0.052083</td>\n",
              "      <td>0.031250</td>\n",
              "      <td>0.052083</td>\n",
              "      <td>0.020833</td>\n",
              "      <td>0.041667</td>\n",
              "      <td>0.020833</td>\n",
              "      <td>0.041667</td>\n",
              "      <td>0.041667</td>\n",
              "      <td>0.010417</td>\n",
              "      <td>0.020833</td>\n",
              "      <td>0.020833</td>\n",
              "      <td>0.062500</td>\n",
              "      <td>0.010417</td>\n",
              "      <td>0.010417</td>\n",
              "      <td>0.020833</td>\n",
              "      <td>0.010417</td>\n",
              "      <td>0.010417</td>\n",
              "      <td>0.010417</td>\n",
              "      <td>0.010417</td>\n",
              "      <td>0.010417</td>\n",
              "      <td>0.010417</td>\n",
              "      <td>0.010417</td>\n",
              "      <td>0.020833</td>\n",
              "      <td>0.010417</td>\n",
              "      <td>0.010417</td>\n",
              "      <td>0.020833</td>\n",
              "      <td>0.000000</td>\n",
              "      <td>0.010417</td>\n",
              "      <td>0.010417</td>\n",
              "      <td>0.010417</td>\n",
              "      <td>0.020833</td>\n",
              "      <td>0.010417</td>\n",
              "      <td>0.000000</td>\n",
              "      <td>0.010417</td>\n",
              "      <td>...</td>\n",
              "      <td>0.0</td>\n",
              "      <td>0.0</td>\n",
              "      <td>0.0</td>\n",
              "      <td>0.0</td>\n",
              "      <td>0.0</td>\n",
              "      <td>0.0</td>\n",
              "      <td>0.0</td>\n",
              "      <td>0.0</td>\n",
              "      <td>0.0</td>\n",
              "      <td>0.0</td>\n",
              "      <td>0.0</td>\n",
              "      <td>0.0</td>\n",
              "      <td>0.0</td>\n",
              "      <td>0.0</td>\n",
              "      <td>0.0</td>\n",
              "      <td>0.0</td>\n",
              "      <td>0.0</td>\n",
              "      <td>0.0</td>\n",
              "      <td>0.0</td>\n",
              "      <td>0.0</td>\n",
              "      <td>0.0</td>\n",
              "      <td>0.0</td>\n",
              "      <td>0.0</td>\n",
              "      <td>0.0</td>\n",
              "      <td>0.0</td>\n",
              "      <td>0.0</td>\n",
              "      <td>0.0</td>\n",
              "      <td>0.0</td>\n",
              "      <td>0.0</td>\n",
              "      <td>0.0</td>\n",
              "      <td>0.0</td>\n",
              "      <td>0.0</td>\n",
              "      <td>0.0</td>\n",
              "      <td>0.0</td>\n",
              "      <td>0.0</td>\n",
              "      <td>0.0</td>\n",
              "      <td>0.0</td>\n",
              "      <td>0.0</td>\n",
              "      <td>0.0</td>\n",
              "      <td>0.0</td>\n",
              "    </tr>\n",
              "    <tr>\n",
              "      <th>2</th>\n",
              "      <td>Jurassic World: Fallen Kingdom</td>\n",
              "      <td>WVbNE[h^̉</td>\n",
              "      <td>https://filmarks.com/movies/65519</td>\n",
              "      <td>0.326316</td>\n",
              "      <td>0.273684</td>\n",
              "      <td>0.136842</td>\n",
              "      <td>0.094737</td>\n",
              "      <td>0.147368</td>\n",
              "      <td>0.073684</td>\n",
              "      <td>0.031579</td>\n",
              "      <td>0.031579</td>\n",
              "      <td>0.052632</td>\n",
              "      <td>0.021053</td>\n",
              "      <td>0.021053</td>\n",
              "      <td>0.031579</td>\n",
              "      <td>0.000000</td>\n",
              "      <td>0.010526</td>\n",
              "      <td>0.052632</td>\n",
              "      <td>0.021053</td>\n",
              "      <td>0.000000</td>\n",
              "      <td>0.000000</td>\n",
              "      <td>0.000000</td>\n",
              "      <td>0.031579</td>\n",
              "      <td>0.042105</td>\n",
              "      <td>0.021053</td>\n",
              "      <td>0.031579</td>\n",
              "      <td>0.021053</td>\n",
              "      <td>0.010526</td>\n",
              "      <td>0.000000</td>\n",
              "      <td>0.031579</td>\n",
              "      <td>0.000000</td>\n",
              "      <td>0.000000</td>\n",
              "      <td>0.010526</td>\n",
              "      <td>0.000000</td>\n",
              "      <td>0.010526</td>\n",
              "      <td>0.000000</td>\n",
              "      <td>0.010526</td>\n",
              "      <td>0.000000</td>\n",
              "      <td>0.000000</td>\n",
              "      <td>0.000000</td>\n",
              "      <td>...</td>\n",
              "      <td>0.0</td>\n",
              "      <td>0.0</td>\n",
              "      <td>0.0</td>\n",
              "      <td>0.0</td>\n",
              "      <td>0.0</td>\n",
              "      <td>0.0</td>\n",
              "      <td>0.0</td>\n",
              "      <td>0.0</td>\n",
              "      <td>0.0</td>\n",
              "      <td>0.0</td>\n",
              "      <td>0.0</td>\n",
              "      <td>0.0</td>\n",
              "      <td>0.0</td>\n",
              "      <td>0.0</td>\n",
              "      <td>0.0</td>\n",
              "      <td>0.0</td>\n",
              "      <td>0.0</td>\n",
              "      <td>0.0</td>\n",
              "      <td>0.0</td>\n",
              "      <td>0.0</td>\n",
              "      <td>0.0</td>\n",
              "      <td>0.0</td>\n",
              "      <td>0.0</td>\n",
              "      <td>0.0</td>\n",
              "      <td>0.0</td>\n",
              "      <td>0.0</td>\n",
              "      <td>0.0</td>\n",
              "      <td>0.0</td>\n",
              "      <td>0.0</td>\n",
              "      <td>0.0</td>\n",
              "      <td>0.0</td>\n",
              "      <td>0.0</td>\n",
              "      <td>0.0</td>\n",
              "      <td>0.0</td>\n",
              "      <td>0.0</td>\n",
              "      <td>0.0</td>\n",
              "      <td>0.0</td>\n",
              "      <td>0.0</td>\n",
              "      <td>0.0</td>\n",
              "      <td>0.0</td>\n",
              "    </tr>\n",
              "    <tr>\n",
              "      <th>3</th>\n",
              "      <td>Bohemian Rhapsody</td>\n",
              "      <td>{w~AEv\\fB</td>\n",
              "      <td>https://filmarks.com/movies/73709</td>\n",
              "      <td>0.412371</td>\n",
              "      <td>0.329897</td>\n",
              "      <td>0.113402</td>\n",
              "      <td>0.154639</td>\n",
              "      <td>0.010309</td>\n",
              "      <td>0.030928</td>\n",
              "      <td>0.041237</td>\n",
              "      <td>0.030928</td>\n",
              "      <td>0.020619</td>\n",
              "      <td>0.030928</td>\n",
              "      <td>0.134021</td>\n",
              "      <td>0.000000</td>\n",
              "      <td>0.030928</td>\n",
              "      <td>0.010309</td>\n",
              "      <td>0.010309</td>\n",
              "      <td>0.010309</td>\n",
              "      <td>0.010309</td>\n",
              "      <td>0.010309</td>\n",
              "      <td>0.000000</td>\n",
              "      <td>0.030928</td>\n",
              "      <td>0.000000</td>\n",
              "      <td>0.000000</td>\n",
              "      <td>0.010309</td>\n",
              "      <td>0.020619</td>\n",
              "      <td>0.020619</td>\n",
              "      <td>0.010309</td>\n",
              "      <td>0.000000</td>\n",
              "      <td>0.010309</td>\n",
              "      <td>0.010309</td>\n",
              "      <td>0.010309</td>\n",
              "      <td>0.000000</td>\n",
              "      <td>0.000000</td>\n",
              "      <td>0.000000</td>\n",
              "      <td>0.000000</td>\n",
              "      <td>0.000000</td>\n",
              "      <td>0.000000</td>\n",
              "      <td>0.000000</td>\n",
              "      <td>...</td>\n",
              "      <td>0.0</td>\n",
              "      <td>0.0</td>\n",
              "      <td>0.0</td>\n",
              "      <td>0.0</td>\n",
              "      <td>0.0</td>\n",
              "      <td>0.0</td>\n",
              "      <td>0.0</td>\n",
              "      <td>0.0</td>\n",
              "      <td>0.0</td>\n",
              "      <td>0.0</td>\n",
              "      <td>0.0</td>\n",
              "      <td>0.0</td>\n",
              "      <td>0.0</td>\n",
              "      <td>0.0</td>\n",
              "      <td>0.0</td>\n",
              "      <td>0.0</td>\n",
              "      <td>0.0</td>\n",
              "      <td>0.0</td>\n",
              "      <td>0.0</td>\n",
              "      <td>0.0</td>\n",
              "      <td>0.0</td>\n",
              "      <td>0.0</td>\n",
              "      <td>0.0</td>\n",
              "      <td>0.0</td>\n",
              "      <td>0.0</td>\n",
              "      <td>0.0</td>\n",
              "      <td>0.0</td>\n",
              "      <td>0.0</td>\n",
              "      <td>0.0</td>\n",
              "      <td>0.0</td>\n",
              "      <td>0.0</td>\n",
              "      <td>0.0</td>\n",
              "      <td>0.0</td>\n",
              "      <td>0.0</td>\n",
              "      <td>0.0</td>\n",
              "      <td>0.0</td>\n",
              "      <td>0.0</td>\n",
              "      <td>0.0</td>\n",
              "      <td>0.0</td>\n",
              "      <td>0.0</td>\n",
              "    </tr>\n",
              "    <tr>\n",
              "      <th>4</th>\n",
              "      <td>The Greatest Showman</td>\n",
              "      <td>OCeXgEV[}</td>\n",
              "      <td>https://filmarks.com/movies/60905</td>\n",
              "      <td>0.543478</td>\n",
              "      <td>0.260870</td>\n",
              "      <td>0.108696</td>\n",
              "      <td>0.163043</td>\n",
              "      <td>0.010870</td>\n",
              "      <td>0.043478</td>\n",
              "      <td>0.043478</td>\n",
              "      <td>0.054348</td>\n",
              "      <td>0.032609</td>\n",
              "      <td>0.054348</td>\n",
              "      <td>0.195652</td>\n",
              "      <td>0.000000</td>\n",
              "      <td>0.021739</td>\n",
              "      <td>0.032609</td>\n",
              "      <td>0.000000</td>\n",
              "      <td>0.054348</td>\n",
              "      <td>0.021739</td>\n",
              "      <td>0.000000</td>\n",
              "      <td>0.010870</td>\n",
              "      <td>0.010870</td>\n",
              "      <td>0.021739</td>\n",
              "      <td>0.021739</td>\n",
              "      <td>0.010870</td>\n",
              "      <td>0.032609</td>\n",
              "      <td>0.000000</td>\n",
              "      <td>0.021739</td>\n",
              "      <td>0.010870</td>\n",
              "      <td>0.021739</td>\n",
              "      <td>0.010870</td>\n",
              "      <td>0.010870</td>\n",
              "      <td>0.000000</td>\n",
              "      <td>0.000000</td>\n",
              "      <td>0.000000</td>\n",
              "      <td>0.010870</td>\n",
              "      <td>0.000000</td>\n",
              "      <td>0.021739</td>\n",
              "      <td>0.000000</td>\n",
              "      <td>...</td>\n",
              "      <td>0.0</td>\n",
              "      <td>0.0</td>\n",
              "      <td>0.0</td>\n",
              "      <td>0.0</td>\n",
              "      <td>0.0</td>\n",
              "      <td>0.0</td>\n",
              "      <td>0.0</td>\n",
              "      <td>0.0</td>\n",
              "      <td>0.0</td>\n",
              "      <td>0.0</td>\n",
              "      <td>0.0</td>\n",
              "      <td>0.0</td>\n",
              "      <td>0.0</td>\n",
              "      <td>0.0</td>\n",
              "      <td>0.0</td>\n",
              "      <td>0.0</td>\n",
              "      <td>0.0</td>\n",
              "      <td>0.0</td>\n",
              "      <td>0.0</td>\n",
              "      <td>0.0</td>\n",
              "      <td>0.0</td>\n",
              "      <td>0.0</td>\n",
              "      <td>0.0</td>\n",
              "      <td>0.0</td>\n",
              "      <td>0.0</td>\n",
              "      <td>0.0</td>\n",
              "      <td>0.0</td>\n",
              "      <td>0.0</td>\n",
              "      <td>0.0</td>\n",
              "      <td>0.0</td>\n",
              "      <td>0.0</td>\n",
              "      <td>0.0</td>\n",
              "      <td>0.0</td>\n",
              "      <td>0.0</td>\n",
              "      <td>0.0</td>\n",
              "      <td>0.0</td>\n",
              "      <td>0.0</td>\n",
              "      <td>0.0</td>\n",
              "      <td>0.0</td>\n",
              "      <td>0.0</td>\n",
              "    </tr>\n",
              "    <tr>\n",
              "      <th>...</th>\n",
              "      <td>...</td>\n",
              "      <td>...</td>\n",
              "      <td>...</td>\n",
              "      <td>...</td>\n",
              "      <td>...</td>\n",
              "      <td>...</td>\n",
              "      <td>...</td>\n",
              "      <td>...</td>\n",
              "      <td>...</td>\n",
              "      <td>...</td>\n",
              "      <td>...</td>\n",
              "      <td>...</td>\n",
              "      <td>...</td>\n",
              "      <td>...</td>\n",
              "      <td>...</td>\n",
              "      <td>...</td>\n",
              "      <td>...</td>\n",
              "      <td>...</td>\n",
              "      <td>...</td>\n",
              "      <td>...</td>\n",
              "      <td>...</td>\n",
              "      <td>...</td>\n",
              "      <td>...</td>\n",
              "      <td>...</td>\n",
              "      <td>...</td>\n",
              "      <td>...</td>\n",
              "      <td>...</td>\n",
              "      <td>...</td>\n",
              "      <td>...</td>\n",
              "      <td>...</td>\n",
              "      <td>...</td>\n",
              "      <td>...</td>\n",
              "      <td>...</td>\n",
              "      <td>...</td>\n",
              "      <td>...</td>\n",
              "      <td>...</td>\n",
              "      <td>...</td>\n",
              "      <td>...</td>\n",
              "      <td>...</td>\n",
              "      <td>...</td>\n",
              "      <td>...</td>\n",
              "      <td>...</td>\n",
              "      <td>...</td>\n",
              "      <td>...</td>\n",
              "      <td>...</td>\n",
              "      <td>...</td>\n",
              "      <td>...</td>\n",
              "      <td>...</td>\n",
              "      <td>...</td>\n",
              "      <td>...</td>\n",
              "      <td>...</td>\n",
              "      <td>...</td>\n",
              "      <td>...</td>\n",
              "      <td>...</td>\n",
              "      <td>...</td>\n",
              "      <td>...</td>\n",
              "      <td>...</td>\n",
              "      <td>...</td>\n",
              "      <td>...</td>\n",
              "      <td>...</td>\n",
              "      <td>...</td>\n",
              "      <td>...</td>\n",
              "      <td>...</td>\n",
              "      <td>...</td>\n",
              "      <td>...</td>\n",
              "      <td>...</td>\n",
              "      <td>...</td>\n",
              "      <td>...</td>\n",
              "      <td>...</td>\n",
              "      <td>...</td>\n",
              "      <td>...</td>\n",
              "      <td>...</td>\n",
              "      <td>...</td>\n",
              "      <td>...</td>\n",
              "      <td>...</td>\n",
              "      <td>...</td>\n",
              "      <td>...</td>\n",
              "      <td>...</td>\n",
              "      <td>...</td>\n",
              "      <td>...</td>\n",
              "      <td>...</td>\n",
              "    </tr>\n",
              "    <tr>\n",
              "      <th>714</th>\n",
              "      <td>Finding Dory</td>\n",
              "      <td>t@CfBOEh[</td>\n",
              "      <td>https://filmarks.com/movies/56379</td>\n",
              "      <td>0.347368</td>\n",
              "      <td>0.221053</td>\n",
              "      <td>0.242105</td>\n",
              "      <td>0.105263</td>\n",
              "      <td>0.305263</td>\n",
              "      <td>0.031579</td>\n",
              "      <td>0.052632</td>\n",
              "      <td>0.031579</td>\n",
              "      <td>0.031579</td>\n",
              "      <td>0.052632</td>\n",
              "      <td>0.031579</td>\n",
              "      <td>0.052632</td>\n",
              "      <td>0.010526</td>\n",
              "      <td>0.031579</td>\n",
              "      <td>0.042105</td>\n",
              "      <td>0.000000</td>\n",
              "      <td>0.000000</td>\n",
              "      <td>0.021053</td>\n",
              "      <td>0.031579</td>\n",
              "      <td>0.000000</td>\n",
              "      <td>0.010526</td>\n",
              "      <td>0.000000</td>\n",
              "      <td>0.021053</td>\n",
              "      <td>0.010526</td>\n",
              "      <td>0.021053</td>\n",
              "      <td>0.031579</td>\n",
              "      <td>0.031579</td>\n",
              "      <td>0.000000</td>\n",
              "      <td>0.010526</td>\n",
              "      <td>0.010526</td>\n",
              "      <td>0.000000</td>\n",
              "      <td>0.000000</td>\n",
              "      <td>0.021053</td>\n",
              "      <td>0.000000</td>\n",
              "      <td>0.010526</td>\n",
              "      <td>0.000000</td>\n",
              "      <td>0.052632</td>\n",
              "      <td>...</td>\n",
              "      <td>0.0</td>\n",
              "      <td>0.0</td>\n",
              "      <td>0.0</td>\n",
              "      <td>0.0</td>\n",
              "      <td>0.0</td>\n",
              "      <td>0.0</td>\n",
              "      <td>0.0</td>\n",
              "      <td>0.0</td>\n",
              "      <td>0.0</td>\n",
              "      <td>0.0</td>\n",
              "      <td>0.0</td>\n",
              "      <td>0.0</td>\n",
              "      <td>0.0</td>\n",
              "      <td>0.0</td>\n",
              "      <td>0.0</td>\n",
              "      <td>0.0</td>\n",
              "      <td>0.0</td>\n",
              "      <td>0.0</td>\n",
              "      <td>0.0</td>\n",
              "      <td>0.0</td>\n",
              "      <td>0.0</td>\n",
              "      <td>0.0</td>\n",
              "      <td>0.0</td>\n",
              "      <td>0.0</td>\n",
              "      <td>0.0</td>\n",
              "      <td>0.0</td>\n",
              "      <td>0.0</td>\n",
              "      <td>0.0</td>\n",
              "      <td>0.0</td>\n",
              "      <td>0.0</td>\n",
              "      <td>0.0</td>\n",
              "      <td>0.0</td>\n",
              "      <td>0.0</td>\n",
              "      <td>0.0</td>\n",
              "      <td>0.0</td>\n",
              "      <td>0.0</td>\n",
              "      <td>0.0</td>\n",
              "      <td>0.0</td>\n",
              "      <td>0.0</td>\n",
              "      <td>0.0</td>\n",
              "    </tr>\n",
              "    <tr>\n",
              "      <th>715</th>\n",
              "      <td>Zootopia</td>\n",
              "      <td>Y[gsA</td>\n",
              "      <td>https://filmarks.com/movies/60103</td>\n",
              "      <td>0.393258</td>\n",
              "      <td>0.213483</td>\n",
              "      <td>0.202247</td>\n",
              "      <td>0.123596</td>\n",
              "      <td>0.292135</td>\n",
              "      <td>0.078652</td>\n",
              "      <td>0.033708</td>\n",
              "      <td>0.022472</td>\n",
              "      <td>0.033708</td>\n",
              "      <td>0.067416</td>\n",
              "      <td>0.078652</td>\n",
              "      <td>0.011236</td>\n",
              "      <td>0.089888</td>\n",
              "      <td>0.011236</td>\n",
              "      <td>0.056180</td>\n",
              "      <td>0.022472</td>\n",
              "      <td>0.000000</td>\n",
              "      <td>0.022472</td>\n",
              "      <td>0.067416</td>\n",
              "      <td>0.000000</td>\n",
              "      <td>0.022472</td>\n",
              "      <td>0.000000</td>\n",
              "      <td>0.011236</td>\n",
              "      <td>0.000000</td>\n",
              "      <td>0.000000</td>\n",
              "      <td>0.022472</td>\n",
              "      <td>0.011236</td>\n",
              "      <td>0.000000</td>\n",
              "      <td>0.000000</td>\n",
              "      <td>0.000000</td>\n",
              "      <td>0.000000</td>\n",
              "      <td>0.011236</td>\n",
              "      <td>0.022472</td>\n",
              "      <td>0.011236</td>\n",
              "      <td>0.000000</td>\n",
              "      <td>0.000000</td>\n",
              "      <td>0.011236</td>\n",
              "      <td>...</td>\n",
              "      <td>0.0</td>\n",
              "      <td>0.0</td>\n",
              "      <td>0.0</td>\n",
              "      <td>0.0</td>\n",
              "      <td>0.0</td>\n",
              "      <td>0.0</td>\n",
              "      <td>0.0</td>\n",
              "      <td>0.0</td>\n",
              "      <td>0.0</td>\n",
              "      <td>0.0</td>\n",
              "      <td>0.0</td>\n",
              "      <td>0.0</td>\n",
              "      <td>0.0</td>\n",
              "      <td>0.0</td>\n",
              "      <td>0.0</td>\n",
              "      <td>0.0</td>\n",
              "      <td>0.0</td>\n",
              "      <td>0.0</td>\n",
              "      <td>0.0</td>\n",
              "      <td>0.0</td>\n",
              "      <td>0.0</td>\n",
              "      <td>0.0</td>\n",
              "      <td>0.0</td>\n",
              "      <td>0.0</td>\n",
              "      <td>0.0</td>\n",
              "      <td>0.0</td>\n",
              "      <td>0.0</td>\n",
              "      <td>0.0</td>\n",
              "      <td>0.0</td>\n",
              "      <td>0.0</td>\n",
              "      <td>0.0</td>\n",
              "      <td>0.0</td>\n",
              "      <td>0.0</td>\n",
              "      <td>0.0</td>\n",
              "      <td>0.0</td>\n",
              "      <td>0.0</td>\n",
              "      <td>0.0</td>\n",
              "      <td>0.0</td>\n",
              "      <td>0.0</td>\n",
              "      <td>0.0</td>\n",
              "    </tr>\n",
              "    <tr>\n",
              "      <th>716</th>\n",
              "      <td>Shin Godzilla</td>\n",
              "      <td>VESW</td>\n",
              "      <td>https://filmarks.com/movies/60579</td>\n",
              "      <td>0.354839</td>\n",
              "      <td>0.365591</td>\n",
              "      <td>0.376344</td>\n",
              "      <td>0.150538</td>\n",
              "      <td>0.010753</td>\n",
              "      <td>0.043011</td>\n",
              "      <td>0.139785</td>\n",
              "      <td>0.043011</td>\n",
              "      <td>0.064516</td>\n",
              "      <td>0.096774</td>\n",
              "      <td>0.021505</td>\n",
              "      <td>0.043011</td>\n",
              "      <td>0.064516</td>\n",
              "      <td>0.010753</td>\n",
              "      <td>0.032258</td>\n",
              "      <td>0.032258</td>\n",
              "      <td>0.000000</td>\n",
              "      <td>0.043011</td>\n",
              "      <td>0.000000</td>\n",
              "      <td>0.000000</td>\n",
              "      <td>0.000000</td>\n",
              "      <td>0.000000</td>\n",
              "      <td>0.010753</td>\n",
              "      <td>0.053763</td>\n",
              "      <td>0.000000</td>\n",
              "      <td>0.043011</td>\n",
              "      <td>0.010753</td>\n",
              "      <td>0.021505</td>\n",
              "      <td>0.010753</td>\n",
              "      <td>0.010753</td>\n",
              "      <td>0.000000</td>\n",
              "      <td>0.000000</td>\n",
              "      <td>0.000000</td>\n",
              "      <td>0.010753</td>\n",
              "      <td>0.000000</td>\n",
              "      <td>0.000000</td>\n",
              "      <td>0.010753</td>\n",
              "      <td>...</td>\n",
              "      <td>0.0</td>\n",
              "      <td>0.0</td>\n",
              "      <td>0.0</td>\n",
              "      <td>0.0</td>\n",
              "      <td>0.0</td>\n",
              "      <td>0.0</td>\n",
              "      <td>0.0</td>\n",
              "      <td>0.0</td>\n",
              "      <td>0.0</td>\n",
              "      <td>0.0</td>\n",
              "      <td>0.0</td>\n",
              "      <td>0.0</td>\n",
              "      <td>0.0</td>\n",
              "      <td>0.0</td>\n",
              "      <td>0.0</td>\n",
              "      <td>0.0</td>\n",
              "      <td>0.0</td>\n",
              "      <td>0.0</td>\n",
              "      <td>0.0</td>\n",
              "      <td>0.0</td>\n",
              "      <td>0.0</td>\n",
              "      <td>0.0</td>\n",
              "      <td>0.0</td>\n",
              "      <td>0.0</td>\n",
              "      <td>0.0</td>\n",
              "      <td>0.0</td>\n",
              "      <td>0.0</td>\n",
              "      <td>0.0</td>\n",
              "      <td>0.0</td>\n",
              "      <td>0.0</td>\n",
              "      <td>0.0</td>\n",
              "      <td>0.0</td>\n",
              "      <td>0.0</td>\n",
              "      <td>0.0</td>\n",
              "      <td>0.0</td>\n",
              "      <td>0.0</td>\n",
              "      <td>0.0</td>\n",
              "      <td>0.0</td>\n",
              "      <td>0.0</td>\n",
              "      <td>0.0</td>\n",
              "    </tr>\n",
              "    <tr>\n",
              "      <th>717</th>\n",
              "      <td>Star Wars: Episode VII - The Force Awakens</td>\n",
              "      <td>X^[EEH[Y^tH[X̊o</td>\n",
              "      <td>https://filmarks.com/movies/56233</td>\n",
              "      <td>0.414894</td>\n",
              "      <td>0.351064</td>\n",
              "      <td>0.191489</td>\n",
              "      <td>0.117021</td>\n",
              "      <td>0.148936</td>\n",
              "      <td>0.031915</td>\n",
              "      <td>0.063830</td>\n",
              "      <td>0.063830</td>\n",
              "      <td>0.074468</td>\n",
              "      <td>0.053191</td>\n",
              "      <td>0.053191</td>\n",
              "      <td>0.021277</td>\n",
              "      <td>0.010638</td>\n",
              "      <td>0.021277</td>\n",
              "      <td>0.010638</td>\n",
              "      <td>0.021277</td>\n",
              "      <td>0.031915</td>\n",
              "      <td>0.000000</td>\n",
              "      <td>0.010638</td>\n",
              "      <td>0.031915</td>\n",
              "      <td>0.010638</td>\n",
              "      <td>0.000000</td>\n",
              "      <td>0.031915</td>\n",
              "      <td>0.021277</td>\n",
              "      <td>0.021277</td>\n",
              "      <td>0.021277</td>\n",
              "      <td>0.138298</td>\n",
              "      <td>0.031915</td>\n",
              "      <td>0.010638</td>\n",
              "      <td>0.010638</td>\n",
              "      <td>0.063830</td>\n",
              "      <td>0.000000</td>\n",
              "      <td>0.000000</td>\n",
              "      <td>0.000000</td>\n",
              "      <td>0.053191</td>\n",
              "      <td>0.000000</td>\n",
              "      <td>0.000000</td>\n",
              "      <td>...</td>\n",
              "      <td>0.0</td>\n",
              "      <td>0.0</td>\n",
              "      <td>0.0</td>\n",
              "      <td>0.0</td>\n",
              "      <td>0.0</td>\n",
              "      <td>0.0</td>\n",
              "      <td>0.0</td>\n",
              "      <td>0.0</td>\n",
              "      <td>0.0</td>\n",
              "      <td>0.0</td>\n",
              "      <td>0.0</td>\n",
              "      <td>0.0</td>\n",
              "      <td>0.0</td>\n",
              "      <td>0.0</td>\n",
              "      <td>0.0</td>\n",
              "      <td>0.0</td>\n",
              "      <td>0.0</td>\n",
              "      <td>0.0</td>\n",
              "      <td>0.0</td>\n",
              "      <td>0.0</td>\n",
              "      <td>0.0</td>\n",
              "      <td>0.0</td>\n",
              "      <td>0.0</td>\n",
              "      <td>0.0</td>\n",
              "      <td>0.0</td>\n",
              "      <td>0.0</td>\n",
              "      <td>0.0</td>\n",
              "      <td>0.0</td>\n",
              "      <td>0.0</td>\n",
              "      <td>0.0</td>\n",
              "      <td>0.0</td>\n",
              "      <td>0.0</td>\n",
              "      <td>0.0</td>\n",
              "      <td>0.0</td>\n",
              "      <td>0.0</td>\n",
              "      <td>0.0</td>\n",
              "      <td>0.0</td>\n",
              "      <td>0.0</td>\n",
              "      <td>0.0</td>\n",
              "      <td>0.0</td>\n",
              "    </tr>\n",
              "    <tr>\n",
              "      <th>718</th>\n",
              "      <td>Your Name.</td>\n",
              "      <td>Ń̖B</td>\n",
              "      <td>https://filmarks.com/movies/65931</td>\n",
              "      <td>0.379310</td>\n",
              "      <td>0.241379</td>\n",
              "      <td>0.252874</td>\n",
              "      <td>0.183908</td>\n",
              "      <td>0.011494</td>\n",
              "      <td>0.045977</td>\n",
              "      <td>0.034483</td>\n",
              "      <td>0.000000</td>\n",
              "      <td>0.034483</td>\n",
              "      <td>0.057471</td>\n",
              "      <td>0.057471</td>\n",
              "      <td>0.000000</td>\n",
              "      <td>0.034483</td>\n",
              "      <td>0.080460</td>\n",
              "      <td>0.045977</td>\n",
              "      <td>0.034483</td>\n",
              "      <td>0.000000</td>\n",
              "      <td>0.034483</td>\n",
              "      <td>0.000000</td>\n",
              "      <td>0.011494</td>\n",
              "      <td>0.000000</td>\n",
              "      <td>0.000000</td>\n",
              "      <td>0.000000</td>\n",
              "      <td>0.011494</td>\n",
              "      <td>0.045977</td>\n",
              "      <td>0.022989</td>\n",
              "      <td>0.022989</td>\n",
              "      <td>0.011494</td>\n",
              "      <td>0.000000</td>\n",
              "      <td>0.022989</td>\n",
              "      <td>0.011494</td>\n",
              "      <td>0.000000</td>\n",
              "      <td>0.000000</td>\n",
              "      <td>0.000000</td>\n",
              "      <td>0.000000</td>\n",
              "      <td>0.011494</td>\n",
              "      <td>0.000000</td>\n",
              "      <td>...</td>\n",
              "      <td>0.0</td>\n",
              "      <td>0.0</td>\n",
              "      <td>0.0</td>\n",
              "      <td>0.0</td>\n",
              "      <td>0.0</td>\n",
              "      <td>0.0</td>\n",
              "      <td>0.0</td>\n",
              "      <td>0.0</td>\n",
              "      <td>0.0</td>\n",
              "      <td>0.0</td>\n",
              "      <td>0.0</td>\n",
              "      <td>0.0</td>\n",
              "      <td>0.0</td>\n",
              "      <td>0.0</td>\n",
              "      <td>0.0</td>\n",
              "      <td>0.0</td>\n",
              "      <td>0.0</td>\n",
              "      <td>0.0</td>\n",
              "      <td>0.0</td>\n",
              "      <td>0.0</td>\n",
              "      <td>0.0</td>\n",
              "      <td>0.0</td>\n",
              "      <td>0.0</td>\n",
              "      <td>0.0</td>\n",
              "      <td>0.0</td>\n",
              "      <td>0.0</td>\n",
              "      <td>0.0</td>\n",
              "      <td>0.0</td>\n",
              "      <td>0.0</td>\n",
              "      <td>0.0</td>\n",
              "      <td>0.0</td>\n",
              "      <td>0.0</td>\n",
              "      <td>0.0</td>\n",
              "      <td>0.0</td>\n",
              "      <td>0.0</td>\n",
              "      <td>0.0</td>\n",
              "      <td>0.0</td>\n",
              "      <td>0.0</td>\n",
              "      <td>0.0</td>\n",
              "      <td>0.0</td>\n",
              "    </tr>\n",
              "  </tbody>\n",
              "</table>\n",
              "<p>683 rows × 489 columns</p>\n",
              "</div>"
            ],
            "text/plain": [
              "                                          Title  ... keiyousi_contains_美々しい\n",
              "0            Detective Conan: Zero the Enforcer  ...                    0.0\n",
              "1                           Code Blue the Movie  ...                    0.0\n",
              "2                Jurassic World: Fallen Kingdom  ...                    0.0\n",
              "3                             Bohemian Rhapsody  ...                    0.0\n",
              "4                          The Greatest Showman  ...                    0.0\n",
              "..                                          ...  ...                    ...\n",
              "714                                Finding Dory  ...                    0.0\n",
              "715                                    Zootopia  ...                    0.0\n",
              "716                               Shin Godzilla  ...                    0.0\n",
              "717  Star Wars: Episode VII - The Force Awakens  ...                    0.0\n",
              "718                                  Your Name.  ...                    0.0\n",
              "\n",
              "[683 rows x 489 columns]"
            ]
          },
          "metadata": {
            "tags": []
          },
          "execution_count": 38
        }
      ]
    },
    {
      "cell_type": "code",
      "metadata": {
        "colab": {
          "base_uri": "https://localhost:8080/",
          "height": 419
        },
        "id": "SvdeV03GjglR",
        "outputId": "75fdb8a7-1292-4907-ae22-b210123bf458"
      },
      "source": [
        "train.loc[train['Title'].duplicated(), ['Title','Gross', 'Total Gross']]"
      ],
      "execution_count": 39,
      "outputs": [
        {
          "output_type": "execute_result",
          "data": {
            "text/html": [
              "<div>\n",
              "<style scoped>\n",
              "    .dataframe tbody tr th:only-of-type {\n",
              "        vertical-align: middle;\n",
              "    }\n",
              "\n",
              "    .dataframe tbody tr th {\n",
              "        vertical-align: top;\n",
              "    }\n",
              "\n",
              "    .dataframe thead th {\n",
              "        text-align: right;\n",
              "    }\n",
              "</style>\n",
              "<table border=\"1\" class=\"dataframe\">\n",
              "  <thead>\n",
              "    <tr style=\"text-align: right;\">\n",
              "      <th></th>\n",
              "      <th>Title</th>\n",
              "      <th>Gross</th>\n",
              "      <th>Total Gross</th>\n",
              "    </tr>\n",
              "  </thead>\n",
              "  <tbody>\n",
              "    <tr>\n",
              "      <th>1</th>\n",
              "      <td>Bohemian Rhapsody</td>\n",
              "      <td>63890010</td>\n",
              "      <td>115693295</td>\n",
              "    </tr>\n",
              "    <tr>\n",
              "      <th>3</th>\n",
              "      <td>Ralph Breaks the Internet</td>\n",
              "      <td>15092012</td>\n",
              "      <td>35032284</td>\n",
              "    </tr>\n",
              "    <tr>\n",
              "      <th>7</th>\n",
              "      <td>Dragon Ball Super: Broly</td>\n",
              "      <td>23640548</td>\n",
              "      <td>34644279</td>\n",
              "    </tr>\n",
              "    <tr>\n",
              "      <th>9</th>\n",
              "      <td>A Star Is Born</td>\n",
              "      <td>5773102</td>\n",
              "      <td>13500000</td>\n",
              "    </tr>\n",
              "    <tr>\n",
              "      <th>13</th>\n",
              "      <td>Fantastic Beasts: The Crimes of Grindelwald</td>\n",
              "      <td>40228080</td>\n",
              "      <td>58400000</td>\n",
              "    </tr>\n",
              "    <tr>\n",
              "      <th>...</th>\n",
              "      <td>...</td>\n",
              "      <td>...</td>\n",
              "      <td>...</td>\n",
              "    </tr>\n",
              "    <tr>\n",
              "      <th>631</th>\n",
              "      <td>The Secret Life of Pets</td>\n",
              "      <td>41733387</td>\n",
              "      <td>41733387</td>\n",
              "    </tr>\n",
              "    <tr>\n",
              "      <th>634</th>\n",
              "      <td>Fantastic Beasts and Where to Find Them</td>\n",
              "      <td>12837491</td>\n",
              "      <td>63700000</td>\n",
              "    </tr>\n",
              "    <tr>\n",
              "      <th>635</th>\n",
              "      <td>Fantastic Beasts and Where to Find Them</td>\n",
              "      <td>42900422</td>\n",
              "      <td>63700000</td>\n",
              "    </tr>\n",
              "    <tr>\n",
              "      <th>640</th>\n",
              "      <td>Your Name.</td>\n",
              "      <td>49762752</td>\n",
              "      <td>233794134</td>\n",
              "    </tr>\n",
              "    <tr>\n",
              "      <th>641</th>\n",
              "      <td>Your Name.</td>\n",
              "      <td>182119091</td>\n",
              "      <td>233794134</td>\n",
              "    </tr>\n",
              "  </tbody>\n",
              "</table>\n",
              "<p>128 rows × 3 columns</p>\n",
              "</div>"
            ],
            "text/plain": [
              "                                           Title      Gross  Total Gross\n",
              "1                              Bohemian Rhapsody   63890010    115693295\n",
              "3                      Ralph Breaks the Internet   15092012     35032284\n",
              "7                       Dragon Ball Super: Broly   23640548     34644279\n",
              "9                                 A Star Is Born    5773102     13500000\n",
              "13   Fantastic Beasts: The Crimes of Grindelwald   40228080     58400000\n",
              "..                                           ...        ...          ...\n",
              "631                      The Secret Life of Pets   41733387     41733387\n",
              "634      Fantastic Beasts and Where to Find Them   12837491     63700000\n",
              "635      Fantastic Beasts and Where to Find Them   42900422     63700000\n",
              "640                                   Your Name.   49762752    233794134\n",
              "641                                   Your Name.  182119091    233794134\n",
              "\n",
              "[128 rows x 3 columns]"
            ]
          },
          "metadata": {
            "tags": []
          },
          "execution_count": 39
        }
      ]
    },
    {
      "cell_type": "code",
      "metadata": {
        "colab": {
          "base_uri": "https://localhost:8080/",
          "height": 173
        },
        "id": "RUZ43lBblGgO",
        "outputId": "cab751d0-adf1-4ced-cba6-6efa8979f602"
      },
      "source": [
        "train.loc[train['Title']=='Bohemian Rhapsody', ['Title','Gross', 'Total Gross']]"
      ],
      "execution_count": 40,
      "outputs": [
        {
          "output_type": "execute_result",
          "data": {
            "text/html": [
              "<div>\n",
              "<style scoped>\n",
              "    .dataframe tbody tr th:only-of-type {\n",
              "        vertical-align: middle;\n",
              "    }\n",
              "\n",
              "    .dataframe tbody tr th {\n",
              "        vertical-align: top;\n",
              "    }\n",
              "\n",
              "    .dataframe thead th {\n",
              "        text-align: right;\n",
              "    }\n",
              "</style>\n",
              "<table border=\"1\" class=\"dataframe\">\n",
              "  <thead>\n",
              "    <tr style=\"text-align: right;\">\n",
              "      <th></th>\n",
              "      <th>Title</th>\n",
              "      <th>Gross</th>\n",
              "      <th>Total Gross</th>\n",
              "    </tr>\n",
              "  </thead>\n",
              "  <tbody>\n",
              "    <tr>\n",
              "      <th>0</th>\n",
              "      <td>Bohemian Rhapsody</td>\n",
              "      <td>51803285</td>\n",
              "      <td>115693295</td>\n",
              "    </tr>\n",
              "    <tr>\n",
              "      <th>1</th>\n",
              "      <td>Bohemian Rhapsody</td>\n",
              "      <td>63890010</td>\n",
              "      <td>115693295</td>\n",
              "    </tr>\n",
              "    <tr>\n",
              "      <th>251</th>\n",
              "      <td>Bohemian Rhapsody</td>\n",
              "      <td>51803285</td>\n",
              "      <td>115693295</td>\n",
              "    </tr>\n",
              "    <tr>\n",
              "      <th>252</th>\n",
              "      <td>Bohemian Rhapsody</td>\n",
              "      <td>63890010</td>\n",
              "      <td>115693295</td>\n",
              "    </tr>\n",
              "  </tbody>\n",
              "</table>\n",
              "</div>"
            ],
            "text/plain": [
              "                 Title     Gross  Total Gross\n",
              "0    Bohemian Rhapsody  51803285    115693295\n",
              "1    Bohemian Rhapsody  63890010    115693295\n",
              "251  Bohemian Rhapsody  51803285    115693295\n",
              "252  Bohemian Rhapsody  63890010    115693295"
            ]
          },
          "metadata": {
            "tags": []
          },
          "execution_count": 40
        }
      ]
    },
    {
      "cell_type": "code",
      "metadata": {
        "id": "01eWxfEnWS9k"
      },
      "source": [
        "review_ = review_.drop(['Title(ja)','title_url'], axis=1)"
      ],
      "execution_count": 41,
      "outputs": []
    },
    {
      "cell_type": "code",
      "metadata": {
        "id": "1ryieV_2n7zi"
      },
      "source": [
        "train = train.merge(review_, how='left', on='Title')\r\n",
        "test = test.merge(review_, how='left', on='Title')"
      ],
      "execution_count": 45,
      "outputs": []
    },
    {
      "cell_type": "markdown",
      "metadata": {
        "id": "02WgFF1mWehw"
      },
      "source": [
        "#前処理必要なカラム\r\n",
        "\r\n",
        "> Theaters,Opening_Day,Country\r\n",
        "\r\n",
        "\r\n",
        "> 今回，前処理されていないカラムname, Distributors"
      ]
    },
    {
      "cell_type": "markdown",
      "metadata": {
        "id": "g_6o8Ea9tWYe"
      },
      "source": [
        "# 標準化が必要なカラム\r\n",
        "\r\n",
        "> 'レビュー数', '平均スコア', 'Gross', 'Total Gross',    'Theaters'"
      ]
    },
    {
      "cell_type": "code",
      "metadata": {
        "colab": {
          "base_uri": "https://localhost:8080/"
        },
        "id": "fmCyt4txe1-I",
        "outputId": "fd41ba1d-53b4-4698-dd1a-37baa24fd770"
      },
      "source": [
        "train[train['Theaters']=='-'].__len__()"
      ],
      "execution_count": 46,
      "outputs": [
        {
          "output_type": "execute_result",
          "data": {
            "text/plain": [
              "281"
            ]
          },
          "metadata": {
            "tags": []
          },
          "execution_count": 46
        }
      ]
    },
    {
      "cell_type": "code",
      "metadata": {
        "colab": {
          "base_uri": "https://localhost:8080/",
          "height": 348
        },
        "id": "0jvXizFg7pVr",
        "outputId": "b360c141-1af6-4249-a72a-ada61ba6b352"
      },
      "source": [
        "sns.countplot(train['Theaters'])"
      ],
      "execution_count": 47,
      "outputs": [
        {
          "output_type": "stream",
          "text": [
            "/usr/local/lib/python3.6/dist-packages/seaborn/_decorators.py:43: FutureWarning: Pass the following variable as a keyword arg: x. From version 0.12, the only valid positional argument will be `data`, and passing other arguments without an explicit keyword will result in an error or misinterpretation.\n",
            "  FutureWarning\n"
          ],
          "name": "stderr"
        },
        {
          "output_type": "execute_result",
          "data": {
            "text/plain": [
              "<matplotlib.axes._subplots.AxesSubplot at 0x7fec8cd074e0>"
            ]
          },
          "metadata": {
            "tags": []
          },
          "execution_count": 47
        },
        {
          "output_type": "display_data",
          "data": {
            "image/png": "[encoded data removed]",
            "text/plain": [
              "<Figure size 432x288 with 1 Axes>"
            ]
          },
          "metadata": {
            "tags": [],
            "needs_background": "light"
          }
        }
      ]
    },
    {
      "cell_type": "code",
      "metadata": {
        "colab": {
          "base_uri": "https://localhost:8080/"
        },
        "id": "mbg3Lzz27xxb",
        "outputId": "3661bdff-43a6-4b03-b3aa-a8cfb172f746"
      },
      "source": [
        "train['Theaters'].unique()"
      ],
      "execution_count": 48,
      "outputs": [
        {
          "output_type": "execute_result",
          "data": {
            "text/plain": [
              "array(['645', '-', '365', '362', '468', '396', '366', '35', '746', '9',\n",
              "       '62', '773', '375', '301', '568', '585', '371', '308', '709',\n",
              "       '353', '322', '457', '775', '329', '360', '634', '332', '313', '1',\n",
              "       '676', '291', '785', '347', '444', '682', '574', '970', '5', '128',\n",
              "       '8', '596', '299', '156', '341', '314', '455', '745', '431', '705',\n",
              "       '300', '275', '636', '342', '312', '4', '296', '331', '285', '696',\n",
              "       '728', '6', '326', '252', '765', '406', '306', '198', '685', '756',\n",
              "       '401', '302', '251', '148', '69', '59', '155', '273', '394', '52',\n",
              "       '65', '196', '40', '150', '56', '246', '464', '180', '86', '120',\n",
              "       '161', '33', '188', '34', '7', '210', '27', '101', '12', '50',\n",
              "       '15', '16', '99', '25', '10', '483', '2', '22', '461', '640',\n",
              "       '789', '673', '323', '417', '463', '260', '337', '193', '432',\n",
              "       '249', '127', '231', '207', '336', '425', '194', '182', '235',\n",
              "       '199', '113', '359', '145', '45', '28', '75', '226', '37', '20',\n",
              "       '229', '24', '36', '13', '11', '106', '201', '238', '81', '47',\n",
              "       '197', '44', '57', '67', '30', '141', '168', '157', '76', '558',\n",
              "       '119', '407', '105', '338', '593', '280', '318', '178', '244',\n",
              "       '265', '316', '304', '221', '130', '184', '321', '542', '98',\n",
              "       '110', '587', '214', '307', '256', '185', '630', '540', '213',\n",
              "       '327', '348', '248', '137', '154', '478', '108', '496', '427',\n",
              "       '352', '294', '282', '290', '281', '187', '320', '663', '346',\n",
              "       '298', '284', '254', '324', '288', '415', '376', '717', '344',\n",
              "       '319', '102', '378', '751', '625', '965', '979', '814', '374',\n",
              "       '434', '739', '511', '471', '441', '960', 301], dtype=object)"
            ]
          },
          "metadata": {
            "tags": []
          },
          "execution_count": 48
        }
      ]
    },
    {
      "cell_type": "code",
      "metadata": {
        "id": "e_AozvrXWajb"
      },
      "source": [
        "def preprocess_Theaters(input_df:pd.DataFrame)->pd.DataFrame:\r\n",
        "  output_df = input_df.copy()\r\n",
        "  plt.figure(figsize=(25,10))\r\n",
        "  sns.countplot(input_df.loc[input_df['Theaters']!='-', 'Theaters'].astype(int).sort_values())\r\n",
        "  plt.xticks(rotation=90)\r\n",
        "  plt.show()\r\n",
        "  print('- of number : {}'.format(input_df[input_df['Theaters']=='-'].__len__()))\r\n",
        "  mean_ = input_df.loc[input_df['Theaters']!='-','Theaters'].astype(int).mean()\r\n",
        "\r\n",
        "  print(f'mean of Theaters:{int(mean_)}')\r\n",
        "  output_df['Theaters'] = output_df['Theaters'].replace('-', mean_).astype(int)\r\n",
        "\r\n",
        "  return output_df\r\n",
        "\r\n",
        "def lable_encoding(input_df:pd.DataFrame, cat_cols:list)->pd.DataFrame:\r\n",
        "  output_df = input_df.copy()\r\n",
        "  # カテゴリ変数は出現順にLabelEncoding\r\n",
        "  for c in cat_cols:\r\n",
        "    _dict = {j:i for i,j in enumerate(input_df[c].unique())}\r\n",
        "    output_df[c] = input_df[c].map(_dict)\r\n",
        "    \r\n",
        "  return output_df"
      ],
      "execution_count": 49,
      "outputs": []
    },
    {
      "cell_type": "code",
      "metadata": {
        "colab": {
          "base_uri": "https://localhost:8080/",
          "height": 702
        },
        "id": "FaqGAhb9XJas",
        "outputId": "c370a5d9-0f34-4fcf-a7ba-896ce470d713"
      },
      "source": [
        "data = pd.concat([train, test], axis=0).reset_index(drop=True)\r\n",
        "data = preprocess_Theaters(data)"
      ],
      "execution_count": 50,
      "outputs": [
        {
          "output_type": "stream",
          "text": [
            "/usr/local/lib/python3.6/dist-packages/seaborn/_decorators.py:43: FutureWarning: Pass the following variable as a keyword arg: x. From version 0.12, the only valid positional argument will be `data`, and passing other arguments without an explicit keyword will result in an error or misinterpretation.\n",
            "  FutureWarning\n"
          ],
          "name": "stderr"
        },
        {
          "output_type": "display_data",
          "data": {
            "image/png": "[encoded data removed]",
            "text/plain": [
              "<Figure size 1800x720 with 1 Axes>"
            ]
          },
          "metadata": {
            "tags": [],
            "needs_background": "light"
          }
        },
        {
          "output_type": "stream",
          "text": [
            "- of number : 407\n",
            "mean of Theaters:274\n"
          ],
          "name": "stdout"
        }
      ]
    },
    {
      "cell_type": "code",
      "metadata": {
        "id": "R4oIJfNfcdXZ"
      },
      "source": [
        "cols=['Country', 'Opening_Day']\r\n",
        "data = lable_encoding(data, cols)"
      ],
      "execution_count": 51,
      "outputs": []
    },
    {
      "cell_type": "code",
      "metadata": {
        "colab": {
          "base_uri": "https://localhost:8080/"
        },
        "id": "tEe1A8bHkrjp",
        "outputId": "16470b90-2938-49bc-a00a-f6b2558bb63f"
      },
      "source": [
        "train = data[0:len(train)]\r\n",
        "test = data[len(train):]\r\n",
        "\r\n",
        "train.shape, test.shape"
      ],
      "execution_count": 52,
      "outputs": [
        {
          "output_type": "execute_result",
          "data": {
            "text/plain": [
              "((662, 9549), (167, 9549))"
            ]
          },
          "metadata": {
            "tags": []
          },
          "execution_count": 52
        }
      ]
    },
    {
      "cell_type": "code",
      "metadata": {
        "colab": {
          "base_uri": "https://localhost:8080/"
        },
        "id": "SU_XTWyG1ZzV",
        "outputId": "a6185df8-1010-4ba4-e431-c161b7d332e6"
      },
      "source": [
        "train['Theaters'].describe()"
      ],
      "execution_count": 53,
      "outputs": [
        {
          "output_type": "execute_result",
          "data": {
            "text/plain": [
              "count    662.000000\n",
              "mean     281.129909\n",
              "std      174.083582\n",
              "min        1.000000\n",
              "25%      248.250000\n",
              "50%      274.000000\n",
              "75%      308.000000\n",
              "max      979.000000\n",
              "Name: Theaters, dtype: float64"
            ]
          },
          "metadata": {
            "tags": []
          },
          "execution_count": 53
        }
      ]
    },
    {
      "cell_type": "code",
      "metadata": {
        "id": "qdVVO0OC16Zu"
      },
      "source": [
        "#アルゴリズムの方で分岐しているから必要ないかもしれない特徴量\r\n",
        "\r\n",
        "def make_describe_col(input_df:pd.DataFrame, col:str):\r\n",
        "  output_df = input_df.copy() \r\n",
        "  p_25 = output_df[col].describe()['25%']\r\n",
        "  p_50 = output_df[col].describe()['50%']\r\n",
        "  p_75 = output_df[col].describe()['75%']\r\n",
        "\r\n",
        "  # 25%未満\r\n",
        "  output_df[f'{col}_[x<25%]'] = output_df[col].apply(\r\n",
        "      lambda x: 1 if x<p_25 else 0 \r\n",
        "  )\r\n",
        "  # 25%以上 50%未満\r\n",
        "  output_df[f'{col}_[25<=x<50%]'] = output_df[col].apply(\r\n",
        "      lambda x: 1 if x>=p_25 and x<p_50 else 0 \r\n",
        "  )\r\n",
        "  # 50%以上 75%未満\r\n",
        "  output_df[f'{col}_[50<=x<75%]'] = output_df[col].apply(\r\n",
        "      lambda x: 1 if x>=p_50 and x<p_75 else 0 \r\n",
        "  )\r\n",
        "  # 75%以上\r\n",
        "  output_df[f'{col}_[75%<x]'] = output_df[col].apply(\r\n",
        "      lambda x: 1 if x>=p_75 else 0 \r\n",
        "  )\r\n",
        "\r\n",
        "  return output_df"
      ],
      "execution_count": 54,
      "outputs": []
    },
    {
      "cell_type": "code",
      "metadata": {
        "id": "2qOiINRc6Dxg"
      },
      "source": [
        "train = make_describe_col(train, 'Theaters')\r\n",
        "train = make_describe_col(train, 'Time')\r\n",
        "\r\n",
        "test = make_describe_col(test, 'Theaters')\r\n",
        "test = make_describe_col(test, 'Time')"
      ],
      "execution_count": 55,
      "outputs": []
    },
    {
      "cell_type": "code",
      "metadata": {
        "id": "hlFvSo35yl0j"
      },
      "source": [
        "from sklearn import preprocessing\r\n",
        "\r\n",
        "def normalization(df:pd.DataFrame, cols:list):\r\n",
        "  output_df = df.copy()\r\n",
        "\r\n",
        "  ss = preprocessing.StandardScaler()\r\n",
        "  output_df[cols]= ss.fit_transform(output_df[cols])\r\n",
        "  output_df[cols].add_suffix('_ss')\r\n",
        "\r\n",
        "  return output_df "
      ],
      "execution_count": 56,
      "outputs": []
    },
    {
      "cell_type": "code",
      "metadata": {
        "colab": {
          "base_uri": "https://localhost:8080/",
          "height": 52
        },
        "id": "NWZxD5hoyjR_",
        "outputId": "ba68ecfe-386f-4020-9d23-7b374bf2a181"
      },
      "source": [
        "\"\"\" use_columns = [\r\n",
        "        'レビュー数',\r\n",
        "        '平均スコア', \r\n",
        "        'Gross', \r\n",
        "        'Total Gross',\r\n",
        "        'Theaters' ]\r\n",
        "\r\n",
        "train = normalization(train, use_columns)\r\n",
        "test = normalization(test, use_columns)\"\"\""
      ],
      "execution_count": 57,
      "outputs": [
        {
          "output_type": "execute_result",
          "data": {
            "application/vnd.google.colaboratory.intrinsic+json": {
              "type": "string"
            },
            "text/plain": [
              "\" use_columns = [\\n        'レビュー数',\\n        '平均スコア', \\n        'Gross', \\n        'Total Gross',\\n        'Theaters' ]\\n\\ntrain = normalization(train, use_columns)\\ntest = normalization(test, use_columns)\""
            ]
          },
          "metadata": {
            "tags": []
          },
          "execution_count": 57
        }
      ]
    },
    {
      "cell_type": "markdown",
      "metadata": {
        "id": "cDqrYzRjlL2u"
      },
      "source": [
        "# Training and Predicting "
      ]
    },
    {
      "cell_type": "markdown",
      "metadata": {
        "id": "Gi3zSIvklSsm"
      },
      "source": [
        "##Making Folds"
      ]
    },
    {
      "cell_type": "markdown",
      "metadata": {
        "id": "wXTJAaURlWtK"
      },
      "source": [
        "##Kfold"
      ]
    },
    {
      "cell_type": "code",
      "metadata": {
        "id": "6fdx53Mik23I"
      },
      "source": [
        "def create_folds(df, NUM_SPLITS, target):\r\n",
        "    df = df.copy()\r\n",
        "    df[\"kfold\"] = -1 \r\n",
        "    #fracで抽出する行の割合1は100%\r\n",
        "    df = df.sample(frac=1).reset_index(drop=True)\r\n",
        "    y = df[target].values   \r\n",
        "    tkf = KFold(n_splits=NUM_SPLITS)\r\n",
        "    for f, (t_, v_) in enumerate(tkf.split(X=df, y=y)):\r\n",
        "        df.loc[v_,'kfold'] = f ###locより高速\r\n",
        "    return df"
      ],
      "execution_count": 58,
      "outputs": []
    },
    {
      "cell_type": "markdown",
      "metadata": {
        "id": "afw6r874lb5Z"
      },
      "source": [
        "# Custom Metric"
      ]
    },
    {
      "cell_type": "code",
      "metadata": {
        "id": "2dRxgjWjlYZs"
      },
      "source": [
        "from sklearn.metrics import mean_squared_log_error\r\n",
        "\r\n",
        "def RMSLE(preds, data):\r\n",
        "  y_true = data.get_label()\r\n",
        "  score = np.sqrt(mean_squared_log_error(y_true, preds))\r\n",
        "  return \"RMSLE\", score, True\r\n",
        "\r\n",
        "from sklearn.metrics import mean_squared_error\r\n",
        "\r\n",
        "def RMSE(preds, data):\r\n",
        "  y_true = data.get_label() \r\n",
        "  score = np.sqrt(mean_squared_error(y_true, preds))\r\n",
        "\r\n",
        "  return \"RMSE\", score, True\r\n",
        "\r\n",
        "def metrics(preds, data):\r\n",
        "    return [\r\n",
        "        #accuracy(preds, data),\r\n",
        "        #precision(preds, data),\r\n",
        "        #recall(preds, data),\r\n",
        "        #f1score_macro(preds, data),\r\n",
        "        #RMSLE(preds, data),\r\n",
        "        RMSE(preds, data)\r\n",
        "    ]"
      ],
      "execution_count": 59,
      "outputs": []
    },
    {
      "cell_type": "code",
      "metadata": {
        "id": "SdvE4beY-feq"
      },
      "source": [
        "from sklearn.metrics import r2_score\r\n",
        "\r\n",
        "def trainer(train_df:pd.DataFrame, test_df:pd.DataFrame, target:str, fold:int, params:dict=None):\r\n",
        "    df = train_df.copy()\r\n",
        "    test = test_df.copy() \r\n",
        "\r\n",
        "    train_df = df[df.kfold != fold].reset_index(drop=True)\r\n",
        "    valid_df = df[df.kfold == fold].reset_index(drop=True)\r\n",
        "\r\n",
        "    del df \r\n",
        "\r\n",
        "    train_X = train_df.drop([target, 'kfold'], axis=1)\r\n",
        "    #train_y = train_df[target]\r\n",
        "    train_y = np.log1p(train_df[target])\r\n",
        "\r\n",
        "    del train_df\r\n",
        "\r\n",
        "    valid_X = valid_df.drop([target, 'kfold'], axis=1)\r\n",
        "    #valid_y = valid_df[target]\r\n",
        "    valid_y = np.log1p(valid_df[target])\r\n",
        "\r\n",
        "    del valid_df\r\n",
        "\r\n",
        "\r\n",
        "    dtrain = lgb.Dataset(train_X, train_y)\r\n",
        "    dvalid = lgb.Dataset(valid_X, valid_y)\r\n",
        "\r\n",
        "  \r\n",
        "    if params is None:\r\n",
        "        params = {}\r\n",
        "  \r\n",
        "    FIT_PARAMS_LGB = {\r\n",
        "        \"num_boost_round\": 10000, \r\n",
        "        \"early_stopping_rounds\": 100, \r\n",
        "        \"verbose_eval\":100}\r\n",
        "\r\n",
        "    evals_result = {}\r\n",
        "    model = lgb.train(\r\n",
        "      params, dtrain, **FIT_PARAMS_LGB,\r\n",
        "      valid_names=['train', 'valid'], \r\n",
        "      valid_sets=[dtrain, dvalid],\r\n",
        "\r\n",
        "      evals_result=evals_result,\r\n",
        "      #feval=metrics\r\n",
        "        )\r\n",
        "  \r\n",
        "    valid_pred = model.predict(valid_X,\r\n",
        "                          num_iteration=model.best_iteration)\r\n",
        "  \r\n",
        "    test_pred = model.predict(test , axis=1,\r\n",
        "                              num_iteration=model.best_iteration)\r\n",
        "    \r\n",
        "    #test['predict'] = np.stack(pred).mean(axis=0)\r\n",
        "\r\n",
        "    \r\n",
        "    RMSE = mean_squared_error(valid_y, valid_pred)**0.5\r\n",
        "    print('Fold {} : RMSE {}'.format(fold, RMSE))\r\n",
        "    \r\n",
        "    R2 = r2_score(valid_y, valid_pred)\r\n",
        "    print('Fold {} : R2 {}'.format(fold, R2))\r\n",
        "\r\n",
        "    #model.save_model('/content/drive/MyDrive/SIGNATE_intern/model/lgb_fold{}.txt'.format(fold),\r\n",
        "    #                 num_iteration=model.best_iteration)\r\n",
        "\r\n",
        "    #model = lgb.Booster(model_file='*****.txt') で読み込める\r\n",
        "    gc.collect()\r\n",
        "\r\n",
        "    return valid_pred, test_pred, RMSE, evals_result, model"
      ],
      "execution_count": 60,
      "outputs": []
    },
    {
      "cell_type": "code",
      "metadata": {
        "id": "Dw6KYNJEACIc"
      },
      "source": [
        "def create_folds(df:pd.DataFrame, target:str, NUM_SPLITS:int ):\r\n",
        "    RANDOM_SEED=1\r\n",
        "    df = df.copy()\r\n",
        "    df[\"kfold\"] = -1 \r\n",
        "    #fracで抽出する行の割合1は100%\r\n",
        "    df = df.sample(frac=1).reset_index(drop=True)\r\n",
        "    y = df[target].values \r\n",
        "    kf = KFold(n_splits=NUM_SPLITS, random_state=RANDOM_SEED)\r\n",
        "    for f, (t_, v_) in enumerate(kf.split(X=df)):\r\n",
        "        df.loc[v_,'kfold'] = f \r\n",
        "    return df"
      ],
      "execution_count": 61,
      "outputs": []
    },
    {
      "cell_type": "markdown",
      "metadata": {
        "id": "_l4Z5lnTl4I_"
      },
      "source": [
        "#目的変数と説明変数の設定\r\n",
        "\r\n",
        "\r\n"
      ]
    },
    {
      "cell_type": "code",
      "metadata": {
        "id": "j0PA1VRh_Q8J"
      },
      "source": [
        "#レビュー，平均スコアを含める場合\r\n",
        "#drop_cols=['Title','Title(ja)','directors','writers','casts']\r\n",
        "\r\n",
        "#----------------------------------------------------------------\r\n",
        "#レビュー，平均スコアを含めない場合\r\n",
        "drop_cols=['Title','Title(ja)','directors','writers','casts','レビュー数','平均スコア']"
      ],
      "execution_count": 62,
      "outputs": []
    },
    {
      "cell_type": "code",
      "metadata": {
        "id": "2pUUDGm8l7Cd"
      },
      "source": [
        "#train['Gross_log1p'] = train['Gross'].values\r\n",
        "#train['Total Gross_log1p'] = train['Total Gross'].values\r\n",
        "\r\n",
        "#y2 = np.log1p(y2)\r\n",
        "#y = np.log1p(y)\r\n",
        "#train = train.drop(drop_cols, axis=1)\r\n",
        "#test = test.drop(drop_cols, axis=1)"
      ],
      "execution_count": 63,
      "outputs": []
    },
    {
      "cell_type": "code",
      "metadata": {
        "id": "B8NhOoV29d8u"
      },
      "source": [
        "#Total Grossを予測する場合\r\n",
        "train_features = train.drop(drop_cols+['Gross'], axis=1) #'レビュー数','平均スコア'], axis=1)\r\n",
        "test_features = test.drop(drop_cols+['Gross'], axis=1)     #'レビュー数','平均スコア'], axis=1)\r\n",
        "\r\n",
        "#Grossを予測する場合\r\n",
        "#train_features = train.drop(drop_cols+['Total Gross'], axis=1)#'レビュー数','平均スコア'], axis=1)\r\n",
        "#test_features = test.drop(drop_cols+['Total Gross'], axis=1)  #'レビュー数','平均スコア'], axis=1)"
      ],
      "execution_count": 76,
      "outputs": []
    },
    {
      "cell_type": "code",
      "metadata": {
        "colab": {
          "base_uri": "https://localhost:8080/"
        },
        "id": "vxTtsXEYBFOX",
        "outputId": "d16ee648-f89e-4032-a75f-c8c594d138ab"
      },
      "source": [
        "#交差検証のための番号を振る\r\n",
        "\r\n",
        "NUM_SPLITS = 3\r\n",
        "target_col='Total Gross'\r\n",
        "train_features = create_folds(train_features, target_col, NUM_SPLITS)"
      ],
      "execution_count": 78,
      "outputs": [
        {
          "output_type": "stream",
          "text": [
            "/usr/local/lib/python3.6/dist-packages/sklearn/model_selection/_split.py:296: FutureWarning: Setting a random_state has no effect since shuffle is False. This will raise an error in 0.24. You should leave random_state to its default (None), or set shuffle=True.\n",
            "  FutureWarning\n"
          ],
          "name": "stderr"
        }
      ]
    },
    {
      "cell_type": "markdown",
      "metadata": {
        "id": "pGLaqZjHFS61"
      },
      "source": [
        "#パラメータの設定"
      ]
    },
    {
      "cell_type": "code",
      "metadata": {
        "id": "Qm2JeTeWFSFq"
      },
      "source": [
        "# 回帰分析にして学習させる\r\n",
        "params = {\r\n",
        "    'objective': 'regression',    'metric':'rmse', #'metric':'None', \r\n",
        "    'learning_rate': 0.005,    'max_depth': -1,\r\n",
        "    'num_leaves': 30,    'max_bin': 31,\r\n",
        "    'colsample_bytree': 0.8,    'subsample': 0.8,\r\n",
        "    'nthread': -1,    'bagging_freq': 1,\r\n",
        "    'verbose': -1,    'seed': 1,\r\n",
        "    }"
      ],
      "execution_count": 79,
      "outputs": []
    },
    {
      "cell_type": "code",
      "metadata": {
        "id": "KB0OhCyPmMpS",
        "colab": {
          "base_uri": "https://localhost:8080/"
        },
        "outputId": "08d2a320-aa60-4849-fb68-58965aa08a63"
      },
      "source": [
        "scores = []\r\n",
        "test_preds = []\r\n",
        "valid_preds = []\r\n",
        "models = []\r\n",
        "eval_results = []\r\n",
        "for fold in range(NUM_SPLITS):\r\n",
        "    print(f\"fold {fold}\", \"-\"*70)\r\n",
        "    valid_pred, test_pred, score, evals_result, model = trainer(\r\n",
        "        train_features, test_features, target_col, fold, params)\r\n",
        "    \r\n",
        "    valid_preds.append(valid_pred)\r\n",
        "    test_preds.append(test_pred)\r\n",
        "    scores.append(score) \r\n",
        "    models.append(model)\r\n",
        "\r\n",
        "    eval_results.append(evals_result)\r\n"
      ],
      "execution_count": 80,
      "outputs": [
        {
          "output_type": "stream",
          "text": [
            "fold 0 ----------------------------------------------------------------------\n",
            "Training until validation scores don't improve for 100 rounds.\n",
            "[100]\ttrain's rmse: 1.31667\tvalid's rmse: 1.35276\n",
            "[200]\ttrain's rmse: 1.06917\tvalid's rmse: 1.1764\n",
            "[300]\ttrain's rmse: 0.900616\tvalid's rmse: 1.08271\n",
            "[400]\ttrain's rmse: 0.781943\tvalid's rmse: 1.03178\n",
            "[500]\ttrain's rmse: 0.691146\tvalid's rmse: 1.00376\n",
            "[600]\ttrain's rmse: 0.621073\tvalid's rmse: 0.985455\n",
            "[700]\ttrain's rmse: 0.563909\tvalid's rmse: 0.973848\n",
            "[800]\ttrain's rmse: 0.5163\tvalid's rmse: 0.967455\n",
            "[900]\ttrain's rmse: 0.475264\tvalid's rmse: 0.962385\n",
            "[1000]\ttrain's rmse: 0.439598\tvalid's rmse: 0.959695\n",
            "[1100]\ttrain's rmse: 0.408732\tvalid's rmse: 0.956164\n",
            "[1200]\ttrain's rmse: 0.380337\tvalid's rmse: 0.955103\n",
            "[1300]\ttrain's rmse: 0.355304\tvalid's rmse: 0.953097\n",
            "[1400]\ttrain's rmse: 0.333195\tvalid's rmse: 0.952928\n",
            "Early stopping, best iteration is:\n",
            "[1349]\ttrain's rmse: 0.344455\tvalid's rmse: 0.952813\n",
            "Fold 0 : RMSE 0.9528128222792054\n",
            "Fold 0 : R2 0.6665835102127375\n",
            "fold 1 ----------------------------------------------------------------------\n",
            "Training until validation scores don't improve for 100 rounds.\n",
            "[100]\ttrain's rmse: 1.25633\tvalid's rmse: 1.48818\n",
            "[200]\ttrain's rmse: 1.02142\tvalid's rmse: 1.32062\n",
            "[300]\ttrain's rmse: 0.867961\tvalid's rmse: 1.22472\n",
            "[400]\ttrain's rmse: 0.757142\tvalid's rmse: 1.16671\n",
            "[500]\ttrain's rmse: 0.670145\tvalid's rmse: 1.1294\n",
            "[600]\ttrain's rmse: 0.602058\tvalid's rmse: 1.10488\n",
            "[700]\ttrain's rmse: 0.545155\tvalid's rmse: 1.08894\n",
            "[800]\ttrain's rmse: 0.498523\tvalid's rmse: 1.07652\n",
            "[900]\ttrain's rmse: 0.458806\tvalid's rmse: 1.06959\n",
            "[1000]\ttrain's rmse: 0.423966\tvalid's rmse: 1.06193\n",
            "[1100]\ttrain's rmse: 0.394195\tvalid's rmse: 1.05811\n",
            "[1200]\ttrain's rmse: 0.36762\tvalid's rmse: 1.05449\n",
            "[1300]\ttrain's rmse: 0.343815\tvalid's rmse: 1.05246\n",
            "[1400]\ttrain's rmse: 0.322603\tvalid's rmse: 1.05036\n",
            "[1500]\ttrain's rmse: 0.303522\tvalid's rmse: 1.04928\n",
            "[1600]\ttrain's rmse: 0.287072\tvalid's rmse: 1.04882\n",
            "[1700]\ttrain's rmse: 0.271529\tvalid's rmse: 1.04833\n",
            "[1800]\ttrain's rmse: 0.257254\tvalid's rmse: 1.04764\n",
            "[1900]\ttrain's rmse: 0.244667\tvalid's rmse: 1.04768\n",
            "[2000]\ttrain's rmse: 0.232969\tvalid's rmse: 1.04708\n",
            "[2100]\ttrain's rmse: 0.222142\tvalid's rmse: 1.04665\n",
            "[2200]\ttrain's rmse: 0.212326\tvalid's rmse: 1.04677\n",
            "Early stopping, best iteration is:\n",
            "[2143]\ttrain's rmse: 0.217708\tvalid's rmse: 1.04615\n",
            "Fold 1 : RMSE 1.0461465099484903\n",
            "Fold 1 : R2 0.6594209164133831\n",
            "fold 2 ----------------------------------------------------------------------\n",
            "Training until validation scores don't improve for 100 rounds.\n",
            "[100]\ttrain's rmse: 1.31137\tvalid's rmse: 1.30197\n",
            "[200]\ttrain's rmse: 1.05968\tvalid's rmse: 1.14357\n",
            "[300]\ttrain's rmse: 0.89519\tvalid's rmse: 1.06424\n",
            "[400]\ttrain's rmse: 0.780501\tvalid's rmse: 1.02081\n",
            "[500]\ttrain's rmse: 0.694319\tvalid's rmse: 0.994381\n",
            "[600]\ttrain's rmse: 0.626434\tvalid's rmse: 0.977676\n",
            "[700]\ttrain's rmse: 0.569514\tvalid's rmse: 0.964788\n",
            "[800]\ttrain's rmse: 0.523125\tvalid's rmse: 0.957679\n",
            "[900]\ttrain's rmse: 0.482491\tvalid's rmse: 0.952236\n",
            "[1000]\ttrain's rmse: 0.448147\tvalid's rmse: 0.948242\n",
            "[1100]\ttrain's rmse: 0.417427\tvalid's rmse: 0.946672\n",
            "[1200]\ttrain's rmse: 0.390864\tvalid's rmse: 0.944617\n",
            "[1300]\ttrain's rmse: 0.366941\tvalid's rmse: 0.943851\n",
            "[1400]\ttrain's rmse: 0.345848\tvalid's rmse: 0.942878\n",
            "[1500]\ttrain's rmse: 0.326635\tvalid's rmse: 0.941825\n",
            "[1600]\ttrain's rmse: 0.309945\tvalid's rmse: 0.941083\n",
            "[1700]\ttrain's rmse: 0.294704\tvalid's rmse: 0.940341\n",
            "[1800]\ttrain's rmse: 0.281067\tvalid's rmse: 0.940273\n",
            "[1900]\ttrain's rmse: 0.268635\tvalid's rmse: 0.939891\n",
            "[2000]\ttrain's rmse: 0.25734\tvalid's rmse: 0.939949\n",
            "Early stopping, best iteration is:\n",
            "[1940]\ttrain's rmse: 0.263895\tvalid's rmse: 0.939671\n",
            "Fold 2 : RMSE 0.9396711373068324\n",
            "Fold 2 : R2 0.6544552002346107\n"
          ],
          "name": "stdout"
        }
      ]
    },
    {
      "cell_type": "code",
      "metadata": {
        "id": "UX1bIRe0oCmT"
      },
      "source": [
        "pred = np.array([model.predict(test_features.values) for model in models])\r\n",
        "pred = np.mean(pred, axis=0)\r\n",
        "#pred = np.expm1(pred)\r\n",
        "pred = np.where(pred < 0, 0, pred)\r\n",
        "#sub_df_kfold = pd.DataFrame({ 'Global_Sales': pred })\r\n",
        "#sub_df_kfold.to_csv(os.path.join(OUTPUT_DIR, 'late_lgb_kfold_{}.csv'.format(NAME)), index=False)"
      ],
      "execution_count": 81,
      "outputs": []
    },
    {
      "cell_type": "code",
      "metadata": {
        "colab": {
          "base_uri": "https://localhost:8080/",
          "height": 536
        },
        "id": "iAv_rkdPnoxl",
        "outputId": "19ae0e4b-3929-413d-8e97-7c323977f903"
      },
      "source": [
        "test_y=np.log1p(test['Total Gross'].values)\r\n",
        "\r\n",
        "fig, ax = plt.subplots(figsize=(8, 8))\r\n",
        "\r\n",
        "#変数を対数スケールで学習させなかった場合\r\n",
        "sns.distplot(pred, label='Test Predict',kde=False)\r\n",
        "sns.distplot(test_y, label='Test Data',kde=False)\r\n",
        "#sns.distplot(oof, label='Out Of Fold')\r\n",
        "\r\n",
        "\r\n",
        "#変数を対数スケールで学習させた場合\r\n",
        "#sns.distplot(np.log1p(pred), label='Test Predict',kde=False)\r\n",
        "#sns.distplot(np.log1p(test_y), label='Test Data',kde=False)\r\n",
        "#sns.distplot(oof, label='Out Of Fold')\r\n",
        "\r\n",
        "ax.legend()\r\n",
        "ax.grid()\r\n",
        "plt.show()"
      ],
      "execution_count": 82,
      "outputs": [
        {
          "output_type": "stream",
          "text": [
            "/usr/local/lib/python3.6/dist-packages/seaborn/distributions.py:2557: FutureWarning: `distplot` is a deprecated function and will be removed in a future version. Please adapt your code to use either `displot` (a figure-level function with similar flexibility) or `histplot` (an axes-level function for histograms).\n",
            "  warnings.warn(msg, FutureWarning)\n"
          ],
          "name": "stderr"
        },
        {
          "output_type": "display_data",
          "data": {
            "image/png": "[encoded data removed]",
            "text/plain": [
              "<Figure size 576x576 with 1 Axes>"
            ]
          },
          "metadata": {
            "tags": [],
            "needs_background": "light"
          }
        }
      ]
    },
    {
      "cell_type": "code",
      "metadata": {
        "colab": {
          "base_uri": "https://localhost:8080/",
          "height": 548
        },
        "id": "hC4cnfdfw4WU",
        "outputId": "b6581944-8dc6-4c27-88a9-3e04bcb76738"
      },
      "source": [
        "test_y=test['Total Gross'].values\r\n",
        "\r\n",
        "fig, ax = plt.subplots(figsize=(8, 8))\r\n",
        "sns.distplot(np.expm1(pred), label='Test Predict', kde=False)\r\n",
        "sns.distplot(test_y, label='Test Data', kde=False)\r\n",
        "#sns.distplot(oof, label='Out Of Fold')\r\n",
        "\r\n",
        "ax.legend()\r\n",
        "ax.grid()\r\n",
        "plt.show()"
      ],
      "execution_count": 83,
      "outputs": [
        {
          "output_type": "stream",
          "text": [
            "/usr/local/lib/python3.6/dist-packages/seaborn/distributions.py:2557: FutureWarning: `distplot` is a deprecated function and will be removed in a future version. Please adapt your code to use either `displot` (a figure-level function with similar flexibility) or `histplot` (an axes-level function for histograms).\n",
            "  warnings.warn(msg, FutureWarning)\n"
          ],
          "name": "stderr"
        },
        {
          "output_type": "display_data",
          "data": {
            "image/png": "[encoded data removed]",
            "text/plain": [
              "<Figure size 576x576 with 1 Axes>"
            ]
          },
          "metadata": {
            "tags": [],
            "needs_background": "light"
          }
        }
      ]
    },
    {
      "cell_type": "code",
      "metadata": {
        "id": "xAMBbyNxu59j"
      },
      "source": [
        "import matplotlib.pyplot as plt \r\n",
        "%matplotlib inline \r\n",
        "def yyplot(y_obs, y_pred):\r\n",
        "  yvalues = np.concatenate([y_obs.flatten(), y_pred.flatten()])\r\n",
        "  ymin, ymax, yrange = np.amin(yvalues), np.amax(yvalues), np.ptp(yvalues)\r\n",
        "  fig = plt.figure(figsize=(6,6))\r\n",
        "  plt.scatter(y_obs, y_pred)\r\n",
        "  plt.plot([ymin - yrange*0.01, ymax + yrange*0.01],[ymin - yrange * 0.01, ymax + yrange * 0.01])\r\n",
        "  plt.xlim(ymin - yrange * 0.01, ymax + yrange * 0.01)\r\n",
        "  plt.ylim(ymin - yrange * 0.01, ymax + yrange * 0.01)\r\n",
        "  plt.xlabel('y_obserbed', fontsize=24)\r\n",
        "  plt.ylabel('y_predicted', fontsize=24)\r\n",
        "  plt.title('yyplot', fontsize=24)\r\n",
        "  plt.tick_params(labelsize=16)\r\n",
        "  plt.show() \r\n",
        "\r\n",
        "  return fig"
      ],
      "execution_count": 84,
      "outputs": []
    },
    {
      "cell_type": "code",
      "metadata": {
        "colab": {
          "base_uri": "https://localhost:8080/",
          "height": 433
        },
        "id": "LYqLtc-Ku7jy",
        "outputId": "4acddde0-ce31-4e32-a8d5-dae10b7adc86"
      },
      "source": [
        "test_y=test['Total Gross'].values\r\n",
        "\r\n",
        "fig = yyplot(np.log1p(test_y), pred)"
      ],
      "execution_count": 85,
      "outputs": [
        {
          "output_type": "display_data",
          "data": {
            "image/png": "[encoded data removed]",
            "text/plain": [
              "<Figure size 432x432 with 1 Axes>"
            ]
          },
          "metadata": {
            "tags": [],
            "needs_background": "light"
          }
        }
      ]
    },
    {
      "cell_type": "code",
      "metadata": {
        "colab": {
          "base_uri": "https://localhost:8080/",
          "height": 433
        },
        "id": "fsXWtp17wozN",
        "outputId": "336b408e-43f8-4678-ac2f-40b52e7577e9"
      },
      "source": [
        "fig = yyplot(test_y, np.expm1(pred))"
      ],
      "execution_count": 86,
      "outputs": [
        {
          "output_type": "display_data",
          "data": {
            "image/png": "[encoded data removed]",
            "text/plain": [
              "<Figure size 432x432 with 1 Axes>"
            ]
          },
          "metadata": {
            "tags": [],
            "needs_background": "light"
          }
        }
      ]
    },
    {
      "cell_type": "code",
      "metadata": {
        "colab": {
          "base_uri": "https://localhost:8080/"
        },
        "id": "c1POfXtNh0fB",
        "outputId": "0a404a0d-7760-4f57-aeed-2c10b3384a99"
      },
      "source": [
        "#決定係数\r\n",
        "#r2_score(y_true, y_pred)\r\n",
        "print(r2_score(test_y, np.expm1(pred)))"
      ],
      "execution_count": 87,
      "outputs": [
        {
          "output_type": "stream",
          "text": [
            "0.031601952122123356\n"
          ],
          "name": "stdout"
        }
      ]
    },
    {
      "cell_type": "code",
      "metadata": {
        "colab": {
          "base_uri": "https://localhost:8080/"
        },
        "id": "NbnOHaUSithR",
        "outputId": "6215155f-cede-4158-d237-18dd7905608b"
      },
      "source": [
        "t_y=np.log1p(test_y)\r\n",
        "p_y=pred\r\n",
        "#print(len(t_y),len(p_y))\r\n",
        "print(r2_score(t_y, p_y))"
      ],
      "execution_count": 88,
      "outputs": [
        {
          "output_type": "stream",
          "text": [
            "-0.10034858997197516\n"
          ],
          "name": "stdout"
        }
      ]
    },
    {
      "cell_type": "code",
      "metadata": {
        "id": "N78QclY6Kv_F"
      },
      "source": [
        "def show_evals_result(evals_result:dict, fold:int):\r\n",
        "\r\n",
        "    #rmse\r\n",
        "    eval_metric_rmse = evals_result['valid']['rmse']\r\n",
        "    train_metric_rmse = evals_result['train']['rmse']\r\n",
        "\r\n",
        "    \"\"\"\r\n",
        "    # 組み込みのメトリック\r\n",
        "    eval_metric_logloss = evals_result['valid']['binary_logloss']\r\n",
        "    train_metric_logloss = evals_result['train']['binary_logloss']\r\n",
        "\r\n",
        "    # カスタムメトリック (Accuracy)\r\n",
        "    eval_metric_acc = evals_result['valid']['accuracy']\r\n",
        "    train_metric_acc = evals_result['train']['accuracy']\r\n",
        "\r\n",
        "    # カスタムメトリック (Precision)\r\n",
        "    eval_metric_prec = evals_result['valid']['precision']\r\n",
        "    train_metric_prec = evals_result['train']['precision']\r\n",
        "\r\n",
        "    # カスタムメトリック (recall)\r\n",
        "    eval_metric_recall = evals_result['valid']['recall']\r\n",
        "    train_metric_recall = evals_result['train']['recall']\r\n",
        "\r\n",
        "    # カスタムメトリック (F1_macro)\r\n",
        "    eval_metric_f1macro = evals_result['valid']['f1_macro']\r\n",
        "    train_metric_f1macro = evals_result['train']['f1_macro']\r\n",
        "    \"\"\"\r\n",
        "\r\n",
        "\r\n",
        "    # グラフにプロットする\r\n",
        "    _, ax1 = plt.subplots(figsize=(8, 8))\r\n",
        "    ax1.plot(eval_metric_rmse, label='valid logloss', c='y')\r\n",
        "    ax1.plot(train_metric_rmse, label='train logloss', c='b')\r\n",
        "    ax1.set_ylabel('root mean square error')\r\n",
        "    ax1.set_xlabel('rounds')\r\n",
        "    ax1.set_title(f'Result of fold {fold} ')\r\n",
        "    ax1.legend()\r\n",
        "\r\n",
        "    #ax2 = ax1.twinx()\r\n",
        "    #ax2.plot(eval_metric_rmse, label='valid rmse')\r\n",
        "    #ax2.plot(train_metric_rmse, label='train rmse')\r\n",
        "\r\n",
        "    #ax2.plot(eval_metric_acc, label='valid accuracy')\r\n",
        "    #ax2.plot(train_metric_acc, label='train accuracy')\r\n",
        "    #ax2.plot(eval_metric_prec, label='valid precision')\r\n",
        "    #ax2.plot(train_metric_prec, label='train precision')\r\n",
        "    #ax2.plot(eval_metric_recall, label='valid recall')\r\n",
        "    #ax2.plot(train_metric_recall, label='train recall')\r\n",
        "    #ax2.plot(eval_metric_f1macro, label='valid f1_macro')\r\n",
        "    #ax2.plot(train_metric_f1macro, label='train f1_macro')\r\n",
        "    #ax2.set_ylabel('ratio')\r\n",
        "    #ax2.legend()\r\n",
        "\r\n",
        "    plt.grid()\r\n",
        "    plt.show()"
      ],
      "execution_count": 97,
      "outputs": []
    },
    {
      "cell_type": "code",
      "metadata": {
        "colab": {
          "base_uri": "https://localhost:8080/",
          "height": 1000
        },
        "id": "7svF63ExKxPA",
        "outputId": "34154656-bd23-4251-dd84-847d3fb24a30"
      },
      "source": [
        "for i, eval_result in enumerate(eval_results):\r\n",
        "  show_evals_result(eval_result, i)"
      ],
      "execution_count": 98,
      "outputs": [
        {
          "output_type": "display_data",
          "data": {
            "image/png": "[encoded data removed]",
            "text/plain": [
              "<Figure size 576x576 with 1 Axes>"
            ]
          },
          "metadata": {
            "tags": [],
            "needs_background": "light"
          }
        },
        {
          "output_type": "display_data",
          "data": {
            "image/png": "[encoded data removed]",
            "text/plain": [
              "<Figure size 576x576 with 1 Axes>"
            ]
          },
          "metadata": {
            "tags": [],
            "needs_background": "light"
          }
        },
        {
          "output_type": "display_data",
          "data": {
            "image/png": "[encoded data removed]",
            "text/plain": [
              "<Figure size 576x576 with 1 Axes>"
            ]
          },
          "metadata": {
            "tags": [],
            "needs_background": "light"
          }
        }
      ]
    },
    {
      "cell_type": "code",
      "metadata": {
        "id": "d5MumJ6Wo2Ss"
      },
      "source": [
        "def visualize_importance(models, feat_train_df):\r\n",
        "    \"\"\"lightGBM の model 配列の feature importance を plot する\r\n",
        "    CVごとのブレを boxen plot として表現します.\r\n",
        "\r\n",
        "    args:\r\n",
        "        models:\r\n",
        "            List of lightGBM models\r\n",
        "        feat_train_df:\r\n",
        "            学習時に使った DataFrame\r\n",
        "    \"\"\"\r\n",
        "    feature_importance_df = pd.DataFrame()\r\n",
        "    for i, model in enumerate(models):\r\n",
        "        _df = pd.DataFrame()\r\n",
        "        _df['feature_importance'] = model.feature_importance('gain')\r\n",
        "        _df['column'] = feat_train_df.columns\r\n",
        "        _df['fold'] = i + 1\r\n",
        "        feature_importance_df = pd.concat([feature_importance_df, _df], axis=0, ignore_index=True)\r\n",
        "\r\n",
        "   \r\n",
        "    #feature_importance_df = feature_importance_df[feature_importance_df['feature_importance']>0]\r\n",
        "    #sns.boxenplot(data=feature_importance_df, y='column', x='feature_importance',  ax=ax, palette='ocean')\r\n",
        "    #fig, ax = plt.subplots(figsize=(15, 20))\r\n",
        "\r\n",
        "    order = feature_importance_df.groupby('column')\\\r\n",
        "        .sum()[['feature_importance']]\\\r\n",
        "        .sort_values('feature_importance', ascending=False).index[:50]\r\n",
        "\r\n",
        "    fig, ax = plt.subplots(figsize=(20, 20))\r\n",
        "    sns.boxenplot(data=feature_importance_df, y='column', x='feature_importance', order=order, ax=ax, palette='viridis')\r\n",
        "    ax.tick_params(axis='x', rotation=90, labelsize=10)\r\n",
        "    ax.tick_params(axis='y', labelsize=15)\r\n",
        "    ax.grid()\r\n",
        "    fig.tight_layout()\r\n",
        "    return fig, ax, feature_importance_df"
      ],
      "execution_count": 99,
      "outputs": []
    },
    {
      "cell_type": "code",
      "metadata": {
        "colab": {
          "base_uri": "https://localhost:8080/",
          "height": 1000
        },
        "id": "cqJJDwIJo6yw",
        "outputId": "a802d967-c198-4616-c6cc-2bea4034c045"
      },
      "source": [
        "fig, ax, feature_importance_df = visualize_importance(models, train_features.drop([target_col, 'kfold'], axis=1))"
      ],
      "execution_count": 100,
      "outputs": [
        {
          "output_type": "display_data",
          "data": {
            "image/png": "[encoded data removed]",
            "text/plain": [
              "<Figure size 1440x1440 with 1 Axes>"
            ]
          },
          "metadata": {
            "tags": [],
            "needs_background": "light"
          }
        }
      ]
    },
    {
      "cell_type": "code",
      "metadata": {
        "colab": {
          "base_uri": "https://localhost:8080/",
          "height": 1000
        },
        "id": "GCJSpinB1mN0",
        "outputId": "629d4a58-bc87-425f-c0cb-a8837c0c6d6a"
      },
      "source": [
        "pd.set_option('display.max_columns', 200)\r\n",
        "\r\n",
        "feature_importance_df.groupby('column').sum()[['feature_importance']]\\\r\n",
        "        .sort_values('feature_importance', ascending=False)[0:50]"
      ],
      "execution_count": 109,
      "outputs": [
        {
          "output_type": "execute_result",
          "data": {
            "text/html": [
              "<div>\n",
              "<style scoped>\n",
              "    .dataframe tbody tr th:only-of-type {\n",
              "        vertical-align: middle;\n",
              "    }\n",
              "\n",
              "    .dataframe tbody tr th {\n",
              "        vertical-align: top;\n",
              "    }\n",
              "\n",
              "    .dataframe thead th {\n",
              "        text-align: right;\n",
              "    }\n",
              "</style>\n",
              "<table border=\"1\" class=\"dataframe\">\n",
              "  <thead>\n",
              "    <tr style=\"text-align: right;\">\n",
              "      <th></th>\n",
              "      <th>feature_importance</th>\n",
              "    </tr>\n",
              "    <tr>\n",
              "      <th>column</th>\n",
              "      <th></th>\n",
              "    </tr>\n",
              "  </thead>\n",
              "  <tbody>\n",
              "    <tr>\n",
              "      <th>Theaters</th>\n",
              "      <td>89074.224057</td>\n",
              "    </tr>\n",
              "    <tr>\n",
              "      <th>Opening_Day</th>\n",
              "      <td>23412.321792</td>\n",
              "    </tr>\n",
              "    <tr>\n",
              "      <th>keiyousi_contains_無い</th>\n",
              "      <td>16665.240713</td>\n",
              "    </tr>\n",
              "    <tr>\n",
              "      <th>Theaters_[x&lt;25%]</th>\n",
              "      <td>14194.149444</td>\n",
              "    </tr>\n",
              "    <tr>\n",
              "      <th>Time</th>\n",
              "      <td>12745.071982</td>\n",
              "    </tr>\n",
              "    <tr>\n",
              "      <th>ジャンル</th>\n",
              "      <td>9069.270447</td>\n",
              "    </tr>\n",
              "    <tr>\n",
              "      <th>keiyousi_contains_悪い</th>\n",
              "      <td>7173.813560</td>\n",
              "    </tr>\n",
              "    <tr>\n",
              "      <th>keiyousi_contains_若い</th>\n",
              "      <td>7023.360959</td>\n",
              "    </tr>\n",
              "    <tr>\n",
              "      <th>Opening_Day:Month</th>\n",
              "      <td>6175.073353</td>\n",
              "    </tr>\n",
              "    <tr>\n",
              "      <th>Country+genre</th>\n",
              "      <td>5431.761914</td>\n",
              "    </tr>\n",
              "    <tr>\n",
              "      <th>Disributor+genre</th>\n",
              "      <td>4875.982958</td>\n",
              "    </tr>\n",
              "    <tr>\n",
              "      <th>keiyousi_contains_優しい</th>\n",
              "      <td>4150.457303</td>\n",
              "    </tr>\n",
              "    <tr>\n",
              "      <th>keiyousi_contains_酷い</th>\n",
              "      <td>3749.643748</td>\n",
              "    </tr>\n",
              "    <tr>\n",
              "      <th>keiyousi_contains_多い</th>\n",
              "      <td>3227.197289</td>\n",
              "    </tr>\n",
              "    <tr>\n",
              "      <th>keiyousi_contains_久しい</th>\n",
              "      <td>3124.401771</td>\n",
              "    </tr>\n",
              "    <tr>\n",
              "      <th>keiyousi_contains_小さい</th>\n",
              "      <td>2958.371089</td>\n",
              "    </tr>\n",
              "    <tr>\n",
              "      <th>keiyousi_contains_可愛い</th>\n",
              "      <td>2944.735122</td>\n",
              "    </tr>\n",
              "    <tr>\n",
              "      <th>keiyousi_contains_細かい</th>\n",
              "      <td>2864.243723</td>\n",
              "    </tr>\n",
              "    <tr>\n",
              "      <th>keiyousi_contains_楽しい</th>\n",
              "      <td>2706.822029</td>\n",
              "    </tr>\n",
              "    <tr>\n",
              "      <th>keiyousi_contains_少ない</th>\n",
              "      <td>2639.065127</td>\n",
              "    </tr>\n",
              "    <tr>\n",
              "      <th>keiyousi_contains_深い</th>\n",
              "      <td>2609.720910</td>\n",
              "    </tr>\n",
              "    <tr>\n",
              "      <th>keiyousi_contains_旨い</th>\n",
              "      <td>2548.818108</td>\n",
              "    </tr>\n",
              "    <tr>\n",
              "      <th>Opening_Day:Day</th>\n",
              "      <td>2523.250723</td>\n",
              "    </tr>\n",
              "    <tr>\n",
              "      <th>keiyousi_contains_嬉しい</th>\n",
              "      <td>2497.063852</td>\n",
              "    </tr>\n",
              "    <tr>\n",
              "      <th>Theaters_[75%&lt;x]</th>\n",
              "      <td>2422.048392</td>\n",
              "    </tr>\n",
              "    <tr>\n",
              "      <th>keiyousi_contains_凄い</th>\n",
              "      <td>2381.801225</td>\n",
              "    </tr>\n",
              "    <tr>\n",
              "      <th>Country+Opening_Day:Year</th>\n",
              "      <td>2311.842239</td>\n",
              "    </tr>\n",
              "    <tr>\n",
              "      <th>keiyousi_contains_可笑しい</th>\n",
              "      <td>2235.519359</td>\n",
              "    </tr>\n",
              "    <tr>\n",
              "      <th>keiyousi_contains_素晴らしい</th>\n",
              "      <td>2223.381906</td>\n",
              "    </tr>\n",
              "    <tr>\n",
              "      <th>keiyousi_contains_欲しい</th>\n",
              "      <td>2164.089199</td>\n",
              "    </tr>\n",
              "    <tr>\n",
              "      <th>keiyousi_contains_美しい</th>\n",
              "      <td>2143.676940</td>\n",
              "    </tr>\n",
              "    <tr>\n",
              "      <th>keiyousi_contains_新しい</th>\n",
              "      <td>2142.502415</td>\n",
              "    </tr>\n",
              "    <tr>\n",
              "      <th>keiyousi_contains_辛い</th>\n",
              "      <td>2132.915149</td>\n",
              "    </tr>\n",
              "    <tr>\n",
              "      <th>keiyousi_contains_高い</th>\n",
              "      <td>2086.964538</td>\n",
              "    </tr>\n",
              "    <tr>\n",
              "      <th>keiyousi_contains_面白い</th>\n",
              "      <td>2009.039816</td>\n",
              "    </tr>\n",
              "    <tr>\n",
              "      <th>keiyousi_contains_良い</th>\n",
              "      <td>1997.858310</td>\n",
              "    </tr>\n",
              "    <tr>\n",
              "      <th>製作国_日本</th>\n",
              "      <td>1954.359881</td>\n",
              "    </tr>\n",
              "    <tr>\n",
              "      <th>keiyousi_contains_長い</th>\n",
              "      <td>1905.745759</td>\n",
              "    </tr>\n",
              "    <tr>\n",
              "      <th>keiyousi_contains_緩い</th>\n",
              "      <td>1856.499706</td>\n",
              "    </tr>\n",
              "    <tr>\n",
              "      <th>keiyousi_contains_大きい</th>\n",
              "      <td>1837.240101</td>\n",
              "    </tr>\n",
              "    <tr>\n",
              "      <th>keiyousi_contains_怖い</th>\n",
              "      <td>1745.211153</td>\n",
              "    </tr>\n",
              "    <tr>\n",
              "      <th>keiyousi_contains_渋い</th>\n",
              "      <td>1672.063406</td>\n",
              "    </tr>\n",
              "    <tr>\n",
              "      <th>keiyousi_contains_仕方無い</th>\n",
              "      <td>1664.277139</td>\n",
              "    </tr>\n",
              "    <tr>\n",
              "      <th>keiyousi_contains_難しい</th>\n",
              "      <td>1662.118304</td>\n",
              "    </tr>\n",
              "    <tr>\n",
              "      <th>keiyousi_contains_白い</th>\n",
              "      <td>1654.617699</td>\n",
              "    </tr>\n",
              "    <tr>\n",
              "      <th>Time_[x&lt;25%]</th>\n",
              "      <td>1619.618812</td>\n",
              "    </tr>\n",
              "    <tr>\n",
              "      <th>keiyousi_contains_近い</th>\n",
              "      <td>1500.681811</td>\n",
              "    </tr>\n",
              "    <tr>\n",
              "      <th>keiyousi_contains_熱い</th>\n",
              "      <td>1498.490495</td>\n",
              "    </tr>\n",
              "    <tr>\n",
              "      <th>keiyousi_contains_重い</th>\n",
              "      <td>1426.941741</td>\n",
              "    </tr>\n",
              "    <tr>\n",
              "      <th>keiyousi_contains_強い</th>\n",
              "      <td>1370.568903</td>\n",
              "    </tr>\n",
              "  </tbody>\n",
              "</table>\n",
              "</div>"
            ],
            "text/plain": [
              "                          feature_importance\n",
              "column                                      \n",
              "Theaters                        89074.224057\n",
              "Opening_Day                     23412.321792\n",
              "keiyousi_contains_無い            16665.240713\n",
              "Theaters_[x<25%]                14194.149444\n",
              "Time                            12745.071982\n",
              "ジャンル                             9069.270447\n",
              "keiyousi_contains_悪い             7173.813560\n",
              "keiyousi_contains_若い             7023.360959\n",
              "Opening_Day:Month                6175.073353\n",
              "Country+genre                    5431.761914\n",
              "Disributor+genre                 4875.982958\n",
              "keiyousi_contains_優しい            4150.457303\n",
              "keiyousi_contains_酷い             3749.643748\n",
              "keiyousi_contains_多い             3227.197289\n",
              "keiyousi_contains_久しい            3124.401771\n",
              "keiyousi_contains_小さい            2958.371089\n",
              "keiyousi_contains_可愛い            2944.735122\n",
              "keiyousi_contains_細かい            2864.243723\n",
              "keiyousi_contains_楽しい            2706.822029\n",
              "keiyousi_contains_少ない            2639.065127\n",
              "keiyousi_contains_深い             2609.720910\n",
              "keiyousi_contains_旨い             2548.818108\n",
              "Opening_Day:Day                  2523.250723\n",
              "keiyousi_contains_嬉しい            2497.063852\n",
              "Theaters_[75%<x]                 2422.048392\n",
              "keiyousi_contains_凄い             2381.801225\n",
              "Country+Opening_Day:Year         2311.842239\n",
              "keiyousi_contains_可笑しい           2235.519359\n",
              "keiyousi_contains_素晴らしい          2223.381906\n",
              "keiyousi_contains_欲しい            2164.089199\n",
              "keiyousi_contains_美しい            2143.676940\n",
              "keiyousi_contains_新しい            2142.502415\n",
              "keiyousi_contains_辛い             2132.915149\n",
              "keiyousi_contains_高い             2086.964538\n",
              "keiyousi_contains_面白い            2009.039816\n",
              "keiyousi_contains_良い             1997.858310\n",
              "製作国_日本                           1954.359881\n",
              "keiyousi_contains_長い             1905.745759\n",
              "keiyousi_contains_緩い             1856.499706\n",
              "keiyousi_contains_大きい            1837.240101\n",
              "keiyousi_contains_怖い             1745.211153\n",
              "keiyousi_contains_渋い             1672.063406\n",
              "keiyousi_contains_仕方無い           1664.277139\n",
              "keiyousi_contains_難しい            1662.118304\n",
              "keiyousi_contains_白い             1654.617699\n",
              "Time_[x<25%]                     1619.618812\n",
              "keiyousi_contains_近い             1500.681811\n",
              "keiyousi_contains_熱い             1498.490495\n",
              "keiyousi_contains_重い             1426.941741\n",
              "keiyousi_contains_強い             1370.568903"
            ]
          },
          "metadata": {
            "tags": []
          },
          "execution_count": 109
        }
      ]
    },
    {
      "cell_type": "markdown",
      "metadata": {
        "id": "A8AV4kNPL7qk"
      },
      "source": [
        "#ジャンルが重要視されていることが分かった．ジャンルに関する特徴量を作ると良いかもしれない．<br>\r\n",
        "ジャンルに関するaggregrationなど"
      ]
    },
    {
      "cell_type": "code",
      "metadata": {
        "colab": {
          "base_uri": "https://localhost:8080/",
          "height": 1000
        },
        "id": "cFXOeEdawdMz",
        "outputId": "b31dde9a-5567-48cd-d675-f78ad723d9fe"
      },
      "source": [
        "# 決定木を可視化\r\n",
        "def display_tree(clf):\r\n",
        "    ax = lgb.plot_tree(clf, tree_index=0, figsize=(10, 10), show_info=['split_gain'])\r\n",
        "    plt.show()\r\n",
        "    print('lightGBM　木の可視化')\r\n",
        "    graph = lgb.create_tree_digraph(clf, tree_index=0, format='png', name='Tree')\r\n",
        "    graph.render(view=True)\r\n",
        "\r\n",
        "for i in models:\r\n",
        "  display_tree(i)\r\n",
        "  \r\n"
      ],
      "execution_count": 116,
      "outputs": [
        {
          "output_type": "error",
          "ename": "JSONDecodeError",
          "evalue": "ignored",
          "traceback": [
            "\u001b[0;31m---------------------------------------------------------------------------\u001b[0m",
            "\u001b[0;31mJSONDecodeError\u001b[0m                           Traceback (most recent call last)",
            "\u001b[0;32m<ipython-input-116-b88c2fdd71e8>\u001b[0m in \u001b[0;36m<module>\u001b[0;34m()\u001b[0m\n\u001b[1;32m      8\u001b[0m \u001b[0;34m\u001b[0m\u001b[0m\n\u001b[1;32m      9\u001b[0m \u001b[0;32mfor\u001b[0m \u001b[0mi\u001b[0m \u001b[0;32min\u001b[0m \u001b[0mmodels\u001b[0m\u001b[0;34m:\u001b[0m\u001b[0;34m\u001b[0m\u001b[0;34m\u001b[0m\u001b[0m\n\u001b[0;32m---> 10\u001b[0;31m   \u001b[0mdisplay_tree\u001b[0m\u001b[0;34m(\u001b[0m\u001b[0mi\u001b[0m\u001b[0;34m)\u001b[0m\u001b[0;34m\u001b[0m\u001b[0;34m\u001b[0m\u001b[0m\n\u001b[0m\u001b[1;32m     11\u001b[0m \u001b[0;34m\u001b[0m\u001b[0m\n",
            "\u001b[0;32m<ipython-input-116-b88c2fdd71e8>\u001b[0m in \u001b[0;36mdisplay_tree\u001b[0;34m(clf)\u001b[0m\n\u001b[1;32m      1\u001b[0m \u001b[0;31m# 決定木を可視化\u001b[0m\u001b[0;34m\u001b[0m\u001b[0;34m\u001b[0m\u001b[0;34m\u001b[0m\u001b[0m\n\u001b[1;32m      2\u001b[0m \u001b[0;32mdef\u001b[0m \u001b[0mdisplay_tree\u001b[0m\u001b[0;34m(\u001b[0m\u001b[0mclf\u001b[0m\u001b[0;34m)\u001b[0m\u001b[0;34m:\u001b[0m\u001b[0;34m\u001b[0m\u001b[0;34m\u001b[0m\u001b[0m\n\u001b[0;32m----> 3\u001b[0;31m     \u001b[0max\u001b[0m \u001b[0;34m=\u001b[0m \u001b[0mlgb\u001b[0m\u001b[0;34m.\u001b[0m\u001b[0mplot_tree\u001b[0m\u001b[0;34m(\u001b[0m\u001b[0mclf\u001b[0m\u001b[0;34m,\u001b[0m \u001b[0mtree_index\u001b[0m\u001b[0;34m=\u001b[0m\u001b[0;36m0\u001b[0m\u001b[0;34m,\u001b[0m \u001b[0mfigsize\u001b[0m\u001b[0;34m=\u001b[0m\u001b[0;34m(\u001b[0m\u001b[0;36m10\u001b[0m\u001b[0;34m,\u001b[0m \u001b[0;36m10\u001b[0m\u001b[0;34m)\u001b[0m\u001b[0;34m,\u001b[0m \u001b[0mshow_info\u001b[0m\u001b[0;34m=\u001b[0m\u001b[0;34m[\u001b[0m\u001b[0;34m'split_gain'\u001b[0m\u001b[0;34m]\u001b[0m\u001b[0;34m)\u001b[0m\u001b[0;34m\u001b[0m\u001b[0;34m\u001b[0m\u001b[0m\n\u001b[0m\u001b[1;32m      4\u001b[0m     \u001b[0mplt\u001b[0m\u001b[0;34m.\u001b[0m\u001b[0mshow\u001b[0m\u001b[0;34m(\u001b[0m\u001b[0;34m)\u001b[0m\u001b[0;34m\u001b[0m\u001b[0;34m\u001b[0m\u001b[0m\n\u001b[1;32m      5\u001b[0m     \u001b[0mprint\u001b[0m\u001b[0;34m(\u001b[0m\u001b[0;34m'lightGBM　木の可視化'\u001b[0m\u001b[0;34m)\u001b[0m\u001b[0;34m\u001b[0m\u001b[0;34m\u001b[0m\u001b[0m\n",
            "\u001b[0;32m/usr/local/lib/python3.6/dist-packages/lightgbm/plotting.py\u001b[0m in \u001b[0;36mplot_tree\u001b[0;34m(booster, ax, tree_index, figsize, old_graph_attr, old_node_attr, old_edge_attr, show_info, precision, **kwargs)\u001b[0m\n\u001b[1;32m    445\u001b[0m \u001b[0;34m\u001b[0m\u001b[0m\n\u001b[1;32m    446\u001b[0m     graph = create_tree_digraph(booster=booster, tree_index=tree_index,\n\u001b[0;32m--> 447\u001b[0;31m                                 show_info=show_info, precision=precision, **kwargs)\n\u001b[0m\u001b[1;32m    448\u001b[0m \u001b[0;34m\u001b[0m\u001b[0m\n\u001b[1;32m    449\u001b[0m     \u001b[0ms\u001b[0m \u001b[0;34m=\u001b[0m \u001b[0mBytesIO\u001b[0m\u001b[0;34m(\u001b[0m\u001b[0;34m)\u001b[0m\u001b[0;34m\u001b[0m\u001b[0;34m\u001b[0m\u001b[0m\n",
            "\u001b[0;32m/usr/local/lib/python3.6/dist-packages/lightgbm/plotting.py\u001b[0m in \u001b[0;36mcreate_tree_digraph\u001b[0;34m(booster, tree_index, show_info, precision, old_name, old_comment, old_filename, old_directory, old_format, old_engine, old_encoding, old_graph_attr, old_node_attr, old_edge_attr, old_body, old_strict, **kwargs)\u001b[0m\n\u001b[1;32m    369\u001b[0m             \u001b[0mkwargs\u001b[0m\u001b[0;34m[\u001b[0m\u001b[0;34m'strict'\u001b[0m\u001b[0;34m]\u001b[0m \u001b[0;34m=\u001b[0m \u001b[0;32mTrue\u001b[0m\u001b[0;34m\u001b[0m\u001b[0;34m\u001b[0m\u001b[0m\n\u001b[1;32m    370\u001b[0m \u001b[0;34m\u001b[0m\u001b[0m\n\u001b[0;32m--> 371\u001b[0;31m     \u001b[0mmodel\u001b[0m \u001b[0;34m=\u001b[0m \u001b[0mbooster\u001b[0m\u001b[0;34m.\u001b[0m\u001b[0mdump_model\u001b[0m\u001b[0;34m(\u001b[0m\u001b[0;34m)\u001b[0m\u001b[0;34m\u001b[0m\u001b[0;34m\u001b[0m\u001b[0m\n\u001b[0m\u001b[1;32m    372\u001b[0m     \u001b[0mtree_infos\u001b[0m \u001b[0;34m=\u001b[0m \u001b[0mmodel\u001b[0m\u001b[0;34m[\u001b[0m\u001b[0;34m'tree_info'\u001b[0m\u001b[0;34m]\u001b[0m\u001b[0;34m\u001b[0m\u001b[0;34m\u001b[0m\u001b[0m\n\u001b[1;32m    373\u001b[0m     \u001b[0;32mif\u001b[0m \u001b[0;34m'feature_names'\u001b[0m \u001b[0;32min\u001b[0m \u001b[0mmodel\u001b[0m\u001b[0;34m:\u001b[0m\u001b[0;34m\u001b[0m\u001b[0;34m\u001b[0m\u001b[0m\n",
            "\u001b[0;32m/usr/local/lib/python3.6/dist-packages/lightgbm/basic.py\u001b[0m in \u001b[0;36mdump_model\u001b[0;34m(self, num_iteration, start_iteration)\u001b[0m\n\u001b[1;32m   2151\u001b[0m                 \u001b[0mctypes\u001b[0m\u001b[0;34m.\u001b[0m\u001b[0mbyref\u001b[0m\u001b[0;34m(\u001b[0m\u001b[0mtmp_out_len\u001b[0m\u001b[0;34m)\u001b[0m\u001b[0;34m,\u001b[0m\u001b[0;34m\u001b[0m\u001b[0;34m\u001b[0m\u001b[0m\n\u001b[1;32m   2152\u001b[0m                 ptr_string_buffer))\n\u001b[0;32m-> 2153\u001b[0;31m         \u001b[0mret\u001b[0m \u001b[0;34m=\u001b[0m \u001b[0mjson\u001b[0m\u001b[0;34m.\u001b[0m\u001b[0mloads\u001b[0m\u001b[0;34m(\u001b[0m\u001b[0mstring_buffer\u001b[0m\u001b[0;34m.\u001b[0m\u001b[0mvalue\u001b[0m\u001b[0;34m.\u001b[0m\u001b[0mdecode\u001b[0m\u001b[0;34m(\u001b[0m\u001b[0;34m)\u001b[0m\u001b[0;34m)\u001b[0m\u001b[0;34m\u001b[0m\u001b[0;34m\u001b[0m\u001b[0m\n\u001b[0m\u001b[1;32m   2154\u001b[0m         ret['pandas_categorical'] = json.loads(json.dumps(self.pandas_categorical,\n\u001b[1;32m   2155\u001b[0m                                                           default=json_default_with_numpy))\n",
            "\u001b[0;32m/usr/lib/python3.6/json/__init__.py\u001b[0m in \u001b[0;36mloads\u001b[0;34m(s, encoding, cls, object_hook, parse_float, parse_int, parse_constant, object_pairs_hook, **kw)\u001b[0m\n\u001b[1;32m    352\u001b[0m             \u001b[0mparse_int\u001b[0m \u001b[0;32mis\u001b[0m \u001b[0;32mNone\u001b[0m \u001b[0;32mand\u001b[0m \u001b[0mparse_float\u001b[0m \u001b[0;32mis\u001b[0m \u001b[0;32mNone\u001b[0m \u001b[0;32mand\u001b[0m\u001b[0;34m\u001b[0m\u001b[0;34m\u001b[0m\u001b[0m\n\u001b[1;32m    353\u001b[0m             parse_constant is None and object_pairs_hook is None and not kw):\n\u001b[0;32m--> 354\u001b[0;31m         \u001b[0;32mreturn\u001b[0m \u001b[0m_default_decoder\u001b[0m\u001b[0;34m.\u001b[0m\u001b[0mdecode\u001b[0m\u001b[0;34m(\u001b[0m\u001b[0ms\u001b[0m\u001b[0;34m)\u001b[0m\u001b[0;34m\u001b[0m\u001b[0;34m\u001b[0m\u001b[0m\n\u001b[0m\u001b[1;32m    355\u001b[0m     \u001b[0;32mif\u001b[0m \u001b[0mcls\u001b[0m \u001b[0;32mis\u001b[0m \u001b[0;32mNone\u001b[0m\u001b[0;34m:\u001b[0m\u001b[0;34m\u001b[0m\u001b[0;34m\u001b[0m\u001b[0m\n\u001b[1;32m    356\u001b[0m         \u001b[0mcls\u001b[0m \u001b[0;34m=\u001b[0m \u001b[0mJSONDecoder\u001b[0m\u001b[0;34m\u001b[0m\u001b[0;34m\u001b[0m\u001b[0m\n",
            "\u001b[0;32m/usr/lib/python3.6/json/decoder.py\u001b[0m in \u001b[0;36mdecode\u001b[0;34m(self, s, _w)\u001b[0m\n\u001b[1;32m    337\u001b[0m \u001b[0;34m\u001b[0m\u001b[0m\n\u001b[1;32m    338\u001b[0m         \"\"\"\n\u001b[0;32m--> 339\u001b[0;31m         \u001b[0mobj\u001b[0m\u001b[0;34m,\u001b[0m \u001b[0mend\u001b[0m \u001b[0;34m=\u001b[0m \u001b[0mself\u001b[0m\u001b[0;34m.\u001b[0m\u001b[0mraw_decode\u001b[0m\u001b[0;34m(\u001b[0m\u001b[0ms\u001b[0m\u001b[0;34m,\u001b[0m \u001b[0midx\u001b[0m\u001b[0;34m=\u001b[0m\u001b[0m_w\u001b[0m\u001b[0;34m(\u001b[0m\u001b[0ms\u001b[0m\u001b[0;34m,\u001b[0m \u001b[0;36m0\u001b[0m\u001b[0;34m)\u001b[0m\u001b[0;34m.\u001b[0m\u001b[0mend\u001b[0m\u001b[0;34m(\u001b[0m\u001b[0;34m)\u001b[0m\u001b[0;34m)\u001b[0m\u001b[0;34m\u001b[0m\u001b[0;34m\u001b[0m\u001b[0m\n\u001b[0m\u001b[1;32m    340\u001b[0m         \u001b[0mend\u001b[0m \u001b[0;34m=\u001b[0m \u001b[0m_w\u001b[0m\u001b[0;34m(\u001b[0m\u001b[0ms\u001b[0m\u001b[0;34m,\u001b[0m \u001b[0mend\u001b[0m\u001b[0;34m)\u001b[0m\u001b[0;34m.\u001b[0m\u001b[0mend\u001b[0m\u001b[0;34m(\u001b[0m\u001b[0;34m)\u001b[0m\u001b[0;34m\u001b[0m\u001b[0;34m\u001b[0m\u001b[0m\n\u001b[1;32m    341\u001b[0m         \u001b[0;32mif\u001b[0m \u001b[0mend\u001b[0m \u001b[0;34m!=\u001b[0m \u001b[0mlen\u001b[0m\u001b[0;34m(\u001b[0m\u001b[0ms\u001b[0m\u001b[0;34m)\u001b[0m\u001b[0;34m:\u001b[0m\u001b[0;34m\u001b[0m\u001b[0;34m\u001b[0m\u001b[0m\n",
            "\u001b[0;32m/usr/lib/python3.6/json/decoder.py\u001b[0m in \u001b[0;36mraw_decode\u001b[0;34m(self, s, idx)\u001b[0m\n\u001b[1;32m    353\u001b[0m         \"\"\"\n\u001b[1;32m    354\u001b[0m         \u001b[0;32mtry\u001b[0m\u001b[0;34m:\u001b[0m\u001b[0;34m\u001b[0m\u001b[0;34m\u001b[0m\u001b[0m\n\u001b[0;32m--> 355\u001b[0;31m             \u001b[0mobj\u001b[0m\u001b[0;34m,\u001b[0m \u001b[0mend\u001b[0m \u001b[0;34m=\u001b[0m \u001b[0mself\u001b[0m\u001b[0;34m.\u001b[0m\u001b[0mscan_once\u001b[0m\u001b[0;34m(\u001b[0m\u001b[0ms\u001b[0m\u001b[0;34m,\u001b[0m \u001b[0midx\u001b[0m\u001b[0;34m)\u001b[0m\u001b[0;34m\u001b[0m\u001b[0;34m\u001b[0m\u001b[0m\n\u001b[0m\u001b[1;32m    356\u001b[0m         \u001b[0;32mexcept\u001b[0m \u001b[0mStopIteration\u001b[0m \u001b[0;32mas\u001b[0m \u001b[0merr\u001b[0m\u001b[0;34m:\u001b[0m\u001b[0;34m\u001b[0m\u001b[0;34m\u001b[0m\u001b[0m\n\u001b[1;32m    357\u001b[0m             \u001b[0;32mraise\u001b[0m \u001b[0mJSONDecodeError\u001b[0m\u001b[0;34m(\u001b[0m\u001b[0;34m\"Expecting value\"\u001b[0m\u001b[0;34m,\u001b[0m \u001b[0ms\u001b[0m\u001b[0;34m,\u001b[0m \u001b[0merr\u001b[0m\u001b[0;34m.\u001b[0m\u001b[0mvalue\u001b[0m\u001b[0;34m)\u001b[0m \u001b[0;32mfrom\u001b[0m \u001b[0;32mNone\u001b[0m\u001b[0;34m\u001b[0m\u001b[0;34m\u001b[0m\u001b[0m\n",
            "\u001b[0;31mJSONDecodeError\u001b[0m: Expecting ',' delimiter: line 9 column 3178 (char 3343)"
          ]
        },
        {
          "output_type": "display_data",
          "data": {
            "image/png": "[encoded data removed]",
            "text/plain": [
              "<Figure size 720x720 with 1 Axes>"
            ]
          },
          "metadata": {
            "tags": [],
            "needs_background": "light"
          }
        }
      ]
    },
    {
      "cell_type": "code",
      "metadata": {
        "colab": {
          "base_uri": "https://localhost:8080/"
        },
        "id": "jJj7KtB61Lpt",
        "outputId": "fa1fcced-819f-4c6e-ae49-f4508bf087e3"
      },
      "source": [
        "#カラムに,が入るとエラーが出る\r\n",
        "train[train.columns[3178]]"
      ],
      "execution_count": 119,
      "outputs": [
        {
          "output_type": "execute_result",
          "data": {
            "text/plain": [
              "0      0\n",
              "1      0\n",
              "2      0\n",
              "3      0\n",
              "4      0\n",
              "      ..\n",
              "657    0\n",
              "658    0\n",
              "659    0\n",
              "660    0\n",
              "661    0\n",
              "Name: ジョン・パーソン, Length: 662, dtype: int64"
            ]
          },
          "metadata": {
            "tags": []
          },
          "execution_count": 119
        }
      ]
    },
    {
      "cell_type": "markdown",
      "metadata": {
        "id": "3pTBc5Z2xHFR"
      },
      "source": [
        "#追加データとして使えそう？？ \r\n",
        "\r\n",
        "https://gem-standard.com/news_releases/244"
      ]
    },
    {
      "cell_type": "code",
      "metadata": {
        "id": "S2E5bQQkAJqU"
      },
      "source": [
        ""
      ],
      "execution_count": null,
      "outputs": []
    }
  ]
}