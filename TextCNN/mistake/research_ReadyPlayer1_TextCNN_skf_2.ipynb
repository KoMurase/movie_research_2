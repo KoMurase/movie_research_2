{
  "nbformat": 4,
  "nbformat_minor": 0,
  "metadata": {
    "colab": {
      "name": "research_ReadyPlayer1_TextCNN_skf_2.ipynb",
      "provenance": [],
      "collapsed_sections": [],
      "include_colab_link": true
    },
    "kernelspec": {
      "name": "python3",
      "display_name": "Python 3"
    },
    "accelerator": "GPU"
  },
  "cells": [
    {
      "cell_type": "markdown",
      "metadata": {
        "id": "view-in-github",
        "colab_type": "text"
      },
      "source": [
        "<a href=\"https://colab.research.google.com/github/KoMurase/movie_research_2/blob/master/research_ReadyPlayer1_TextCNN_skf_2.ipynb\" target=\"_parent\"><img src=\"https://colab.research.google.com/assets/colab-badge.svg\" alt=\"Open In Colab\"/></a>"
      ]
    },
    {
      "cell_type": "code",
      "metadata": {
        "id": "zPFCW2dg2YNZ",
        "outputId": "e7a7c75b-46a5-47cb-e1f1-0baf532ef122",
        "colab": {
          "base_uri": "https://localhost:8080/",
          "height": 55
        }
      },
      "source": [
        "from google.colab import drive\n",
        "drive.mount('/content/drive')"
      ],
      "execution_count": 1,
      "outputs": [
        {
          "output_type": "stream",
          "text": [
            "Drive already mounted at /content/drive; to attempt to forcibly remount, call drive.mount(\"/content/drive\", force_remount=True).\n"
          ],
          "name": "stdout"
        }
      ]
    },
    {
      "cell_type": "code",
      "metadata": {
        "id": "tJJc1x61Ault",
        "outputId": "5764c938-eb5f-4c04-f963-f3322f111431",
        "colab": {
          "base_uri": "https://localhost:8080/",
          "height": 676
        }
      },
      "source": [
        "!pip install japanize-matplotlib\n",
        "!apt-get -q -y install swig \n",
        "!apt-get install mecab\n",
        "!apt-get install libmecab-dev\n",
        "!apt-get install mecab-ipadic-utf8\n",
        "!pip install mecab-python3\n",
        "!pip install unidic-lite\n",
        "#日本語フォントのインストール　（wordcloudなどで可視化するため）\n",
        "!apt-get -y install fonts-ipafont-gothic\n",
        "\n",
        "!pip install neologdn \n",
        "#半角を全角に変換\n",
        "!pip install mojimoji"
      ],
      "execution_count": 2,
      "outputs": [
        {
          "output_type": "stream",
          "text": [
            "Requirement already satisfied: japanize-matplotlib in /usr/local/lib/python3.6/dist-packages (1.1.2)\n",
            "Requirement already satisfied: matplotlib in /usr/local/lib/python3.6/dist-packages (from japanize-matplotlib) (3.2.2)\n",
            "Requirement already satisfied: cycler>=0.10 in /usr/local/lib/python3.6/dist-packages (from matplotlib->japanize-matplotlib) (0.10.0)\n",
            "Requirement already satisfied: numpy>=1.11 in /usr/local/lib/python3.6/dist-packages (from matplotlib->japanize-matplotlib) (1.18.5)\n",
            "Requirement already satisfied: pyparsing!=2.0.4,!=2.1.2,!=2.1.6,>=2.0.1 in /usr/local/lib/python3.6/dist-packages (from matplotlib->japanize-matplotlib) (2.4.7)\n",
            "Requirement already satisfied: kiwisolver>=1.0.1 in /usr/local/lib/python3.6/dist-packages (from matplotlib->japanize-matplotlib) (1.2.0)\n",
            "Requirement already satisfied: python-dateutil>=2.1 in /usr/local/lib/python3.6/dist-packages (from matplotlib->japanize-matplotlib) (2.8.1)\n",
            "Requirement already satisfied: six in /usr/local/lib/python3.6/dist-packages (from cycler>=0.10->matplotlib->japanize-matplotlib) (1.15.0)\n",
            "Reading package lists...\n",
            "Building dependency tree...\n",
            "Reading state information...\n",
            "swig is already the newest version (3.0.12-1).\n",
            "0 upgraded, 0 newly installed, 0 to remove and 22 not upgraded.\n",
            "Reading package lists... Done\n",
            "Building dependency tree       \n",
            "Reading state information... Done\n",
            "mecab is already the newest version (0.996-5).\n",
            "0 upgraded, 0 newly installed, 0 to remove and 22 not upgraded.\n",
            "Reading package lists... Done\n",
            "Building dependency tree       \n",
            "Reading state information... Done\n",
            "libmecab-dev is already the newest version (0.996-5).\n",
            "0 upgraded, 0 newly installed, 0 to remove and 22 not upgraded.\n",
            "Reading package lists... Done\n",
            "Building dependency tree       \n",
            "Reading state information... Done\n",
            "mecab-ipadic-utf8 is already the newest version (2.7.0-20070801+main-1).\n",
            "0 upgraded, 0 newly installed, 0 to remove and 22 not upgraded.\n",
            "Requirement already satisfied: mecab-python3 in /usr/local/lib/python3.6/dist-packages (1.0.1)\n",
            "Requirement already satisfied: unidic-lite in /usr/local/lib/python3.6/dist-packages (1.0.7)\n",
            "Reading package lists... Done\n",
            "Building dependency tree       \n",
            "Reading state information... Done\n",
            "fonts-ipafont-gothic is already the newest version (00303-18ubuntu1).\n",
            "0 upgraded, 0 newly installed, 0 to remove and 22 not upgraded.\n",
            "Requirement already satisfied: neologdn in /usr/local/lib/python3.6/dist-packages (0.4)\n",
            "Requirement already satisfied: mojimoji in /usr/local/lib/python3.6/dist-packages (0.0.11)\n"
          ],
          "name": "stdout"
        }
      ]
    },
    {
      "cell_type": "code",
      "metadata": {
        "id": "sJFwBqH6xV4t"
      },
      "source": [
        "!export CUDA_LAUNCH_BLOCKING=1"
      ],
      "execution_count": 3,
      "outputs": []
    },
    {
      "cell_type": "code",
      "metadata": {
        "id": "V9D4zQ1v4mT5",
        "outputId": "222ce6d3-c367-49f3-ac52-0b0c48deeeac",
        "colab": {
          "base_uri": "https://localhost:8080/",
          "height": 35
        }
      },
      "source": [
        "import numpy as np\n",
        "from sklearn.utils import shuffle\n",
        "\n",
        "import torch\n",
        "import torch.nn as nn\n",
        "import torch.nn.init as init\n",
        "import torch.optim as optim\n",
        "import torch.nn.functional as F\n",
        "\n",
        "device = torch.device(\"cuda\" if torch.cuda.is_available() else \"cpu\")\n",
        "print(device)\n",
        "torch.manual_seed(1)\n",
        "random_state = 42\n",
        "\n",
        "import gc \n",
        "from tqdm import tqdm\n",
        "\n",
        "from sklearn.model_selection import StratifiedKFold\n",
        "\n",
        "\n",
        "#評価\n",
        "from sklearn.metrics import accuracy_score, precision_score, recall_score, f1_score\n",
        "#混同行列\n",
        "from sklearn.metrics import confusion_matrix \n",
        "\n",
        "import pandas as pd \n",
        "import matplotlib.pyplot as plt \n",
        "%matplotlib inline  \n",
        "\n",
        "import seaborn as sns\n",
        "\n",
        "from torch.autograd import Variable"
      ],
      "execution_count": 4,
      "outputs": [
        {
          "output_type": "stream",
          "text": [
            "cuda\n"
          ],
          "name": "stdout"
        }
      ]
    },
    {
      "cell_type": "code",
      "metadata": {
        "id": "FHyY5wI1FflX"
      },
      "source": [
        "MODEL_NAME = 'TextCNN'\n",
        "MODELS_DIR = '/content/drive/My Drive/movie_research/models/'"
      ],
      "execution_count": 5,
      "outputs": []
    },
    {
      "cell_type": "code",
      "metadata": {
        "id": "dKdbxv7zA9Hh"
      },
      "source": [
        "path = \"/content/drive/My Drive/movie_research/review_csv/SF_data.csv\"\n",
        "#data = pd.read_csv(path) \n",
        "\n",
        "#df = data[data[\"title\"] == \"レディ・プレイヤー1|Ready Player One\"]\n",
        "#del data\n",
        "#gc.collect()\n",
        "#print('{}件のデータを扱う'.format(len(df)))"
      ],
      "execution_count": 6,
      "outputs": []
    },
    {
      "cell_type": "code",
      "metadata": {
        "id": "eVHj_Gb0BGzk"
      },
      "source": [
        "#数値カラムに変換する\n",
        "def prepro(df, col):\n",
        "  df = df.copy() \n",
        "  df[col] = df[col].replace('-','-1') #回答してない人を0埋め\n",
        "  df[col] = df[col].astype(float)\n",
        "\n",
        "  return df"
      ],
      "execution_count": 7,
      "outputs": []
    },
    {
      "cell_type": "code",
      "metadata": {
        "id": "hAOqc2vICVTl"
      },
      "source": [
        "import neologdn \n",
        "import string \n",
        "import mojimoji \n",
        "import re \n",
        "\n",
        "def text_preprocess(text):\n",
        "\n",
        "  text = neologdn.normalize(text)\n",
        "  #URLを除去する\n",
        "  text = re.sub(\n",
        "      r'(http|https)://([-\\w]+\\.)+[-\\w]+(/[-\\w./?%&=]*)?', \n",
        "      \"\",\n",
        "      text)\n",
        "  #全角から半角に\n",
        "  text = mojimoji.zen_to_han(text) \n",
        "\n",
        "  #3D,2Dを残したい\n",
        "  text = text.replace('3D','三次元')\n",
        "  text = text.replace('2D','二次元')\n",
        "\n",
        "  #数字をすべて0に置換 \n",
        "  text = re.sub(r'\\d+', '0', text)\n",
        "\n",
        "  #string.punctuationの除去\n",
        "  table = str.maketrans('', '', string.punctuation)\n",
        "  text = text.translate(table) \n",
        "\n",
        "  text = text.replace(\"｡\",'')\n",
        "  text = text.replace(\"。\",'')\n",
        "  text = text.replace(\"，\",'')\n",
        "  text = text.replace(\",\",'')\n",
        "  text = text.replace(\"、\",'')\n",
        "  text = text.replace(\"､\",'')\n",
        "  text = text.replace(\"…\",'')\n",
        "  text = text.replace(\"･\",'')\n",
        "  \n",
        "\n",
        "  # 【】の除去\n",
        "  text = re.sub(r'[【】]', '', text)\n",
        "  # （）の除去\n",
        "  text = re.sub(r'[（）()]', '', text)\n",
        "  # ［］の除去\n",
        "  text = re.sub(r'[［］\\[\\]]', '', text)\n",
        "  #アルファベットをの大文字を小文字に変換\n",
        "  text = text.lower()\n",
        "\n",
        "  #改行コードの除去\n",
        "  text = text.replace('\\n', '')\n",
        "  text = text.replace('\\r\\n','')\n",
        "  \n",
        "  #空白を除去\n",
        "  #全角スペース\n",
        "  text = text.replace('\\u3000','')\n",
        "  #タブキー\n",
        "  text = text.replace('\\t','')\n",
        "  #半角\n",
        "  #text = re.sub(r' ','', text) →英字幕などの指摘もあるため後で行う\n",
        "  \n",
        "  return text "
      ],
      "execution_count": 8,
      "outputs": []
    },
    {
      "cell_type": "code",
      "metadata": {
        "id": "TMZmlYpoCW_X",
        "outputId": "4074bd70-596f-4bf2-ff89-53c21778f388",
        "colab": {
          "base_uri": "https://localhost:8080/",
          "height": 141
        }
      },
      "source": [
        "!pip install emoji \n",
        "!pip install nagisa \n",
        "#!pip install unicodedata \n",
        "\n",
        "import emoji\n",
        "import nagisa\n",
        "\n",
        "def delete_emoji(text):\n",
        "  target_list = [w for w in text if w in emoji.UNICODE_EMOJI]\n",
        "  for trg in target_list:\n",
        "    text = text.replace(trg, \"\")\n",
        "  return text "
      ],
      "execution_count": 9,
      "outputs": [
        {
          "output_type": "stream",
          "text": [
            "Requirement already satisfied: emoji in /usr/local/lib/python3.6/dist-packages (0.6.0)\n",
            "Requirement already satisfied: nagisa in /usr/local/lib/python3.6/dist-packages (0.2.7)\n",
            "Requirement already satisfied: six in /usr/local/lib/python3.6/dist-packages (from nagisa) (1.15.0)\n",
            "Requirement already satisfied: DyNet in /usr/local/lib/python3.6/dist-packages (from nagisa) (2.1)\n",
            "Requirement already satisfied: numpy in /usr/local/lib/python3.6/dist-packages (from nagisa) (1.18.5)\n",
            "Requirement already satisfied: cython in /usr/local/lib/python3.6/dist-packages (from DyNet->nagisa) (0.29.21)\n"
          ],
          "name": "stdout"
        }
      ]
    },
    {
      "cell_type": "code",
      "metadata": {
        "id": "7T2sFujaCfNq"
      },
      "source": [
        "import MeCab\n",
        "def mecab_dokuritugo(text):\n",
        "  tagger = MeCab.Tagger() \n",
        "  tagger.parse('')\n",
        "  node = tagger.parseToNode(text) \n",
        "  word_list = [] \n",
        "  while node: \n",
        "    pos = node.feature.split(\",\")[0] ### 単語の品詞を抽出\n",
        "    if pos in [\"動詞\",\"形容詞\"]:\n",
        "      ### 動詞,形容詞の原型を抽出 \n",
        "      ### [6]は原型がカタカナになって返ってくる\n",
        "      word = node.feature.split(\",\")[7]  \n",
        "      word_list.append(word) \n",
        "\n",
        "    elif pos in [\"名詞\"]: ### 名詞はそのまま\n",
        "      word = node.surface \n",
        "      word_list.append(word)\n",
        "    node = node.next\n",
        "  return \" \".join(word_list)"
      ],
      "execution_count": 10,
      "outputs": []
    },
    {
      "cell_type": "code",
      "metadata": {
        "id": "fZhwhTcp-_gV"
      },
      "source": [
        "class TextCNN(nn.Module):\n",
        "\n",
        "  def __init__(self, vocab_size, embedding_size, class_num, kernel_num, kernel_sizes, dropout, static):\n",
        "    \"\"\"\n",
        "     :param vocab_size: int, 入力言語の語彙数\n",
        "     :param embedding_size: int, 埋め込みベクトルの次元数\n",
        "     :param class_num: int, 出力のクラス数\n",
        "     :param kernel_num: int,　畳み込み層の出力チャネル数\n",
        "     :param kernel_sizes: list of int, カーネルのウィンドウサイズ\n",
        "     :param dropout: float, ドロップアウト率\n",
        "     :param static: bool, 埋め込みを固定するか否かのフラグ\n",
        "    \n",
        "    \"\"\"\n",
        "    super(TextCNN, self).__init__()\n",
        "    self.static = static \n",
        "    self.embedding = nn.Embedding(vocab_size, embedding_size)\n",
        "    # nn.ModuleList: 任意の数のModuleをlistのような形で保持することができるクラス\n",
        "    self.convs = nn.ModuleList(\n",
        "        [nn.Conv1d(1, kernel_num, (kernel_size, embedding_size)) for kernel_size in kernel_sizes]\n",
        "    )\n",
        "    self.dropout = nn.Dropout(dropout) \n",
        "    self.out = nn.Linear(len(kernel_sizes)*kernel_num, class_num)\n",
        "\n",
        "  def forward(self, x):\n",
        "    # x: (batch_size, max_length) \n",
        "    x = self.embedding(x) #(batch_size, max_length, embedding_size)\n",
        "\n",
        "    if self.static:\n",
        "      x = torch.tensor(x) #埋め込みを固定\n",
        "\n",
        "    # (batch_size, 1, max_length, embedding_size)\n",
        "    x = x.unsqueeze(1) \n",
        "    # [(batch_size, kernel_num, max_length-kernel_size+1), ...]*len(kernel_sizes)\n",
        "    x = [F.relu(conv(x)).squeeze(3) for conv in self.convs] \n",
        "    # [(batch_size, kernel_num), ...]*len(kernel_sizes)\n",
        "    x = [F.max_pool1d(i, i.size(2)).squeeze(2) for i in x]  \n",
        "    # [(batch_size, len(kernel_sizes)*kernel_num)]\n",
        "    x = torch.cat(x, 1)\n",
        "    x = self.dropout(x) \n",
        "\n",
        "    logit = self.out(x) \n",
        "    return logit "
      ],
      "execution_count": 11,
      "outputs": []
    },
    {
      "cell_type": "code",
      "metadata": {
        "id": "5pZmqpL3t-hR"
      },
      "source": [
        "def sentence_to_ids(vocab, sen):\n",
        "  \"\"\"\n",
        "  単語のリストをIDのリストに変換する関数\n",
        "  :param vocab: class Vocab object\n",
        "  :param sen : list of str, 文を分かち書きして得られた単語のリスト\n",
        "  \"\"\"\n",
        "  UNK = 1\n",
        "\n",
        "  #辞書にない言葉にUNKを割り当てる\n",
        "  out = [vocab.word2id.get(word, UNK) for word in sen ]\n",
        "  return out \n"
      ],
      "execution_count": 12,
      "outputs": []
    },
    {
      "cell_type": "code",
      "metadata": {
        "id": "oY_4SHvHKhdt"
      },
      "source": [
        "class Vocab(object):\n",
        "  def __init__(self, word2id={}):\n",
        "    self.word2id = dict(word2id)\n",
        "    self.id2word = {v: k for k, v in self.word2id.items()}\n",
        "  \n",
        "  def build_vocab(self, sentences, min_count=1):\n",
        "    \"\"\"\n",
        "    コーパスから語彙の辞書を構築するメソッド\n",
        "\n",
        "    :param sentences: list of list of str, コーパス\n",
        "    :param min_count: int, 辞書に含める単語の最小出現回数\n",
        "    \"\"\"\n",
        "    word_counter = {}\n",
        "    for sentence in sentences:\n",
        "      for word in sentence:\n",
        "        # dict.get(key, 0)はdictにdict[key],なければ0を返す\n",
        "        word_counter[word] = word_counter.get(word, 0) + 1\n",
        "    \n",
        "    #min_count回以上出現する単語を加える\n",
        "    for word, count in sorted(word_counter.items(), key=lambda x: -x[1]):\n",
        "      if count < min_count : \n",
        "        break \n",
        "      _id = len(self.word2id)\n",
        "      self.word2id.setdefault(word, _id)\n",
        "      self.id2word[_id] = word "
      ],
      "execution_count": 13,
      "outputs": []
    },
    {
      "cell_type": "code",
      "metadata": {
        "id": "5ddEB2LOr-hf"
      },
      "source": [
        "def make_dataset(df):\n",
        "  # 特殊なトークンは事前に定義しておく\n",
        "  PAD = 0\n",
        "  UNK = 1\n",
        "  PAD_TOKEN = '<PAD>'\n",
        "  UNK_TOKEN = '<UNK>'\n",
        "\n",
        "  MIN_COUNT = 1  # 語彙に含める単語の最低出現回数\n",
        "\n",
        "  # 単語をIDに変換する辞書の初期値を設定\n",
        "  word2id = {\n",
        "      PAD_TOKEN: PAD,\n",
        "      UNK_TOKEN: UNK,\n",
        "      }\n",
        "  vocab = Vocab(word2id=word2id)\n",
        "  vocab.build_vocab(df.values.tolist(), min_count=MIN_COUNT)\n",
        "\n",
        "  print(\"語彙数:\", len(vocab.word2id))\n",
        "  \n",
        "  return vocab"
      ],
      "execution_count": 14,
      "outputs": []
    },
    {
      "cell_type": "code",
      "metadata": {
        "id": "2MDagsMA8bZ9"
      },
      "source": [
        "def train_function(dataloader, model, criterion, optimizer, scheduler, DEVICE, epoch):\n",
        "  model.train() \n",
        "  total_loss = 0 \n",
        "  total_corrects = 0\n",
        "  all_labels = []\n",
        "  all_preds = []\n",
        "\n",
        "  #progress = tqdm(dataloader, total=len(dataloader))\n",
        "\n",
        "  for i, batch in enumerate(dataloader):\n",
        "    #progress.set_description(f\"<Train> Epoch{epoch+1}\")\n",
        "    batch_X, batch_Y = batch \n",
        "    del batch\n",
        "    batch_X, batch_Y = Variable(batch_X), Variable(batch_Y),\n",
        "    optimizer.zero_grad() \n",
        "\n",
        "    outputs = model(batch_X).float()\n",
        "    del batch_X \n",
        "    loss = criterion(outputs, batch_Y)\n",
        "    loss.backward()\n",
        "    optimizer.step() \n",
        "    scheduler.step() \n",
        "    preds = torch.max(outputs, 1)[1].view(batch_Y.size())\n",
        "    del outputs \n",
        "\n",
        "    total_loss += loss.item() \n",
        "    del loss \n",
        "    total_corrects += torch.sum(preds == batch_Y)\n",
        "\n",
        "    all_labels += batch_Y.tolist() \n",
        "    all_preds += preds.tolist() \n",
        "    del batch_Y, preds \n",
        "\n",
        "    #progress.set_postfix(loss=total_loss/(i+1), f1=f1_score(all_labels, all_preds, average=\"macro\"))\n",
        "\n",
        "    gc.collect()\n",
        "  train_loss = total_loss / len(dataloader)\n",
        "  #train_acc = total_corrects.double().cpu().detach().numpy() / len(dataloader.dataset)\n",
        "  train_f1 = f1_score(all_labels, all_preds, average=\"macro\")\n",
        "  accuracy = accuracy_score(all_labels, all_preds)\n",
        "  #tp / (tp+fn)\n",
        "  #recall = recall_score(all_labels, all_preds)\n",
        "  #tp / (tp+fp)\n",
        "  #precision = precision_score(all_labels, all_preds)\n",
        "  #F1=2*(precision*recall)/(precision + recall)\n",
        "  #f1_score = f1_scorey(y_true, y_pred)\n",
        "  gc.collect()\n",
        "  return train_loss, accuracy, train_f1"
      ],
      "execution_count": 15,
      "outputs": []
    },
    {
      "cell_type": "code",
      "metadata": {
        "id": "27AO5FOf8bQa"
      },
      "source": [
        "def evalu_function(dataloader, model, criterion, device, epoch):\n",
        "  model.eval() \n",
        "  total_loss = 0\n",
        "  total_corrects = 0 \n",
        "  all_labels = []\n",
        "  all_preds = []\n",
        "\n",
        "  with torch.no_grad(): \n",
        "    #progress = tqdm(dataloader, total=len(dataloader))\n",
        "\n",
        "    for i, batch in enumerate(dataloader):\n",
        "      #progress.set_description(f\"Valid - Epoch{epoch+1}\")\n",
        "      batch_X, batch_Y = batch \n",
        "      del batch\n",
        "      batch_X, batch_Y = Variable(batch_X), Variable(batch_Y),    \n",
        "      \n",
        "      outputs = model(batch_X).float()\n",
        "      del batch_X \n",
        "      loss = criterion(outputs, batch_Y)\n",
        "      preds = torch.max(outputs, 1)[1].view(batch_Y.size())\n",
        "      del outputs \n",
        "\n",
        "\n",
        "      total_loss += loss.item() \n",
        "      del loss \n",
        "      total_corrects += torch.sum(preds == batch_Y)\n",
        "\n",
        "      all_labels += batch_Y.tolist() \n",
        "      all_preds += preds.tolist() \n",
        "      del batch_Y, preds \n",
        "\n",
        "      #progress.set_postfix(loss=total_loss/(i+1), f1=f1_score(all_labels, all_preds, average=\"macro\"))\n",
        "\n",
        "      gc.collect()\n",
        "\n",
        "    valid_loss = total_loss / len(dataloader)\n",
        "    #train_acc = total_corrects.double().cpu().detach().numpy() / len(dataloader.dataset)\n",
        "    #valid_f1 = f1_score(all_labels, all_preds, average=\"macro\")\n",
        "    accuracy = accuracy_score(all_labels, all_preds)\n",
        "    #tp / (tp+fn)\n",
        "    recall = recall_score(all_labels, all_preds, average='macro')\n",
        "    #tp / (tp+fp)\n",
        "    precision = precision_score(all_labels, all_preds, average='macro')\n",
        "    #valid_f1=2*(precision*recall)/(precision + recall)\n",
        "    valid_f1 = f1_score(all_labels, all_preds, average='macro')\n",
        "    gc.collect()\n",
        "\n",
        "    return valid_loss, accuracy, recall, precision, valid_f1  "
      ],
      "execution_count": 16,
      "outputs": []
    },
    {
      "cell_type": "code",
      "metadata": {
        "id": "mcdJiLbF8FPV"
      },
      "source": [
        "def plot_training(train_losses, train_accs, train_f1s,\n",
        "                  valid_losses, valid_accs, \n",
        "                  valid_recalls,valid_precisions,\n",
        "                  valid_f1s,\n",
        "                  epoch, fold):\n",
        "    \n",
        "    loss_df = pd.DataFrame({\"Train\":train_losses,\n",
        "                            \"Valid\":valid_losses},\n",
        "                        index=range(1, epoch+2))\n",
        "    loss_df.to_csv(f\"/content/drive/My Drive/movie_research/result/loss_plot_fold={fold}.csv\", index=False)\n",
        "    loss_ax = sns.lineplot(data=loss_df).get_figure()\n",
        "    #/content/drive/My Drive/movie_research\n",
        "    loss_ax.savefig(f\"/content/drive/My Drive/movie_research/figures/loss_plot_fold={fold}.png\", dpi=300)\n",
        "    loss_ax.clf()\n",
        "\n",
        "    acc_df = pd.DataFrame({\"Train\":train_accs,\n",
        "                           \"Valid\":valid_accs},\n",
        "                          index=range(1, epoch+2))\n",
        "    acc_df.to_csv(f\"/content/drive/My Drive/movie_research/result/acc_plot_fold={fold}.csv\", index=False)\n",
        "    acc_ax = sns.lineplot(data=acc_df).get_figure()\n",
        "    acc_ax.savefig(f\"/content/drive/My Drive/movie_research/figures/acc_plot_fold={fold}.png\", dpi=300)\n",
        "    acc_ax.clf()\n",
        "\n",
        "    f1_df = pd.DataFrame({\"Train_f1\":train_f1s,\n",
        "                          \"Valid_f1\":valid_f1s,\n",
        "                          \"Valid_precision\":valid_precisions,\n",
        "                          \"Valid_recall\":valid_recalls,\n",
        "                            },\n",
        "                         index=range(1, epoch+2))\n",
        "    f1_df.to_csv(f\"/content/drive/My Drive/movie_research/result/f1_plot_fold={fold}.csv\", index=False)\n",
        "    f1_ax = sns.lineplot(data=f1_df).get_figure()\n",
        "    f1_ax.savefig(f\"/content/drive/My Drive/movie_research/figures/f1_plot_fold={fold}.png\", dpi=300)\n",
        "    f1_ax.clf()"
      ],
      "execution_count": 17,
      "outputs": []
    },
    {
      "cell_type": "code",
      "metadata": {
        "id": "YFI5pRhhLzGh"
      },
      "source": [
        "class DataLoader(object):\n",
        "  def __init__(self, X, Y, batch_size, shuffle=True):\n",
        "    \"\"\"\n",
        "    :param X: list, 入力言語の文章のリスト (単語IDのリスト)\n",
        "    :param Y: list, 出力言語の文章のリスト (単語IDのリスト)\n",
        "    :param batch_size: int, バッチサイズ\n",
        "    :param shuffle: bool, サンプルをシャッフルするかどうか\n",
        "    \"\"\"\n",
        "    self.data = list(zip(X, Y))\n",
        "    self.batch_size = batch_size \n",
        "    self.shuffle = shuffle \n",
        "    self.start_index = 0 \n",
        "    self.reset() \n",
        "\n",
        "  def reset(self):\n",
        "    if self.shuffle:\n",
        "      self.data = shuffle(self.data, random_state=random_state)\n",
        "    self.start_index = 0 \n",
        "\n",
        "  def __iter__(self):\n",
        "    return self \n",
        "  def __len__(self) -> int:\n",
        "    return len(self.data)\n",
        "  def __next__(self):\n",
        "\n",
        "  #ポインタが最後まで到達したら初期化する\n",
        "    if self.start_index >= len(self.data): \n",
        "      self.reset() \n",
        "      raise StopIteration() \n",
        "\n",
        "    #バッチを取得\n",
        "    X, Y = zip(*self.data[self.start_index:self.start_index+self.batch_size])\n",
        "    #短い系列の末尾をパディングする\n",
        "    lengths_X = [len(s) for s in X]\n",
        "    max_length_X = max(lengths_X) \n",
        "    padded_X = [self.pad_seq(s, max_length_X) for s in X] \n",
        "    #tensorに変換\n",
        "    batch_X = torch.tensor(padded_X, dtype=torch.long, device=device)\n",
        "    batch_Y = torch.tensor(Y, dtype=torch.long, device=device)\n",
        "\n",
        "    #ポインタを更新する\n",
        "    self.start_index += self.batch_size \n",
        "\n",
        "    return batch_X, batch_Y \n",
        "  \n",
        "  @staticmethod \n",
        "  def pad_seq(seq, max_length):\n",
        "    \"\"\"\n",
        "    系列の末尾をパディングする \n",
        "    :param seq: list or int, 単語のインデックスのリスト\n",
        "    :param seq: max_length: int, バッチ内の系列の最大長\n",
        "    :return seq: list of int, 単語のインデックスのリスト\n",
        "    \"\"\"\n",
        "    PAD = 0\n",
        "    seq += [PAD for i in range(max_length - len(seq))]\n",
        "    return seq "
      ],
      "execution_count": 18,
      "outputs": []
    },
    {
      "cell_type": "code",
      "metadata": {
        "id": "kC2wwcYD7U6J"
      },
      "source": [
        "def trainer(fold, df, batch_size, lr, EPOCHS, vocab):\n",
        "\n",
        "  train_df = df[df.kfold != fold].reset_index(drop=True)\n",
        "  valid_df = df[df.kfold == fold].reset_index(drop=True)\n",
        "\n",
        "  train_X = train_df[\"tokenize\"]\n",
        "  train_y = train_df[\"score\"]\n",
        "  valid_X = valid_df[\"tokenize\"]\n",
        "  valid_y = valid_df[\"score\"] \n",
        "\n",
        "  #訓練データを使って辞書を作る\n",
        "  #vocab = make_dataset(train_X)\n",
        "\n",
        "  ###データセットの作成\n",
        "  #各データをid化\n",
        "  train_X = [sentence_to_ids(vocab, x) for x in train_X]\n",
        "  valid_X = [sentence_to_ids(vocab, x) for x in valid_X]\n",
        "\n",
        "  train_dataloader = DataLoader(train_X, train_y, batch_size)\n",
        "  valid_dataloader = DataLoader(valid_X, valid_y, batch_size)\n",
        "\n",
        "  model_args = {\n",
        "      'vocab_size': len(vocab.id2word),\n",
        "      'embedding_size': 128,\n",
        "      'class_num': 9,\n",
        "      'kernel_num': 64, \n",
        "      'kernel_sizes': [3,4,5],\n",
        "      'dropout': 0.3, \n",
        "      'static': False,\n",
        "  }\n",
        "  #modelの設定 \n",
        "  model = TextCNN(**model_args)\n",
        "  model = model.to(device)\n",
        "\n",
        "  #if weight != None:\n",
        "  #  criterion = nn.CrossEntropyLoss(weight=weights.to(device))\n",
        "  #else:\n",
        "  #  criterion = nn.CrossEntropyLoss()\n",
        "  #criterion = nn.CrossEntropyLoss()\n",
        "\n",
        "  #weightの計算: scoreの分布にばらつきがあるため\n",
        "  weight = 1 / pd.DataFrame(train_y).reset_index().groupby(\"score\").count().values\n",
        "  weight /= weight.sum()\n",
        "  weights = torch.FloatTensor(weight).to(device)\n",
        "  del weight\n",
        "\n",
        "  criterion = nn.CrossEntropyLoss(weight=weights.to(device))\n",
        "  #AdamWを使ってみる\n",
        "  optimizer = optim.AdamW(model.parameters(), lr=lr)\n",
        "\n",
        "  scheduler = optim.lr_scheduler.StepLR(optimizer, step_size=10000, gamma=1.0)\n",
        "\n",
        "  train_losses = []\n",
        "  train_accs = []\n",
        "  train_f1s = []\n",
        "  valid_losses = []\n",
        "  valid_accs = []\n",
        "  valid_f1s = []\n",
        "  valid_recalls = []\n",
        "  valid_precisions = []\n",
        " \n",
        "  best_loss = np.inf \n",
        "  best_acc = 0 \n",
        "  best_f1 = 0 \n",
        "\n",
        "  for epoch in range(EPOCHS):\n",
        "    train_loss, train_acc, train_f1 = train_function(train_dataloader, model, criterion, optimizer, scheduler, device, epoch)\n",
        "    valid_loss, valid_acc, valid_recall, valid_precision, valid_f1 = evalu_function(valid_dataloader, model, criterion, device, epoch)\n",
        "    print(\"Train:\\n\")\n",
        "    print(f\"Loss: {train_loss}  Acc: {train_acc}  f1: {train_f1}  \")\n",
        "    print(\"Valid:\\n\")\n",
        "    print(f\"Loss: {valid_loss}  Acc: {valid_acc}  f1: {valid_f1}  \")\n",
        "\n",
        "    train_losses.append(train_loss)\n",
        "    train_accs.append(train_acc)\n",
        "    train_f1s.append(train_f1)\n",
        "    valid_losses.append(valid_loss)\n",
        "    valid_accs.append(valid_acc)\n",
        "    valid_recalls.append(valid_recall)\n",
        "    valid_precisions.append(valid_precision)\n",
        "    valid_f1s.append(valid_f1)\n",
        "\n",
        "    plot_training(train_losses, train_accs, train_f1s,\n",
        "                      valid_losses, valid_accs, \n",
        "                      valid_recalls,valid_precisions,\n",
        "                      valid_f1s,\n",
        "                      epoch, fold)\n",
        "\n",
        "    best_loss = valid_loss if valid_loss < best_loss else best_loss\n",
        "    besl_acc = valid_acc if valid_acc > best_acc else best_acc\n",
        "    if valid_f1 > best_f1:\n",
        "      best_f1 = valid_f1\n",
        "      print(\"model saving!\", end=\"\")\n",
        "      torch.save(model.state_dict(), MODELS_DIR + f\"best_{MODEL_NAME}_{fold}.pth\")\n",
        "      print(\"\\n\")\n",
        "\n",
        "    return best_f1\n"
      ],
      "execution_count": 19,
      "outputs": []
    },
    {
      "cell_type": "code",
      "metadata": {
        "id": "eHdvZHR-9yO7"
      },
      "source": [
        "from sklearn.preprocessing import LabelEncoder\n",
        "\n",
        "\n",
        "def create_folds(df, num_splits):\n",
        "    df = df.copy()\n",
        "    #df[\"jobflag\"] = df[\"jobflag\"] - 1\n",
        "    df[\"kfold\"] = -1 \n",
        "\n",
        "    #fracで抽出する行の割合1は100%\n",
        "    df = df.sample(frac=1).reset_index(drop=True)\n",
        "    y = df[\"score\"].values \n",
        "    label_encoder = LabelEncoder()\n",
        "    y = label_encoder.fit_transform(y)\n",
        "    \n",
        "    skf = StratifiedKFold(n_splits=num_splits)\n",
        "\n",
        "    for f, (t_, v_) in enumerate(skf.split(X=df, y=y)):\n",
        "        df.loc[v_,'kfold'] = f ###locより高速\n",
        "    return df"
      ],
      "execution_count": 20,
      "outputs": []
    },
    {
      "cell_type": "code",
      "metadata": {
        "id": "1Xj9fLdy1G44"
      },
      "source": [
        "def pipeline(path):\n",
        "  data = pd.read_csv(path)\n",
        "  #data = data.sample(frac=0.4).reset_index(drop=True)\n",
        "  data = data[data[\"title\"] == \"レディ・プレイヤー1|Ready Player One\"]\n",
        "  #重複の削除\n",
        "  data = data.drop_duplicates(keep='first') \n",
        "\n",
        "  #数値カラムに変換\n",
        "  data = prepro(data, \"score\") \n",
        "\n",
        "  #0.5刻みにしたスコアの作成\n",
        "  data[\"score2\"] = data[\"score\"]*2.0\n",
        "  data[\"score2\"] = data[\"score2\"].round() / 2\n",
        "\n",
        "  #preprocessing to text\n",
        "  data[\"review\"] = data[\"review\"].apply(text_preprocess) \n",
        "  data[\"review\"] = data[\"review\"].apply(delete_emoji)\n",
        "  #df[\"review\"] = df[\"review\"].apply(extra_preprocess)\n",
        "\n",
        "  data[\"length\"] = data[\"review\"].apply(lambda x: len(x))\n",
        "  #ノーコメントの削除\n",
        "  data = data[data[\"length\"]>1]\n",
        "\n",
        "  #独立語のみの抽出\n",
        "  data[\"review_tokenize\"] = data[\"review\"].apply(mecab_dokuritugo)\n",
        "  data[\"length2\"] = data[\"review_tokenize\"].apply(lambda x: len(x))\n",
        "  #前処理した結果空白になった行の削除\n",
        "  #data = data[data[\"length2\"]>1]\n",
        "  gc.collect()\n",
        "  \n",
        "  return data"
      ],
      "execution_count": 21,
      "outputs": []
    },
    {
      "cell_type": "code",
      "metadata": {
        "id": "V-z5FAcN1EZU",
        "outputId": "4a60d893-af30-4ef6-c059-38830ea89d68",
        "colab": {
          "base_uri": "https://localhost:8080/",
          "height": 35
        }
      },
      "source": [
        "df = pipeline(path)"
      ],
      "execution_count": 22,
      "outputs": [
        {
          "output_type": "stream",
          "text": [
            "NumExpr defaulting to 2 threads.\n"
          ],
          "name": "stderr"
        }
      ]
    },
    {
      "cell_type": "code",
      "metadata": {
        "id": "_6HNYJwe_WZ6",
        "outputId": "32346b47-29f0-45bf-8eec-70be87f5a526",
        "colab": {
          "base_uri": "https://localhost:8080/",
          "height": 72
        }
      },
      "source": [
        "NUM_SPLITS = 5\n",
        "\n",
        "test_df = df[df.score == -1]\n",
        "df = df[df.score != -1]\n",
        "df = create_folds(df, NUM_SPLITS)"
      ],
      "execution_count": 23,
      "outputs": [
        {
          "output_type": "stream",
          "text": [
            "/usr/local/lib/python3.6/dist-packages/sklearn/model_selection/_split.py:667: UserWarning: The least populated class in y has only 2 members, which is less than n_splits=5.\n",
            "  % (min_groups, self.n_splits)), UserWarning)\n"
          ],
          "name": "stderr"
        }
      ]
    },
    {
      "cell_type": "code",
      "metadata": {
        "id": "bDRrDuLvJlRq",
        "outputId": "5ca880e4-e09e-4af0-c898-aa412bcb13a4",
        "colab": {
          "base_uri": "https://localhost:8080/",
          "height": 407
        }
      },
      "source": [
        "df = df[[\"review_tokenize\", \"score2\",\"kfold\"]]\n",
        "df = df.rename(columns={\"review_tokenize\":\"tokenize\"})\n",
        "df"
      ],
      "execution_count": 24,
      "outputs": [
        {
          "output_type": "execute_result",
          "data": {
            "text/html": [
              "<div>\n",
              "<style scoped>\n",
              "    .dataframe tbody tr th:only-of-type {\n",
              "        vertical-align: middle;\n",
              "    }\n",
              "\n",
              "    .dataframe tbody tr th {\n",
              "        vertical-align: top;\n",
              "    }\n",
              "\n",
              "    .dataframe thead th {\n",
              "        text-align: right;\n",
              "    }\n",
              "</style>\n",
              "<table border=\"1\" class=\"dataframe\">\n",
              "  <thead>\n",
              "    <tr style=\"text-align: right;\">\n",
              "      <th></th>\n",
              "      <th>tokenize</th>\n",
              "      <th>score2</th>\n",
              "      <th>kfold</th>\n",
              "    </tr>\n",
              "  </thead>\n",
              "  <tbody>\n",
              "    <tr>\n",
              "      <th>0</th>\n",
              "      <td>最高 最高 最高 面白い 素晴らしい 過ぎる 鑑賞 中体 ところ 震える ｹﾞｰﾑｱﾆﾒ 映...</td>\n",
              "      <td>5.0</td>\n",
              "      <td>0</td>\n",
              "    </tr>\n",
              "    <tr>\n",
              "      <th>1</th>\n",
              "      <td>面白い ﾊﾞｰﾁｬﾙ 世界 ｱﾆﾒ 思う ｹﾞｰﾑ 隠す 謎 解明 為る こと 現実 世界 ...</td>\n",
              "      <td>4.0</td>\n",
              "      <td>0</td>\n",
              "    </tr>\n",
              "    <tr>\n",
              "      <th>2</th>\n",
              "      <td>0 dx 鑑賞 ﾚｰｽｼｰﾝ 戦闘 ｼｰﾝ 映像 凄い ﾜｸﾜｸ 為る 見る 映画 尺 足り...</td>\n",
              "      <td>3.5</td>\n",
              "      <td>0</td>\n",
              "    </tr>\n",
              "    <tr>\n",
              "      <th>3</th>\n",
              "      <td>引き込む 没頭 為る 居る 映画 最初 期待 低い 続き 気 成る 冒険 もの</td>\n",
              "      <td>3.5</td>\n",
              "      <td>0</td>\n",
              "    </tr>\n",
              "    <tr>\n",
              "      <th>4</th>\n",
              "      <td>作中 言う ところ ﾎﾟｯﾌﾟｶﾙﾁｬｰ 興味 無い 人 少々 退屈 存在 知る 詳しい 無...</td>\n",
              "      <td>3.5</td>\n",
              "      <td>0</td>\n",
              "    </tr>\n",
              "    <tr>\n",
              "      <th>...</th>\n",
              "      <td>...</td>\n",
              "      <td>...</td>\n",
              "      <td>...</td>\n",
              "    </tr>\n",
              "    <tr>\n",
              "      <th>17816</th>\n",
              "      <td>品川 野外 ｼﾈﾏ 鑑賞 為る 迫力 ｼｰﾝ 多い 飽きる 見る こと 出来る ｹﾞｰﾑ ｱ...</td>\n",
              "      <td>4.0</td>\n",
              "      <td>4</td>\n",
              "    </tr>\n",
              "    <tr>\n",
              "      <th>17817</th>\n",
              "      <td>金曜 ﾛｰﾄﾞ 鑑賞 ｽﾋﾟﾙﾊﾞｰｸﾞ 世界 引き込む 仕舞う ﾗｽﾄｼｰﾝ ﾁｬﾝﾈﾙ ...</td>\n",
              "      <td>4.0</td>\n",
              "      <td>4</td>\n",
              "    </tr>\n",
              "    <tr>\n",
              "      <th>17818</th>\n",
              "      <td>付き合い 見る 世界 付く 行く ﾃｰﾏ 分かる</td>\n",
              "      <td>2.5</td>\n",
              "      <td>4</td>\n",
              "    </tr>\n",
              "    <tr>\n",
              "      <th>17819</th>\n",
              "      <td>最高 ﾃﾝﾎﾟ 感 良い 0 分 長い 感ずる 映画 見る 良い 後悔 為る</td>\n",
              "      <td>4.0</td>\n",
              "      <td>4</td>\n",
              "    </tr>\n",
              "    <tr>\n",
              "      <th>17820</th>\n",
              "      <td>ﾊﾟﾛﾃﾞｨ 元 ﾈﾀ 有る なか ｼｬｲﾆﾝｸﾞ 必修 苦言 呈する 主人 含める ﾒﾝﾊ...</td>\n",
              "      <td>4.5</td>\n",
              "      <td>4</td>\n",
              "    </tr>\n",
              "  </tbody>\n",
              "</table>\n",
              "<p>17821 rows × 3 columns</p>\n",
              "</div>"
            ],
            "text/plain": [
              "                                                tokenize  score2  kfold\n",
              "0      最高 最高 最高 面白い 素晴らしい 過ぎる 鑑賞 中体 ところ 震える ｹﾞｰﾑｱﾆﾒ 映...     5.0      0\n",
              "1      面白い ﾊﾞｰﾁｬﾙ 世界 ｱﾆﾒ 思う ｹﾞｰﾑ 隠す 謎 解明 為る こと 現実 世界 ...     4.0      0\n",
              "2      0 dx 鑑賞 ﾚｰｽｼｰﾝ 戦闘 ｼｰﾝ 映像 凄い ﾜｸﾜｸ 為る 見る 映画 尺 足り...     3.5      0\n",
              "3                引き込む 没頭 為る 居る 映画 最初 期待 低い 続き 気 成る 冒険 もの     3.5      0\n",
              "4      作中 言う ところ ﾎﾟｯﾌﾟｶﾙﾁｬｰ 興味 無い 人 少々 退屈 存在 知る 詳しい 無...     3.5      0\n",
              "...                                                  ...     ...    ...\n",
              "17816  品川 野外 ｼﾈﾏ 鑑賞 為る 迫力 ｼｰﾝ 多い 飽きる 見る こと 出来る ｹﾞｰﾑ ｱ...     4.0      4\n",
              "17817  金曜 ﾛｰﾄﾞ 鑑賞 ｽﾋﾟﾙﾊﾞｰｸﾞ 世界 引き込む 仕舞う ﾗｽﾄｼｰﾝ ﾁｬﾝﾈﾙ ...     4.0      4\n",
              "17818                           付き合い 見る 世界 付く 行く ﾃｰﾏ 分かる     2.5      4\n",
              "17819             最高 ﾃﾝﾎﾟ 感 良い 0 分 長い 感ずる 映画 見る 良い 後悔 為る     4.0      4\n",
              "17820  ﾊﾟﾛﾃﾞｨ 元 ﾈﾀ 有る なか ｼｬｲﾆﾝｸﾞ 必修 苦言 呈する 主人 含める ﾒﾝﾊ...     4.5      4\n",
              "\n",
              "[17821 rows x 3 columns]"
            ]
          },
          "metadata": {
            "tags": []
          },
          "execution_count": 24
        }
      ]
    },
    {
      "cell_type": "code",
      "metadata": {
        "id": "GIw7tCLR-mgq",
        "outputId": "e9eca0ed-0cdf-4583-c2c0-def5d3f333d2",
        "colab": {
          "base_uri": "https://localhost:8080/",
          "height": 407
        }
      },
      "source": [
        "df = df.rename(columns={\"score2\":\"score\"})\n",
        "df"
      ],
      "execution_count": 25,
      "outputs": [
        {
          "output_type": "execute_result",
          "data": {
            "text/html": [
              "<div>\n",
              "<style scoped>\n",
              "    .dataframe tbody tr th:only-of-type {\n",
              "        vertical-align: middle;\n",
              "    }\n",
              "\n",
              "    .dataframe tbody tr th {\n",
              "        vertical-align: top;\n",
              "    }\n",
              "\n",
              "    .dataframe thead th {\n",
              "        text-align: right;\n",
              "    }\n",
              "</style>\n",
              "<table border=\"1\" class=\"dataframe\">\n",
              "  <thead>\n",
              "    <tr style=\"text-align: right;\">\n",
              "      <th></th>\n",
              "      <th>tokenize</th>\n",
              "      <th>score</th>\n",
              "      <th>kfold</th>\n",
              "    </tr>\n",
              "  </thead>\n",
              "  <tbody>\n",
              "    <tr>\n",
              "      <th>0</th>\n",
              "      <td>最高 最高 最高 面白い 素晴らしい 過ぎる 鑑賞 中体 ところ 震える ｹﾞｰﾑｱﾆﾒ 映...</td>\n",
              "      <td>5.0</td>\n",
              "      <td>0</td>\n",
              "    </tr>\n",
              "    <tr>\n",
              "      <th>1</th>\n",
              "      <td>面白い ﾊﾞｰﾁｬﾙ 世界 ｱﾆﾒ 思う ｹﾞｰﾑ 隠す 謎 解明 為る こと 現実 世界 ...</td>\n",
              "      <td>4.0</td>\n",
              "      <td>0</td>\n",
              "    </tr>\n",
              "    <tr>\n",
              "      <th>2</th>\n",
              "      <td>0 dx 鑑賞 ﾚｰｽｼｰﾝ 戦闘 ｼｰﾝ 映像 凄い ﾜｸﾜｸ 為る 見る 映画 尺 足り...</td>\n",
              "      <td>3.5</td>\n",
              "      <td>0</td>\n",
              "    </tr>\n",
              "    <tr>\n",
              "      <th>3</th>\n",
              "      <td>引き込む 没頭 為る 居る 映画 最初 期待 低い 続き 気 成る 冒険 もの</td>\n",
              "      <td>3.5</td>\n",
              "      <td>0</td>\n",
              "    </tr>\n",
              "    <tr>\n",
              "      <th>4</th>\n",
              "      <td>作中 言う ところ ﾎﾟｯﾌﾟｶﾙﾁｬｰ 興味 無い 人 少々 退屈 存在 知る 詳しい 無...</td>\n",
              "      <td>3.5</td>\n",
              "      <td>0</td>\n",
              "    </tr>\n",
              "    <tr>\n",
              "      <th>...</th>\n",
              "      <td>...</td>\n",
              "      <td>...</td>\n",
              "      <td>...</td>\n",
              "    </tr>\n",
              "    <tr>\n",
              "      <th>17816</th>\n",
              "      <td>品川 野外 ｼﾈﾏ 鑑賞 為る 迫力 ｼｰﾝ 多い 飽きる 見る こと 出来る ｹﾞｰﾑ ｱ...</td>\n",
              "      <td>4.0</td>\n",
              "      <td>4</td>\n",
              "    </tr>\n",
              "    <tr>\n",
              "      <th>17817</th>\n",
              "      <td>金曜 ﾛｰﾄﾞ 鑑賞 ｽﾋﾟﾙﾊﾞｰｸﾞ 世界 引き込む 仕舞う ﾗｽﾄｼｰﾝ ﾁｬﾝﾈﾙ ...</td>\n",
              "      <td>4.0</td>\n",
              "      <td>4</td>\n",
              "    </tr>\n",
              "    <tr>\n",
              "      <th>17818</th>\n",
              "      <td>付き合い 見る 世界 付く 行く ﾃｰﾏ 分かる</td>\n",
              "      <td>2.5</td>\n",
              "      <td>4</td>\n",
              "    </tr>\n",
              "    <tr>\n",
              "      <th>17819</th>\n",
              "      <td>最高 ﾃﾝﾎﾟ 感 良い 0 分 長い 感ずる 映画 見る 良い 後悔 為る</td>\n",
              "      <td>4.0</td>\n",
              "      <td>4</td>\n",
              "    </tr>\n",
              "    <tr>\n",
              "      <th>17820</th>\n",
              "      <td>ﾊﾟﾛﾃﾞｨ 元 ﾈﾀ 有る なか ｼｬｲﾆﾝｸﾞ 必修 苦言 呈する 主人 含める ﾒﾝﾊ...</td>\n",
              "      <td>4.5</td>\n",
              "      <td>4</td>\n",
              "    </tr>\n",
              "  </tbody>\n",
              "</table>\n",
              "<p>17821 rows × 3 columns</p>\n",
              "</div>"
            ],
            "text/plain": [
              "                                                tokenize  score  kfold\n",
              "0      最高 最高 最高 面白い 素晴らしい 過ぎる 鑑賞 中体 ところ 震える ｹﾞｰﾑｱﾆﾒ 映...    5.0      0\n",
              "1      面白い ﾊﾞｰﾁｬﾙ 世界 ｱﾆﾒ 思う ｹﾞｰﾑ 隠す 謎 解明 為る こと 現実 世界 ...    4.0      0\n",
              "2      0 dx 鑑賞 ﾚｰｽｼｰﾝ 戦闘 ｼｰﾝ 映像 凄い ﾜｸﾜｸ 為る 見る 映画 尺 足り...    3.5      0\n",
              "3                引き込む 没頭 為る 居る 映画 最初 期待 低い 続き 気 成る 冒険 もの    3.5      0\n",
              "4      作中 言う ところ ﾎﾟｯﾌﾟｶﾙﾁｬｰ 興味 無い 人 少々 退屈 存在 知る 詳しい 無...    3.5      0\n",
              "...                                                  ...    ...    ...\n",
              "17816  品川 野外 ｼﾈﾏ 鑑賞 為る 迫力 ｼｰﾝ 多い 飽きる 見る こと 出来る ｹﾞｰﾑ ｱ...    4.0      4\n",
              "17817  金曜 ﾛｰﾄﾞ 鑑賞 ｽﾋﾟﾙﾊﾞｰｸﾞ 世界 引き込む 仕舞う ﾗｽﾄｼｰﾝ ﾁｬﾝﾈﾙ ...    4.0      4\n",
              "17818                           付き合い 見る 世界 付く 行く ﾃｰﾏ 分かる    2.5      4\n",
              "17819             最高 ﾃﾝﾎﾟ 感 良い 0 分 長い 感ずる 映画 見る 良い 後悔 為る    4.0      4\n",
              "17820  ﾊﾟﾛﾃﾞｨ 元 ﾈﾀ 有る なか ｼｬｲﾆﾝｸﾞ 必修 苦言 呈する 主人 含める ﾒﾝﾊ...    4.5      4\n",
              "\n",
              "[17821 rows x 3 columns]"
            ]
          },
          "metadata": {
            "tags": []
          },
          "execution_count": 25
        }
      ]
    },
    {
      "cell_type": "code",
      "metadata": {
        "id": "cp9nBU2VJkKh",
        "outputId": "ed09a1d7-82ff-4345-ee2f-0bd0ade248fa",
        "colab": {
          "base_uri": "https://localhost:8080/",
          "height": 1000
        }
      },
      "source": [
        "f1_scores = []\n",
        "BATCH_SIZE = 128\n",
        "lr = 0.001 \n",
        "NUM_EPOCHS = 1000 \n",
        "\n",
        "vocab = make_dataset(df[\"tokenize\"])\n",
        "\n",
        "for fold in range(NUM_SPLITS):\n",
        "    print(f\"fold {fold}\", \"=\"*70)\n",
        "    f1 = trainer(fold, df,BATCH_SIZE,lr, NUM_EPOCHS,vocab)\n",
        "    f1_scores.append(f1)\n",
        "    print(f\"<fold={fold}> best score: {f1}\\n\")"
      ],
      "execution_count": 26,
      "outputs": [
        {
          "output_type": "stream",
          "text": [
            "語彙数: 2550\n",
            "fold 0 ======================================================================\n"
          ],
          "name": "stdout"
        },
        {
          "output_type": "stream",
          "text": [
            "/usr/local/lib/python3.6/dist-packages/sklearn/metrics/_classification.py:1272: UndefinedMetricWarning: Precision is ill-defined and being set to 0.0 in labels with no predicted samples. Use `zero_division` parameter to control this behavior.\n",
            "  _warn_prf(average, modifier, msg_start, len(result))\n"
          ],
          "name": "stderr"
        },
        {
          "output_type": "stream",
          "text": [
            "Train:\n",
            "\n",
            "Loss: 0.010075730364665171  Acc: 0.36693322109988774  f1: 0.09129445221401533  \n",
            "Valid:\n",
            "\n",
            "Loss: 0.00930839522857987  Acc: 0.2821879382889201  f1: 0.11281314562411196  \n",
            "model saving!\n",
            "\n",
            "<fold=0> best score: 0.11281314562411196\n",
            "\n",
            "fold 1 ======================================================================\n"
          ],
          "name": "stdout"
        },
        {
          "output_type": "stream",
          "text": [
            "/usr/local/lib/python3.6/dist-packages/sklearn/metrics/_classification.py:1272: UndefinedMetricWarning: Precision is ill-defined and being set to 0.0 in labels with no predicted samples. Use `zero_division` parameter to control this behavior.\n",
            "  _warn_prf(average, modifier, msg_start, len(result))\n"
          ],
          "name": "stderr"
        },
        {
          "output_type": "stream",
          "text": [
            "Train:\n",
            "\n",
            "Loss: 0.0099468007448588  Acc: 0.3600336676720208  f1: 0.10234299738462369  \n",
            "Valid:\n",
            "\n",
            "Loss: 0.008933959083525018  Acc: 0.4430415263748597  f1: 0.18842957317310072  \n",
            "model saving!\n",
            "\n",
            "<fold=1> best score: 0.18842957317310072\n",
            "\n",
            "fold 2 ======================================================================\n"
          ],
          "name": "stdout"
        },
        {
          "output_type": "stream",
          "text": [
            "/usr/local/lib/python3.6/dist-packages/sklearn/metrics/_classification.py:1272: UndefinedMetricWarning: Precision is ill-defined and being set to 0.0 in labels with no predicted samples. Use `zero_division` parameter to control this behavior.\n",
            "  _warn_prf(average, modifier, msg_start, len(result))\n"
          ],
          "name": "stderr"
        },
        {
          "output_type": "stream",
          "text": [
            "Train:\n",
            "\n",
            "Loss: 0.010032985595380172  Acc: 0.37293960861331277  f1: 0.09255851871647236  \n",
            "Valid:\n",
            "\n",
            "Loss: 0.008754997191204367  Acc: 0.40347923681257014  f1: 0.1737052779448811  \n",
            "model saving!\n",
            "\n",
            "<fold=2> best score: 0.1737052779448811\n",
            "\n",
            "fold 3 ======================================================================\n"
          ],
          "name": "stdout"
        },
        {
          "output_type": "stream",
          "text": [
            "/usr/local/lib/python3.6/dist-packages/sklearn/metrics/_classification.py:1272: UndefinedMetricWarning: Precision is ill-defined and being set to 0.0 in labels with no predicted samples. Use `zero_division` parameter to control this behavior.\n",
            "  _warn_prf(average, modifier, msg_start, len(result))\n"
          ],
          "name": "stderr"
        },
        {
          "output_type": "stream",
          "text": [
            "Train:\n",
            "\n",
            "Loss: 0.009949032133388313  Acc: 0.35694746440345093  f1: 0.10336315143329444  \n",
            "Valid:\n",
            "\n",
            "Loss: 0.009158643943024538  Acc: 0.2898428731762065  f1: 0.11685783129591246  \n",
            "model saving!\n",
            "\n",
            "<fold=3> best score: 0.11685783129591246\n",
            "\n",
            "fold 4 ======================================================================\n"
          ],
          "name": "stdout"
        },
        {
          "output_type": "stream",
          "text": [
            "/usr/local/lib/python3.6/dist-packages/sklearn/metrics/_classification.py:1272: UndefinedMetricWarning: Precision is ill-defined and being set to 0.0 in labels with no predicted samples. Use `zero_division` parameter to control this behavior.\n",
            "  _warn_prf(average, modifier, msg_start, len(result))\n"
          ],
          "name": "stderr"
        },
        {
          "output_type": "stream",
          "text": [
            "Train:\n",
            "\n",
            "Loss: 0.010163012983722557  Acc: 0.3565266185031914  f1: 0.11483226987050299  \n",
            "Valid:\n",
            "\n",
            "Loss: 0.009084796447277605  Acc: 0.39674523007856344  f1: 0.17081919145554494  \n",
            "model saving!\n",
            "\n",
            "<fold=4> best score: 0.17081919145554494\n",
            "\n"
          ],
          "name": "stdout"
        },
        {
          "output_type": "display_data",
          "data": {
            "text/plain": [
              "<Figure size 432x288 with 0 Axes>"
            ]
          },
          "metadata": {
            "tags": []
          }
        }
      ]
    },
    {
      "cell_type": "code",
      "metadata": {
        "id": "eUHLc32s_mKQ",
        "outputId": "9d376470-23e3-4d2c-b6f3-2df586d6db3c",
        "colab": {
          "base_uri": "https://localhost:8080/",
          "height": 35
        }
      },
      "source": [
        "cv = sum(f1_scores) / len(f1_scores)\n",
        "print(f\"CV: {cv}\")"
      ],
      "execution_count": 27,
      "outputs": [
        {
          "output_type": "stream",
          "text": [
            "CV: 0.1525250038987102\n"
          ],
          "name": "stdout"
        }
      ]
    },
    {
      "cell_type": "code",
      "metadata": {
        "id": "HwFW2L0FIkoD",
        "outputId": "638681b7-8e00-443a-89fc-af6248a01302",
        "colab": {
          "base_uri": "https://localhost:8080/",
          "height": 238
        }
      },
      "source": [
        "df[\"length\"] = df[\"tokenize\"].apply(lambda x: len(x))\n",
        "plt.figure(figsize=(20, 5))\n",
        "sns.scatterplot(y=df[\"score\"].sort_values(), x=df[\"length\"], palette='YlOrBr')"
      ],
      "execution_count": 28,
      "outputs": [
        {
          "output_type": "execute_result",
          "data": {
            "text/plain": [
              "<matplotlib.axes._subplots.AxesSubplot at 0x7fce6cd05f60>"
            ]
          },
          "metadata": {
            "tags": []
          },
          "execution_count": 28
        },
        {
          "output_type": "display_data",
          "data": {
            "image/png": "[encoded data removed]",
            "text/plain": [
              "<Figure size 1440x360 with 1 Axes>"
            ]
          },
          "metadata": {
            "tags": [],
            "needs_background": "light"
          }
        }
      ]
    },
    {
      "cell_type": "code",
      "metadata": {
        "id": "sao_8PWMgBcv"
      },
      "source": [
        ""
      ],
      "execution_count": 28,
      "outputs": []
    }
  ]
}