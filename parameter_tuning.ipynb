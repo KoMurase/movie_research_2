{
  "nbformat": 4,
  "nbformat_minor": 0,
  "metadata": {
    "colab": {
      "name": "parameter_tuning.ipynb",
      "provenance": [],
      "mount_file_id": "1VShnnhv9h7VB--qNBV9hIkOg98jgaj2x",
      "authorship_tag": "ABX9TyNS6jjfp4/gcXf7Q0lk6zl3",
      "include_colab_link": true
    },
    "kernelspec": {
      "name": "python3",
      "display_name": "Python 3"
    }
  },
  "cells": [
    {
      "cell_type": "markdown",
      "metadata": {
        "id": "view-in-github",
        "colab_type": "text"
      },
      "source": [
        "<a href=\"https://colab.research.google.com/github/KoMurase/movie_research_2/blob/master/parameter_tuning.ipynb\" target=\"_parent\"><img src=\"https://colab.research.google.com/assets/colab-badge.svg\" alt=\"Open In Colab\"/></a>"
      ]
    },
    {
      "cell_type": "markdown",
      "metadata": {
        "id": "UtgdH8uZM1t0"
      },
      "source": [
        "#参考 : https://github.com/optuna/optuna/blob/master/examples/lightgbm_tuner_cv.py\r\n",
        "\r\n",
        "https://optuna.readthedocs.io/en/stable/index.html"
      ]
    },
    {
      "cell_type": "code",
      "metadata": {
        "id": "JgQq8KnIWcWC"
      },
      "source": [
        "!cp -r '/content/drive/MyDrive/Movies/data/mojo_japan/' '/content/'\r\n",
        "\r\n",
        "!cp -r '/content/drive/MyDrive/Movies/data/metadata_filmarks/' '/content/'"
      ],
      "execution_count": null,
      "outputs": []
    },
    {
      "cell_type": "code",
      "metadata": {
        "colab": {
          "base_uri": "https://localhost:8080/"
        },
        "id": "qGaJc1sHEiT9",
        "outputId": "3a2551b6-d7fe-4222-9933-73d824f183e6"
      },
      "source": [
        "!pip install japanize_matplotlib\r\n",
        "import pandas as pd\r\n",
        "import codecs \r\n",
        "import numpy as np\r\n",
        "import seaborn as sns\r\n",
        "import matplotlib.pyplot as plt \r\n",
        "import japanize_matplotlib\r\n",
        "\r\n",
        "import warnings\r\n",
        "\r\n",
        "import os\r\n",
        "from tqdm import tqdm\r\n",
        "import gc"
      ],
      "execution_count": null,
      "outputs": [
        {
          "output_type": "stream",
          "text": [
            "Requirement already satisfied: japanize_matplotlib in /usr/local/lib/python3.6/dist-packages (1.1.3)\n",
            "Requirement already satisfied: matplotlib in /usr/local/lib/python3.6/dist-packages (from japanize_matplotlib) (3.2.2)\n",
            "Requirement already satisfied: cycler>=0.10 in /usr/local/lib/python3.6/dist-packages (from matplotlib->japanize_matplotlib) (0.10.0)\n",
            "Requirement already satisfied: kiwisolver>=1.0.1 in /usr/local/lib/python3.6/dist-packages (from matplotlib->japanize_matplotlib) (1.3.1)\n",
            "Requirement already satisfied: python-dateutil>=2.1 in /usr/local/lib/python3.6/dist-packages (from matplotlib->japanize_matplotlib) (2.8.1)\n",
            "Requirement already satisfied: numpy>=1.11 in /usr/local/lib/python3.6/dist-packages (from matplotlib->japanize_matplotlib) (1.19.5)\n",
            "Requirement already satisfied: pyparsing!=2.0.4,!=2.1.2,!=2.1.6,>=2.0.1 in /usr/local/lib/python3.6/dist-packages (from matplotlib->japanize_matplotlib) (2.4.7)\n",
            "Requirement already satisfied: six in /usr/local/lib/python3.6/dist-packages (from cycler>=0.10->matplotlib->japanize_matplotlib) (1.15.0)\n"
          ],
          "name": "stdout"
        }
      ]
    },
    {
      "cell_type": "code",
      "metadata": {
        "id": "d4OJ1SnTEj63"
      },
      "source": [
        "import lightgbm as lgb\r\n",
        "import numpy as np\r\n",
        "from sklearn.model_selection import StratifiedKFold\r\n",
        "from sklearn.model_selection import KFold\r\n",
        "\r\n",
        "from sklearn.model_selection import train_test_split\r\n",
        "\r\n",
        "#評価\r\n",
        "from sklearn.metrics import r2_score\r\n",
        "#r2_score(y_true, y_pred)"
      ],
      "execution_count": null,
      "outputs": []
    },
    {
      "cell_type": "code",
      "metadata": {
        "colab": {
          "base_uri": "https://localhost:8080/"
        },
        "id": "YHAbWHmJKnKW",
        "outputId": "602d28e7-1a18-4bd8-9248-8a14e36f8f56"
      },
      "source": [
        "#import optuna\r\n",
        "#from optuna.integration import lightgbm_tuner\r\n",
        "!pip install optuna\r\n",
        "import optuna.integration.lightgbm as lgb"
      ],
      "execution_count": null,
      "outputs": [
        {
          "output_type": "stream",
          "text": [
            "Requirement already satisfied: optuna in /usr/local/lib/python3.6/dist-packages (2.4.0)\n",
            "Requirement already satisfied: scipy!=1.4.0 in /usr/local/lib/python3.6/dist-packages (from optuna) (1.4.1)\n",
            "Requirement already satisfied: cliff in /usr/local/lib/python3.6/dist-packages (from optuna) (3.6.0)\n",
            "Requirement already satisfied: sqlalchemy>=1.1.0 in /usr/local/lib/python3.6/dist-packages (from optuna) (1.3.22)\n",
            "Requirement already satisfied: alembic in /usr/local/lib/python3.6/dist-packages (from optuna) (1.5.3)\n",
            "Requirement already satisfied: cmaes>=0.6.0 in /usr/local/lib/python3.6/dist-packages (from optuna) (0.7.0)\n",
            "Requirement already satisfied: joblib in /usr/local/lib/python3.6/dist-packages (from optuna) (1.0.0)\n",
            "Requirement already satisfied: tqdm in /usr/local/lib/python3.6/dist-packages (from optuna) (4.41.1)\n",
            "Requirement already satisfied: numpy in /usr/local/lib/python3.6/dist-packages (from optuna) (1.19.5)\n",
            "Requirement already satisfied: packaging>=20.0 in /usr/local/lib/python3.6/dist-packages (from optuna) (20.8)\n",
            "Requirement already satisfied: colorlog in /usr/local/lib/python3.6/dist-packages (from optuna) (4.7.2)\n",
            "Requirement already satisfied: pyparsing>=2.1.0 in /usr/local/lib/python3.6/dist-packages (from cliff->optuna) (2.4.7)\n",
            "Requirement already satisfied: pbr!=2.1.0,>=2.0.0 in /usr/local/lib/python3.6/dist-packages (from cliff->optuna) (5.5.1)\n",
            "Requirement already satisfied: cmd2!=0.8.3,>=0.8.0 in /usr/local/lib/python3.6/dist-packages (from cliff->optuna) (1.4.0)\n",
            "Requirement already satisfied: stevedore>=2.0.1 in /usr/local/lib/python3.6/dist-packages (from cliff->optuna) (3.3.0)\n",
            "Requirement already satisfied: PyYAML>=3.12 in /usr/local/lib/python3.6/dist-packages (from cliff->optuna) (3.13)\n",
            "Requirement already satisfied: PrettyTable<0.8,>=0.7.2 in /usr/local/lib/python3.6/dist-packages (from cliff->optuna) (0.7.2)\n",
            "Requirement already satisfied: python-editor>=0.3 in /usr/local/lib/python3.6/dist-packages (from alembic->optuna) (1.0.4)\n",
            "Requirement already satisfied: Mako in /usr/local/lib/python3.6/dist-packages (from alembic->optuna) (1.1.4)\n",
            "Requirement already satisfied: python-dateutil in /usr/local/lib/python3.6/dist-packages (from alembic->optuna) (2.8.1)\n",
            "Requirement already satisfied: pyperclip>=1.6 in /usr/local/lib/python3.6/dist-packages (from cmd2!=0.8.3,>=0.8.0->cliff->optuna) (1.8.1)\n",
            "Requirement already satisfied: colorama>=0.3.7 in /usr/local/lib/python3.6/dist-packages (from cmd2!=0.8.3,>=0.8.0->cliff->optuna) (0.4.4)\n",
            "Requirement already satisfied: importlib-metadata>=1.6.0; python_version < \"3.8\" in /usr/local/lib/python3.6/dist-packages (from cmd2!=0.8.3,>=0.8.0->cliff->optuna) (3.4.0)\n",
            "Requirement already satisfied: attrs>=16.3.0 in /usr/local/lib/python3.6/dist-packages (from cmd2!=0.8.3,>=0.8.0->cliff->optuna) (20.3.0)\n",
            "Requirement already satisfied: wcwidth>=0.1.7 in /usr/local/lib/python3.6/dist-packages (from cmd2!=0.8.3,>=0.8.0->cliff->optuna) (0.2.5)\n",
            "Requirement already satisfied: MarkupSafe>=0.9.2 in /usr/local/lib/python3.6/dist-packages (from Mako->alembic->optuna) (1.1.1)\n",
            "Requirement already satisfied: six>=1.5 in /usr/local/lib/python3.6/dist-packages (from python-dateutil->alembic->optuna) (1.15.0)\n",
            "Requirement already satisfied: typing-extensions>=3.6.4; python_version < \"3.8\" in /usr/local/lib/python3.6/dist-packages (from importlib-metadata>=1.6.0; python_version < \"3.8\"->cmd2!=0.8.3,>=0.8.0->cliff->optuna) (3.7.4.3)\n",
            "Requirement already satisfied: zipp>=0.5 in /usr/local/lib/python3.6/dist-packages (from importlib-metadata>=1.6.0; python_version < \"3.8\"->cmd2!=0.8.3,>=0.8.0->cliff->optuna) (3.4.0)\n"
          ],
          "name": "stdout"
        }
      ]
    },
    {
      "cell_type": "code",
      "metadata": {
        "id": "W7BfAHo4EmRs"
      },
      "source": [
        "path = '/content/drive/MyDrive/Movies/preprocessed/'"
      ],
      "execution_count": null,
      "outputs": []
    },
    {
      "cell_type": "code",
      "metadata": {
        "id": "XmB4EhZ4EofR"
      },
      "source": [
        "def read_data(path, encode_type):\r\n",
        "  \r\n",
        "  with codecs.open(path, \"r\", encode_type, \"ignore\") as file:\r\n",
        "    output = pd.read_csv(file, delimiter=\",\")\r\n",
        "      \r\n",
        "  return output"
      ],
      "execution_count": null,
      "outputs": []
    },
    {
      "cell_type": "code",
      "metadata": {
        "id": "J7gHBQmMEqXk"
      },
      "source": [
        "train = read_data(path+'train_2016-2018.csv', encode_type='utf-8')\r\n",
        "test = read_data(path+'test_2019.csv', encode_type='utf-8')\r\n",
        "\r\n",
        "train = train.loc[train['Title'].drop_duplicates(keep='first').index]"
      ],
      "execution_count": null,
      "outputs": []
    },
    {
      "cell_type": "code",
      "metadata": {
        "colab": {
          "base_uri": "https://localhost:8080/"
        },
        "id": "_Wv3Fo2bOESK",
        "outputId": "2acecd30-c665-4667-db53-8bcfea310af9"
      },
      "source": [
        "train.shape"
      ],
      "execution_count": null,
      "outputs": [
        {
          "output_type": "execute_result",
          "data": {
            "text/plain": [
              "(512, 9017)"
            ]
          },
          "metadata": {
            "tags": []
          },
          "execution_count": 8
        }
      ]
    },
    {
      "cell_type": "code",
      "metadata": {
        "id": "mqAztBiMEvdc"
      },
      "source": [
        ""
      ],
      "execution_count": null,
      "outputs": []
    },
    {
      "cell_type": "code",
      "metadata": {
        "id": "TWuIb4rsE0qj"
      },
      "source": [
        ""
      ],
      "execution_count": null,
      "outputs": []
    },
    {
      "cell_type": "code",
      "metadata": {
        "colab": {
          "base_uri": "https://localhost:8080/"
        },
        "id": "8PojkPNuFKWS",
        "outputId": "9f4efd2e-e7bc-427b-dd82-4acb0f5d4d07"
      },
      "source": [
        "def preprocess_Theaters(input_df:pd.DataFrame)->pd.DataFrame:\r\n",
        "  output_df = input_df.copy()\r\n",
        "  #plt.figure(figsize=(25,10))\r\n",
        "  #sns.countplot(input_df.loc[input_df['Theaters']!='-', 'Theaters'].astype(int).sort_values())\r\n",
        "  #plt.xticks(rotation=90)\r\n",
        "  #plt.show()\r\n",
        "  #print('- of number : {}'.format(input_df[input_df['Theaters']=='-'].__len__()))\r\n",
        "  mean_ = input_df.loc[input_df['Theaters']!='-','Theaters'].astype(int).mean()\r\n",
        "\r\n",
        "  #print(f'mean of Theaters:{int(mean_)}')\r\n",
        "  output_df['Theaters'] = output_df['Theaters'].replace('-', mean_).astype(int)\r\n",
        "\r\n",
        "  return output_df\r\n",
        "\r\n",
        "def lable_encoding(input_df:pd.DataFrame, cat_cols:list)->pd.DataFrame:\r\n",
        "  output_df = input_df.copy()\r\n",
        "  # カテゴリ変数は出現順にLabelEncoding\r\n",
        "  for c in cat_cols:\r\n",
        "    _dict = {j:i for i,j in enumerate(input_df[c].unique())}\r\n",
        "    output_df[c] = input_df[c].map(_dict)\r\n",
        "    \r\n",
        "  return output_df\r\n",
        "\r\n",
        "#上映館数の前処理\r\n",
        "data = pd.concat([train, test], axis=0).reset_index(drop=True)\r\n",
        "data = preprocess_Theaters(data)\r\n",
        "\r\n",
        "cols=['Country', 'Opening_Day']\r\n",
        "data = lable_encoding(data, cols)\r\n",
        "\r\n",
        "train = data[0:len(train)]\r\n",
        "test = data[len(train):]\r\n",
        "\r\n",
        "\r\n",
        "print(train.shape, test.shape)"
      ],
      "execution_count": null,
      "outputs": [
        {
          "output_type": "stream",
          "text": [
            "(512, 9017) (168, 9017)\n"
          ],
          "name": "stdout"
        }
      ]
    },
    {
      "cell_type": "code",
      "metadata": {
        "id": "zqb9kH_jFdmh"
      },
      "source": [
        "#アルゴリズムの方で分岐しているから必要ないかもしれない特徴量\r\n",
        "\r\n",
        "def make_describe_col(input_df:pd.DataFrame, col:str):\r\n",
        "  output_df = input_df.copy() \r\n",
        "  p_25 = output_df[col].describe()['25%']\r\n",
        "  p_50 = output_df[col].describe()['50%']\r\n",
        "  p_75 = output_df[col].describe()['75%']\r\n",
        "\r\n",
        "  # 25%未満\r\n",
        "  output_df[f'{col}_[x<25%]'] = output_df[col].apply(\r\n",
        "      lambda x: 1 if x<p_25 else 0 \r\n",
        "  )\r\n",
        "  # 25%以上 50%未満\r\n",
        "  output_df[f'{col}_[25<=x<50%]'] = output_df[col].apply(\r\n",
        "      lambda x: 1 if x>=p_25 and x<p_50 else 0 \r\n",
        "  )\r\n",
        "  # 50%以上 75%未満\r\n",
        "  output_df[f'{col}_[50<=x<75%]'] = output_df[col].apply(\r\n",
        "      lambda x: 1 if x>=p_50 and x<p_75 else 0 \r\n",
        "  )\r\n",
        "  # 75%以上\r\n",
        "  output_df[f'{col}_[75%<x]'] = output_df[col].apply(\r\n",
        "      lambda x: 1 if x>=p_75 else 0 \r\n",
        "  )\r\n",
        "\r\n",
        "  return output_df\r\n",
        "\r\n",
        "train = make_describe_col(train, 'Theaters')\r\n",
        "train = make_describe_col(train, 'Time')\r\n",
        "\r\n",
        "test = make_describe_col(test, 'Theaters')\r\n",
        "test = make_describe_col(test, 'Time')"
      ],
      "execution_count": null,
      "outputs": []
    },
    {
      "cell_type": "markdown",
      "metadata": {
        "id": "xb-OcsYVFmjC"
      },
      "source": [
        "#正規化"
      ]
    },
    {
      "cell_type": "code",
      "metadata": {
        "id": "F5L6q6gCFdiy"
      },
      "source": [
        "from sklearn import preprocessing\r\n",
        "\r\n",
        "def normalization(df:pd.DataFrame, cols:list):\r\n",
        "  output_df = df.copy()\r\n",
        "\r\n",
        "  ss = preprocessing.StandardScaler()\r\n",
        "  output_df[cols]= ss.fit_transform(output_df[cols])\r\n",
        "  output_df[cols].add_suffix('_ss')\r\n",
        "\r\n",
        "  return output_df "
      ],
      "execution_count": null,
      "outputs": []
    },
    {
      "cell_type": "code",
      "metadata": {
        "id": "NT_wSGrUFdha"
      },
      "source": [
        "use_columns = [\r\n",
        "        'レビュー数',\r\n",
        "        '平均スコア', \r\n",
        "        'Theaters' ]\r\n",
        "\r\n",
        "train = normalization(train, use_columns)\r\n",
        "test = normalization(test, use_columns)"
      ],
      "execution_count": null,
      "outputs": []
    },
    {
      "cell_type": "code",
      "metadata": {
        "id": "UPaB1EgsFdeh"
      },
      "source": [
        "#レビュー，平均スコアを含める場合\r\n",
        "#drop_cols=['Title','Title(ja)','directors','writers','casts']\r\n",
        "\r\n",
        "#----------------------------------------------------------------\r\n",
        "#レビュー，平均スコアを含めない場合\r\n",
        "drop_cols=['Title','Title(ja)','directors','writers','casts','レビュー数','平均スコア']"
      ],
      "execution_count": null,
      "outputs": []
    },
    {
      "cell_type": "code",
      "metadata": {
        "id": "KyAWhC3EFddG"
      },
      "source": [
        "#Total Grossを予測する場合\r\n",
        "train_features = train.drop(drop_cols+['Gross'], axis=1) #'レビュー数','平均スコア'], axis=1)\r\n",
        "\r\n",
        "#test_features = test.drop(drop_cols+['Gross'], axis=1)     #'レビュー数','平均スコア'], axis=1)\r\n"
      ],
      "execution_count": null,
      "outputs": []
    },
    {
      "cell_type": "code",
      "metadata": {
        "id": "uR3lTXb1J4ZT"
      },
      "source": [
        "X = train_features.drop('Total Gross', axis=1)\r\n",
        "y = train_features['Total Gross']\r\n",
        "\r\n",
        "#対数スケールに変換\r\n",
        "y = np.log1p(y)\r\n",
        "\r\n",
        "dtrain = lgb.Dataset(X, y)\r\n",
        "\r\n",
        "#train_X, valid_X, train_y, valid_y = train_test_split(X,y, test_size=0.2, random_state=42)\r\n",
        "#dtrain = lgb.Dataset(train_X, train_y)\r\n",
        "#dvalid = lgb.Dataset(valid_X, valid_y)"
      ],
      "execution_count": null,
      "outputs": []
    },
    {
      "cell_type": "code",
      "metadata": {
        "id": "0UNXPomfFdYe"
      },
      "source": [
        "params = {\r\n",
        "    'objective' : 'regression',\r\n",
        "    'metric' : 'rmse',\r\n",
        "    'verbosity':-1,\r\n",
        "    \"boosting_type\": \"gbdt\",\r\n",
        "}"
      ],
      "execution_count": null,
      "outputs": []
    },
    {
      "cell_type": "code",
      "metadata": {
        "colab": {
          "base_uri": "https://localhost:8080/"
        },
        "id": "eULdGFdkNW_S",
        "outputId": "2e18a3e2-a788-45c0-bd9f-c32d6bb6c56b"
      },
      "source": [
        "tuner = lgb.LightGBMTunerCV(\r\n",
        "        params, dtrain, \r\n",
        "        verbose_eval=1000, \r\n",
        "        early_stopping_rounds=100, \r\n",
        "        folds=KFold(n_splits=5),\r\n",
        "    )\r\n",
        "\r\n",
        "tuner.run()"
      ],
      "execution_count": null,
      "outputs": [
        {
          "output_type": "stream",
          "text": [
            "\u001b[32m[I 2021-01-31 13:10:24,111]\u001b[0m A new study created in memory with name: no-name-2dd8bd97-0dfe-4eb0-b9a7-e991cb54546a\u001b[0m\n",
            "feature_fraction, val_score: 1.641041:  14%|#4        | 1/7 [00:00<00:03,  1.85it/s]\u001b[32m[I 2021-01-31 13:10:24,662]\u001b[0m Trial 0 finished with value: 1.6410407647034575 and parameters: {'feature_fraction': 0.8999999999999999}. Best is trial 0 with value: 1.6410407647034575.\u001b[0m\n",
            "feature_fraction, val_score: 1.641041:  29%|##8       | 2/7 [00:00<00:02,  1.99it/s]\u001b[32m[I 2021-01-31 13:10:25,077]\u001b[0m Trial 1 finished with value: 1.6462717536497002 and parameters: {'feature_fraction': 0.8}. Best is trial 0 with value: 1.6410407647034575.\u001b[0m\n",
            "feature_fraction, val_score: 1.609695:  43%|####2     | 3/7 [00:01<00:01,  2.10it/s]\u001b[32m[I 2021-01-31 13:10:25,491]\u001b[0m Trial 2 finished with value: 1.6096949852383315 and parameters: {'feature_fraction': 0.4}. Best is trial 2 with value: 1.6096949852383315.\u001b[0m\n",
            "feature_fraction, val_score: 1.609695:  57%|#####7    | 4/7 [00:01<00:01,  2.12it/s]\u001b[32m[I 2021-01-31 13:10:25,951]\u001b[0m Trial 3 finished with value: 1.6111948620179983 and parameters: {'feature_fraction': 0.7}. Best is trial 2 with value: 1.6096949852383315.\u001b[0m\n",
            "feature_fraction, val_score: 1.609695:  71%|#######1  | 5/7 [00:02<00:00,  2.18it/s]\u001b[32m[I 2021-01-31 13:10:26,381]\u001b[0m Trial 4 finished with value: 1.6313568733403578 and parameters: {'feature_fraction': 0.5}. Best is trial 2 with value: 1.6096949852383315.\u001b[0m\n",
            "feature_fraction, val_score: 1.609695:  86%|########5 | 6/7 [00:02<00:00,  2.27it/s]\u001b[32m[I 2021-01-31 13:10:26,786]\u001b[0m Trial 5 finished with value: 1.6368198700441159 and parameters: {'feature_fraction': 0.6}. Best is trial 2 with value: 1.6096949852383315.\u001b[0m\n",
            "feature_fraction, val_score: 1.609695: 100%|##########| 7/7 [00:03<00:00,  2.19it/s]\u001b[32m[I 2021-01-31 13:10:27,274]\u001b[0m Trial 6 finished with value: 1.6431798372548485 and parameters: {'feature_fraction': 1.0}. Best is trial 2 with value: 1.6096949852383315.\u001b[0m\n",
            "feature_fraction, val_score: 1.609695: 100%|##########| 7/7 [00:03<00:00,  2.22it/s]\n",
            "num_leaves, val_score: 1.609695:   5%|5         | 1/20 [00:00<00:07,  2.46it/s]\u001b[32m[I 2021-01-31 13:10:27,692]\u001b[0m Trial 7 finished with value: 1.6096949852383315 and parameters: {'num_leaves': 57}. Best is trial 7 with value: 1.6096949852383315.\u001b[0m\n",
            "num_leaves, val_score: 1.609624:  10%|#         | 2/20 [00:00<00:07,  2.43it/s]\u001b[32m[I 2021-01-31 13:10:28,113]\u001b[0m Trial 8 finished with value: 1.609624315990991 and parameters: {'num_leaves': 17}. Best is trial 8 with value: 1.609624315990991.\u001b[0m\n",
            "num_leaves, val_score: 1.609624:  15%|#5        | 3/20 [00:01<00:07,  2.38it/s]\u001b[32m[I 2021-01-31 13:10:28,560]\u001b[0m Trial 9 finished with value: 1.6096949852383315 and parameters: {'num_leaves': 168}. Best is trial 8 with value: 1.609624315990991.\u001b[0m\n",
            "num_leaves, val_score: 1.609624:  20%|##        | 4/20 [00:01<00:06,  2.45it/s]\u001b[32m[I 2021-01-31 13:10:28,938]\u001b[0m Trial 10 finished with value: 1.6221351204182906 and parameters: {'num_leaves': 9}. Best is trial 8 with value: 1.609624315990991.\u001b[0m\n",
            "num_leaves, val_score: 1.609624:  25%|##5       | 5/20 [00:02<00:06,  2.43it/s]\u001b[32m[I 2021-01-31 13:10:29,356]\u001b[0m Trial 11 finished with value: 1.6096949852383315 and parameters: {'num_leaves': 30}. Best is trial 8 with value: 1.609624315990991.\u001b[0m\n",
            "num_leaves, val_score: 1.609624:  30%|###       | 6/20 [00:02<00:06,  2.25it/s]\u001b[32m[I 2021-01-31 13:10:29,877]\u001b[0m Trial 12 finished with value: 1.6096949852383315 and parameters: {'num_leaves': 174}. Best is trial 8 with value: 1.609624315990991.\u001b[0m\n",
            "num_leaves, val_score: 1.609624:  35%|###5      | 7/20 [00:03<00:05,  2.27it/s]\u001b[32m[I 2021-01-31 13:10:30,310]\u001b[0m Trial 13 finished with value: 1.6096949852383315 and parameters: {'num_leaves': 145}. Best is trial 8 with value: 1.609624315990991.\u001b[0m\n",
            "num_leaves, val_score: 1.609624:  40%|####      | 8/20 [00:03<00:05,  2.31it/s]\u001b[32m[I 2021-01-31 13:10:30,723]\u001b[0m Trial 14 finished with value: 1.6096949852383315 and parameters: {'num_leaves': 119}. Best is trial 8 with value: 1.609624315990991.\u001b[0m\n",
            "num_leaves, val_score: 1.609624:  45%|####5     | 9/20 [00:03<00:04,  2.33it/s]\u001b[32m[I 2021-01-31 13:10:31,142]\u001b[0m Trial 15 finished with value: 1.609624315990991 and parameters: {'num_leaves': 17}. Best is trial 8 with value: 1.609624315990991.\u001b[0m\n",
            "num_leaves, val_score: 1.609624:  50%|#####     | 10/20 [00:04<00:04,  2.35it/s]\u001b[32m[I 2021-01-31 13:10:31,562]\u001b[0m Trial 16 finished with value: 1.6096949852383315 and parameters: {'num_leaves': 44}. Best is trial 8 with value: 1.609624315990991.\u001b[0m\n",
            "num_leaves, val_score: 1.609624:  55%|#####5    | 11/20 [00:04<00:03,  2.29it/s]\u001b[32m[I 2021-01-31 13:10:32,026]\u001b[0m Trial 17 finished with value: 1.6096949852383315 and parameters: {'num_leaves': 244}. Best is trial 8 with value: 1.609624315990991.\u001b[0m\n",
            "num_leaves, val_score: 1.609624:  60%|######    | 12/20 [00:05<00:03,  2.30it/s]\u001b[32m[I 2021-01-31 13:10:32,455]\u001b[0m Trial 18 finished with value: 1.6096949852383315 and parameters: {'num_leaves': 89}. Best is trial 8 with value: 1.609624315990991.\u001b[0m\n",
            "num_leaves, val_score: 1.609624:  65%|######5   | 13/20 [00:05<00:02,  2.36it/s]\u001b[32m[I 2021-01-31 13:10:32,851]\u001b[0m Trial 19 finished with value: 1.610544510096107 and parameters: {'num_leaves': 14}. Best is trial 8 with value: 1.609624315990991.\u001b[0m\n",
            "num_leaves, val_score: 1.609624:  70%|#######   | 14/20 [00:06<00:02,  2.34it/s]\u001b[32m[I 2021-01-31 13:10:33,286]\u001b[0m Trial 20 finished with value: 1.6096949852383315 and parameters: {'num_leaves': 75}. Best is trial 8 with value: 1.609624315990991.\u001b[0m\n",
            "num_leaves, val_score: 1.609624:  75%|#######5  | 15/20 [00:06<00:02,  2.33it/s]\u001b[32m[I 2021-01-31 13:10:33,725]\u001b[0m Trial 21 finished with value: 1.6096949852383315 and parameters: {'num_leaves': 232}. Best is trial 8 with value: 1.609624315990991.\u001b[0m\n",
            "num_leaves, val_score: 1.609624:  80%|########  | 16/20 [00:06<00:01,  2.49it/s]\u001b[32m[I 2021-01-31 13:10:34,063]\u001b[0m Trial 22 finished with value: 1.631395659844402 and parameters: {'num_leaves': 5}. Best is trial 8 with value: 1.609624315990991.\u001b[0m\n",
            "num_leaves, val_score: 1.609624:  85%|########5 | 17/20 [00:07<00:01,  2.44it/s]\u001b[32m[I 2021-01-31 13:10:34,485]\u001b[0m Trial 23 finished with value: 1.6096949852383315 and parameters: {'num_leaves': 100}. Best is trial 8 with value: 1.609624315990991.\u001b[0m\n",
            "num_leaves, val_score: 1.609624:  90%|######### | 18/20 [00:07<00:00,  2.26it/s]\u001b[32m[I 2021-01-31 13:10:35,011]\u001b[0m Trial 24 finished with value: 1.6096949852383315 and parameters: {'num_leaves': 53}. Best is trial 8 with value: 1.609624315990991.\u001b[0m\n",
            "num_leaves, val_score: 1.590334:  95%|#########5| 19/20 [00:07<00:00,  2.58it/s]\u001b[32m[I 2021-01-31 13:10:35,265]\u001b[0m Trial 25 finished with value: 1.5903339963704717 and parameters: {'num_leaves': 2}. Best is trial 25 with value: 1.5903339963704717.\u001b[0m\n",
            "num_leaves, val_score: 1.590334: 100%|##########| 20/20 [00:08<00:00,  2.49it/s]\u001b[32m[I 2021-01-31 13:10:35,698]\u001b[0m Trial 26 finished with value: 1.6096949852383315 and parameters: {'num_leaves': 217}. Best is trial 25 with value: 1.5903339963704717.\u001b[0m\n",
            "num_leaves, val_score: 1.590334: 100%|##########| 20/20 [00:08<00:00,  2.38it/s]\n",
            "bagging, val_score: 1.588637:  10%|#         | 1/10 [00:00<00:02,  3.74it/s]\u001b[32m[I 2021-01-31 13:10:35,980]\u001b[0m Trial 27 finished with value: 1.5886369372223363 and parameters: {'bagging_fraction': 0.9047396649998434, 'bagging_freq': 6}. Best is trial 27 with value: 1.5886369372223363.\u001b[0m\n",
            "bagging, val_score: 1.580046:  20%|##        | 2/10 [00:00<00:02,  3.61it/s]\u001b[32m[I 2021-01-31 13:10:36,276]\u001b[0m Trial 28 finished with value: 1.5800455684748624 and parameters: {'bagging_fraction': 0.6777474281065596, 'bagging_freq': 5}. Best is trial 28 with value: 1.5800455684748624.\u001b[0m\n",
            "bagging, val_score: 1.564211:  30%|###       | 3/10 [00:00<00:01,  3.63it/s]\u001b[32m[I 2021-01-31 13:10:36,548]\u001b[0m Trial 29 finished with value: 1.5642112333990879 and parameters: {'bagging_fraction': 0.7849828822044651, 'bagging_freq': 3}. Best is trial 29 with value: 1.5642112333990879.\u001b[0m\n",
            "bagging, val_score: 1.564211:  40%|####      | 4/10 [00:01<00:01,  3.64it/s]\u001b[32m[I 2021-01-31 13:10:36,822]\u001b[0m Trial 30 finished with value: 1.5773891744836854 and parameters: {'bagging_fraction': 0.8896749796646144, 'bagging_freq': 4}. Best is trial 29 with value: 1.5642112333990879.\u001b[0m\n",
            "bagging, val_score: 1.564211:  50%|#####     | 5/10 [00:01<00:01,  3.59it/s]\u001b[32m[I 2021-01-31 13:10:37,109]\u001b[0m Trial 31 finished with value: 1.5732252886150446 and parameters: {'bagging_fraction': 0.8734119769881701, 'bagging_freq': 2}. Best is trial 29 with value: 1.5642112333990879.\u001b[0m\n",
            "bagging, val_score: 1.564211:  60%|######    | 6/10 [00:01<00:01,  3.62it/s]\u001b[32m[I 2021-01-31 13:10:37,379]\u001b[0m Trial 32 finished with value: 1.588570529962269 and parameters: {'bagging_fraction': 0.4466752256781206, 'bagging_freq': 3}. Best is trial 29 with value: 1.5642112333990879.\u001b[0m\n",
            "bagging, val_score: 1.560057:  70%|#######   | 7/10 [00:01<00:00,  3.45it/s]\u001b[32m[I 2021-01-31 13:10:37,702]\u001b[0m Trial 33 finished with value: 1.5600565377979163 and parameters: {'bagging_fraction': 0.4551835178617646, 'bagging_freq': 1}. Best is trial 33 with value: 1.5600565377979163.\u001b[0m\n",
            "bagging, val_score: 1.560057:  80%|########  | 8/10 [00:02<00:00,  3.51it/s]\u001b[32m[I 2021-01-31 13:10:37,974]\u001b[0m Trial 34 finished with value: 1.5896745006619002 and parameters: {'bagging_fraction': 0.8536935254036364, 'bagging_freq': 3}. Best is trial 33 with value: 1.5600565377979163.\u001b[0m\n",
            "bagging, val_score: 1.554672:  90%|######### | 9/10 [00:02<00:00,  3.53it/s]\u001b[32m[I 2021-01-31 13:10:38,258]\u001b[0m Trial 35 finished with value: 1.5546719590774454 and parameters: {'bagging_fraction': 0.7194396763571909, 'bagging_freq': 3}. Best is trial 35 with value: 1.5546719590774454.\u001b[0m\n",
            "bagging, val_score: 1.554672: 100%|##########| 10/10 [00:02<00:00,  3.24it/s]\u001b[32m[I 2021-01-31 13:10:38,627]\u001b[0m Trial 36 finished with value: 1.5780239629507022 and parameters: {'bagging_fraction': 0.4238990261897482, 'bagging_freq': 3}. Best is trial 35 with value: 1.5546719590774454.\u001b[0m\n",
            "bagging, val_score: 1.554672: 100%|##########| 10/10 [00:02<00:00,  3.42it/s]\n",
            "feature_fraction_stage2, val_score: 1.554672:  33%|###3      | 1/3 [00:00<00:00,  3.48it/s]\u001b[32m[I 2021-01-31 13:10:38,937]\u001b[0m Trial 37 finished with value: 1.5644434349866252 and parameters: {'feature_fraction': 0.44800000000000006}. Best is trial 37 with value: 1.5644434349866252.\u001b[0m\n",
            "feature_fraction_stage2, val_score: 1.554672:  67%|######6   | 2/3 [00:00<00:00,  3.50it/s]\u001b[32m[I 2021-01-31 13:10:39,224]\u001b[0m Trial 38 finished with value: 1.5546719590774454 and parameters: {'feature_fraction': 0.41600000000000004}. Best is trial 38 with value: 1.5546719590774454.\u001b[0m\n",
            "feature_fraction_stage2, val_score: 1.554672: 100%|##########| 3/3 [00:00<00:00,  3.49it/s]\u001b[32m[I 2021-01-31 13:10:39,505]\u001b[0m Trial 39 finished with value: 1.5771903824498335 and parameters: {'feature_fraction': 0.48000000000000004}. Best is trial 38 with value: 1.5546719590774454.\u001b[0m\n",
            "feature_fraction_stage2, val_score: 1.554672: 100%|##########| 3/3 [00:00<00:00,  3.45it/s]\n",
            "regularization_factors, val_score: 1.554672:   5%|5         | 1/20 [00:00<00:05,  3.75it/s]\u001b[32m[I 2021-01-31 13:10:39,793]\u001b[0m Trial 40 finished with value: 1.556526052778791 and parameters: {'lambda_l1': 0.048870029501357486, 'lambda_l2': 1.4928185613402505}. Best is trial 40 with value: 1.556526052778791.\u001b[0m\n",
            "regularization_factors, val_score: 1.554672:  10%|#         | 2/20 [00:00<00:04,  3.69it/s]\u001b[32m[I 2021-01-31 13:10:40,081]\u001b[0m Trial 41 finished with value: 1.5546719598670988 and parameters: {'lambda_l1': 1.6276490692199768e-07, 'lambda_l2': 3.182237149403298e-07}. Best is trial 41 with value: 1.5546719598670988.\u001b[0m\n",
            "regularization_factors, val_score: 1.554672:  15%|#5        | 3/20 [00:00<00:04,  3.60it/s]\u001b[32m[I 2021-01-31 13:10:40,366]\u001b[0m Trial 42 finished with value: 1.5571818560708057 and parameters: {'lambda_l1': 1.8324424939549793, 'lambda_l2': 2.993346199333403e-08}. Best is trial 41 with value: 1.5546719598670988.\u001b[0m\n",
            "regularization_factors, val_score: 1.554672:  20%|##        | 4/20 [00:01<00:04,  3.58it/s]\u001b[32m[I 2021-01-31 13:10:40,646]\u001b[0m Trial 43 finished with value: 1.5546724287588485 and parameters: {'lambda_l1': 0.00034165723075416506, 'lambda_l2': 5.372864118618467e-06}. Best is trial 41 with value: 1.5546719598670988.\u001b[0m\n",
            "regularization_factors, val_score: 1.554672:  25%|##5       | 5/20 [00:01<00:04,  3.60it/s]\u001b[32m[I 2021-01-31 13:10:40,917]\u001b[0m Trial 44 finished with value: 1.5548613696479505 and parameters: {'lambda_l1': 0.2024026332117008, 'lambda_l2': 1.3502372161826829e-06}. Best is trial 41 with value: 1.5546719598670988.\u001b[0m\n",
            "regularization_factors, val_score: 1.554672:  30%|###       | 6/20 [00:01<00:03,  3.54it/s]\u001b[32m[I 2021-01-31 13:10:41,214]\u001b[0m Trial 45 finished with value: 1.568249603421529 and parameters: {'lambda_l1': 7.959165504230468, 'lambda_l2': 2.7456249540231872e-06}. Best is trial 41 with value: 1.5546719598670988.\u001b[0m\n",
            "regularization_factors, val_score: 1.554672:  35%|###5      | 7/20 [00:01<00:03,  3.45it/s]\u001b[32m[I 2021-01-31 13:10:41,530]\u001b[0m Trial 46 finished with value: 1.5547123571057067 and parameters: {'lambda_l1': 0.029837813846783544, 'lambda_l2': 1.9458558635495813e-08}. Best is trial 41 with value: 1.5546719598670988.\u001b[0m\n",
            "regularization_factors, val_score: 1.554672:  40%|####      | 8/20 [00:02<00:03,  3.18it/s]\u001b[32m[I 2021-01-31 13:10:41,890]\u001b[0m Trial 47 finished with value: 1.555776513160401 and parameters: {'lambda_l1': 0.05894835961094632, 'lambda_l2': 0.41177125857313324}. Best is trial 41 with value: 1.5546719598670988.\u001b[0m\n",
            "regularization_factors, val_score: 1.554672:  45%|####5     | 9/20 [00:02<00:03,  3.25it/s]\u001b[32m[I 2021-01-31 13:10:42,184]\u001b[0m Trial 48 finished with value: 1.5557992520071267 and parameters: {'lambda_l1': 1.1296258350896614e-08, 'lambda_l2': 0.49950717357343644}. Best is trial 41 with value: 1.5546719598670988.\u001b[0m\n",
            "regularization_factors, val_score: 1.554672:  50%|#####     | 10/20 [00:02<00:03,  3.31it/s]\u001b[32m[I 2021-01-31 13:10:42,477]\u001b[0m Trial 49 finished with value: 1.5589177401705503 and parameters: {'lambda_l1': 1.7884701431913106e-06, 'lambda_l2': 6.124695353305896}. Best is trial 41 with value: 1.5546719598670988.\u001b[0m\n",
            "regularization_factors, val_score: 1.554672:  55%|#####5    | 11/20 [00:03<00:02,  3.38it/s]\u001b[32m[I 2021-01-31 13:10:42,752]\u001b[0m Trial 50 finished with value: 1.554673439884431 and parameters: {'lambda_l1': 1.0155964100915818e-08, 'lambda_l2': 0.0012607430450093848}. Best is trial 41 with value: 1.5546719598670988.\u001b[0m\n",
            "regularization_factors, val_score: 1.554672:  60%|######    | 12/20 [00:03<00:02,  3.43it/s]\u001b[32m[I 2021-01-31 13:10:43,035]\u001b[0m Trial 51 finished with value: 1.554672091917055 and parameters: {'lambda_l1': 8.516503519426923e-05, 'lambda_l2': 1.4855390562076335e-05}. Best is trial 41 with value: 1.5546719598670988.\u001b[0m\n",
            "regularization_factors, val_score: 1.554672:  65%|######5   | 13/20 [00:03<00:02,  3.49it/s]\u001b[32m[I 2021-01-31 13:10:43,309]\u001b[0m Trial 52 finished with value: 1.554672664975073 and parameters: {'lambda_l1': 3.3483164873386226e-06, 'lambda_l2': 0.0005968841826993656}. Best is trial 41 with value: 1.5546719598670988.\u001b[0m\n",
            "regularization_factors, val_score: 1.554672:  70%|#######   | 14/20 [00:04<00:01,  3.52it/s]\u001b[32m[I 2021-01-31 13:10:43,587]\u001b[0m Trial 53 finished with value: 1.554671961131319 and parameters: {'lambda_l1': 1.4832471425370436e-06, 'lambda_l2': 2.7556558404286224e-07}. Best is trial 41 with value: 1.5546719598670988.\u001b[0m\n",
            "regularization_factors, val_score: 1.554672:  75%|#######5  | 15/20 [00:04<00:01,  3.56it/s]\u001b[32m[I 2021-01-31 13:10:43,861]\u001b[0m Trial 54 finished with value: 1.5546719599182846 and parameters: {'lambda_l1': 2.3097966548212594e-07, 'lambda_l2': 1.5464371398129154e-07}. Best is trial 41 with value: 1.5546719598670988.\u001b[0m\n",
            "regularization_factors, val_score: 1.554672:  80%|########  | 16/20 [00:04<00:01,  3.48it/s]\u001b[32m[I 2021-01-31 13:10:44,163]\u001b[0m Trial 55 finished with value: 1.5546720295146672 and parameters: {'lambda_l1': 1.061884994493216e-07, 'lambda_l2': 6.025865183930359e-05}. Best is trial 41 with value: 1.5546719598670988.\u001b[0m\n",
            "regularization_factors, val_score: 1.554672:  85%|########5 | 17/20 [00:04<00:00,  3.47it/s]\u001b[32m[I 2021-01-31 13:10:44,454]\u001b[0m Trial 56 finished with value: 1.554671959714356 and parameters: {'lambda_l1': 1.1476364260999686e-07, 'lambda_l2': 1.2350039743194366e-07}. Best is trial 56 with value: 1.554671959714356.\u001b[0m\n",
            "regularization_factors, val_score: 1.554672:  90%|######### | 18/20 [00:05<00:00,  3.49it/s]\u001b[32m[I 2021-01-31 13:10:44,739]\u001b[0m Trial 57 finished with value: 1.5546846374350696 and parameters: {'lambda_l1': 0.0001060115591592698, 'lambda_l2': 0.010673124827168744}. Best is trial 56 with value: 1.554671959714356.\u001b[0m\n",
            "regularization_factors, val_score: 1.554672:  95%|#########5| 19/20 [00:05<00:00,  3.48it/s]\u001b[32m[I 2021-01-31 13:10:45,027]\u001b[0m Trial 58 finished with value: 1.5546719596857126 and parameters: {'lambda_l1': 6.956680588968312e-08, 'lambda_l2': 1.5926656088137027e-07}. Best is trial 58 with value: 1.5546719596857126.\u001b[0m\n",
            "regularization_factors, val_score: 1.554672: 100%|##########| 20/20 [00:05<00:00,  3.51it/s]\u001b[32m[I 2021-01-31 13:10:45,310]\u001b[0m Trial 59 finished with value: 1.554674407668776 and parameters: {'lambda_l1': 0.0018089027817745288, 'lambda_l2': 1.3756113343855581e-08}. Best is trial 58 with value: 1.5546719596857126.\u001b[0m\n",
            "regularization_factors, val_score: 1.554672: 100%|##########| 20/20 [00:05<00:00,  3.45it/s]\n",
            "min_data_in_leaf, val_score: 1.554672:  20%|##        | 1/5 [00:00<00:01,  3.99it/s]\u001b[32m[I 2021-01-31 13:10:45,588]\u001b[0m Trial 60 finished with value: 1.7028528002730545 and parameters: {'min_child_samples': 100}. Best is trial 60 with value: 1.7028528002730545.\u001b[0m\n",
            "min_data_in_leaf, val_score: 1.554672:  40%|####      | 2/5 [00:00<00:00,  3.06it/s]\u001b[32m[I 2021-01-31 13:10:46,090]\u001b[0m Trial 61 finished with value: 1.555573559129048 and parameters: {'min_child_samples': 10}. Best is trial 61 with value: 1.555573559129048.\u001b[0m\n",
            "min_data_in_leaf, val_score: 1.554649:  60%|######    | 3/5 [00:01<00:00,  2.97it/s]\u001b[32m[I 2021-01-31 13:10:46,451]\u001b[0m Trial 62 finished with value: 1.554649094469505 and parameters: {'min_child_samples': 25}. Best is trial 62 with value: 1.554649094469505.\u001b[0m\n",
            "min_data_in_leaf, val_score: 1.554649:  80%|########  | 4/5 [00:01<00:00,  2.93it/s]\u001b[32m[I 2021-01-31 13:10:46,803]\u001b[0m Trial 63 finished with value: 1.5703514552587563 and parameters: {'min_child_samples': 5}. Best is trial 62 with value: 1.554649094469505.\u001b[0m\n",
            "min_data_in_leaf, val_score: 1.554649: 100%|##########| 5/5 [00:01<00:00,  3.11it/s]\u001b[32m[I 2021-01-31 13:10:47,076]\u001b[0m Trial 64 finished with value: 1.6011876857853182 and parameters: {'min_child_samples': 50}. Best is trial 62 with value: 1.554649094469505.\u001b[0m\n",
            "min_data_in_leaf, val_score: 1.554649: 100%|##########| 5/5 [00:01<00:00,  2.85it/s]\n"
          ],
          "name": "stderr"
        }
      ]
    },
    {
      "cell_type": "code",
      "metadata": {
        "colab": {
          "base_uri": "https://localhost:8080/"
        },
        "id": "eIDocO3oLEZp",
        "outputId": "e0f19f26-698f-4d61-abfa-25a13c0391c8"
      },
      "source": [
        "print(\"Best score:\", tuner.best_score)\r\n",
        "best_params = tuner.best_params\r\n",
        "print(\"Best params:\", best_params)\r\n",
        "print(\"  Params: \")\r\n",
        "\r\n",
        "for key, value in best_params.items():\r\n",
        "        print(\"    {}: {}\".format(key, value))"
      ],
      "execution_count": null,
      "outputs": [
        {
          "output_type": "stream",
          "text": [
            "Best score: 1.554649094469505\n",
            "Best params: {'objective': 'regression', 'metric': 'rmse', 'verbosity': -1, 'boosting_type': 'gbdt', 'feature_pre_filter': False, 'lambda_l1': 0.0, 'lambda_l2': 0.0, 'num_leaves': 2, 'feature_fraction': 0.4, 'bagging_fraction': 0.7194396763571909, 'bagging_freq': 3, 'min_child_samples': 25}\n",
            "  Params: \n",
            "    objective: regression\n",
            "    metric: rmse\n",
            "    verbosity: -1\n",
            "    boosting_type: gbdt\n",
            "    feature_pre_filter: False\n",
            "    lambda_l1: 0.0\n",
            "    lambda_l2: 0.0\n",
            "    num_leaves: 2\n",
            "    feature_fraction: 0.4\n",
            "    bagging_fraction: 0.7194396763571909\n",
            "    bagging_freq: 3\n",
            "    min_child_samples: 25\n"
          ],
          "name": "stdout"
        }
      ]
    },
    {
      "cell_type": "code",
      "metadata": {
        "colab": {
          "base_uri": "https://localhost:8080/"
        },
        "id": "Z8ZPERaoLEWk",
        "outputId": "bca15c8a-c544-4aaa-c07d-51301c8f6bfc"
      },
      "source": [
        "best_params"
      ],
      "execution_count": null,
      "outputs": [
        {
          "output_type": "execute_result",
          "data": {
            "text/plain": [
              "{'bagging_fraction': 0.7194396763571909,\n",
              " 'bagging_freq': 3,\n",
              " 'boosting_type': 'gbdt',\n",
              " 'feature_fraction': 0.4,\n",
              " 'feature_pre_filter': False,\n",
              " 'lambda_l1': 0.0,\n",
              " 'lambda_l2': 0.0,\n",
              " 'metric': 'rmse',\n",
              " 'min_child_samples': 25,\n",
              " 'num_leaves': 2,\n",
              " 'objective': 'regression',\n",
              " 'verbosity': -1}"
            ]
          },
          "metadata": {
            "tags": []
          },
          "execution_count": 19
        }
      ]
    },
    {
      "cell_type": "markdown",
      "metadata": {
        "id": "_JTtDP6jOlRr"
      },
      "source": [
        "#レビューデータを含める場合"
      ]
    },
    {
      "cell_type": "code",
      "metadata": {
        "id": "vYVMzKQhLETY"
      },
      "source": [
        "review = pd.read_csv('/content/drive/MyDrive/Movies/preprocessed/keiyousi_2016-2019.csv')\r\n",
        "review_ = review.drop_duplicates()\r\n",
        "review_ = review_.drop(['Title(ja)','title_url'], axis=1)\r\n",
        "train = train.merge(review_, how='left', on='Title')\r\n",
        "#test = test.merge(review_, how='left', on='Title')\r\n",
        "\r\n",
        "train_features = train.drop(drop_cols+['Gross'], axis=1)\r\n",
        "\r\n",
        "X = train_features.drop('Total Gross', axis=1)\r\n",
        "y = train_features['Total Gross']\r\n",
        "#対数スケールに変換\r\n",
        "y = np.log1p(y)\r\n",
        "\r\n",
        "dtrain = lgb.Dataset(X, y)"
      ],
      "execution_count": null,
      "outputs": []
    },
    {
      "cell_type": "code",
      "metadata": {
        "colab": {
          "base_uri": "https://localhost:8080/"
        },
        "id": "C5Kk_RWnLER4",
        "outputId": "41614201-68a9-4d3f-8244-d828bab2af83"
      },
      "source": [
        "params = {\r\n",
        "    'objective' : 'regression',\r\n",
        "    'metric' : 'rmse',\r\n",
        "    'verbosity':-1,\r\n",
        "    \"boosting_type\": \"gbdt\",\r\n",
        "}\r\n",
        "\r\n",
        "tuner = lgb.LightGBMTunerCV(\r\n",
        "        params, dtrain, \r\n",
        "        verbose_eval=1000, \r\n",
        "        early_stopping_rounds=100, \r\n",
        "        folds=KFold(n_splits=5),\r\n",
        "    )\r\n",
        "\r\n",
        "tuner.run()"
      ],
      "execution_count": null,
      "outputs": [
        {
          "output_type": "stream",
          "text": [
            "\u001b[32m[I 2021-01-31 13:10:47,433]\u001b[0m A new study created in memory with name: no-name-37e6db71-9ae5-4d9c-926e-cf502cb12e83\u001b[0m\n",
            "feature_fraction, val_score: 1.582472:  14%|#4        | 1/7 [00:01<00:09,  1.55s/it]\u001b[32m[I 2021-01-31 13:10:49,002]\u001b[0m Trial 0 finished with value: 1.5824717246710158 and parameters: {'feature_fraction': 0.7}. Best is trial 0 with value: 1.5824717246710158.\u001b[0m\n",
            "feature_fraction, val_score: 1.527033:  29%|##8       | 2/7 [00:02<00:07,  1.44s/it]\u001b[32m[I 2021-01-31 13:10:50,178]\u001b[0m Trial 1 finished with value: 1.5270333600802566 and parameters: {'feature_fraction': 0.4}. Best is trial 1 with value: 1.5270333600802566.\u001b[0m\n",
            "feature_fraction, val_score: 1.527033:  43%|####2     | 3/7 [00:04<00:06,  1.64s/it]\u001b[32m[I 2021-01-31 13:10:52,273]\u001b[0m Trial 2 finished with value: 1.637672995002987 and parameters: {'feature_fraction': 1.0}. Best is trial 1 with value: 1.5270333600802566.\u001b[0m\n",
            "feature_fraction, val_score: 1.527033:  57%|#####7    | 4/7 [00:06<00:05,  1.74s/it]\u001b[32m[I 2021-01-31 13:10:54,245]\u001b[0m Trial 3 finished with value: 1.6170288147643954 and parameters: {'feature_fraction': 0.8999999999999999}. Best is trial 1 with value: 1.5270333600802566.\u001b[0m\n",
            "feature_fraction, val_score: 1.527033:  71%|#######1  | 5/7 [00:08<00:03,  1.67s/it]\u001b[32m[I 2021-01-31 13:10:55,763]\u001b[0m Trial 4 finished with value: 1.5667996406625384 and parameters: {'feature_fraction': 0.6}. Best is trial 1 with value: 1.5270333600802566.\u001b[0m\n",
            "feature_fraction, val_score: 1.527033:  86%|########5 | 6/7 [00:09<00:01,  1.55s/it]\u001b[32m[I 2021-01-31 13:10:57,035]\u001b[0m Trial 5 finished with value: 1.5793007134015606 and parameters: {'feature_fraction': 0.5}. Best is trial 1 with value: 1.5270333600802566.\u001b[0m\n",
            "feature_fraction, val_score: 1.527033: 100%|##########| 7/7 [00:11<00:00,  1.60s/it]\u001b[32m[I 2021-01-31 13:10:58,750]\u001b[0m Trial 6 finished with value: 1.5905007019538757 and parameters: {'feature_fraction': 0.8}. Best is trial 1 with value: 1.5270333600802566.\u001b[0m\n",
            "feature_fraction, val_score: 1.527033: 100%|##########| 7/7 [00:11<00:00,  1.62s/it]\n",
            "num_leaves, val_score: 1.527033:   5%|5         | 1/20 [00:01<00:23,  1.22s/it]\u001b[32m[I 2021-01-31 13:10:59,983]\u001b[0m Trial 7 finished with value: 1.5270333600802566 and parameters: {'num_leaves': 81}. Best is trial 7 with value: 1.5270333600802566.\u001b[0m\n",
            "num_leaves, val_score: 1.527033:  10%|#         | 2/20 [00:02<00:22,  1.22s/it]\u001b[32m[I 2021-01-31 13:11:01,231]\u001b[0m Trial 8 finished with value: 1.5270333600802566 and parameters: {'num_leaves': 183}. Best is trial 7 with value: 1.5270333600802566.\u001b[0m\n",
            "num_leaves, val_score: 1.527033:  15%|#5        | 3/20 [00:03<00:20,  1.23s/it]\u001b[32m[I 2021-01-31 13:11:02,456]\u001b[0m Trial 9 finished with value: 1.5270333600802566 and parameters: {'num_leaves': 35}. Best is trial 7 with value: 1.5270333600802566.\u001b[0m\n",
            "num_leaves, val_score: 1.527033:  20%|##        | 4/20 [00:04<00:19,  1.24s/it]\u001b[32m[I 2021-01-31 13:11:03,741]\u001b[0m Trial 10 finished with value: 1.5270333600802566 and parameters: {'num_leaves': 191}. Best is trial 7 with value: 1.5270333600802566.\u001b[0m\n",
            "num_leaves, val_score: 1.527033:  25%|##5       | 5/20 [00:06<00:18,  1.22s/it]\u001b[32m[I 2021-01-31 13:11:04,917]\u001b[0m Trial 11 finished with value: 1.5270333600802566 and parameters: {'num_leaves': 23}. Best is trial 7 with value: 1.5270333600802566.\u001b[0m\n",
            "num_leaves, val_score: 1.527033:  30%|###       | 6/20 [00:07<00:16,  1.21s/it]\u001b[32m[I 2021-01-31 13:11:06,103]\u001b[0m Trial 12 finished with value: 1.5270333600802566 and parameters: {'num_leaves': 43}. Best is trial 7 with value: 1.5270333600802566.\u001b[0m\n",
            "num_leaves, val_score: 1.527033:  35%|###5      | 7/20 [00:08<00:16,  1.24s/it]\u001b[32m[I 2021-01-31 13:11:07,395]\u001b[0m Trial 13 finished with value: 1.5270333600802566 and parameters: {'num_leaves': 239}. Best is trial 7 with value: 1.5270333600802566.\u001b[0m\n",
            "num_leaves, val_score: 1.527033:  40%|####      | 8/20 [00:09<00:14,  1.17s/it]\u001b[32m[I 2021-01-31 13:11:08,415]\u001b[0m Trial 14 finished with value: 1.5643519006885211 and parameters: {'num_leaves': 2}. Best is trial 7 with value: 1.5270333600802566.\u001b[0m\n",
            "num_leaves, val_score: 1.527033:  45%|####5     | 9/20 [00:10<00:12,  1.18s/it]\u001b[32m[I 2021-01-31 13:11:09,604]\u001b[0m Trial 15 finished with value: 1.5270333600802566 and parameters: {'num_leaves': 48}. Best is trial 7 with value: 1.5270333600802566.\u001b[0m\n",
            "num_leaves, val_score: 1.527033:  50%|#####     | 10/20 [00:12<00:12,  1.20s/it]\u001b[32m[I 2021-01-31 13:11:10,861]\u001b[0m Trial 16 finished with value: 1.5270333600802566 and parameters: {'num_leaves': 132}. Best is trial 7 with value: 1.5270333600802566.\u001b[0m\n",
            "num_leaves, val_score: 1.527033:  55%|#####5    | 11/20 [00:13<00:11,  1.24s/it]\u001b[32m[I 2021-01-31 13:11:12,200]\u001b[0m Trial 17 finished with value: 1.5270333600802566 and parameters: {'num_leaves': 100}. Best is trial 7 with value: 1.5270333600802566.\u001b[0m\n",
            "num_leaves, val_score: 1.527033:  60%|######    | 12/20 [00:14<00:09,  1.24s/it]\u001b[32m[I 2021-01-31 13:11:13,432]\u001b[0m Trial 18 finished with value: 1.5270333600802566 and parameters: {'num_leaves': 147}. Best is trial 7 with value: 1.5270333600802566.\u001b[0m\n",
            "num_leaves, val_score: 1.527033:  65%|######5   | 13/20 [00:15<00:08,  1.25s/it]\u001b[32m[I 2021-01-31 13:11:14,705]\u001b[0m Trial 19 finished with value: 1.5270333600802566 and parameters: {'num_leaves': 200}. Best is trial 7 with value: 1.5270333600802566.\u001b[0m\n",
            "num_leaves, val_score: 1.527033:  70%|#######   | 14/20 [00:17<00:07,  1.23s/it]\u001b[32m[I 2021-01-31 13:11:15,878]\u001b[0m Trial 20 finished with value: 1.5270333600802566 and parameters: {'num_leaves': 95}. Best is trial 7 with value: 1.5270333600802566.\u001b[0m\n",
            "num_leaves, val_score: 1.527033:  75%|#######5  | 15/20 [00:18<00:06,  1.23s/it]\u001b[32m[I 2021-01-31 13:11:17,129]\u001b[0m Trial 21 finished with value: 1.5270333600802566 and parameters: {'num_leaves': 175}. Best is trial 7 with value: 1.5270333600802566.\u001b[0m\n",
            "num_leaves, val_score: 1.527033:  80%|########  | 16/20 [00:19<00:05,  1.25s/it]\u001b[32m[I 2021-01-31 13:11:18,420]\u001b[0m Trial 22 finished with value: 1.5270333600802566 and parameters: {'num_leaves': 248}. Best is trial 7 with value: 1.5270333600802566.\u001b[0m\n",
            "num_leaves, val_score: 1.527033:  85%|########5 | 17/20 [00:20<00:03,  1.23s/it]\u001b[32m[I 2021-01-31 13:11:19,613]\u001b[0m Trial 23 finished with value: 1.5270333600802566 and parameters: {'num_leaves': 88}. Best is trial 7 with value: 1.5270333600802566.\u001b[0m\n",
            "num_leaves, val_score: 1.527033:  90%|######### | 18/20 [00:22<00:02,  1.25s/it]\u001b[32m[I 2021-01-31 13:11:20,897]\u001b[0m Trial 24 finished with value: 1.5270333600802566 and parameters: {'num_leaves': 163}. Best is trial 7 with value: 1.5270333600802566.\u001b[0m\n",
            "num_leaves, val_score: 1.527033:  95%|#########5| 19/20 [00:23<00:01,  1.25s/it]\u001b[32m[I 2021-01-31 13:11:22,161]\u001b[0m Trial 25 finished with value: 1.5270333600802566 and parameters: {'num_leaves': 238}. Best is trial 7 with value: 1.5270333600802566.\u001b[0m\n",
            "num_leaves, val_score: 1.527033: 100%|##########| 20/20 [00:24<00:00,  1.23s/it]\u001b[32m[I 2021-01-31 13:11:23,347]\u001b[0m Trial 26 finished with value: 1.5270333600802566 and parameters: {'num_leaves': 82}. Best is trial 7 with value: 1.5270333600802566.\u001b[0m\n",
            "num_leaves, val_score: 1.527033: 100%|##########| 20/20 [00:24<00:00,  1.23s/it]\n",
            "bagging, val_score: 1.527033:  10%|#         | 1/10 [00:01<00:09,  1.01s/it]\u001b[32m[I 2021-01-31 13:11:24,365]\u001b[0m Trial 27 finished with value: 1.5582156142287211 and parameters: {'bagging_fraction': 0.8237866265709488, 'bagging_freq': 7}. Best is trial 27 with value: 1.5582156142287211.\u001b[0m\n",
            "bagging, val_score: 1.527033:  20%|##        | 2/10 [00:01<00:07,  1.05it/s]\u001b[32m[I 2021-01-31 13:11:25,190]\u001b[0m Trial 28 finished with value: 1.5346806241643487 and parameters: {'bagging_fraction': 0.6217123085024018, 'bagging_freq': 6}. Best is trial 28 with value: 1.5346806241643487.\u001b[0m\n",
            "bagging, val_score: 1.527033:  30%|###       | 3/10 [00:02<00:06,  1.05it/s]\u001b[32m[I 2021-01-31 13:11:26,154]\u001b[0m Trial 29 finished with value: 1.5443453952289263 and parameters: {'bagging_fraction': 0.680686989153764, 'bagging_freq': 3}. Best is trial 28 with value: 1.5346806241643487.\u001b[0m\n",
            "bagging, val_score: 1.527033:  40%|####      | 4/10 [00:03<00:05,  1.07it/s]\u001b[32m[I 2021-01-31 13:11:27,038]\u001b[0m Trial 30 finished with value: 1.5375410937784764 and parameters: {'bagging_fraction': 0.6670063369785428, 'bagging_freq': 3}. Best is trial 28 with value: 1.5346806241643487.\u001b[0m\n",
            "bagging, val_score: 1.527033:  50%|#####     | 5/10 [00:04<00:04,  1.06it/s]\u001b[32m[I 2021-01-31 13:11:27,989]\u001b[0m Trial 31 finished with value: 1.552828610050924 and parameters: {'bagging_fraction': 0.7806888422728919, 'bagging_freq': 6}. Best is trial 28 with value: 1.5346806241643487.\u001b[0m\n",
            "bagging, val_score: 1.527033:  60%|######    | 6/10 [00:05<00:03,  1.03it/s]\u001b[32m[I 2021-01-31 13:11:29,029]\u001b[0m Trial 32 finished with value: 1.5548696106156759 and parameters: {'bagging_fraction': 0.8522808764513958, 'bagging_freq': 6}. Best is trial 28 with value: 1.5346806241643487.\u001b[0m\n",
            "bagging, val_score: 1.527033:  70%|#######   | 7/10 [00:06<00:02,  1.08it/s]\u001b[32m[I 2021-01-31 13:11:29,852]\u001b[0m Trial 33 finished with value: 1.548565849108041 and parameters: {'bagging_fraction': 0.6377603718351378, 'bagging_freq': 5}. Best is trial 28 with value: 1.5346806241643487.\u001b[0m\n",
            "bagging, val_score: 1.527033:  80%|########  | 8/10 [00:07<00:01,  1.02it/s]\u001b[32m[I 2021-01-31 13:11:30,964]\u001b[0m Trial 34 finished with value: 1.5374084643525918 and parameters: {'bagging_fraction': 0.9437234035836017, 'bagging_freq': 5}. Best is trial 28 with value: 1.5346806241643487.\u001b[0m\n",
            "bagging, val_score: 1.513104:  90%|######### | 9/10 [00:08<00:01,  1.05s/it]\u001b[32m[I 2021-01-31 13:11:32,154]\u001b[0m Trial 35 finished with value: 1.5131036557169737 and parameters: {'bagging_fraction': 0.9451939836214276, 'bagging_freq': 7}. Best is trial 35 with value: 1.5131036557169737.\u001b[0m\n",
            "bagging, val_score: 1.513104: 100%|##########| 10/10 [00:09<00:00,  1.04s/it]\u001b[32m[I 2021-01-31 13:11:33,173]\u001b[0m Trial 36 finished with value: 1.5567495693061288 and parameters: {'bagging_fraction': 0.8031719347375386, 'bagging_freq': 5}. Best is trial 35 with value: 1.5131036557169737.\u001b[0m\n",
            "bagging, val_score: 1.513104: 100%|##########| 10/10 [00:09<00:00,  1.02it/s]\n",
            "feature_fraction_stage2, val_score: 1.513104:  33%|###3      | 1/3 [00:01<00:02,  1.16s/it]\u001b[32m[I 2021-01-31 13:11:34,349]\u001b[0m Trial 37 finished with value: 1.5415812926917631 and parameters: {'feature_fraction': 0.41600000000000004}. Best is trial 37 with value: 1.5415812926917631.\u001b[0m\n",
            "feature_fraction_stage2, val_score: 1.513104:  67%|######6   | 2/3 [00:02<00:01,  1.19s/it]\u001b[32m[I 2021-01-31 13:11:35,612]\u001b[0m Trial 38 finished with value: 1.591292066167982 and parameters: {'feature_fraction': 0.48000000000000004}. Best is trial 37 with value: 1.5415812926917631.\u001b[0m\n",
            "feature_fraction_stage2, val_score: 1.513104: 100%|##########| 3/3 [00:03<00:00,  1.20s/it]\u001b[32m[I 2021-01-31 13:11:36,814]\u001b[0m Trial 39 finished with value: 1.5831194921426426 and parameters: {'feature_fraction': 0.44800000000000006}. Best is trial 37 with value: 1.5415812926917631.\u001b[0m\n",
            "feature_fraction_stage2, val_score: 1.513104: 100%|##########| 3/3 [00:03<00:00,  1.21s/it]\n",
            "regularization_factors, val_score: 1.513104:   5%|5         | 1/20 [00:01<00:23,  1.24s/it]\u001b[32m[I 2021-01-31 13:11:38,074]\u001b[0m Trial 40 finished with value: 1.513118316905948 and parameters: {'lambda_l1': 4.019436563595462e-07, 'lambda_l2': 0.007105286948470219}. Best is trial 40 with value: 1.513118316905948.\u001b[0m\n",
            "regularization_factors, val_score: 1.513104:  10%|#         | 2/20 [00:02<00:21,  1.22s/it]\u001b[32m[I 2021-01-31 13:11:39,229]\u001b[0m Trial 41 finished with value: 1.5131290532781243 and parameters: {'lambda_l1': 0.009820703281046159, 'lambda_l2': 3.2111099410556577e-07}. Best is trial 40 with value: 1.513118316905948.\u001b[0m\n",
            "regularization_factors, val_score: 1.513104:  15%|#5        | 3/20 [00:03<00:20,  1.19s/it]\u001b[32m[I 2021-01-31 13:11:40,363]\u001b[0m Trial 42 finished with value: 1.5131071034321186 and parameters: {'lambda_l1': 2.888574830882732e-08, 'lambda_l2': 0.0016711656639191298}. Best is trial 42 with value: 1.5131071034321186.\u001b[0m\n",
            "regularization_factors, val_score: 1.512334:  20%|##        | 4/20 [00:04<00:18,  1.18s/it]\u001b[32m[I 2021-01-31 13:11:41,516]\u001b[0m Trial 43 finished with value: 1.5123342981286767 and parameters: {'lambda_l1': 0.008127161059523547, 'lambda_l2': 0.0404601525465779}. Best is trial 43 with value: 1.5123342981286767.\u001b[0m\n",
            "regularization_factors, val_score: 1.512334:  25%|##5       | 5/20 [00:05<00:17,  1.18s/it]\u001b[32m[I 2021-01-31 13:11:42,702]\u001b[0m Trial 44 finished with value: 1.5131040987959539 and parameters: {'lambda_l1': 0.00036055869343280816, 'lambda_l2': 1.0740916709082972e-06}. Best is trial 43 with value: 1.5123342981286767.\u001b[0m\n",
            "regularization_factors, val_score: 1.512334:  30%|###       | 6/20 [00:06<00:16,  1.16s/it]\u001b[32m[I 2021-01-31 13:11:43,796]\u001b[0m Trial 45 finished with value: 1.533404137053056 and parameters: {'lambda_l1': 0.0036255761433574086, 'lambda_l2': 5.752323168019181}. Best is trial 43 with value: 1.5123342981286767.\u001b[0m\n",
            "regularization_factors, val_score: 1.512334:  35%|###5      | 7/20 [00:08<00:15,  1.16s/it]\u001b[32m[I 2021-01-31 13:11:44,952]\u001b[0m Trial 46 finished with value: 1.5351035885830568 and parameters: {'lambda_l1': 2.473661754640656e-07, 'lambda_l2': 5.219947934500486}. Best is trial 43 with value: 1.5123342981286767.\u001b[0m\n",
            "regularization_factors, val_score: 1.512334:  40%|####      | 8/20 [00:09<00:13,  1.15s/it]\u001b[32m[I 2021-01-31 13:11:46,081]\u001b[0m Trial 47 finished with value: 1.5123784722476699 and parameters: {'lambda_l1': 0.024493592370966776, 'lambda_l2': 0.02099815453460883}. Best is trial 43 with value: 1.5123342981286767.\u001b[0m\n",
            "regularization_factors, val_score: 1.512334:  45%|####5     | 9/20 [00:10<00:11,  1.08s/it]\u001b[32m[I 2021-01-31 13:11:47,007]\u001b[0m Trial 48 finished with value: 1.530555377569011 and parameters: {'lambda_l1': 3.907835777852819, 'lambda_l2': 0.20628826896806135}. Best is trial 43 with value: 1.5123342981286767.\u001b[0m\n",
            "regularization_factors, val_score: 1.512334:  50%|#####     | 10/20 [00:11<00:11,  1.10s/it]\u001b[32m[I 2021-01-31 13:11:48,162]\u001b[0m Trial 49 finished with value: 1.5128737348671961 and parameters: {'lambda_l1': 2.653798319301739e-08, 'lambda_l2': 0.015201611023283417}. Best is trial 43 with value: 1.5123342981286767.\u001b[0m\n",
            "regularization_factors, val_score: 1.512334:  55%|#####5    | 11/20 [00:12<00:09,  1.04s/it]\u001b[32m[I 2021-01-31 13:11:49,056]\u001b[0m Trial 50 finished with value: 1.530957625882008 and parameters: {'lambda_l1': 4.673188242832783, 'lambda_l2': 9.804542444650546e-06}. Best is trial 43 with value: 1.5123342981286767.\u001b[0m\n",
            "regularization_factors, val_score: 1.510148:  60%|######    | 12/20 [00:13<00:08,  1.10s/it]\u001b[32m[I 2021-01-31 13:11:50,313]\u001b[0m Trial 51 finished with value: 1.5101482837242182 and parameters: {'lambda_l1': 0.09669194112671695, 'lambda_l2': 8.630547201230277e-05}. Best is trial 51 with value: 1.5101482837242182.\u001b[0m\n",
            "regularization_factors, val_score: 1.507467:  65%|######5   | 13/20 [00:14<00:07,  1.11s/it]\u001b[32m[I 2021-01-31 13:11:51,435]\u001b[0m Trial 52 finished with value: 1.507466770307179 and parameters: {'lambda_l1': 0.16188546288064465, 'lambda_l2': 5.755195400161392e-05}. Best is trial 52 with value: 1.507466770307179.\u001b[0m\n",
            "regularization_factors, val_score: 1.507467:  70%|#######   | 14/20 [00:15<00:06,  1.11s/it]\u001b[32m[I 2021-01-31 13:11:52,531]\u001b[0m Trial 53 finished with value: 1.5254713233201673 and parameters: {'lambda_l1': 0.4636519878987285, 'lambda_l2': 6.578409379422918e-05}. Best is trial 52 with value: 1.507466770307179.\u001b[0m\n",
            "regularization_factors, val_score: 1.507467:  75%|#######5  | 15/20 [00:16<00:05,  1.12s/it]\u001b[32m[I 2021-01-31 13:11:53,682]\u001b[0m Trial 54 finished with value: 1.522777290057618 and parameters: {'lambda_l1': 0.32561283100605665, 'lambda_l2': 2.6923596311363346e-08}. Best is trial 52 with value: 1.507466770307179.\u001b[0m\n",
            "regularization_factors, val_score: 1.507467:  80%|########  | 16/20 [00:17<00:04,  1.12s/it]\u001b[32m[I 2021-01-31 13:11:54,808]\u001b[0m Trial 55 finished with value: 1.5131040026076312 and parameters: {'lambda_l1': 1.6983044516512848e-05, 'lambda_l2': 0.0001579350831626813}. Best is trial 52 with value: 1.507466770307179.\u001b[0m\n",
            "regularization_factors, val_score: 1.507467:  85%|########5 | 17/20 [00:19<00:03,  1.12s/it]\u001b[32m[I 2021-01-31 13:11:55,941]\u001b[0m Trial 56 finished with value: 1.5227916037458455 and parameters: {'lambda_l1': 0.3418621157853823, 'lambda_l2': 1.2612246380951035e-05}. Best is trial 52 with value: 1.507466770307179.\u001b[0m\n",
            "regularization_factors, val_score: 1.507467:  90%|######### | 18/20 [00:20<00:02,  1.14s/it]\u001b[32m[I 2021-01-31 13:11:57,108]\u001b[0m Trial 57 finished with value: 1.5131054504356591 and parameters: {'lambda_l1': 0.00023185974358399413, 'lambda_l2': 0.0007327574497377897}. Best is trial 52 with value: 1.507466770307179.\u001b[0m\n",
            "regularization_factors, val_score: 1.507467:  95%|#########5| 19/20 [00:21<00:01,  1.14s/it]\u001b[32m[I 2021-01-31 13:11:58,263]\u001b[0m Trial 58 finished with value: 1.5115090680253145 and parameters: {'lambda_l1': 0.07933925996599477, 'lambda_l2': 2.8287016919603486e-06}. Best is trial 52 with value: 1.507466770307179.\u001b[0m\n",
            "regularization_factors, val_score: 1.507467: 100%|##########| 20/20 [00:22<00:00,  1.06s/it]\u001b[32m[I 2021-01-31 13:11:59,123]\u001b[0m Trial 59 finished with value: 1.5359498736981907 and parameters: {'lambda_l1': 5.882914725658305, 'lambda_l2': 7.102290750883485e-08}. Best is trial 52 with value: 1.507466770307179.\u001b[0m\n",
            "regularization_factors, val_score: 1.507467: 100%|##########| 20/20 [00:22<00:00,  1.12s/it]\n",
            "min_data_in_leaf, val_score: 1.507467:  20%|##        | 1/5 [00:00<00:03,  1.02it/s]\u001b[32m[I 2021-01-31 13:12:00,121]\u001b[0m Trial 60 finished with value: 1.5935810796771972 and parameters: {'min_child_samples': 25}. Best is trial 60 with value: 1.5935810796771972.\u001b[0m\n",
            "min_data_in_leaf, val_score: 1.507467:  40%|####      | 2/5 [00:03<00:04,  1.59s/it]\u001b[32m[I 2021-01-31 13:12:03,130]\u001b[0m Trial 61 finished with value: 1.5488253058277397 and parameters: {'min_child_samples': 5}. Best is trial 61 with value: 1.5488253058277397.\u001b[0m\n",
            "min_data_in_leaf, val_score: 1.507467:  60%|######    | 3/5 [00:04<00:02,  1.29s/it]\u001b[32m[I 2021-01-31 13:12:03,735]\u001b[0m Trial 62 finished with value: 1.6618124545425677 and parameters: {'min_child_samples': 50}. Best is trial 61 with value: 1.5488253058277397.\u001b[0m\n",
            "min_data_in_leaf, val_score: 1.507467:  80%|########  | 4/5 [00:05<00:01,  1.05s/it]\u001b[32m[I 2021-01-31 13:12:04,216]\u001b[0m Trial 63 finished with value: 1.624436502834866 and parameters: {'min_child_samples': 100}. Best is trial 61 with value: 1.5488253058277397.\u001b[0m\n",
            "min_data_in_leaf, val_score: 1.507467: 100%|##########| 5/5 [00:11<00:00,  2.65s/it]\u001b[32m[I 2021-01-31 13:12:10,621]\u001b[0m Trial 64 finished with value: 1.6375671523736082 and parameters: {'min_child_samples': 10}. Best is trial 61 with value: 1.5488253058277397.\u001b[0m\n",
            "min_data_in_leaf, val_score: 1.507467: 100%|##########| 5/5 [00:11<00:00,  2.30s/it]\n"
          ],
          "name": "stderr"
        }
      ]
    },
    {
      "cell_type": "code",
      "metadata": {
        "colab": {
          "base_uri": "https://localhost:8080/"
        },
        "id": "DpuobIfEPEZB",
        "outputId": "ffc07a3a-87bb-4dea-ee22-2a3fb98134f2"
      },
      "source": [
        "print(\"Best score:\", tuner.best_score)\r\n",
        "best_params_with_reviews = tuner.best_params\r\n",
        "print(\"Best params:\", best_params_with_reviews)\r\n",
        "print(\"  Params: \")\r\n",
        "\r\n",
        "for key, value in best_params_with_reviews.items():\r\n",
        "        print(\"    {}: {}\".format(key, value))"
      ],
      "execution_count": null,
      "outputs": [
        {
          "output_type": "stream",
          "text": [
            "Best score: 1.507466770307179\n",
            "Best params: {'objective': 'regression', 'metric': 'rmse', 'verbosity': -1, 'boosting_type': 'gbdt', 'feature_pre_filter': False, 'lambda_l1': 0.16188546288064465, 'lambda_l2': 5.755195400161392e-05, 'num_leaves': 31, 'feature_fraction': 0.4, 'bagging_fraction': 0.9451939836214276, 'bagging_freq': 7, 'min_child_samples': 20}\n",
            "  Params: \n",
            "    objective: regression\n",
            "    metric: rmse\n",
            "    verbosity: -1\n",
            "    boosting_type: gbdt\n",
            "    feature_pre_filter: False\n",
            "    lambda_l1: 0.16188546288064465\n",
            "    lambda_l2: 5.755195400161392e-05\n",
            "    num_leaves: 31\n",
            "    feature_fraction: 0.4\n",
            "    bagging_fraction: 0.9451939836214276\n",
            "    bagging_freq: 7\n",
            "    min_child_samples: 20\n"
          ],
          "name": "stdout"
        }
      ]
    },
    {
      "cell_type": "markdown",
      "metadata": {
        "id": "hMdZXSmGPVfC"
      },
      "source": [
        "#タイトルデータを含める場合"
      ]
    },
    {
      "cell_type": "code",
      "metadata": {
        "colab": {
          "base_uri": "https://localhost:8080/"
        },
        "id": "alPpggFEP0JS",
        "outputId": "311d35b5-e469-4b40-e8e9-7fdc0a4195de"
      },
      "source": [
        "train = read_data(path+'train_2016-2018_title.csv', encode_type='utf-8')\r\n",
        "test = read_data(path+'test_2019_title.csv', encode_type='utf-8')\r\n",
        "train = train.loc[train['Title'].drop_duplicates(keep='first').index]\r\n",
        "\r\n",
        "#上映館数の前処理\r\n",
        "data = pd.concat([train, test], axis=0).reset_index(drop=True)\r\n",
        "data = preprocess_Theaters(data)\r\n",
        "cols=['Country', 'Opening_Day']\r\n",
        "data = lable_encoding(data, cols)\r\n",
        "train = data[0:len(train)]\r\n",
        "test = data[len(train):]\r\n",
        "print(train.shape, test.shape)\r\n",
        "\r\n",
        "\r\n",
        "train = make_describe_col(train, 'Theaters')\r\n",
        "train = make_describe_col(train, 'Time')\r\n",
        "\r\n",
        "use_columns = [\r\n",
        "        'レビュー数',\r\n",
        "        '平均スコア', \r\n",
        "        'Gross', \r\n",
        "        'Total Gross',\r\n",
        "        'Theaters' ]\r\n",
        "\r\n",
        "train = normalization(train, use_columns)\r\n",
        "test = normalization(test, use_columns)"
      ],
      "execution_count": null,
      "outputs": [
        {
          "output_type": "stream",
          "text": [
            "/usr/local/lib/python3.6/dist-packages/IPython/core/interactiveshell.py:2822: DtypeWarning:\n",
            "\n",
            "Columns (5628) have mixed types.Specify dtype option on import or set low_memory=False.\n",
            "\n"
          ],
          "name": "stderr"
        },
        {
          "output_type": "stream",
          "text": [
            "(514, 9063) (167, 9063)\n"
          ],
          "name": "stdout"
        }
      ]
    },
    {
      "cell_type": "code",
      "metadata": {
        "colab": {
          "base_uri": "https://localhost:8080/"
        },
        "id": "AFhQ5sT8Pbcr",
        "outputId": "b8a2c185-46f9-4ac4-c39d-edae98113721"
      },
      "source": [
        "#review = pd.read_csv('/content/drive/MyDrive/Movies/preprocessed/keiyousi_2016-2019.csv')\r\n",
        "#review_ = review.drop_duplicates()\r\n",
        "#review_ = review_.drop(['Title(ja)','title_url'], axis=1)\r\n",
        "#train = train.merge(review_, how='left', on='Title')\r\n",
        "#test = test.merge(review_, how='left', on='Title')\r\n",
        "\r\n",
        "train_features = train.drop(drop_cols+['Gross'], axis=1)\r\n",
        "\r\n",
        "X = train_features.drop('Total Gross', axis=1)\r\n",
        "y = train_features['Total Gross']\r\n",
        "#対数スケールに変換\r\n",
        "y = np.log1p(y)\r\n",
        "\r\n",
        "dtrain = lgb.Dataset(X, y)\r\n",
        "\r\n",
        "#parameter setting----\r\n",
        "params = {\r\n",
        "    'objective' : 'regression',\r\n",
        "    'metric' : 'rmse',\r\n",
        "    'verbosity':-1,\r\n",
        "    \"boosting_type\": \"gbdt\",\r\n",
        "}\r\n",
        "\r\n",
        "tuner = lgb.LightGBMTunerCV(\r\n",
        "        params, dtrain, \r\n",
        "        verbose_eval=1000, \r\n",
        "        early_stopping_rounds=100, \r\n",
        "        folds=KFold(n_splits=5),\r\n",
        "    )\r\n",
        "\r\n",
        "tuner.run()"
      ],
      "execution_count": null,
      "outputs": [
        {
          "output_type": "stream",
          "text": [
            "\u001b[32m[I 2021-01-31 13:12:17,851]\u001b[0m A new study created in memory with name: no-name-9db1e6f7-b882-49fb-bde3-ac992a6a2b23\u001b[0m\n",
            "feature_fraction, val_score: 0.568870:  14%|#4        | 1/7 [00:00<00:02,  2.52it/s]\u001b[32m[I 2021-01-31 13:12:18,259]\u001b[0m Trial 0 finished with value: 0.5688698392201681 and parameters: {'feature_fraction': 0.5}. Best is trial 0 with value: 0.5688698392201681.\u001b[0m\n",
            "feature_fraction, val_score: 0.559198:  29%|##8       | 2/7 [00:00<00:01,  2.57it/s]\u001b[32m[I 2021-01-31 13:12:18,630]\u001b[0m Trial 1 finished with value: 0.5591983129917596 and parameters: {'feature_fraction': 0.4}. Best is trial 1 with value: 0.5591983129917596.\u001b[0m\n",
            "feature_fraction, val_score: 0.559198:  43%|####2     | 3/7 [00:01<00:01,  2.51it/s]\u001b[32m[I 2021-01-31 13:12:19,048]\u001b[0m Trial 2 finished with value: 0.5760432373422791 and parameters: {'feature_fraction': 0.6}. Best is trial 1 with value: 0.5591983129917596.\u001b[0m\n",
            "feature_fraction, val_score: 0.559198:  57%|#####7    | 4/7 [00:01<00:01,  2.39it/s]\u001b[32m[I 2021-01-31 13:12:19,519]\u001b[0m Trial 3 finished with value: 0.595011610597137 and parameters: {'feature_fraction': 0.8999999999999999}. Best is trial 1 with value: 0.5591983129917596.\u001b[0m\n",
            "feature_fraction, val_score: 0.559198:  71%|#######1  | 5/7 [00:02<00:00,  2.36it/s]\u001b[32m[I 2021-01-31 13:12:19,953]\u001b[0m Trial 4 finished with value: 0.5764146292654602 and parameters: {'feature_fraction': 0.7}. Best is trial 1 with value: 0.5591983129917596.\u001b[0m\n",
            "feature_fraction, val_score: 0.559198:  86%|########5 | 6/7 [00:02<00:00,  2.31it/s]\u001b[32m[I 2021-01-31 13:12:20,416]\u001b[0m Trial 5 finished with value: 0.5987108598021506 and parameters: {'feature_fraction': 1.0}. Best is trial 1 with value: 0.5591983129917596.\u001b[0m\n",
            "feature_fraction, val_score: 0.559198: 100%|##########| 7/7 [00:03<00:00,  2.14it/s]\u001b[32m[I 2021-01-31 13:12:20,962]\u001b[0m Trial 6 finished with value: 0.5906196794074148 and parameters: {'feature_fraction': 0.8}. Best is trial 1 with value: 0.5591983129917596.\u001b[0m\n",
            "feature_fraction, val_score: 0.559198: 100%|##########| 7/7 [00:03<00:00,  2.25it/s]\n",
            "num_leaves, val_score: 0.559198:   5%|5         | 1/20 [00:00<00:07,  2.54it/s]\u001b[32m[I 2021-01-31 13:12:21,380]\u001b[0m Trial 7 finished with value: 0.5591983129917596 and parameters: {'num_leaves': 143}. Best is trial 7 with value: 0.5591983129917596.\u001b[0m\n",
            "num_leaves, val_score: 0.559198:  10%|#         | 2/20 [00:00<00:07,  2.53it/s]\u001b[32m[I 2021-01-31 13:12:21,771]\u001b[0m Trial 8 finished with value: 0.5591983129917596 and parameters: {'num_leaves': 54}. Best is trial 7 with value: 0.5591983129917596.\u001b[0m\n",
            "num_leaves, val_score: 0.559198:  15%|#5        | 3/20 [00:01<00:06,  2.53it/s]\u001b[32m[I 2021-01-31 13:12:22,167]\u001b[0m Trial 9 finished with value: 0.5591983129917596 and parameters: {'num_leaves': 186}. Best is trial 7 with value: 0.5591983129917596.\u001b[0m\n",
            "num_leaves, val_score: 0.558240:  20%|##        | 4/20 [00:01<00:06,  2.59it/s]\u001b[32m[I 2021-01-31 13:12:22,527]\u001b[0m Trial 10 finished with value: 0.5582401240688484 and parameters: {'num_leaves': 14}. Best is trial 10 with value: 0.5582401240688484.\u001b[0m\n",
            "num_leaves, val_score: 0.558240:  25%|##5       | 5/20 [00:01<00:05,  2.54it/s]\u001b[32m[I 2021-01-31 13:12:22,942]\u001b[0m Trial 11 finished with value: 0.5591983129917596 and parameters: {'num_leaves': 234}. Best is trial 10 with value: 0.5582401240688484.\u001b[0m\n",
            "num_leaves, val_score: 0.558240:  30%|###       | 6/20 [00:02<00:05,  2.51it/s]\u001b[32m[I 2021-01-31 13:12:23,349]\u001b[0m Trial 12 finished with value: 0.5591983129917596 and parameters: {'num_leaves': 252}. Best is trial 10 with value: 0.5582401240688484.\u001b[0m\n",
            "num_leaves, val_score: 0.558240:  35%|###5      | 7/20 [00:02<00:05,  2.54it/s]\u001b[32m[I 2021-01-31 13:12:23,734]\u001b[0m Trial 13 finished with value: 0.5591983129917596 and parameters: {'num_leaves': 171}. Best is trial 10 with value: 0.5582401240688484.\u001b[0m\n",
            "num_leaves, val_score: 0.558240:  40%|####      | 8/20 [00:03<00:04,  2.53it/s]\u001b[32m[I 2021-01-31 13:12:24,132]\u001b[0m Trial 14 finished with value: 0.5591983129917596 and parameters: {'num_leaves': 190}. Best is trial 10 with value: 0.5582401240688484.\u001b[0m\n",
            "num_leaves, val_score: 0.558240:  45%|####5     | 9/20 [00:03<00:04,  2.54it/s]\u001b[32m[I 2021-01-31 13:12:24,520]\u001b[0m Trial 15 finished with value: 0.5591983129917596 and parameters: {'num_leaves': 199}. Best is trial 10 with value: 0.5582401240688484.\u001b[0m\n",
            "num_leaves, val_score: 0.558240:  50%|#####     | 10/20 [00:03<00:03,  2.51it/s]\u001b[32m[I 2021-01-31 13:12:24,929]\u001b[0m Trial 16 finished with value: 0.5591983129917596 and parameters: {'num_leaves': 231}. Best is trial 10 with value: 0.5582401240688484.\u001b[0m\n",
            "num_leaves, val_score: 0.558240:  55%|#####5    | 11/20 [00:04<00:03,  2.70it/s]\u001b[32m[I 2021-01-31 13:12:25,237]\u001b[0m Trial 17 finished with value: 0.569337384465503 and parameters: {'num_leaves': 5}. Best is trial 10 with value: 0.5582401240688484.\u001b[0m\n",
            "num_leaves, val_score: 0.558240:  60%|######    | 12/20 [00:04<00:02,  2.67it/s]\u001b[32m[I 2021-01-31 13:12:25,619]\u001b[0m Trial 18 finished with value: 0.5591983129917596 and parameters: {'num_leaves': 104}. Best is trial 10 with value: 0.5582401240688484.\u001b[0m\n",
            "num_leaves, val_score: 0.558240:  65%|######5   | 13/20 [00:05<00:02,  2.43it/s]\u001b[32m[I 2021-01-31 13:12:26,119]\u001b[0m Trial 19 finished with value: 0.5591983129917596 and parameters: {'num_leaves': 117}. Best is trial 10 with value: 0.5582401240688484.\u001b[0m\n",
            "num_leaves, val_score: 0.558240:  70%|#######   | 14/20 [00:05<00:02,  2.46it/s]\u001b[32m[I 2021-01-31 13:12:26,514]\u001b[0m Trial 20 finished with value: 0.5591983129917596 and parameters: {'num_leaves': 56}. Best is trial 10 with value: 0.5582401240688484.\u001b[0m\n",
            "num_leaves, val_score: 0.558240:  75%|#######5  | 15/20 [00:05<00:02,  2.44it/s]\u001b[32m[I 2021-01-31 13:12:26,928]\u001b[0m Trial 21 finished with value: 0.5591983129917596 and parameters: {'num_leaves': 146}. Best is trial 10 with value: 0.5582401240688484.\u001b[0m\n",
            "num_leaves, val_score: 0.558240:  80%|########  | 16/20 [00:06<00:01,  2.41it/s]\u001b[32m[I 2021-01-31 13:12:27,357]\u001b[0m Trial 22 finished with value: 0.5591983129917596 and parameters: {'num_leaves': 76}. Best is trial 10 with value: 0.5582401240688484.\u001b[0m\n",
            "num_leaves, val_score: 0.558240:  85%|########5 | 17/20 [00:06<00:01,  2.58it/s]\u001b[32m[I 2021-01-31 13:12:27,678]\u001b[0m Trial 23 finished with value: 0.5638184287435555 and parameters: {'num_leaves': 8}. Best is trial 10 with value: 0.5582401240688484.\u001b[0m\n",
            "num_leaves, val_score: 0.558240:  90%|######### | 18/20 [00:07<00:00,  2.50it/s]\u001b[32m[I 2021-01-31 13:12:28,111]\u001b[0m Trial 24 finished with value: 0.5591983129917596 and parameters: {'num_leaves': 147}. Best is trial 10 with value: 0.5582401240688484.\u001b[0m\n",
            "num_leaves, val_score: 0.558240:  95%|#########5| 19/20 [00:07<00:00,  2.50it/s]\u001b[32m[I 2021-01-31 13:12:28,509]\u001b[0m Trial 25 finished with value: 0.5591983129917596 and parameters: {'num_leaves': 84}. Best is trial 10 with value: 0.5582401240688484.\u001b[0m\n",
            "num_leaves, val_score: 0.558240: 100%|##########| 20/20 [00:07<00:00,  2.54it/s]\u001b[32m[I 2021-01-31 13:12:28,888]\u001b[0m Trial 26 finished with value: 0.5591983129917596 and parameters: {'num_leaves': 26}. Best is trial 10 with value: 0.5582401240688484.\u001b[0m\n",
            "num_leaves, val_score: 0.558240: 100%|##########| 20/20 [00:07<00:00,  2.52it/s]\n",
            "bagging, val_score: 0.558240:  10%|#         | 1/10 [00:00<00:03,  2.44it/s]\u001b[32m[I 2021-01-31 13:12:29,325]\u001b[0m Trial 27 finished with value: 0.5651855920076575 and parameters: {'bagging_fraction': 0.9547910225267968, 'bagging_freq': 7}. Best is trial 27 with value: 0.5651855920076575.\u001b[0m\n",
            "bagging, val_score: 0.558240:  20%|##        | 2/10 [00:00<00:03,  2.57it/s]\u001b[32m[I 2021-01-31 13:12:29,659]\u001b[0m Trial 28 finished with value: 0.5726029550429754 and parameters: {'bagging_fraction': 0.5717596641286596, 'bagging_freq': 1}. Best is trial 27 with value: 0.5651855920076575.\u001b[0m\n",
            "bagging, val_score: 0.558240:  30%|###       | 3/10 [00:01<00:02,  2.70it/s]\u001b[32m[I 2021-01-31 13:12:29,986]\u001b[0m Trial 29 finished with value: 0.5673273480609218 and parameters: {'bagging_fraction': 0.46578671989972364, 'bagging_freq': 2}. Best is trial 27 with value: 0.5651855920076575.\u001b[0m\n",
            "bagging, val_score: 0.558240:  40%|####      | 4/10 [00:01<00:02,  2.82it/s]\u001b[32m[I 2021-01-31 13:12:30,306]\u001b[0m Trial 30 finished with value: 0.5625563535683219 and parameters: {'bagging_fraction': 0.5984646164495324, 'bagging_freq': 7}. Best is trial 30 with value: 0.5625563535683219.\u001b[0m\n",
            "bagging, val_score: 0.558240:  50%|#####     | 5/10 [00:01<00:01,  2.66it/s]\u001b[32m[I 2021-01-31 13:12:30,731]\u001b[0m Trial 31 finished with value: 0.5672283910009378 and parameters: {'bagging_fraction': 0.445667382205561, 'bagging_freq': 7}. Best is trial 30 with value: 0.5625563535683219.\u001b[0m\n",
            "bagging, val_score: 0.558240:  60%|######    | 6/10 [00:02<00:01,  2.72it/s]\u001b[32m[I 2021-01-31 13:12:31,082]\u001b[0m Trial 32 finished with value: 0.5724438803344449 and parameters: {'bagging_fraction': 0.4411340463559682, 'bagging_freq': 5}. Best is trial 30 with value: 0.5625563535683219.\u001b[0m\n",
            "bagging, val_score: 0.558240:  70%|#######   | 7/10 [00:02<00:01,  2.61it/s]\u001b[32m[I 2021-01-31 13:12:31,498]\u001b[0m Trial 33 finished with value: 0.5646041407218627 and parameters: {'bagging_fraction': 0.9867390220677018, 'bagging_freq': 1}. Best is trial 30 with value: 0.5625563535683219.\u001b[0m\n",
            "bagging, val_score: 0.558240:  80%|########  | 8/10 [00:02<00:00,  2.75it/s]\u001b[32m[I 2021-01-31 13:12:31,819]\u001b[0m Trial 34 finished with value: 0.5643373049828383 and parameters: {'bagging_fraction': 0.43232228921613314, 'bagging_freq': 4}. Best is trial 30 with value: 0.5625563535683219.\u001b[0m\n",
            "bagging, val_score: 0.558240:  90%|######### | 9/10 [00:03<00:00,  2.66it/s]\u001b[32m[I 2021-01-31 13:12:32,222]\u001b[0m Trial 35 finished with value: 0.5594151179548534 and parameters: {'bagging_fraction': 0.7418313459635295, 'bagging_freq': 1}. Best is trial 35 with value: 0.5594151179548534.\u001b[0m\n",
            "bagging, val_score: 0.558240: 100%|##########| 10/10 [00:03<00:00,  2.67it/s]\u001b[32m[I 2021-01-31 13:12:32,595]\u001b[0m Trial 36 finished with value: 0.5639922049966777 and parameters: {'bagging_fraction': 0.7169337779542471, 'bagging_freq': 3}. Best is trial 35 with value: 0.5594151179548534.\u001b[0m\n",
            "bagging, val_score: 0.558240: 100%|##########| 10/10 [00:03<00:00,  2.71it/s]\n",
            "feature_fraction_stage2, val_score: 0.555400:  33%|###3      | 1/3 [00:00<00:00,  2.23it/s]\u001b[32m[I 2021-01-31 13:12:33,059]\u001b[0m Trial 37 finished with value: 0.5554002381218388 and parameters: {'feature_fraction': 0.41600000000000004}. Best is trial 37 with value: 0.5554002381218388.\u001b[0m\n",
            "feature_fraction_stage2, val_score: 0.554946:  67%|######6   | 2/3 [00:00<00:00,  2.26it/s]\u001b[32m[I 2021-01-31 13:12:33,490]\u001b[0m Trial 38 finished with value: 0.5549455885410852 and parameters: {'feature_fraction': 0.44800000000000006}. Best is trial 38 with value: 0.5549455885410852.\u001b[0m\n",
            "feature_fraction_stage2, val_score: 0.554946: 100%|##########| 3/3 [00:01<00:00,  2.29it/s]\u001b[32m[I 2021-01-31 13:12:33,915]\u001b[0m Trial 39 finished with value: 0.5657692554921907 and parameters: {'feature_fraction': 0.48000000000000004}. Best is trial 38 with value: 0.5549455885410852.\u001b[0m\n",
            "feature_fraction_stage2, val_score: 0.554946: 100%|##########| 3/3 [00:01<00:00,  2.28it/s]\n",
            "regularization_factors, val_score: 0.554946:   5%|5         | 1/20 [00:00<00:06,  2.84it/s]\u001b[32m[I 2021-01-31 13:12:34,289]\u001b[0m Trial 40 finished with value: 0.5669373136757934 and parameters: {'lambda_l1': 1.4429793803277247, 'lambda_l2': 2.029782749711025}. Best is trial 40 with value: 0.5669373136757934.\u001b[0m\n",
            "regularization_factors, val_score: 0.554946:  10%|#         | 2/20 [00:00<00:06,  2.68it/s]\u001b[32m[I 2021-01-31 13:12:34,711]\u001b[0m Trial 41 finished with value: 0.5551936932482954 and parameters: {'lambda_l1': 2.2201383331488947e-05, 'lambda_l2': 1.1727033969585004e-06}. Best is trial 41 with value: 0.5551936932482954.\u001b[0m\n",
            "regularization_factors, val_score: 0.554946:  15%|#5        | 3/20 [00:01<00:06,  2.58it/s]\u001b[32m[I 2021-01-31 13:12:35,122]\u001b[0m Trial 42 finished with value: 0.5551943210702756 and parameters: {'lambda_l1': 1.164999481995778e-08, 'lambda_l2': 0.0006089469540616051}. Best is trial 41 with value: 0.5551936932482954.\u001b[0m\n",
            "regularization_factors, val_score: 0.554946:  20%|##        | 4/20 [00:01<00:05,  2.67it/s]\u001b[32m[I 2021-01-31 13:12:35,475]\u001b[0m Trial 43 finished with value: 0.5592748491603139 and parameters: {'lambda_l1': 1.576795538774706, 'lambda_l2': 0.006982443326912132}. Best is trial 41 with value: 0.5551936932482954.\u001b[0m\n",
            "regularization_factors, val_score: 0.554946:  25%|##5       | 5/20 [00:01<00:05,  2.60it/s]\u001b[32m[I 2021-01-31 13:12:35,886]\u001b[0m Trial 44 finished with value: 0.5566050437807026 and parameters: {'lambda_l1': 0.005875820583666586, 'lambda_l2': 1.3401162214445965}. Best is trial 41 with value: 0.5551936932482954.\u001b[0m\n",
            "regularization_factors, val_score: 0.554946:  30%|###       | 6/20 [00:02<00:06,  2.28it/s]\u001b[32m[I 2021-01-31 13:12:36,437]\u001b[0m Trial 45 finished with value: 0.5563792308349141 and parameters: {'lambda_l1': 0.2489911819281186, 'lambda_l2': 0.0020777645911852732}. Best is trial 41 with value: 0.5551936932482954.\u001b[0m\n",
            "regularization_factors, val_score: 0.554946:  35%|###5      | 7/20 [00:02<00:05,  2.39it/s]\u001b[32m[I 2021-01-31 13:12:36,808]\u001b[0m Trial 46 finished with value: 0.5615166882537205 and parameters: {'lambda_l1': 0.7678685490905445, 'lambda_l2': 0.00021506528953337545}. Best is trial 41 with value: 0.5551936932482954.\u001b[0m\n",
            "regularization_factors, val_score: 0.554946:  40%|####      | 8/20 [00:03<00:04,  2.41it/s]\u001b[32m[I 2021-01-31 13:12:37,213]\u001b[0m Trial 47 finished with value: 0.5613331181850153 and parameters: {'lambda_l1': 5.5244975743413803e-08, 'lambda_l2': 6.714989591677927}. Best is trial 41 with value: 0.5551936932482954.\u001b[0m\n",
            "regularization_factors, val_score: 0.554946:  45%|####5     | 9/20 [00:03<00:04,  2.48it/s]\u001b[32m[I 2021-01-31 13:12:37,590]\u001b[0m Trial 48 finished with value: 0.5549455889395456 and parameters: {'lambda_l1': 7.476660866121978e-08, 'lambda_l2': 4.1080520382969915e-08}. Best is trial 48 with value: 0.5549455889395456.\u001b[0m\n",
            "regularization_factors, val_score: 0.554946:  50%|#####     | 10/20 [00:04<00:03,  2.57it/s]\u001b[32m[I 2021-01-31 13:12:37,949]\u001b[0m Trial 49 finished with value: 0.5594573306006919 and parameters: {'lambda_l1': 0.9520925228355995, 'lambda_l2': 5.970693776233401e-08}. Best is trial 48 with value: 0.5549455889395456.\u001b[0m\n",
            "regularization_factors, val_score: 0.554946:  55%|#####5    | 11/20 [00:04<00:03,  2.53it/s]\u001b[32m[I 2021-01-31 13:12:38,356]\u001b[0m Trial 50 finished with value: 0.55494559162356 and parameters: {'lambda_l1': 8.504669505501589e-07, 'lambda_l2': 4.14352867672759e-08}. Best is trial 48 with value: 0.5549455889395456.\u001b[0m\n",
            "regularization_factors, val_score: 0.554946:  60%|######    | 12/20 [00:04<00:03,  2.52it/s]\u001b[32m[I 2021-01-31 13:12:38,759]\u001b[0m Trial 51 finished with value: 0.5549455935029919 and parameters: {'lambda_l1': 1.3875977398984991e-06, 'lambda_l2': 1.4568189857017635e-08}. Best is trial 48 with value: 0.5549455889395456.\u001b[0m\n",
            "regularization_factors, val_score: 0.554946:  65%|######5   | 13/20 [00:05<00:02,  2.43it/s]\u001b[32m[I 2021-01-31 13:12:39,206]\u001b[0m Trial 52 finished with value: 0.5549455920249372 and parameters: {'lambda_l1': 4.691582902358928e-07, 'lambda_l2': 1.513821853400052e-06}. Best is trial 48 with value: 0.5549455889395456.\u001b[0m\n",
            "regularization_factors, val_score: 0.554946:  70%|#######   | 14/20 [00:05<00:02,  2.44it/s]\u001b[32m[I 2021-01-31 13:12:39,609]\u001b[0m Trial 53 finished with value: 0.5551938328153286 and parameters: {'lambda_l1': 6.595602612127442e-05, 'lambda_l2': 4.6970989148297264e-07}. Best is trial 48 with value: 0.5549455889395456.\u001b[0m\n",
            "regularization_factors, val_score: 0.554946:  75%|#######5  | 15/20 [00:06<00:02,  2.38it/s]\u001b[32m[I 2021-01-31 13:12:40,053]\u001b[0m Trial 54 finished with value: 0.5549456382233166 and parameters: {'lambda_l1': 1.2610061107938187e-06, 'lambda_l2': 3.832306663407589e-05}. Best is trial 48 with value: 0.5549455889395456.\u001b[0m\n",
            "regularization_factors, val_score: 0.554946:  80%|########  | 16/20 [00:06<00:01,  2.38it/s]\u001b[32m[I 2021-01-31 13:12:40,473]\u001b[0m Trial 55 finished with value: 0.5549455886156867 and parameters: {'lambda_l1': 1.1155553675910005e-08, 'lambda_l2': 1.277301387589076e-08}. Best is trial 55 with value: 0.5549455886156867.\u001b[0m\n",
            "regularization_factors, val_score: 0.554946:  85%|########5 | 17/20 [00:06<00:01,  2.40it/s]\u001b[32m[I 2021-01-31 13:12:40,882]\u001b[0m Trial 56 finished with value: 0.5549456034073854 and parameters: {'lambda_l1': 7.139544972932362e-08, 'lambda_l2': 1.235885052134572e-05}. Best is trial 55 with value: 0.5549455886156867.\u001b[0m\n",
            "regularization_factors, val_score: 0.554946:  90%|######### | 18/20 [00:07<00:00,  2.38it/s]\u001b[32m[I 2021-01-31 13:12:41,311]\u001b[0m Trial 57 finished with value: 0.5549455888671561 and parameters: {'lambda_l1': 1.9643949831548782e-08, 'lambda_l2': 1.3578328148645516e-07}. Best is trial 55 with value: 0.5549455886156867.\u001b[0m\n",
            "regularization_factors, val_score: 0.554946:  95%|#########5| 19/20 [00:07<00:00,  2.24it/s]\u001b[32m[I 2021-01-31 13:12:41,820]\u001b[0m Trial 58 finished with value: 0.5549455886163537 and parameters: {'lambda_l1': 1.1148581475873694e-08, 'lambda_l2': 1.0748906829124142e-08}. Best is trial 55 with value: 0.5549455886156867.\u001b[0m\n",
            "regularization_factors, val_score: 0.554946: 100%|##########| 20/20 [00:08<00:00,  2.26it/s]\u001b[32m[I 2021-01-31 13:12:42,254]\u001b[0m Trial 59 finished with value: 0.5573514075534705 and parameters: {'lambda_l1': 0.015083578568043637, 'lambda_l2': 0.12371799392116155}. Best is trial 55 with value: 0.5549455886156867.\u001b[0m\n",
            "regularization_factors, val_score: 0.554946: 100%|##########| 20/20 [00:08<00:00,  2.40it/s]\n",
            "min_data_in_leaf, val_score: 0.554946:  20%|##        | 1/5 [00:00<00:02,  1.62it/s]\u001b[32m[I 2021-01-31 13:12:42,907]\u001b[0m Trial 60 finished with value: 0.5650540954009091 and parameters: {'min_child_samples': 5}. Best is trial 60 with value: 0.5650540954009091.\u001b[0m\n",
            "min_data_in_leaf, val_score: 0.554946:  40%|####      | 2/5 [00:01<00:01,  1.72it/s]\u001b[32m[I 2021-01-31 13:12:43,414]\u001b[0m Trial 61 finished with value: 0.5804317804232559 and parameters: {'min_child_samples': 10}. Best is trial 60 with value: 0.5650540954009091.\u001b[0m\n",
            "min_data_in_leaf, val_score: 0.554946:  60%|######    | 3/5 [00:01<00:01,  1.99it/s]\u001b[32m[I 2021-01-31 13:12:43,720]\u001b[0m Trial 62 finished with value: 0.568647996581897 and parameters: {'min_child_samples': 50}. Best is trial 60 with value: 0.5650540954009091.\u001b[0m\n",
            "min_data_in_leaf, val_score: 0.554946:  80%|########  | 4/5 [00:01<00:00,  2.14it/s]\u001b[32m[I 2021-01-31 13:12:44,107]\u001b[0m Trial 63 finished with value: 0.5672249530037707 and parameters: {'min_child_samples': 25}. Best is trial 60 with value: 0.5650540954009091.\u001b[0m\n",
            "min_data_in_leaf, val_score: 0.554946: 100%|##########| 5/5 [00:02<00:00,  2.44it/s]\u001b[32m[I 2021-01-31 13:12:44,388]\u001b[0m Trial 64 finished with value: 0.6166162248702504 and parameters: {'min_child_samples': 100}. Best is trial 60 with value: 0.5650540954009091.\u001b[0m\n",
            "min_data_in_leaf, val_score: 0.554946: 100%|##########| 5/5 [00:02<00:00,  2.36it/s]\n"
          ],
          "name": "stderr"
        }
      ]
    },
    {
      "cell_type": "code",
      "metadata": {
        "colab": {
          "base_uri": "https://localhost:8080/"
        },
        "id": "gp9Hwv2nPxCx",
        "outputId": "7f5bf40b-64b9-4f6b-91f5-3aca40cd4729"
      },
      "source": [
        "print(\"Best score:\", tuner.best_score)\r\n",
        "best_params_with_title = tuner.best_params\r\n",
        "print(\"Best params:\", best_params_with_title)\r\n",
        "print(\"  Params: \")\r\n",
        "\r\n",
        "for key, value in best_params_with_title.items():\r\n",
        "        print(\"    {}: {}\".format(key, value))"
      ],
      "execution_count": null,
      "outputs": [
        {
          "output_type": "stream",
          "text": [
            "Best score: 0.5549455885410852\n",
            "Best params: {'objective': 'regression', 'metric': 'rmse', 'verbosity': -1, 'boosting_type': 'gbdt', 'feature_pre_filter': False, 'lambda_l1': 0.0, 'lambda_l2': 0.0, 'num_leaves': 14, 'feature_fraction': 0.44800000000000006, 'bagging_fraction': 1.0, 'bagging_freq': 0, 'min_child_samples': 20}\n",
            "  Params: \n",
            "    objective: regression\n",
            "    metric: rmse\n",
            "    verbosity: -1\n",
            "    boosting_type: gbdt\n",
            "    feature_pre_filter: False\n",
            "    lambda_l1: 0.0\n",
            "    lambda_l2: 0.0\n",
            "    num_leaves: 14\n",
            "    feature_fraction: 0.44800000000000006\n",
            "    bagging_fraction: 1.0\n",
            "    bagging_freq: 0\n",
            "    min_child_samples: 20\n"
          ],
          "name": "stdout"
        }
      ]
    },
    {
      "cell_type": "code",
      "metadata": {
        "colab": {
          "base_uri": "https://localhost:8080/"
        },
        "id": "BciGpCWcQwGp",
        "outputId": "a39bf10a-7231-42a9-d8d5-b91ece327f96"
      },
      "source": [
        "review = pd.read_csv('/content/drive/MyDrive/Movies/preprocessed/keiyousi_2016-2019.csv')\r\n",
        "review_ = review.drop_duplicates()\r\n",
        "review_ = review_.drop(['Title(ja)','title_url'], axis=1)\r\n",
        "train = train.merge(review_, how='left', on='Title')\r\n",
        "test = test.merge(review_, how='left', on='Title')\r\n",
        "\r\n",
        "train_features = train.drop(drop_cols+['Gross'], axis=1)\r\n",
        "\r\n",
        "X = train_features.drop('Total Gross', axis=1)\r\n",
        "y = train_features['Total Gross']\r\n",
        "#対数スケールに変換\r\n",
        "y = np.log1p(y)\r\n",
        "\r\n",
        "dtrain = lgb.Dataset(X, y)\r\n",
        "\r\n",
        "#parameter setting----\r\n",
        "params = {\r\n",
        "    'objective' : 'regression',\r\n",
        "    'metric' : 'rmse',\r\n",
        "    'verbosity':-1,\r\n",
        "    \"boosting_type\": \"gbdt\",\r\n",
        "}\r\n",
        "\r\n",
        "tuner = lgb.LightGBMTunerCV(\r\n",
        "        params, dtrain, \r\n",
        "        verbose_eval=1000, \r\n",
        "        early_stopping_rounds=100, \r\n",
        "        folds=KFold(n_splits=5),\r\n",
        "    )\r\n",
        "\r\n",
        "tuner.run()"
      ],
      "execution_count": null,
      "outputs": [
        {
          "output_type": "stream",
          "text": [
            "\u001b[32m[I 2021-01-31 13:12:44,817]\u001b[0m A new study created in memory with name: no-name-cdf8cf6b-9eda-435c-874b-79a337589c9d\u001b[0m\n",
            "feature_fraction, val_score: 0.599547:  14%|#4        | 1/7 [00:03<00:22,  3.81s/it]\u001b[32m[I 2021-01-31 13:12:48,639]\u001b[0m Trial 0 finished with value: 0.5995474708743558 and parameters: {'feature_fraction': 1.0}. Best is trial 0 with value: 0.5995474708743558.\u001b[0m\n",
            "feature_fraction, val_score: 0.599547:  29%|##8       | 2/7 [00:06<00:17,  3.42s/it]\u001b[32m[I 2021-01-31 13:12:51,144]\u001b[0m Trial 1 finished with value: 0.604843906716273 and parameters: {'feature_fraction': 0.7}. Best is trial 0 with value: 0.5995474708743558.\u001b[0m\n",
            "feature_fraction, val_score: 0.593845:  43%|####2     | 3/7 [00:07<00:11,  2.81s/it]\u001b[32m[I 2021-01-31 13:12:52,526]\u001b[0m Trial 2 finished with value: 0.5938448456156009 and parameters: {'feature_fraction': 0.5}. Best is trial 2 with value: 0.5938448456156009.\u001b[0m\n",
            "feature_fraction, val_score: 0.593845:  57%|#####7    | 4/7 [00:09<00:07,  2.51s/it]\u001b[32m[I 2021-01-31 13:12:54,343]\u001b[0m Trial 3 finished with value: 0.6045513563138658 and parameters: {'feature_fraction': 0.8}. Best is trial 2 with value: 0.5938448456156009.\u001b[0m\n",
            "feature_fraction, val_score: 0.593845:  71%|#######1  | 5/7 [00:11<00:04,  2.23s/it]\u001b[32m[I 2021-01-31 13:12:55,934]\u001b[0m Trial 4 finished with value: 0.5939981328064949 and parameters: {'feature_fraction': 0.4}. Best is trial 2 with value: 0.5938448456156009.\u001b[0m\n",
            "feature_fraction, val_score: 0.593845:  86%|########5 | 6/7 [00:13<00:02,  2.16s/it]\u001b[32m[I 2021-01-31 13:12:57,911]\u001b[0m Trial 5 finished with value: 0.5950231622566896 and parameters: {'feature_fraction': 0.6}. Best is trial 2 with value: 0.5938448456156009.\u001b[0m\n",
            "feature_fraction, val_score: 0.593845: 100%|##########| 7/7 [00:15<00:00,  2.30s/it]\u001b[32m[I 2021-01-31 13:13:00,528]\u001b[0m Trial 6 finished with value: 0.6014086257687796 and parameters: {'feature_fraction': 0.8999999999999999}. Best is trial 2 with value: 0.5938448456156009.\u001b[0m\n",
            "feature_fraction, val_score: 0.593845: 100%|##########| 7/7 [00:15<00:00,  2.24s/it]\n",
            "num_leaves, val_score: 0.593845:   5%|5         | 1/20 [00:01<00:30,  1.58s/it]\u001b[32m[I 2021-01-31 13:13:02,124]\u001b[0m Trial 7 finished with value: 0.5938448456156009 and parameters: {'num_leaves': 199}. Best is trial 7 with value: 0.5938448456156009.\u001b[0m\n",
            "num_leaves, val_score: 0.593845:  10%|#         | 2/20 [00:03<00:27,  1.55s/it]\u001b[32m[I 2021-01-31 13:13:03,593]\u001b[0m Trial 8 finished with value: 0.5938448456156009 and parameters: {'num_leaves': 147}. Best is trial 7 with value: 0.5938448456156009.\u001b[0m\n",
            "num_leaves, val_score: 0.593845:  15%|#5        | 3/20 [00:04<00:25,  1.53s/it]\u001b[32m[I 2021-01-31 13:13:05,061]\u001b[0m Trial 9 finished with value: 0.5938448456156009 and parameters: {'num_leaves': 179}. Best is trial 7 with value: 0.5938448456156009.\u001b[0m\n",
            "num_leaves, val_score: 0.593845:  20%|##        | 4/20 [00:06<00:24,  1.51s/it]\u001b[32m[I 2021-01-31 13:13:06,551]\u001b[0m Trial 10 finished with value: 0.5938448456156009 and parameters: {'num_leaves': 236}. Best is trial 7 with value: 0.5938448456156009.\u001b[0m\n",
            "num_leaves, val_score: 0.593845:  25%|##5       | 5/20 [00:07<00:22,  1.51s/it]\u001b[32m[I 2021-01-31 13:13:08,036]\u001b[0m Trial 11 finished with value: 0.5938448456156009 and parameters: {'num_leaves': 211}. Best is trial 7 with value: 0.5938448456156009.\u001b[0m\n",
            "num_leaves, val_score: 0.593845:  30%|###       | 6/20 [00:09<00:21,  1.51s/it]\u001b[32m[I 2021-01-31 13:13:09,541]\u001b[0m Trial 12 finished with value: 0.5938448456156009 and parameters: {'num_leaves': 246}. Best is trial 7 with value: 0.5938448456156009.\u001b[0m\n",
            "num_leaves, val_score: 0.593845:  35%|###5      | 7/20 [00:10<00:19,  1.49s/it]\u001b[32m[I 2021-01-31 13:13:11,000]\u001b[0m Trial 13 finished with value: 0.5938448456156009 and parameters: {'num_leaves': 141}. Best is trial 7 with value: 0.5938448456156009.\u001b[0m\n",
            "num_leaves, val_score: 0.593845:  40%|####      | 8/20 [00:11<00:18,  1.50s/it]\u001b[32m[I 2021-01-31 13:13:12,531]\u001b[0m Trial 14 finished with value: 0.5938448456156009 and parameters: {'num_leaves': 82}. Best is trial 7 with value: 0.5938448456156009.\u001b[0m\n",
            "num_leaves, val_score: 0.593845:  45%|####5     | 9/20 [00:13<00:16,  1.51s/it]\u001b[32m[I 2021-01-31 13:13:14,061]\u001b[0m Trial 15 finished with value: 0.5938448456156009 and parameters: {'num_leaves': 242}. Best is trial 7 with value: 0.5938448456156009.\u001b[0m\n",
            "num_leaves, val_score: 0.593845:  50%|#####     | 10/20 [00:14<00:14,  1.49s/it]\u001b[32m[I 2021-01-31 13:13:15,514]\u001b[0m Trial 16 finished with value: 0.5938448456156009 and parameters: {'num_leaves': 186}. Best is trial 7 with value: 0.5938448456156009.\u001b[0m\n",
            "num_leaves, val_score: 0.593845:  55%|#####5    | 11/20 [00:16<00:13,  1.47s/it]\u001b[32m[I 2021-01-31 13:13:16,929]\u001b[0m Trial 17 finished with value: 0.5938448456156009 and parameters: {'num_leaves': 21}. Best is trial 7 with value: 0.5938448456156009.\u001b[0m\n",
            "num_leaves, val_score: 0.593845:  60%|######    | 12/20 [00:17<00:11,  1.47s/it]\u001b[32m[I 2021-01-31 13:13:18,390]\u001b[0m Trial 18 finished with value: 0.5938448456156009 and parameters: {'num_leaves': 113}. Best is trial 7 with value: 0.5938448456156009.\u001b[0m\n",
            "num_leaves, val_score: 0.593845:  65%|######5   | 13/20 [00:19<00:10,  1.46s/it]\u001b[32m[I 2021-01-31 13:13:19,819]\u001b[0m Trial 19 finished with value: 0.5938448456156009 and parameters: {'num_leaves': 130}. Best is trial 7 with value: 0.5938448456156009.\u001b[0m\n",
            "num_leaves, val_score: 0.593845:  70%|#######   | 14/20 [00:20<00:08,  1.46s/it]\u001b[32m[I 2021-01-31 13:13:21,290]\u001b[0m Trial 20 finished with value: 0.5938448456156009 and parameters: {'num_leaves': 169}. Best is trial 7 with value: 0.5938448456156009.\u001b[0m\n",
            "num_leaves, val_score: 0.593845:  75%|#######5  | 15/20 [00:22<00:07,  1.45s/it]\u001b[32m[I 2021-01-31 13:13:22,708]\u001b[0m Trial 21 finished with value: 0.5938448456156009 and parameters: {'num_leaves': 91}. Best is trial 7 with value: 0.5938448456156009.\u001b[0m\n",
            "num_leaves, val_score: 0.593845:  80%|########  | 16/20 [00:23<00:05,  1.44s/it]\u001b[32m[I 2021-01-31 13:13:24,143]\u001b[0m Trial 22 finished with value: 0.5938448456156009 and parameters: {'num_leaves': 157}. Best is trial 7 with value: 0.5938448456156009.\u001b[0m\n",
            "num_leaves, val_score: 0.593845:  85%|########5 | 17/20 [00:25<00:04,  1.45s/it]\u001b[32m[I 2021-01-31 13:13:25,622]\u001b[0m Trial 23 finished with value: 0.5938448456156009 and parameters: {'num_leaves': 211}. Best is trial 7 with value: 0.5938448456156009.\u001b[0m\n",
            "num_leaves, val_score: 0.593845:  90%|######### | 18/20 [00:26<00:02,  1.44s/it]\u001b[32m[I 2021-01-31 13:13:27,030]\u001b[0m Trial 24 finished with value: 0.5938448456156009 and parameters: {'num_leaves': 67}. Best is trial 7 with value: 0.5938448456156009.\u001b[0m\n",
            "num_leaves, val_score: 0.593845:  95%|#########5| 19/20 [00:28<00:01,  1.47s/it]\u001b[32m[I 2021-01-31 13:13:28,571]\u001b[0m Trial 25 finished with value: 0.5938448456156009 and parameters: {'num_leaves': 210}. Best is trial 7 with value: 0.5938448456156009.\u001b[0m\n",
            "num_leaves, val_score: 0.593845: 100%|##########| 20/20 [00:29<00:00,  1.47s/it]\u001b[32m[I 2021-01-31 13:13:30,047]\u001b[0m Trial 26 finished with value: 0.5938448456156009 and parameters: {'num_leaves': 211}. Best is trial 7 with value: 0.5938448456156009.\u001b[0m\n",
            "num_leaves, val_score: 0.593845: 100%|##########| 20/20 [00:29<00:00,  1.48s/it]\n",
            "bagging, val_score: 0.584335:  10%|#         | 1/10 [00:01<00:13,  1.48s/it]\u001b[32m[I 2021-01-31 13:13:31,547]\u001b[0m Trial 27 finished with value: 0.5843349602077165 and parameters: {'bagging_fraction': 0.6529279068292234, 'bagging_freq': 1}. Best is trial 27 with value: 0.5843349602077165.\u001b[0m\n",
            "bagging, val_score: 0.584335:  20%|##        | 2/10 [00:03<00:11,  1.50s/it]\u001b[32m[I 2021-01-31 13:13:33,078]\u001b[0m Trial 28 finished with value: 0.5846150862727046 and parameters: {'bagging_fraction': 0.6925016019013974, 'bagging_freq': 4}. Best is trial 27 with value: 0.5843349602077165.\u001b[0m\n",
            "bagging, val_score: 0.584335:  30%|###       | 3/10 [00:04<00:10,  1.43s/it]\u001b[32m[I 2021-01-31 13:13:34,349]\u001b[0m Trial 29 finished with value: 0.5990282787103476 and parameters: {'bagging_fraction': 0.6126454425871576, 'bagging_freq': 5}. Best is trial 27 with value: 0.5843349602077165.\u001b[0m\n",
            "bagging, val_score: 0.584335:  40%|####      | 4/10 [00:05<00:07,  1.27s/it]\u001b[32m[I 2021-01-31 13:13:35,235]\u001b[0m Trial 30 finished with value: 0.5956798146980278 and parameters: {'bagging_fraction': 0.49801716446502337, 'bagging_freq': 4}. Best is trial 27 with value: 0.5843349602077165.\u001b[0m\n",
            "bagging, val_score: 0.584335:  50%|#####     | 5/10 [00:06<00:06,  1.22s/it]\u001b[32m[I 2021-01-31 13:13:36,341]\u001b[0m Trial 31 finished with value: 0.5881044797648275 and parameters: {'bagging_fraction': 0.743577054640564, 'bagging_freq': 4}. Best is trial 27 with value: 0.5843349602077165.\u001b[0m\n",
            "bagging, val_score: 0.584335:  60%|######    | 6/10 [00:08<00:05,  1.41s/it]\u001b[32m[I 2021-01-31 13:13:38,183]\u001b[0m Trial 32 finished with value: 0.590566115128732 and parameters: {'bagging_fraction': 0.8160904241686481, 'bagging_freq': 5}. Best is trial 27 with value: 0.5843349602077165.\u001b[0m\n",
            "bagging, val_score: 0.584335:  70%|#######   | 7/10 [00:09<00:04,  1.35s/it]\u001b[32m[I 2021-01-31 13:13:39,418]\u001b[0m Trial 33 finished with value: 0.5881685067801792 and parameters: {'bagging_fraction': 0.8902571862468753, 'bagging_freq': 1}. Best is trial 27 with value: 0.5843349602077165.\u001b[0m\n",
            "bagging, val_score: 0.584335:  80%|########  | 8/10 [00:11<00:02,  1.49s/it]\u001b[32m[I 2021-01-31 13:13:41,232]\u001b[0m Trial 34 finished with value: 0.5864803757439657 and parameters: {'bagging_fraction': 0.7632490486783664, 'bagging_freq': 2}. Best is trial 27 with value: 0.5843349602077165.\u001b[0m\n",
            "bagging, val_score: 0.584335:  90%|######### | 9/10 [00:12<00:01,  1.46s/it]\u001b[32m[I 2021-01-31 13:13:42,603]\u001b[0m Trial 35 finished with value: 0.5860695327507595 and parameters: {'bagging_fraction': 0.7499727063669581, 'bagging_freq': 5}. Best is trial 27 with value: 0.5843349602077165.\u001b[0m\n",
            "bagging, val_score: 0.584335: 100%|##########| 10/10 [00:13<00:00,  1.41s/it]\u001b[32m[I 2021-01-31 13:13:43,902]\u001b[0m Trial 36 finished with value: 0.589320323142673 and parameters: {'bagging_fraction': 0.8186837006777916, 'bagging_freq': 1}. Best is trial 27 with value: 0.5843349602077165.\u001b[0m\n",
            "bagging, val_score: 0.584335: 100%|##########| 10/10 [00:13<00:00,  1.38s/it]\n",
            "feature_fraction_stage2, val_score: 0.584335:  17%|#6        | 1/6 [00:01<00:05,  1.04s/it]\u001b[32m[I 2021-01-31 13:13:44,968]\u001b[0m Trial 37 finished with value: 0.5928129169487742 and parameters: {'feature_fraction': 0.5479999999999999}. Best is trial 37 with value: 0.5928129169487742.\u001b[0m\n",
            "feature_fraction_stage2, val_score: 0.584335:  33%|###3      | 2/6 [00:02<00:04,  1.19s/it]\u001b[32m[I 2021-01-31 13:13:46,491]\u001b[0m Trial 38 finished with value: 0.590701382009053 and parameters: {'feature_fraction': 0.58}. Best is trial 38 with value: 0.590701382009053.\u001b[0m\n",
            "feature_fraction_stage2, val_score: 0.584335:  50%|#####     | 3/6 [00:03<00:03,  1.22s/it]\u001b[32m[I 2021-01-31 13:13:47,779]\u001b[0m Trial 39 finished with value: 0.5886281143587425 and parameters: {'feature_fraction': 0.45199999999999996}. Best is trial 39 with value: 0.5886281143587425.\u001b[0m\n",
            "feature_fraction_stage2, val_score: 0.584335:  67%|######6   | 4/6 [00:06<00:03,  1.55s/it]\u001b[32m[I 2021-01-31 13:13:50,112]\u001b[0m Trial 40 finished with value: 0.5856064077743396 and parameters: {'feature_fraction': 0.484}. Best is trial 40 with value: 0.5856064077743396.\u001b[0m\n",
            "feature_fraction_stage2, val_score: 0.584335:  83%|########3 | 5/6 [00:07<00:01,  1.39s/it]\u001b[32m[I 2021-01-31 13:13:51,132]\u001b[0m Trial 41 finished with value: 0.5864830968297102 and parameters: {'feature_fraction': 0.516}. Best is trial 40 with value: 0.5856064077743396.\u001b[0m\n",
            "feature_fraction_stage2, val_score: 0.584335: 100%|##########| 6/6 [00:08<00:00,  1.35s/it]\u001b[32m[I 2021-01-31 13:13:52,391]\u001b[0m Trial 42 finished with value: 0.5903510879808993 and parameters: {'feature_fraction': 0.42}. Best is trial 40 with value: 0.5856064077743396.\u001b[0m\n",
            "feature_fraction_stage2, val_score: 0.584335: 100%|##########| 6/6 [00:08<00:00,  1.41s/it]\n",
            "regularization_factors, val_score: 0.584335:   5%|5         | 1/20 [00:01<00:29,  1.54s/it]\u001b[32m[I 2021-01-31 13:13:53,950]\u001b[0m Trial 43 finished with value: 0.5843349575753753 and parameters: {'lambda_l1': 6.496633954541731e-07, 'lambda_l2': 1.8228533958549792e-08}. Best is trial 43 with value: 0.5843349575753753.\u001b[0m\n",
            "regularization_factors, val_score: 0.584335:  10%|#         | 2/20 [00:02<00:26,  1.46s/it]\u001b[32m[I 2021-01-31 13:13:55,226]\u001b[0m Trial 44 finished with value: 0.5867344854709913 and parameters: {'lambda_l1': 2.326047826983623e-05, 'lambda_l2': 0.03192148701814804}. Best is trial 43 with value: 0.5843349575753753.\u001b[0m\n",
            "regularization_factors, val_score: 0.584335:  15%|#5        | 3/20 [00:04<00:25,  1.48s/it]\u001b[32m[I 2021-01-31 13:13:56,756]\u001b[0m Trial 45 finished with value: 0.586942163025949 and parameters: {'lambda_l1': 0.05347086253064918, 'lambda_l2': 2.2848774307582094}. Best is trial 43 with value: 0.5843349575753753.\u001b[0m\n",
            "regularization_factors, val_score: 0.581546:  20%|##        | 4/20 [00:05<00:24,  1.52s/it]\u001b[32m[I 2021-01-31 13:13:58,373]\u001b[0m Trial 46 finished with value: 0.5815461988457779 and parameters: {'lambda_l1': 0.00022341011651150417, 'lambda_l2': 7.844425338934884e-07}. Best is trial 46 with value: 0.5815461988457779.\u001b[0m\n",
            "regularization_factors, val_score: 0.581546:  25%|##5       | 5/20 [00:07<00:21,  1.44s/it]\u001b[32m[I 2021-01-31 13:13:59,619]\u001b[0m Trial 47 finished with value: 0.5879180551914898 and parameters: {'lambda_l1': 0.028237686677260242, 'lambda_l2': 0.2793685886245933}. Best is trial 46 with value: 0.5815461988457779.\u001b[0m\n",
            "regularization_factors, val_score: 0.581546:  30%|###       | 6/20 [00:08<00:19,  1.36s/it]\u001b[32m[I 2021-01-31 13:14:00,786]\u001b[0m Trial 48 finished with value: 0.601390484347003 and parameters: {'lambda_l1': 0.661330932346017, 'lambda_l2': 0.27861987392689497}. Best is trial 46 with value: 0.5815461988457779.\u001b[0m\n",
            "regularization_factors, val_score: 0.581546:  35%|###5      | 7/20 [00:10<00:19,  1.47s/it]\u001b[32m[I 2021-01-31 13:14:02,512]\u001b[0m Trial 49 finished with value: 0.582669607191355 and parameters: {'lambda_l1': 0.00011698306280624525, 'lambda_l2': 5.1801266207215574e-05}. Best is trial 46 with value: 0.5815461988457779.\u001b[0m\n",
            "regularization_factors, val_score: 0.581546:  40%|####      | 8/20 [00:11<00:16,  1.40s/it]\u001b[32m[I 2021-01-31 13:14:03,742]\u001b[0m Trial 50 finished with value: 0.5907837243122973 and parameters: {'lambda_l1': 0.15563373661622373, 'lambda_l2': 4.122794246885141e-07}. Best is trial 46 with value: 0.5815461988457779.\u001b[0m\n",
            "regularization_factors, val_score: 0.581546:  45%|####5     | 9/20 [00:12<00:15,  1.43s/it]\u001b[32m[I 2021-01-31 13:14:05,261]\u001b[0m Trial 51 finished with value: 0.5843349589442883 and parameters: {'lambda_l1': 1.9401601946628306e-07, 'lambda_l2': 1.0308395832734352e-06}. Best is trial 46 with value: 0.5815461988457779.\u001b[0m\n",
            "regularization_factors, val_score: 0.581546:  50%|#####     | 10/20 [00:14<00:14,  1.46s/it]\u001b[32m[I 2021-01-31 13:14:06,803]\u001b[0m Trial 52 finished with value: 0.5843349577888988 and parameters: {'lambda_l1': 1.678794202160038e-07, 'lambda_l2': 3.381208453065344e-06}. Best is trial 46 with value: 0.5815461988457779.\u001b[0m\n",
            "regularization_factors, val_score: 0.578668:  55%|#####5    | 11/20 [00:15<00:12,  1.42s/it]\u001b[32m[I 2021-01-31 13:14:08,123]\u001b[0m Trial 53 finished with value: 0.5786677332502647 and parameters: {'lambda_l1': 0.0010027973801652824, 'lambda_l2': 0.0009528230030937256}. Best is trial 53 with value: 0.5786677332502647.\u001b[0m\n",
            "regularization_factors, val_score: 0.578668:  60%|######    | 12/20 [00:17<00:11,  1.39s/it]\u001b[32m[I 2021-01-31 13:14:09,445]\u001b[0m Trial 54 finished with value: 0.5797569691895331 and parameters: {'lambda_l1': 0.002781330095208589, 'lambda_l2': 0.0015328661824810348}. Best is trial 53 with value: 0.5786677332502647.\u001b[0m\n",
            "regularization_factors, val_score: 0.578668:  65%|######5   | 13/20 [00:18<00:09,  1.38s/it]\u001b[32m[I 2021-01-31 13:14:10,789]\u001b[0m Trial 55 finished with value: 0.5797569918810201 and parameters: {'lambda_l1': 0.0027878599545794473, 'lambda_l2': 0.001454700580760746}. Best is trial 53 with value: 0.5786677332502647.\u001b[0m\n",
            "regularization_factors, val_score: 0.578668:  70%|#######   | 14/20 [00:19<00:08,  1.36s/it]\u001b[32m[I 2021-01-31 13:14:12,123]\u001b[0m Trial 56 finished with value: 0.57975722369131 and parameters: {'lambda_l1': 0.002360478050470234, 'lambda_l2': 0.0014700058336432672}. Best is trial 53 with value: 0.5786677332502647.\u001b[0m\n",
            "regularization_factors, val_score: 0.578668:  75%|#######5  | 15/20 [00:20<00:06,  1.20s/it]\u001b[32m[I 2021-01-31 13:14:12,953]\u001b[0m Trial 57 finished with value: 0.6021257450591905 and parameters: {'lambda_l1': 6.4906829088576385, 'lambda_l2': 0.00010424461105329374}. Best is trial 53 with value: 0.5786677332502647.\u001b[0m\n",
            "regularization_factors, val_score: 0.578668:  80%|########  | 16/20 [00:21<00:05,  1.25s/it]\u001b[32m[I 2021-01-31 13:14:14,312]\u001b[0m Trial 58 finished with value: 0.5848053694326047 and parameters: {'lambda_l1': 1.0065832213961593e-05, 'lambda_l2': 0.008528765451304604}. Best is trial 53 with value: 0.5786677332502647.\u001b[0m\n",
            "regularization_factors, val_score: 0.578668:  85%|########5 | 17/20 [00:23<00:03,  1.27s/it]\u001b[32m[I 2021-01-31 13:14:15,628]\u001b[0m Trial 59 finished with value: 0.5797574509716323 and parameters: {'lambda_l1': 0.002823469589720257, 'lambda_l2': 2.6950704645268124e-05}. Best is trial 53 with value: 0.5786677332502647.\u001b[0m\n",
            "regularization_factors, val_score: 0.578668:  90%|######### | 18/20 [00:24<00:02,  1.30s/it]\u001b[32m[I 2021-01-31 13:14:17,005]\u001b[0m Trial 60 finished with value: 0.5842032588939449 and parameters: {'lambda_l1': 8.261942149516278e-06, 'lambda_l2': 0.001360855513881909}. Best is trial 53 with value: 0.5786677332502647.\u001b[0m\n",
            "regularization_factors, val_score: 0.578668:  95%|#########5| 19/20 [00:25<00:01,  1.24s/it]\u001b[32m[I 2021-01-31 13:14:18,114]\u001b[0m Trial 61 finished with value: 0.600732526269196 and parameters: {'lambda_l1': 5.183769285823719, 'lambda_l2': 0.028505554553687515}. Best is trial 53 with value: 0.5786677332502647.\u001b[0m\n",
            "regularization_factors, val_score: 0.578668: 100%|##########| 20/20 [00:26<00:00,  1.23s/it]\u001b[32m[I 2021-01-31 13:14:19,297]\u001b[0m Trial 62 finished with value: 0.5954256224790447 and parameters: {'lambda_l1': 0.009069027059436982, 'lambda_l2': 9.18843717318721}. Best is trial 53 with value: 0.5786677332502647.\u001b[0m\n",
            "regularization_factors, val_score: 0.578668: 100%|##########| 20/20 [00:26<00:00,  1.34s/it]\n",
            "min_data_in_leaf, val_score: 0.578668:  20%|##        | 1/5 [00:00<00:01,  3.10it/s]\u001b[32m[I 2021-01-31 13:14:19,638]\u001b[0m Trial 63 finished with value: 0.6250490961462478 and parameters: {'min_child_samples': 100}. Best is trial 63 with value: 0.6250490961462478.\u001b[0m\n",
            "min_data_in_leaf, val_score: 0.578668:  40%|####      | 2/5 [00:01<00:01,  1.75it/s]\u001b[32m[I 2021-01-31 13:14:20,787]\u001b[0m Trial 64 finished with value: 0.5801872727120692 and parameters: {'min_child_samples': 50}. Best is trial 64 with value: 0.5801872727120692.\u001b[0m\n",
            "min_data_in_leaf, val_score: 0.578668:  60%|######    | 3/5 [00:02<00:01,  1.48it/s]\u001b[32m[I 2021-01-31 13:14:21,706]\u001b[0m Trial 65 finished with value: 0.5881788699141896 and parameters: {'min_child_samples': 25}. Best is trial 64 with value: 0.5801872727120692.\u001b[0m\n",
            "min_data_in_leaf, val_score: 0.578668:  80%|########  | 4/5 [00:04<00:01,  1.02s/it]\u001b[32m[I 2021-01-31 13:14:23,536]\u001b[0m Trial 66 finished with value: 0.5910461814511617 and parameters: {'min_child_samples': 10}. Best is trial 64 with value: 0.5801872727120692.\u001b[0m\n",
            "min_data_in_leaf, val_score: 0.578668: 100%|##########| 5/5 [00:07<00:00,  1.70s/it]\u001b[32m[I 2021-01-31 13:14:26,828]\u001b[0m Trial 67 finished with value: 0.5817168298894524 and parameters: {'min_child_samples': 5}. Best is trial 64 with value: 0.5801872727120692.\u001b[0m\n",
            "min_data_in_leaf, val_score: 0.578668: 100%|##########| 5/5 [00:07<00:00,  1.51s/it]\n"
          ],
          "name": "stderr"
        }
      ]
    },
    {
      "cell_type": "code",
      "metadata": {
        "colab": {
          "base_uri": "https://localhost:8080/"
        },
        "id": "C98lwpnWQ6tN",
        "outputId": "d11bd007-0e6b-4052-efa5-8d37134f2ae3"
      },
      "source": [
        "print(\"Best score:\", tuner.best_score)\r\n",
        "best_params_with_title_reviews = tuner.best_params\r\n",
        "print(\"Best params:\", best_params_with_title_reviews)\r\n",
        "print(\"  Params: \")\r\n",
        "\r\n",
        "for key, value in best_params_with_title_reviews.items():\r\n",
        "        print(\"    {}: {}\".format(key, value))"
      ],
      "execution_count": null,
      "outputs": [
        {
          "output_type": "stream",
          "text": [
            "Best score: 0.5786677332502647\n",
            "Best params: {'objective': 'regression', 'metric': 'rmse', 'verbosity': -1, 'boosting_type': 'gbdt', 'feature_pre_filter': False, 'lambda_l1': 0.0010027973801652824, 'lambda_l2': 0.0009528230030937256, 'num_leaves': 31, 'feature_fraction': 0.5, 'bagging_fraction': 0.6529279068292234, 'bagging_freq': 1, 'min_child_samples': 20}\n",
            "  Params: \n",
            "    objective: regression\n",
            "    metric: rmse\n",
            "    verbosity: -1\n",
            "    boosting_type: gbdt\n",
            "    feature_pre_filter: False\n",
            "    lambda_l1: 0.0010027973801652824\n",
            "    lambda_l2: 0.0009528230030937256\n",
            "    num_leaves: 31\n",
            "    feature_fraction: 0.5\n",
            "    bagging_fraction: 0.6529279068292234\n",
            "    bagging_freq: 1\n",
            "    min_child_samples: 20\n"
          ],
          "name": "stdout"
        }
      ]
    },
    {
      "cell_type": "code",
      "metadata": {
        "colab": {
          "base_uri": "https://localhost:8080/"
        },
        "id": "r5r4QhlgRcCQ",
        "outputId": "aff71f33-43e0-4cf9-c3be-f48d56c635a7"
      },
      "source": [
        "#レビュー，平均スコアを含める場合\r\n",
        "drop_cols=['Title','Title(ja)','directors','writers','casts']\r\n",
        "\r\n",
        "train_features = train.drop(drop_cols+['Gross'], axis=1)\r\n",
        "\r\n",
        "X = train_features.drop('Total Gross', axis=1)\r\n",
        "y = train_features['Total Gross']\r\n",
        "#対数スケールに変換\r\n",
        "y = np.log1p(y)\r\n",
        "\r\n",
        "dtrain = lgb.Dataset(X, y)\r\n",
        "\r\n",
        "#parameter setting----\r\n",
        "params = {\r\n",
        "    'objective' : 'regression',\r\n",
        "    'metric' : 'rmse',\r\n",
        "    'verbosity':-1,\r\n",
        "    \"boosting_type\": \"gbdt\",\r\n",
        "}\r\n",
        "\r\n",
        "tuner = lgb.LightGBMTunerCV(\r\n",
        "        params, dtrain, \r\n",
        "        verbose_eval=1000, \r\n",
        "        early_stopping_rounds=100, \r\n",
        "        folds=KFold(n_splits=5),\r\n",
        "    )\r\n",
        "\r\n",
        "tuner.run()"
      ],
      "execution_count": null,
      "outputs": [
        {
          "output_type": "stream",
          "text": [
            "\u001b[32m[I 2021-01-31 13:14:26,909]\u001b[0m A new study created in memory with name: no-name-b2346a5e-91b2-47e0-b98e-74e5ed5b949c\u001b[0m\n",
            "feature_fraction, val_score: 0.508519:  14%|#4        | 1/7 [00:02<00:15,  2.53s/it]\u001b[32m[I 2021-01-31 13:14:29,450]\u001b[0m Trial 0 finished with value: 0.5085185397679755 and parameters: {'feature_fraction': 0.8999999999999999}. Best is trial 0 with value: 0.5085185397679755.\u001b[0m\n",
            "feature_fraction, val_score: 0.508519:  29%|##8       | 2/7 [00:04<00:11,  2.26s/it]\u001b[32m[I 2021-01-31 13:14:31,066]\u001b[0m Trial 1 finished with value: 0.5093173869939356 and parameters: {'feature_fraction': 0.5}. Best is trial 0 with value: 0.5085185397679755.\u001b[0m\n",
            "feature_fraction, val_score: 0.508519:  43%|####2     | 3/7 [00:07<00:10,  2.51s/it]\u001b[32m[I 2021-01-31 13:14:34,190]\u001b[0m Trial 2 finished with value: 0.5227341717945675 and parameters: {'feature_fraction': 1.0}. Best is trial 0 with value: 0.5085185397679755.\u001b[0m\n",
            "feature_fraction, val_score: 0.508519:  57%|#####7    | 4/7 [00:09<00:06,  2.32s/it]\u001b[32m[I 2021-01-31 13:14:36,047]\u001b[0m Trial 3 finished with value: 0.5091759423264393 and parameters: {'feature_fraction': 0.4}. Best is trial 0 with value: 0.5085185397679755.\u001b[0m\n",
            "feature_fraction, val_score: 0.507673:  71%|#######1  | 5/7 [00:11<00:04,  2.29s/it]\u001b[32m[I 2021-01-31 13:14:38,263]\u001b[0m Trial 4 finished with value: 0.5076727136438893 and parameters: {'feature_fraction': 0.7}. Best is trial 4 with value: 0.5076727136438893.\u001b[0m\n",
            "feature_fraction, val_score: 0.507673:  86%|########5 | 6/7 [00:13<00:02,  2.32s/it]\u001b[32m[I 2021-01-31 13:14:40,646]\u001b[0m Trial 5 finished with value: 0.5116812577258081 and parameters: {'feature_fraction': 0.6}. Best is trial 4 with value: 0.5076727136438893.\u001b[0m\n",
            "feature_fraction, val_score: 0.507673: 100%|##########| 7/7 [00:16<00:00,  2.48s/it]\u001b[32m[I 2021-01-31 13:14:43,511]\u001b[0m Trial 6 finished with value: 0.5106040746334239 and parameters: {'feature_fraction': 0.8}. Best is trial 4 with value: 0.5076727136438893.\u001b[0m\n",
            "feature_fraction, val_score: 0.507673: 100%|##########| 7/7 [00:16<00:00,  2.37s/it]\n",
            "num_leaves, val_score: 0.507673:   5%|5         | 1/20 [00:02<00:43,  2.27s/it]\u001b[32m[I 2021-01-31 13:14:45,799]\u001b[0m Trial 7 finished with value: 0.5076727136438893 and parameters: {'num_leaves': 171}. Best is trial 7 with value: 0.5076727136438893.\u001b[0m\n",
            "num_leaves, val_score: 0.507673:  10%|#         | 2/20 [00:04<00:40,  2.27s/it]\u001b[32m[I 2021-01-31 13:14:48,066]\u001b[0m Trial 8 finished with value: 0.5076727136438893 and parameters: {'num_leaves': 98}. Best is trial 7 with value: 0.5076727136438893.\u001b[0m\n",
            "num_leaves, val_score: 0.507673:  15%|#5        | 3/20 [00:06<00:38,  2.29s/it]\u001b[32m[I 2021-01-31 13:14:50,378]\u001b[0m Trial 9 finished with value: 0.5076727136438893 and parameters: {'num_leaves': 243}. Best is trial 7 with value: 0.5076727136438893.\u001b[0m\n",
            "num_leaves, val_score: 0.507673:  20%|##        | 4/20 [00:09<00:36,  2.26s/it]\u001b[32m[I 2021-01-31 13:14:52,577]\u001b[0m Trial 10 finished with value: 0.5076727136438893 and parameters: {'num_leaves': 52}. Best is trial 7 with value: 0.5076727136438893.\u001b[0m\n",
            "num_leaves, val_score: 0.507673:  25%|##5       | 5/20 [00:11<00:33,  2.25s/it]\u001b[32m[I 2021-01-31 13:14:54,822]\u001b[0m Trial 11 finished with value: 0.5076727136438893 and parameters: {'num_leaves': 113}. Best is trial 7 with value: 0.5076727136438893.\u001b[0m\n",
            "num_leaves, val_score: 0.507673:  30%|###       | 6/20 [00:13<00:31,  2.27s/it]\u001b[32m[I 2021-01-31 13:14:57,125]\u001b[0m Trial 12 finished with value: 0.5076727136438893 and parameters: {'num_leaves': 218}. Best is trial 7 with value: 0.5076727136438893.\u001b[0m\n",
            "num_leaves, val_score: 0.507673:  35%|###5      | 7/20 [00:15<00:29,  2.25s/it]\u001b[32m[I 2021-01-31 13:14:59,338]\u001b[0m Trial 13 finished with value: 0.5076727136438893 and parameters: {'num_leaves': 95}. Best is trial 7 with value: 0.5076727136438893.\u001b[0m\n",
            "num_leaves, val_score: 0.507673:  40%|####      | 8/20 [00:18<00:26,  2.24s/it]\u001b[32m[I 2021-01-31 13:15:01,564]\u001b[0m Trial 14 finished with value: 0.5076727136438893 and parameters: {'num_leaves': 96}. Best is trial 7 with value: 0.5076727136438893.\u001b[0m\n",
            "num_leaves, val_score: 0.507673:  45%|####5     | 9/20 [00:20<00:25,  2.30s/it]\u001b[32m[I 2021-01-31 13:15:03,979]\u001b[0m Trial 15 finished with value: 0.5076727136438893 and parameters: {'num_leaves': 202}. Best is trial 7 with value: 0.5076727136438893.\u001b[0m\n",
            "num_leaves, val_score: 0.507673:  50%|#####     | 10/20 [00:22<00:23,  2.30s/it]\u001b[32m[I 2021-01-31 13:15:06,302]\u001b[0m Trial 16 finished with value: 0.5076727136438893 and parameters: {'num_leaves': 211}. Best is trial 7 with value: 0.5076727136438893.\u001b[0m\n",
            "num_leaves, val_score: 0.507673:  55%|#####5    | 11/20 [00:25<00:20,  2.28s/it]\u001b[32m[I 2021-01-31 13:15:08,541]\u001b[0m Trial 17 finished with value: 0.5076727136438893 and parameters: {'num_leaves': 166}. Best is trial 7 with value: 0.5076727136438893.\u001b[0m\n",
            "num_leaves, val_score: 0.502561:  60%|######    | 12/20 [00:26<00:17,  2.15s/it]\u001b[32m[I 2021-01-31 13:15:10,369]\u001b[0m Trial 18 finished with value: 0.5025609336830733 and parameters: {'num_leaves': 8}. Best is trial 18 with value: 0.5025609336830733.\u001b[0m\n",
            "num_leaves, val_score: 0.502561:  65%|######5   | 13/20 [00:28<00:13,  1.95s/it]\u001b[32m[I 2021-01-31 13:15:11,856]\u001b[0m Trial 19 finished with value: 0.5030732801597786 and parameters: {'num_leaves': 6}. Best is trial 18 with value: 0.5025609336830733.\u001b[0m\n",
            "num_leaves, val_score: 0.501978:  70%|#######   | 14/20 [00:30<00:11,  1.98s/it]\u001b[32m[I 2021-01-31 13:15:13,901]\u001b[0m Trial 20 finished with value: 0.5019777152612069 and parameters: {'num_leaves': 10}. Best is trial 20 with value: 0.5019777152612069.\u001b[0m\n",
            "num_leaves, val_score: 0.501978:  75%|#######5  | 15/20 [00:32<00:10,  2.00s/it]\u001b[32m[I 2021-01-31 13:15:15,968]\u001b[0m Trial 21 finished with value: 0.5019777152612069 and parameters: {'num_leaves': 10}. Best is trial 20 with value: 0.5019777152612069.\u001b[0m\n",
            "num_leaves, val_score: 0.501978:  80%|########  | 16/20 [00:34<00:08,  2.06s/it]\u001b[32m[I 2021-01-31 13:15:18,169]\u001b[0m Trial 22 finished with value: 0.5076727136438893 and parameters: {'num_leaves': 48}. Best is trial 20 with value: 0.5019777152612069.\u001b[0m\n",
            "num_leaves, val_score: 0.501978:  85%|########5 | 17/20 [00:36<00:06,  2.10s/it]\u001b[32m[I 2021-01-31 13:15:20,360]\u001b[0m Trial 23 finished with value: 0.5076727136438893 and parameters: {'num_leaves': 40}. Best is trial 20 with value: 0.5019777152612069.\u001b[0m\n",
            "num_leaves, val_score: 0.501978:  90%|######### | 18/20 [00:39<00:04,  2.15s/it]\u001b[32m[I 2021-01-31 13:15:22,640]\u001b[0m Trial 24 finished with value: 0.5076727136438893 and parameters: {'num_leaves': 23}. Best is trial 20 with value: 0.5019777152612069.\u001b[0m\n",
            "num_leaves, val_score: 0.501978:  95%|#########5| 19/20 [00:41<00:02,  2.18s/it]\u001b[32m[I 2021-01-31 13:15:24,868]\u001b[0m Trial 25 finished with value: 0.5076727136438893 and parameters: {'num_leaves': 71}. Best is trial 20 with value: 0.5019777152612069.\u001b[0m\n",
            "num_leaves, val_score: 0.501978: 100%|##########| 20/20 [00:43<00:00,  2.20s/it]\u001b[32m[I 2021-01-31 13:15:27,119]\u001b[0m Trial 26 finished with value: 0.5076727136438893 and parameters: {'num_leaves': 144}. Best is trial 20 with value: 0.5019777152612069.\u001b[0m\n",
            "num_leaves, val_score: 0.501978: 100%|##########| 20/20 [00:43<00:00,  2.18s/it]\n",
            "bagging, val_score: 0.501978:  10%|#         | 1/10 [00:01<00:10,  1.19s/it]\u001b[32m[I 2021-01-31 13:15:28,327]\u001b[0m Trial 27 finished with value: 0.5057922247448435 and parameters: {'bagging_fraction': 0.478869171864844, 'bagging_freq': 1}. Best is trial 27 with value: 0.5057922247448435.\u001b[0m\n",
            "bagging, val_score: 0.501978:  20%|##        | 2/10 [00:03<00:12,  1.60s/it]\u001b[32m[I 2021-01-31 13:15:30,868]\u001b[0m Trial 28 finished with value: 0.5124238852486382 and parameters: {'bagging_fraction': 0.7579255809540726, 'bagging_freq': 7}. Best is trial 27 with value: 0.5057922247448435.\u001b[0m\n",
            "bagging, val_score: 0.501978:  30%|###       | 3/10 [00:05<00:11,  1.58s/it]\u001b[32m[I 2021-01-31 13:15:32,420]\u001b[0m Trial 29 finished with value: 0.5195074642429343 and parameters: {'bagging_fraction': 0.5790433942838547, 'bagging_freq': 1}. Best is trial 27 with value: 0.5057922247448435.\u001b[0m\n",
            "bagging, val_score: 0.501978:  40%|####      | 4/10 [00:06<00:09,  1.56s/it]\u001b[32m[I 2021-01-31 13:15:33,938]\u001b[0m Trial 30 finished with value: 0.5216439215406008 and parameters: {'bagging_fraction': 0.6903842342947921, 'bagging_freq': 2}. Best is trial 27 with value: 0.5057922247448435.\u001b[0m\n",
            "bagging, val_score: 0.498497:  50%|#####     | 5/10 [00:08<00:07,  1.56s/it]\u001b[32m[I 2021-01-31 13:15:35,478]\u001b[0m Trial 31 finished with value: 0.4984972604939547 and parameters: {'bagging_fraction': 0.5727164785688057, 'bagging_freq': 3}. Best is trial 31 with value: 0.4984972604939547.\u001b[0m\n",
            "bagging, val_score: 0.498497:  60%|######    | 6/10 [00:10<00:06,  1.59s/it]\u001b[32m[I 2021-01-31 13:15:37,159]\u001b[0m Trial 32 finished with value: 0.515582181531103 and parameters: {'bagging_fraction': 0.7018192522158972, 'bagging_freq': 3}. Best is trial 31 with value: 0.4984972604939547.\u001b[0m\n",
            "bagging, val_score: 0.498497:  70%|#######   | 7/10 [00:12<00:05,  1.75s/it]\u001b[32m[I 2021-01-31 13:15:39,270]\u001b[0m Trial 33 finished with value: 0.5164081116060572 and parameters: {'bagging_fraction': 0.6594464841744032, 'bagging_freq': 6}. Best is trial 31 with value: 0.4984972604939547.\u001b[0m\n",
            "bagging, val_score: 0.498497:  80%|########  | 8/10 [00:13<00:03,  1.71s/it]\u001b[32m[I 2021-01-31 13:15:40,899]\u001b[0m Trial 34 finished with value: 0.5060955050671 and parameters: {'bagging_fraction': 0.7125466902903125, 'bagging_freq': 3}. Best is trial 31 with value: 0.4984972604939547.\u001b[0m\n",
            "bagging, val_score: 0.498497:  90%|######### | 9/10 [00:15<00:01,  1.73s/it]\u001b[32m[I 2021-01-31 13:15:42,675]\u001b[0m Trial 35 finished with value: 0.5147361790562821 and parameters: {'bagging_fraction': 0.5950683970648613, 'bagging_freq': 4}. Best is trial 31 with value: 0.4984972604939547.\u001b[0m\n",
            "bagging, val_score: 0.498497: 100%|##########| 10/10 [00:16<00:00,  1.60s/it]\u001b[32m[I 2021-01-31 13:15:43,974]\u001b[0m Trial 36 finished with value: 0.5108439618484822 and parameters: {'bagging_fraction': 0.4752198933537607, 'bagging_freq': 5}. Best is trial 31 with value: 0.4984972604939547.\u001b[0m\n",
            "bagging, val_score: 0.498497: 100%|##########| 10/10 [00:16<00:00,  1.68s/it]\n",
            "feature_fraction_stage2, val_score: 0.498497:  17%|#6        | 1/6 [00:02<00:10,  2.11s/it]\u001b[32m[I 2021-01-31 13:15:46,107]\u001b[0m Trial 37 finished with value: 0.5154692920189753 and parameters: {'feature_fraction': 0.62}. Best is trial 37 with value: 0.5154692920189753.\u001b[0m\n",
            "feature_fraction_stage2, val_score: 0.498497:  33%|###3      | 2/6 [00:03<00:07,  1.95s/it]\u001b[32m[I 2021-01-31 13:15:47,658]\u001b[0m Trial 38 finished with value: 0.5059522196662454 and parameters: {'feature_fraction': 0.6839999999999999}. Best is trial 38 with value: 0.5059522196662454.\u001b[0m\n",
            "feature_fraction_stage2, val_score: 0.498497:  50%|#####     | 3/6 [00:06<00:06,  2.11s/it]\u001b[32m[I 2021-01-31 13:15:50,153]\u001b[0m Trial 39 finished with value: 0.5054371582994387 and parameters: {'feature_fraction': 0.652}. Best is trial 39 with value: 0.5054371582994387.\u001b[0m\n",
            "feature_fraction_stage2, val_score: 0.498497:  67%|######6   | 4/6 [00:08<00:04,  2.12s/it]\u001b[32m[I 2021-01-31 13:15:52,288]\u001b[0m Trial 40 finished with value: 0.505423824600142 and parameters: {'feature_fraction': 0.7799999999999999}. Best is trial 40 with value: 0.505423824600142.\u001b[0m\n",
            "feature_fraction_stage2, val_score: 0.498497:  83%|########3 | 5/6 [00:09<00:01,  1.93s/it]\u001b[32m[I 2021-01-31 13:15:53,773]\u001b[0m Trial 41 finished with value: 0.5145582738121203 and parameters: {'feature_fraction': 0.716}. Best is trial 40 with value: 0.505423824600142.\u001b[0m\n",
            "feature_fraction_stage2, val_score: 0.498497: 100%|##########| 6/6 [00:11<00:00,  1.98s/it]\u001b[32m[I 2021-01-31 13:15:55,874]\u001b[0m Trial 42 finished with value: 0.5104923093703778 and parameters: {'feature_fraction': 0.748}. Best is trial 40 with value: 0.505423824600142.\u001b[0m\n",
            "feature_fraction_stage2, val_score: 0.498497: 100%|##########| 6/6 [00:11<00:00,  1.98s/it]\n",
            "regularization_factors, val_score: 0.498497:   5%|5         | 1/20 [00:01<00:28,  1.51s/it]\u001b[32m[I 2021-01-31 13:15:57,400]\u001b[0m Trial 43 finished with value: 0.5101681154779996 and parameters: {'lambda_l1': 0.21031016989590412, 'lambda_l2': 0.0007476511784470538}. Best is trial 43 with value: 0.5101681154779996.\u001b[0m\n",
            "regularization_factors, val_score: 0.498497:  10%|#         | 2/20 [00:03<00:27,  1.54s/it]\u001b[32m[I 2021-01-31 13:15:59,003]\u001b[0m Trial 44 finished with value: 0.5060224042458679 and parameters: {'lambda_l1': 0.0011844366195064436, 'lambda_l2': 1.5568153467511537e-08}. Best is trial 44 with value: 0.5060224042458679.\u001b[0m\n",
            "regularization_factors, val_score: 0.498497:  15%|#5        | 3/20 [00:04<00:27,  1.60s/it]\u001b[32m[I 2021-01-31 13:16:00,747]\u001b[0m Trial 45 finished with value: 0.49849726109854914 and parameters: {'lambda_l1': 2.6056766747842593e-07, 'lambda_l2': 1.4898439457980214e-08}. Best is trial 45 with value: 0.49849726109854914.\u001b[0m\n",
            "regularization_factors, val_score: 0.498497:  20%|##        | 4/20 [00:06<00:25,  1.59s/it]\u001b[32m[I 2021-01-31 13:16:02,317]\u001b[0m Trial 46 finished with value: 0.5087546238280393 and parameters: {'lambda_l1': 0.027797534095879897, 'lambda_l2': 0.008211302064589272}. Best is trial 45 with value: 0.49849726109854914.\u001b[0m\n",
            "regularization_factors, val_score: 0.498497:  25%|##5       | 5/20 [00:07<00:21,  1.44s/it]\u001b[32m[I 2021-01-31 13:16:03,417]\u001b[0m Trial 47 finished with value: 0.536926603686657 and parameters: {'lambda_l1': 6.79979786403067, 'lambda_l2': 3.3358138504241776e-07}. Best is trial 45 with value: 0.49849726109854914.\u001b[0m\n",
            "regularization_factors, val_score: 0.498497:  30%|###       | 6/20 [00:09<00:21,  1.54s/it]\u001b[32m[I 2021-01-31 13:16:05,185]\u001b[0m Trial 48 finished with value: 0.5067033539841195 and parameters: {'lambda_l1': 5.501451945253546e-06, 'lambda_l2': 1.0791208957737735}. Best is trial 45 with value: 0.49849726109854914.\u001b[0m\n",
            "regularization_factors, val_score: 0.498497:  35%|###5      | 7/20 [00:10<00:17,  1.32s/it]\u001b[32m[I 2021-01-31 13:16:05,996]\u001b[0m Trial 49 finished with value: 0.536276177063144 and parameters: {'lambda_l1': 6.526486898357305, 'lambda_l2': 0.08038268628264097}. Best is trial 45 with value: 0.49849726109854914.\u001b[0m\n",
            "regularization_factors, val_score: 0.498497:  40%|####      | 8/20 [00:11<00:16,  1.40s/it]\u001b[32m[I 2021-01-31 13:16:07,562]\u001b[0m Trial 50 finished with value: 0.4984975514417259 and parameters: {'lambda_l1': 0.00010772789895474184, 'lambda_l2': 9.194098415645811e-06}. Best is trial 45 with value: 0.49849726109854914.\u001b[0m\n",
            "regularization_factors, val_score: 0.498497:  45%|####5     | 9/20 [00:13<00:16,  1.47s/it]\u001b[32m[I 2021-01-31 13:16:09,208]\u001b[0m Trial 51 finished with value: 0.5101348251289984 and parameters: {'lambda_l1': 0.023404100896627922, 'lambda_l2': 0.0027841858672417483}. Best is trial 45 with value: 0.49849726109854914.\u001b[0m\n",
            "regularization_factors, val_score: 0.498497:  50%|#####     | 10/20 [00:14<00:15,  1.50s/it]\u001b[32m[I 2021-01-31 13:16:10,778]\u001b[0m Trial 52 finished with value: 0.5055154562699793 and parameters: {'lambda_l1': 6.51289096288333e-05, 'lambda_l2': 0.004732512595464647}. Best is trial 45 with value: 0.49849726109854914.\u001b[0m\n",
            "regularization_factors, val_score: 0.498497:  55%|#####5    | 11/20 [00:16<00:13,  1.53s/it]\u001b[32m[I 2021-01-31 13:16:12,377]\u001b[0m Trial 53 finished with value: 0.4984972604921946 and parameters: {'lambda_l1': 1.0530381471950802e-08, 'lambda_l2': 3.1380589177139576e-08}. Best is trial 53 with value: 0.4984972604921946.\u001b[0m\n",
            "regularization_factors, val_score: 0.498497:  60%|######    | 12/20 [00:18<00:12,  1.55s/it]\u001b[32m[I 2021-01-31 13:16:13,973]\u001b[0m Trial 54 finished with value: 0.4984972605135981 and parameters: {'lambda_l1': 1.422690653492985e-08, 'lambda_l2': 1.0065204778345393e-08}. Best is trial 53 with value: 0.4984972604921946.\u001b[0m\n",
            "regularization_factors, val_score: 0.498497:  65%|######5   | 13/20 [00:19<00:10,  1.55s/it]\u001b[32m[I 2021-01-31 13:16:15,527]\u001b[0m Trial 55 finished with value: 0.4984972601855153 and parameters: {'lambda_l1': 1.3465572527281418e-08, 'lambda_l2': 1.5599970742464123e-06}. Best is trial 55 with value: 0.4984972601855153.\u001b[0m\n",
            "regularization_factors, val_score: 0.498497:  70%|#######   | 14/20 [00:21<00:09,  1.57s/it]\u001b[32m[I 2021-01-31 13:16:17,132]\u001b[0m Trial 56 finished with value: 0.4984972573642715 and parameters: {'lambda_l1': 2.304510804337266e-08, 'lambda_l2': 2.1908558922517566e-05}. Best is trial 56 with value: 0.4984972573642715.\u001b[0m\n",
            "regularization_factors, val_score: 0.498497:  75%|#######5  | 15/20 [00:22<00:07,  1.58s/it]\u001b[32m[I 2021-01-31 13:16:18,729]\u001b[0m Trial 57 finished with value: 0.49849725940556067 and parameters: {'lambda_l1': 4.6766866171462906e-07, 'lambda_l2': 1.4796478831956179e-05}. Best is trial 56 with value: 0.4984972573642715.\u001b[0m\n",
            "regularization_factors, val_score: 0.498497:  80%|########  | 16/20 [00:24<00:06,  1.58s/it]\u001b[32m[I 2021-01-31 13:16:20,307]\u001b[0m Trial 58 finished with value: 0.4984972554194663 and parameters: {'lambda_l1': 4.985118971645386e-07, 'lambda_l2': 4.1920325266878805e-05}. Best is trial 58 with value: 0.4984972554194663.\u001b[0m\n",
            "regularization_factors, val_score: 0.498497:  85%|########5 | 17/20 [00:26<00:04,  1.58s/it]\u001b[32m[I 2021-01-31 13:16:21,887]\u001b[0m Trial 59 finished with value: 0.49849725089146213 and parameters: {'lambda_l1': 2.6186006357800587e-07, 'lambda_l2': 6.752727215521214e-05}. Best is trial 59 with value: 0.49849725089146213.\u001b[0m\n",
            "regularization_factors, val_score: 0.498497:  90%|######### | 18/20 [00:27<00:03,  1.61s/it]\u001b[32m[I 2021-01-31 13:16:23,563]\u001b[0m Trial 60 finished with value: 0.4984972515007525 and parameters: {'lambda_l1': 1.446411060392414e-06, 'lambda_l2': 8.63071905778865e-05}. Best is trial 59 with value: 0.49849725089146213.\u001b[0m\n",
            "regularization_factors, val_score: 0.498497:  95%|#########5| 19/20 [00:29<00:01,  1.61s/it]\u001b[32m[I 2021-01-31 13:16:25,182]\u001b[0m Trial 61 finished with value: 0.4984972210355839 and parameters: {'lambda_l1': 6.632751044983265e-06, 'lambda_l2': 0.0003847139173392962}. Best is trial 61 with value: 0.4984972210355839.\u001b[0m\n",
            "regularization_factors, val_score: 0.498497: 100%|##########| 20/20 [00:30<00:00,  1.58s/it]\u001b[32m[I 2021-01-31 13:16:26,680]\u001b[0m Trial 62 finished with value: 0.5125830772895431 and parameters: {'lambda_l1': 1.2726968807719617e-05, 'lambda_l2': 0.24536003025685915}. Best is trial 61 with value: 0.4984972210355839.\u001b[0m\n",
            "regularization_factors, val_score: 0.498497: 100%|##########| 20/20 [00:30<00:00,  1.54s/it]\n",
            "min_data_in_leaf, val_score: 0.490902:  20%|##        | 1/5 [00:02<00:10,  2.57s/it]\u001b[32m[I 2021-01-31 13:16:29,269]\u001b[0m Trial 63 finished with value: 0.4909023268311956 and parameters: {'min_child_samples': 10}. Best is trial 63 with value: 0.4909023268311956.\u001b[0m\n",
            "min_data_in_leaf, val_score: 0.490902:  40%|####      | 2/5 [00:04<00:06,  2.29s/it]\u001b[32m[I 2021-01-31 13:16:30,909]\u001b[0m Trial 64 finished with value: 0.516718887622834 and parameters: {'min_child_samples': 25}. Best is trial 63 with value: 0.4909023268311956.\u001b[0m\n",
            "min_data_in_leaf, val_score: 0.490902:  60%|######    | 3/5 [00:05<00:04,  2.04s/it]\u001b[32m[I 2021-01-31 13:16:32,358]\u001b[0m Trial 65 finished with value: 0.5138022108487623 and parameters: {'min_child_samples': 50}. Best is trial 63 with value: 0.4909023268311956.\u001b[0m\n",
            "min_data_in_leaf, val_score: 0.467666:  80%|########  | 4/5 [00:08<00:02,  2.40s/it]\u001b[32m[I 2021-01-31 13:16:35,588]\u001b[0m Trial 66 finished with value: 0.4676664755828709 and parameters: {'min_child_samples': 5}. Best is trial 66 with value: 0.4676664755828709.\u001b[0m\n",
            "min_data_in_leaf, val_score: 0.467666: 100%|##########| 5/5 [00:09<00:00,  1.79s/it]\u001b[32m[I 2021-01-31 13:16:35,972]\u001b[0m Trial 67 finished with value: 0.5684172807061988 and parameters: {'min_child_samples': 100}. Best is trial 66 with value: 0.4676664755828709.\u001b[0m\n",
            "min_data_in_leaf, val_score: 0.467666: 100%|##########| 5/5 [00:09<00:00,  1.86s/it]\n"
          ],
          "name": "stderr"
        }
      ]
    },
    {
      "cell_type": "code",
      "metadata": {
        "colab": {
          "base_uri": "https://localhost:8080/"
        },
        "id": "lVNqZchxRt32",
        "outputId": "ea4b0e89-c2fa-4d74-98a5-944650767c18"
      },
      "source": [
        "print(\"Best score:\", tuner.best_score)\r\n",
        "best_params_with_title_reviews_leakcols = tuner.best_params\r\n",
        "print(\"Best params:\", best_params_with_title_reviews_leakcols)\r\n",
        "print(\"  Params: \")\r\n",
        "\r\n",
        "for key, value in best_params_with_title_reviews_leakcols.items():\r\n",
        "        print(\"    {}: {}\".format(key, value))"
      ],
      "execution_count": null,
      "outputs": [
        {
          "output_type": "stream",
          "text": [
            "Best score: 0.4676664755828709\n",
            "Best params: {'objective': 'regression', 'metric': 'rmse', 'verbosity': -1, 'boosting_type': 'gbdt', 'feature_pre_filter': False, 'lambda_l1': 6.632751044983265e-06, 'lambda_l2': 0.0003847139173392962, 'num_leaves': 10, 'feature_fraction': 0.7, 'bagging_fraction': 0.5727164785688057, 'bagging_freq': 3, 'min_child_samples': 5}\n",
            "  Params: \n",
            "    objective: regression\n",
            "    metric: rmse\n",
            "    verbosity: -1\n",
            "    boosting_type: gbdt\n",
            "    feature_pre_filter: False\n",
            "    lambda_l1: 6.632751044983265e-06\n",
            "    lambda_l2: 0.0003847139173392962\n",
            "    num_leaves: 10\n",
            "    feature_fraction: 0.7\n",
            "    bagging_fraction: 0.5727164785688057\n",
            "    bagging_freq: 3\n",
            "    min_child_samples: 5\n"
          ],
          "name": "stdout"
        }
      ]
    },
    {
      "cell_type": "code",
      "metadata": {
        "id": "IBoxoAqeRCcD"
      },
      "source": [
        "best_params['data'] = 'baseline'\r\n",
        "best_params_with_reviews['data'] = 'baseline_with_reviews'\r\n",
        "best_params_with_title['data'] = 'best_params_with_title'\r\n",
        "best_params_with_title_reviews['data'] = 'best_params_with_title_reviews'\r\n",
        "best_params_with_title_reviews_leakcols['data'] = 'best_params_with_title_reviews_leakcols'\r\n",
        "\r\n",
        "\r\n",
        "all_best_params = pd.DataFrame(\r\n",
        "[best_params,\r\n",
        "best_params_with_reviews,\r\n",
        "best_params_with_title,\r\n",
        "best_params_with_title_reviews,\r\n",
        "best_params_with_title_reviews_leakcols\r\n",
        " ])"
      ],
      "execution_count": null,
      "outputs": []
    },
    {
      "cell_type": "code",
      "metadata": {
        "colab": {
          "base_uri": "https://localhost:8080/",
          "height": 224
        },
        "id": "hok_b--9SjWp",
        "outputId": "f21db619-7520-4211-a3e8-12b71e8e2dc6"
      },
      "source": [
        "all_best_params"
      ],
      "execution_count": null,
      "outputs": [
        {
          "output_type": "execute_result",
          "data": {
            "text/html": [
              "<div>\n",
              "<style scoped>\n",
              "    .dataframe tbody tr th:only-of-type {\n",
              "        vertical-align: middle;\n",
              "    }\n",
              "\n",
              "    .dataframe tbody tr th {\n",
              "        vertical-align: top;\n",
              "    }\n",
              "\n",
              "    .dataframe thead th {\n",
              "        text-align: right;\n",
              "    }\n",
              "</style>\n",
              "<table border=\"1\" class=\"dataframe\">\n",
              "  <thead>\n",
              "    <tr style=\"text-align: right;\">\n",
              "      <th></th>\n",
              "      <th>objective</th>\n",
              "      <th>metric</th>\n",
              "      <th>verbosity</th>\n",
              "      <th>boosting_type</th>\n",
              "      <th>feature_pre_filter</th>\n",
              "      <th>lambda_l1</th>\n",
              "      <th>lambda_l2</th>\n",
              "      <th>num_leaves</th>\n",
              "      <th>feature_fraction</th>\n",
              "      <th>bagging_fraction</th>\n",
              "      <th>bagging_freq</th>\n",
              "      <th>min_child_samples</th>\n",
              "      <th>data</th>\n",
              "    </tr>\n",
              "  </thead>\n",
              "  <tbody>\n",
              "    <tr>\n",
              "      <th>0</th>\n",
              "      <td>regression</td>\n",
              "      <td>rmse</td>\n",
              "      <td>-1</td>\n",
              "      <td>gbdt</td>\n",
              "      <td>False</td>\n",
              "      <td>0.000000</td>\n",
              "      <td>0.000000</td>\n",
              "      <td>2</td>\n",
              "      <td>0.400</td>\n",
              "      <td>0.719440</td>\n",
              "      <td>3</td>\n",
              "      <td>25</td>\n",
              "      <td>baseline</td>\n",
              "    </tr>\n",
              "    <tr>\n",
              "      <th>1</th>\n",
              "      <td>regression</td>\n",
              "      <td>rmse</td>\n",
              "      <td>-1</td>\n",
              "      <td>gbdt</td>\n",
              "      <td>False</td>\n",
              "      <td>0.161885</td>\n",
              "      <td>0.000058</td>\n",
              "      <td>31</td>\n",
              "      <td>0.400</td>\n",
              "      <td>0.945194</td>\n",
              "      <td>7</td>\n",
              "      <td>20</td>\n",
              "      <td>baseline_with_reviews</td>\n",
              "    </tr>\n",
              "    <tr>\n",
              "      <th>2</th>\n",
              "      <td>regression</td>\n",
              "      <td>rmse</td>\n",
              "      <td>-1</td>\n",
              "      <td>gbdt</td>\n",
              "      <td>False</td>\n",
              "      <td>0.000000</td>\n",
              "      <td>0.000000</td>\n",
              "      <td>14</td>\n",
              "      <td>0.448</td>\n",
              "      <td>1.000000</td>\n",
              "      <td>0</td>\n",
              "      <td>20</td>\n",
              "      <td>best_params_with_title</td>\n",
              "    </tr>\n",
              "    <tr>\n",
              "      <th>3</th>\n",
              "      <td>regression</td>\n",
              "      <td>rmse</td>\n",
              "      <td>-1</td>\n",
              "      <td>gbdt</td>\n",
              "      <td>False</td>\n",
              "      <td>0.001003</td>\n",
              "      <td>0.000953</td>\n",
              "      <td>31</td>\n",
              "      <td>0.500</td>\n",
              "      <td>0.652928</td>\n",
              "      <td>1</td>\n",
              "      <td>20</td>\n",
              "      <td>best_params_with_title_reviews</td>\n",
              "    </tr>\n",
              "    <tr>\n",
              "      <th>4</th>\n",
              "      <td>regression</td>\n",
              "      <td>rmse</td>\n",
              "      <td>-1</td>\n",
              "      <td>gbdt</td>\n",
              "      <td>False</td>\n",
              "      <td>0.000007</td>\n",
              "      <td>0.000385</td>\n",
              "      <td>10</td>\n",
              "      <td>0.700</td>\n",
              "      <td>0.572716</td>\n",
              "      <td>3</td>\n",
              "      <td>5</td>\n",
              "      <td>best_params_with_title_reviews_leakcols</td>\n",
              "    </tr>\n",
              "  </tbody>\n",
              "</table>\n",
              "</div>"
            ],
            "text/plain": [
              "    objective  ...                                     data\n",
              "0  regression  ...                                 baseline\n",
              "1  regression  ...                    baseline_with_reviews\n",
              "2  regression  ...                   best_params_with_title\n",
              "3  regression  ...           best_params_with_title_reviews\n",
              "4  regression  ...  best_params_with_title_reviews_leakcols\n",
              "\n",
              "[5 rows x 13 columns]"
            ]
          },
          "metadata": {
            "tags": []
          },
          "execution_count": 31
        }
      ]
    },
    {
      "cell_type": "code",
      "metadata": {
        "id": "OuAjCsG3SpSG"
      },
      "source": [
        "all_best_params.to_csv(\r\n",
        "    '/content/drive/MyDrive/Movies/result/best_params.csv'\r\n",
        "    ,index=False)"
      ],
      "execution_count": null,
      "outputs": []
    },
    {
      "cell_type": "code",
      "metadata": {
        "id": "f8CyZ7f-TVPK",
        "colab": {
          "base_uri": "https://localhost:8080/",
          "height": 100
        },
        "outputId": "be07d0b7-da37-4b6c-c751-5523aecebb0a"
      },
      "source": [
        "p={}\r\n",
        "parameters = all_best_params[all_best_params['data']=='baseline'] ### \r\n",
        "parameters"
      ],
      "execution_count": null,
      "outputs": [
        {
          "output_type": "execute_result",
          "data": {
            "text/html": [
              "<div>\n",
              "<style scoped>\n",
              "    .dataframe tbody tr th:only-of-type {\n",
              "        vertical-align: middle;\n",
              "    }\n",
              "\n",
              "    .dataframe tbody tr th {\n",
              "        vertical-align: top;\n",
              "    }\n",
              "\n",
              "    .dataframe thead th {\n",
              "        text-align: right;\n",
              "    }\n",
              "</style>\n",
              "<table border=\"1\" class=\"dataframe\">\n",
              "  <thead>\n",
              "    <tr style=\"text-align: right;\">\n",
              "      <th></th>\n",
              "      <th>objective</th>\n",
              "      <th>metric</th>\n",
              "      <th>verbosity</th>\n",
              "      <th>boosting_type</th>\n",
              "      <th>feature_pre_filter</th>\n",
              "      <th>lambda_l1</th>\n",
              "      <th>lambda_l2</th>\n",
              "      <th>num_leaves</th>\n",
              "      <th>feature_fraction</th>\n",
              "      <th>bagging_fraction</th>\n",
              "      <th>bagging_freq</th>\n",
              "      <th>min_child_samples</th>\n",
              "      <th>data</th>\n",
              "    </tr>\n",
              "  </thead>\n",
              "  <tbody>\n",
              "    <tr>\n",
              "      <th>0</th>\n",
              "      <td>regression</td>\n",
              "      <td>rmse</td>\n",
              "      <td>-1</td>\n",
              "      <td>gbdt</td>\n",
              "      <td>False</td>\n",
              "      <td>0.0</td>\n",
              "      <td>0.0</td>\n",
              "      <td>2</td>\n",
              "      <td>0.4</td>\n",
              "      <td>0.71944</td>\n",
              "      <td>3</td>\n",
              "      <td>25</td>\n",
              "      <td>baseline</td>\n",
              "    </tr>\n",
              "  </tbody>\n",
              "</table>\n",
              "</div>"
            ],
            "text/plain": [
              "    objective metric  verbosity  ... bagging_freq  min_child_samples      data\n",
              "0  regression   rmse         -1  ...            3                 25  baseline\n",
              "\n",
              "[1 rows x 13 columns]"
            ]
          },
          "metadata": {
            "tags": []
          },
          "execution_count": 34
        }
      ]
    },
    {
      "cell_type": "code",
      "metadata": {
        "colab": {
          "base_uri": "https://localhost:8080/"
        },
        "id": "Edda1mKRnEgd",
        "outputId": "bf8a3ecf-3f21-4c25-fe10-d454cd3a271a"
      },
      "source": [
        "for c in parameters.columns:\r\n",
        "  print(c+':'+str(parameters[c].values[0]))\r\n",
        "  print()\r\n",
        "  if c != 'data':\r\n",
        "    p.update({c:parameters[c].values[0]})\r\n",
        "p"
      ],
      "execution_count": null,
      "outputs": [
        {
          "output_type": "stream",
          "text": [
            "objective:regression\n",
            "\n",
            "metric:rmse\n",
            "\n",
            "verbosity:-1\n",
            "\n",
            "boosting_type:gbdt\n",
            "\n",
            "feature_pre_filter:False\n",
            "\n",
            "lambda_l1:0.0\n",
            "\n",
            "lambda_l2:0.0\n",
            "\n",
            "num_leaves:2\n",
            "\n",
            "feature_fraction:0.4\n",
            "\n",
            "bagging_fraction:0.7194396763571909\n",
            "\n",
            "bagging_freq:3\n",
            "\n",
            "min_child_samples:25\n",
            "\n",
            "data:baseline\n",
            "\n"
          ],
          "name": "stdout"
        },
        {
          "output_type": "execute_result",
          "data": {
            "text/plain": [
              "{'bagging_fraction': 0.7194396763571909,\n",
              " 'bagging_freq': 3,\n",
              " 'boosting_type': 'gbdt',\n",
              " 'feature_fraction': 0.4,\n",
              " 'feature_pre_filter': False,\n",
              " 'lambda_l1': 0.0,\n",
              " 'lambda_l2': 0.0,\n",
              " 'metric': 'rmse',\n",
              " 'min_child_samples': 25,\n",
              " 'num_leaves': 2,\n",
              " 'objective': 'regression',\n",
              " 'verbosity': -1}"
            ]
          },
          "metadata": {
            "tags": []
          },
          "execution_count": 40
        }
      ]
    },
    {
      "cell_type": "code",
      "metadata": {
        "id": "9Ov4cHzQnQvS"
      },
      "source": [
        ""
      ],
      "execution_count": null,
      "outputs": []
    }
  ]
}