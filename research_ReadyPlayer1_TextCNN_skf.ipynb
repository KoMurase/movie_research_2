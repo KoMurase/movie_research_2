{
  "nbformat": 4,
  "nbformat_minor": 0,
  "metadata": {
    "colab": {
      "name": "research_ReadyPlayer1_TextCNN_skf.ipynb",
      "provenance": [],
      "collapsed_sections": [],
      "mount_file_id": "1WfPmMGLACpcAWbQ9OVsgUJk4ugFBIv6B",
      "authorship_tag": "ABX9TyPGQHDJLOKL8KXsHqnD9eL4",
      "include_colab_link": true
    },
    "kernelspec": {
      "name": "python3",
      "display_name": "Python 3"
    },
    "accelerator": "GPU"
  },
  "cells": [
    {
      "cell_type": "markdown",
      "metadata": {
        "id": "view-in-github",
        "colab_type": "text"
      },
      "source": [
        "<a href=\"https://colab.research.google.com/github/KoMurase/movie_research_2/blob/master/research_ReadyPlayer1_TextCNN_skf.ipynb\" target=\"_parent\"><img src=\"https://colab.research.google.com/assets/colab-badge.svg\" alt=\"Open In Colab\"/></a>"
      ]
    },
    {
      "cell_type": "code",
      "metadata": {
        "id": "tJJc1x61Ault",
        "outputId": "b848ba96-e3d1-489e-ff05-8673c37f7ea2",
        "colab": {
          "base_uri": "https://localhost:8080/",
          "height": 656
        }
      },
      "source": [
        "!pip install japanize-matplotlib\n",
        "!apt-get -q -y install swig \n",
        "!apt-get install mecab\n",
        "!apt-get install libmecab-dev\n",
        "!apt-get install mecab-ipadic-utf8\n",
        "!pip install mecab-python3\n",
        "!pip install unidic-lite\n",
        "#日本語フォントのインストール　（wordcloudなどで可視化するため）\n",
        "!apt-get -y install fonts-ipafont-gothic\n",
        "\n",
        "!pip install neologdn \n",
        "#半角を全角に変換\n",
        "!pip install mojimoji"
      ],
      "execution_count": 1,
      "outputs": [
        {
          "output_type": "stream",
          "text": [
            "Requirement already satisfied: japanize-matplotlib in /usr/local/lib/python3.6/dist-packages (1.1.2)\n",
            "Requirement already satisfied: matplotlib in /usr/local/lib/python3.6/dist-packages (from japanize-matplotlib) (3.2.2)\n",
            "Requirement already satisfied: numpy>=1.11 in /usr/local/lib/python3.6/dist-packages (from matplotlib->japanize-matplotlib) (1.18.5)\n",
            "Requirement already satisfied: cycler>=0.10 in /usr/local/lib/python3.6/dist-packages (from matplotlib->japanize-matplotlib) (0.10.0)\n",
            "Requirement already satisfied: pyparsing!=2.0.4,!=2.1.2,!=2.1.6,>=2.0.1 in /usr/local/lib/python3.6/dist-packages (from matplotlib->japanize-matplotlib) (2.4.7)\n",
            "Requirement already satisfied: kiwisolver>=1.0.1 in /usr/local/lib/python3.6/dist-packages (from matplotlib->japanize-matplotlib) (1.2.0)\n",
            "Requirement already satisfied: python-dateutil>=2.1 in /usr/local/lib/python3.6/dist-packages (from matplotlib->japanize-matplotlib) (2.8.1)\n",
            "Requirement already satisfied: six in /usr/local/lib/python3.6/dist-packages (from cycler>=0.10->matplotlib->japanize-matplotlib) (1.15.0)\n",
            "Reading package lists...\n",
            "Building dependency tree...\n",
            "Reading state information...\n",
            "swig is already the newest version (3.0.12-1).\n",
            "0 upgraded, 0 newly installed, 0 to remove and 21 not upgraded.\n",
            "Reading package lists... Done\n",
            "Building dependency tree       \n",
            "Reading state information... Done\n",
            "mecab is already the newest version (0.996-5).\n",
            "0 upgraded, 0 newly installed, 0 to remove and 21 not upgraded.\n",
            "Reading package lists... Done\n",
            "Building dependency tree       \n",
            "Reading state information... Done\n",
            "libmecab-dev is already the newest version (0.996-5).\n",
            "0 upgraded, 0 newly installed, 0 to remove and 21 not upgraded.\n",
            "Reading package lists... Done\n",
            "Building dependency tree       \n",
            "Reading state information... Done\n",
            "mecab-ipadic-utf8 is already the newest version (2.7.0-20070801+main-1).\n",
            "0 upgraded, 0 newly installed, 0 to remove and 21 not upgraded.\n",
            "Requirement already satisfied: mecab-python3 in /usr/local/lib/python3.6/dist-packages (1.0.1)\n",
            "Requirement already satisfied: unidic-lite in /usr/local/lib/python3.6/dist-packages (1.0.7)\n",
            "Reading package lists... Done\n",
            "Building dependency tree       \n",
            "Reading state information... Done\n",
            "fonts-ipafont-gothic is already the newest version (00303-18ubuntu1).\n",
            "0 upgraded, 0 newly installed, 0 to remove and 21 not upgraded.\n",
            "Requirement already satisfied: neologdn in /usr/local/lib/python3.6/dist-packages (0.4)\n",
            "Requirement already satisfied: mojimoji in /usr/local/lib/python3.6/dist-packages (0.0.11)\n"
          ],
          "name": "stdout"
        }
      ]
    },
    {
      "cell_type": "code",
      "metadata": {
        "id": "sJFwBqH6xV4t"
      },
      "source": [
        "!export CUDA_LAUNCH_BLOCKING=1"
      ],
      "execution_count": 2,
      "outputs": []
    },
    {
      "cell_type": "code",
      "metadata": {
        "id": "V9D4zQ1v4mT5",
        "outputId": "210d315d-a5fc-4a9f-b375-0f8c42eb7491",
        "colab": {
          "base_uri": "https://localhost:8080/",
          "height": 33
        }
      },
      "source": [
        "import numpy as np\n",
        "from sklearn.utils import shuffle\n",
        "\n",
        "import torch\n",
        "import torch.nn as nn\n",
        "import torch.nn.init as init\n",
        "import torch.optim as optim\n",
        "import torch.nn.functional as F\n",
        "\n",
        "device = torch.device(\"cuda\" if torch.cuda.is_available() else \"cpu\")\n",
        "print(device)\n",
        "torch.manual_seed(1)\n",
        "random_state = 42\n",
        "\n",
        "import gc \n",
        "from tqdm import tqdm\n",
        "\n",
        "from sklearn.model_selection import StratifiedKFold\n",
        "\n",
        "\n",
        "#評価\n",
        "from sklearn.metrics import accuracy_score, precision_score, recall_score, f1_score\n",
        "#混同行列\n",
        "from sklearn.metrics import confusion_matrix \n",
        "\n",
        "import pandas as pd \n",
        "import matplotlib.pyplot as plt \n",
        "%matplotlib inline  \n",
        "\n",
        "import seaborn as sns\n",
        "\n",
        "from torch.autograd import Variable"
      ],
      "execution_count": 3,
      "outputs": [
        {
          "output_type": "stream",
          "text": [
            "cuda\n"
          ],
          "name": "stdout"
        }
      ]
    },
    {
      "cell_type": "code",
      "metadata": {
        "id": "FHyY5wI1FflX"
      },
      "source": [
        "MODEL_NAME = 'TextCNN'\n",
        "MODELS_DIR = '/content/drive/My Drive/movie_research/models/'"
      ],
      "execution_count": 47,
      "outputs": []
    },
    {
      "cell_type": "code",
      "metadata": {
        "id": "dKdbxv7zA9Hh",
        "outputId": "b1878b54-8b41-47f7-bab2-f365c2042106",
        "colab": {
          "base_uri": "https://localhost:8080/",
          "height": 33
        }
      },
      "source": [
        "path = \"/content/drive/My Drive/movie_research/review_csv/SF_data.csv\"\n",
        "data = pd.read_csv(path) \n",
        "\n",
        "df = data[data[\"title\"] == \"レディ・プレイヤー1|Ready Player One\"]\n",
        "del data\n",
        "gc.collect()\n",
        "print('{}件のデータを扱う'.format(len(df)))"
      ],
      "execution_count": 4,
      "outputs": [
        {
          "output_type": "stream",
          "text": [
            "18880件のデータを扱う\n"
          ],
          "name": "stdout"
        }
      ]
    },
    {
      "cell_type": "code",
      "metadata": {
        "id": "eVHj_Gb0BGzk"
      },
      "source": [
        "#数値カラムに変換する\n",
        "def prepro(df, col):\n",
        "  df = df.copy() \n",
        "  df[col] = df[col].replace('-','-1') #回答してない人を0埋め\n",
        "  df[col] = df[col].astype(float)\n",
        "\n",
        "  return df"
      ],
      "execution_count": 5,
      "outputs": []
    },
    {
      "cell_type": "code",
      "metadata": {
        "id": "7gaUlEWrBKF9",
        "outputId": "ef091afe-9d45-4e6e-dee2-5c0d20720909",
        "colab": {
          "base_uri": "https://localhost:8080/",
          "height": 309
        }
      },
      "source": [
        "df = prepro(df, \"score\")\n",
        "df[\"score\"] = df[\"score\"]*2.0\n",
        "df[\"score\"] = df[\"score\"].round() / 2.0\n",
        "plt.figure(figsize=(15, 5))\n",
        "sns.countplot(df[\"score\"].sort_values(), palette='Blues')"
      ],
      "execution_count": 6,
      "outputs": [
        {
          "output_type": "stream",
          "text": [
            "/usr/local/lib/python3.6/dist-packages/seaborn/_decorators.py:43: FutureWarning: Pass the following variable as a keyword arg: x. From version 0.12, the only valid positional argument will be `data`, and passing other arguments without an explicit keyword will result in an error or misinterpretation.\n",
            "  FutureWarning\n"
          ],
          "name": "stderr"
        },
        {
          "output_type": "execute_result",
          "data": {
            "text/plain": [
              "<matplotlib.axes._subplots.AxesSubplot at 0x7f1633341828>"
            ]
          },
          "metadata": {
            "tags": []
          },
          "execution_count": 6
        },
        {
          "output_type": "display_data",
          "data": {
            "image/png": "[encoded data removed]",
            "text/plain": [
              "<Figure size 1080x360 with 1 Axes>"
            ]
          },
          "metadata": {
            "tags": [],
            "needs_background": "light"
          }
        }
      ]
    },
    {
      "cell_type": "code",
      "metadata": {
        "id": "2fbInQ6qCDlH",
        "outputId": "f8b9d13e-db83-4934-be2f-1a254294f215",
        "colab": {
          "base_uri": "https://localhost:8080/",
          "height": 256
        }
      },
      "source": [
        "df[\"length\"] = df[\"review\"].apply(lambda x: len(x))\n",
        "plt.figure(figsize=(15, 5))\n",
        "sns.scatterplot(x=df[\"score\"].sort_values(), y=df[\"length\"], palette='YlOrBr')"
      ],
      "execution_count": 7,
      "outputs": [
        {
          "output_type": "execute_result",
          "data": {
            "text/plain": [
              "<matplotlib.axes._subplots.AxesSubplot at 0x7f16334b2d30>"
            ]
          },
          "metadata": {
            "tags": []
          },
          "execution_count": 7
        },
        {
          "output_type": "display_data",
          "data": {
            "image/png": "[encoded data removed]",
            "text/plain": [
              "<Figure size 1080x360 with 1 Axes>"
            ]
          },
          "metadata": {
            "tags": [],
            "needs_background": "light"
          }
        }
      ]
    },
    {
      "cell_type": "code",
      "metadata": {
        "id": "hAOqc2vICVTl"
      },
      "source": [
        "import neologdn \n",
        "import string \n",
        "import mojimoji \n",
        "import re \n",
        "\n",
        "def text_preprocess(text):\n",
        "\n",
        "  text = neologdn.normalize(text)\n",
        "  #URLを除去する\n",
        "  text = re.sub(\n",
        "      r'(http|https)://([-\\w]+\\.)+[-\\w]+(/[-\\w./?%&=]*)?', \n",
        "      \"\",\n",
        "      text)\n",
        "  #全角から半角に\n",
        "  text = mojimoji.zen_to_han(text) \n",
        "\n",
        "  #3D,2Dを残したい\n",
        "  text = text.replace('3D','三次元')\n",
        "  text = text.replace('2D','二次元')\n",
        "\n",
        "  #数字をすべて0に置換 \n",
        "  text = re.sub(r'\\d+', '0', text)\n",
        "\n",
        "  #string.punctuationの除去\n",
        "  table = str.maketrans('', '', string.punctuation)\n",
        "  text = text.translate(table) \n",
        "\n",
        "  text = text.replace(\"｡\",'')\n",
        "  text = text.replace(\"。\",'')\n",
        "  text = text.replace(\"，\",'')\n",
        "  text = text.replace(\",\",'')\n",
        "  text = text.replace(\"、\",'')\n",
        "  text = text.replace(\"､\",'')\n",
        "  text = text.replace(\"…\",'')\n",
        "  text = text.replace(\"･\",'')\n",
        "  \n",
        "\n",
        "  # 【】の除去\n",
        "  text = re.sub(r'[【】]', '', text)\n",
        "  # （）の除去\n",
        "  text = re.sub(r'[（）()]', '', text)\n",
        "  # ［］の除去\n",
        "  text = re.sub(r'[［］\\[\\]]', '', text)\n",
        "  #アルファベットをの大文字を小文字に変換\n",
        "  text = text.lower()\n",
        "\n",
        "  #改行コードの除去\n",
        "  text = text.replace('\\n', '')\n",
        "  text = text.replace('\\r\\n','')\n",
        "  \n",
        "  #空白を除去\n",
        "  #全角スペース\n",
        "  text = text.replace('\\u3000','')\n",
        "  #タブキー\n",
        "  text = text.replace('\\t','')\n",
        "  #半角\n",
        "  #text = re.sub(r' ','', text) →英字幕などの指摘もあるため後で行う\n",
        "  \n",
        "  return text "
      ],
      "execution_count": 8,
      "outputs": []
    },
    {
      "cell_type": "code",
      "metadata": {
        "id": "TMZmlYpoCW_X",
        "outputId": "da06cd53-5690-40f9-a9cf-6865c3e4574f",
        "colab": {
          "base_uri": "https://localhost:8080/",
          "height": 137
        }
      },
      "source": [
        "!pip install emoji \n",
        "!pip install nagisa \n",
        "#!pip install unicodedata \n",
        "\n",
        "import emoji\n",
        "import nagisa\n",
        "\n",
        "def delete_emoji(text):\n",
        "  target_list = [w for w in text if w in emoji.UNICODE_EMOJI]\n",
        "  for trg in target_list:\n",
        "    text = text.replace(trg, \"\")\n",
        "  return text "
      ],
      "execution_count": 9,
      "outputs": [
        {
          "output_type": "stream",
          "text": [
            "Requirement already satisfied: emoji in /usr/local/lib/python3.6/dist-packages (0.6.0)\n",
            "Requirement already satisfied: nagisa in /usr/local/lib/python3.6/dist-packages (0.2.7)\n",
            "Requirement already satisfied: six in /usr/local/lib/python3.6/dist-packages (from nagisa) (1.15.0)\n",
            "Requirement already satisfied: numpy in /usr/local/lib/python3.6/dist-packages (from nagisa) (1.18.5)\n",
            "Requirement already satisfied: DyNet in /usr/local/lib/python3.6/dist-packages (from nagisa) (2.1)\n",
            "Requirement already satisfied: cython in /usr/local/lib/python3.6/dist-packages (from DyNet->nagisa) (0.29.21)\n"
          ],
          "name": "stdout"
        }
      ]
    },
    {
      "cell_type": "code",
      "metadata": {
        "id": "vGcgqoXZCY7g"
      },
      "source": [
        "df[\"review\"] = df[\"review\"].apply(text_preprocess) \n",
        "df[\"review\"] = df[\"review\"].apply(delete_emoji)"
      ],
      "execution_count": 10,
      "outputs": []
    },
    {
      "cell_type": "code",
      "metadata": {
        "id": "7T2sFujaCfNq"
      },
      "source": [
        "import MeCab\n",
        "def mecab_dokuritugo(text):\n",
        "  tagger = MeCab.Tagger() \n",
        "  tagger.parse('')\n",
        "  node = tagger.parseToNode(text) \n",
        "  word_list = [] \n",
        "  while node: \n",
        "    pos = node.feature.split(\",\")[0] ### 単語の品詞を抽出\n",
        "    if pos in [\"動詞\",\"形容詞\"]:\n",
        "      ### 動詞,形容詞の原型を抽出 \n",
        "      ### [6]は原型がカタカナになって返ってくる\n",
        "      word = node.feature.split(\",\")[7]  \n",
        "      word_list.append(word) \n",
        "\n",
        "    elif pos in [\"名詞\"]: ### 名詞はそのまま\n",
        "      word = node.surface \n",
        "      word_list.append(word)\n",
        "    node = node.next\n",
        "  return \" \".join(word_list)"
      ],
      "execution_count": 11,
      "outputs": []
    },
    {
      "cell_type": "code",
      "metadata": {
        "id": "Hu2KHSpzCi1n"
      },
      "source": [
        "df[\"review_tokenize\"] = df[\"review\"].apply(mecab_dokuritugo)"
      ],
      "execution_count": 12,
      "outputs": []
    },
    {
      "cell_type": "code",
      "metadata": {
        "id": "fZhwhTcp-_gV"
      },
      "source": [
        "class TextCNN(nn.Module):\n",
        "\n",
        "  def __init__(self, vocab_size, embedding_size, class_num, kernel_num, kernel_sizes, dropout, static):\n",
        "    \"\"\"\n",
        "     :param vocab_size: int, 入力言語の語彙数\n",
        "     :param embedding_size: int, 埋め込みベクトルの次元数\n",
        "     :param class_num: int, 出力のクラス数\n",
        "     :param kernel_num: int,　畳み込み層の出力チャネル数\n",
        "     :param kernel_sizes: list of int, カーネルのウィンドウサイズ\n",
        "     :param dropout: float, ドロップアウト率\n",
        "     :param static: bool, 埋め込みを固定するか否かのフラグ\n",
        "    \n",
        "    \"\"\"\n",
        "    super(TextCNN, self).__init__()\n",
        "    self.static = static \n",
        "    self.embedding = nn.Embedding(vocab_size, embedding_size)\n",
        "    # nn.ModuleList: 任意の数のModuleをlistのような形で保持することができるクラス\n",
        "    self.convs = nn.ModuleList(\n",
        "        [nn.Conv1d(1, kernel_num, (kernel_size, embedding_size)) for kernel_size in kernel_sizes]\n",
        "    )\n",
        "    self.dropout = nn.Dropout(dropout) \n",
        "    self.out = nn.Linear(len(kernel_sizes)*kernel_num, class_num)\n",
        "\n",
        "  def forward(self, x):\n",
        "    # x: (batch_size, max_length) \n",
        "    x = self.embedding(x) #(batch_size, max_length, embedding_size)\n",
        "\n",
        "    if self.static:\n",
        "      x = torch.tensor(x) #埋め込みを固定\n",
        "\n",
        "    # (batch_size, 1, max_length, embedding_size)\n",
        "    x = x.unsqueeze(1) \n",
        "    # [(batch_size, kernel_num, max_length-kernel_size+1), ...]*len(kernel_sizes)\n",
        "    x = [F.relu(conv(x)).squeeze(3) for conv in self.convs] \n",
        "    # [(batch_size, kernel_num), ...]*len(kernel_sizes)\n",
        "    x = [F.max_pool1d(i, i.size(2)).squeeze(2) for i in x]  \n",
        "    # [(batch_size, len(kernel_sizes)*kernel_num)]\n",
        "    x = torch.cat(x, 1)\n",
        "    x = self.dropout(x) \n",
        "\n",
        "    logit = self.out(x) \n",
        "    return logit "
      ],
      "execution_count": 13,
      "outputs": []
    },
    {
      "cell_type": "code",
      "metadata": {
        "id": "5pZmqpL3t-hR"
      },
      "source": [
        "def sentence_to_ids(vocab, sen):\n",
        "  \"\"\"\n",
        "  単語のリストをIDのリストに変換する関数\n",
        "  :param vocab: class Vocab object\n",
        "  :param sen : list of str, 文を分かち書きして得られた単語のリスト\n",
        "  \"\"\"\n",
        "  UNK = 1\n",
        "\n",
        "  #辞書にない言葉にUNKを割り当てる\n",
        "  out = [vocab.word2id.get(word, UNK) for word in sen ]\n",
        "  return out \n"
      ],
      "execution_count": 14,
      "outputs": []
    },
    {
      "cell_type": "code",
      "metadata": {
        "id": "oY_4SHvHKhdt"
      },
      "source": [
        "class Vocab(object):\n",
        "  def __init__(self, word2id={}):\n",
        "    self.word2id = dict(word2id)\n",
        "    self.id2word = {v: k for k, v in self.word2id.items()}\n",
        "  \n",
        "  def build_vocab(self, sentences, min_count=1):\n",
        "    \"\"\"\n",
        "    コーパスから語彙の辞書を構築するメソッド\n",
        "\n",
        "    :param sentences: list of list of str, コーパス\n",
        "    :param min_count: int, 辞書に含める単語の最小出現回数\n",
        "    \"\"\"\n",
        "    word_counter = {}\n",
        "    for sentence in sentences:\n",
        "      for word in sentence:\n",
        "        # dict.get(key, 0)はdictにdict[key],なければ0を返す\n",
        "        word_counter[word] = word_counter.get(word, 0) + 1\n",
        "    \n",
        "    #min_count回以上出現する単語を加える\n",
        "    for word, count in sorted(word_counter.items(), key=lambda x: -x[1]):\n",
        "      if count < min_count : \n",
        "        break \n",
        "      _id = len(self.word2id)\n",
        "      self.word2id.setdefault(word, _id)\n",
        "      self.id2word[_id] = word "
      ],
      "execution_count": 15,
      "outputs": []
    },
    {
      "cell_type": "code",
      "metadata": {
        "id": "5ddEB2LOr-hf"
      },
      "source": [
        "def make_dataset(df):\n",
        "  # 特殊なトークンは事前に定義しておく\n",
        "  PAD = 0\n",
        "  UNK = 1\n",
        "  PAD_TOKEN = '<PAD>'\n",
        "  UNK_TOKEN = '<UNK>'\n",
        "\n",
        "  MIN_COUNT = 1  # 語彙に含める単語の最低出現回数\n",
        "\n",
        "  # 単語をIDに変換する辞書の初期値を設定\n",
        "  word2id = {\n",
        "      PAD_TOKEN: PAD,\n",
        "      UNK_TOKEN: UNK,\n",
        "      }\n",
        "  vocab = Vocab(word2id=word2id)\n",
        "  vocab.build_vocab(df.values.tolist(), min_count=MIN_COUNT)\n",
        "\n",
        "  print(\"語彙数:\", len(vocab.word2id))\n",
        "  \n",
        "  return vocab"
      ],
      "execution_count": 16,
      "outputs": []
    },
    {
      "cell_type": "code",
      "metadata": {
        "id": "2MDagsMA8bZ9"
      },
      "source": [
        "def train_function(dataloader, model, criterion, optimizer, scheduler, DEVICE, epoch):\n",
        "  model.train() \n",
        "  total_loss = 0 \n",
        "  total_corrects = 0\n",
        "  all_labels = []\n",
        "  all_preds = []\n",
        "\n",
        "  #progress = tqdm(dataloader, total=len(dataloader))\n",
        "\n",
        "  for i, batch in enumerate(dataloader):\n",
        "    #progress.set_description(f\"<Train> Epoch{epoch+1}\")\n",
        "    batch_X, batch_Y = batch \n",
        "    del batch\n",
        "    batch_X, batch_Y = Variable(batch_X), Variable(batch_Y),\n",
        "    optimizer.zero_grad() \n",
        "\n",
        "    outputs = model(batch_X).float()\n",
        "    del batch_X \n",
        "    loss = criterion(outputs, batch_Y)\n",
        "    loss.backward()\n",
        "    optimizer.step() \n",
        "    scheduler.step() \n",
        "    preds = torch.max(outputs, 1)[1].view(batch_Y.size())\n",
        "    del outputs \n",
        "\n",
        "    total_loss += loss.item() \n",
        "    del loss \n",
        "    total_corrects += torch.sum(preds == batch_Y)\n",
        "\n",
        "    all_labels += batch_Y.tolist() \n",
        "    all_preds += preds.tolist() \n",
        "    del batch_Y, preds \n",
        "\n",
        "    #progress.set_postfix(loss=total_loss/(i+1), f1=f1_score(all_labels, all_preds, average=\"macro\"))\n",
        "\n",
        "    gc.collect()\n",
        "  train_loss = total_loss / len(dataloader)\n",
        "  #train_acc = total_corrects.double().cpu().detach().numpy() / len(dataloader.dataset)\n",
        "  train_f1 = f1_score(all_labels, all_preds, average=\"macro\")\n",
        "  accuracy = accuracy_score(all_labels, all_preds)\n",
        "  #tp / (tp+fn)\n",
        "  #recall = recall_score(all_labels, all_preds)\n",
        "  #tp / (tp+fp)\n",
        "  #precision = precision_score(all_labels, all_preds)\n",
        "  #F1=2*(precision*recall)/(precision + recall)\n",
        "  #f1_score = f1_scorey(y_true, y_pred)\n",
        "  gc.collect()\n",
        "  return train_loss, accuracy, train_f1"
      ],
      "execution_count": 30,
      "outputs": []
    },
    {
      "cell_type": "code",
      "metadata": {
        "id": "27AO5FOf8bQa"
      },
      "source": [
        "def evalu_function(dataloader, model, criterion, device, epoch):\n",
        "  model.eval() \n",
        "  total_loss = 0\n",
        "  total_corrects = 0 \n",
        "  all_labels = []\n",
        "  all_preds = []\n",
        "\n",
        "  with torch.no_grad(): \n",
        "    #progress = tqdm(dataloader, total=len(dataloader))\n",
        "\n",
        "    for i, batch in enumerate(dataloader):\n",
        "      #progress.set_description(f\"Valid - Epoch{epoch+1}\")\n",
        "      batch_X, batch_Y = batch \n",
        "      del batch\n",
        "      batch_X, batch_Y = Variable(batch_X), Variable(batch_Y),    \n",
        "      \n",
        "      outputs = model(batch_X).float()\n",
        "      del batch_X \n",
        "      loss = criterion(outputs, batch_Y)\n",
        "      preds = torch.max(outputs, 1)[1].view(batch_Y.size())\n",
        "      del outputs \n",
        "\n",
        "\n",
        "      total_loss += loss.item() \n",
        "      del loss \n",
        "      total_corrects += torch.sum(preds == batch_Y)\n",
        "\n",
        "      all_labels += batch_Y.tolist() \n",
        "      all_preds += preds.tolist() \n",
        "      del batch_Y, preds \n",
        "\n",
        "      #progress.set_postfix(loss=total_loss/(i+1), f1=f1_score(all_labels, all_preds, average=\"macro\"))\n",
        "\n",
        "      gc.collect()\n",
        "\n",
        "    valid_loss = total_loss / len(dataloader)\n",
        "    #train_acc = total_corrects.double().cpu().detach().numpy() / len(dataloader.dataset)\n",
        "    #valid_f1 = f1_score(all_labels, all_preds, average=\"macro\")\n",
        "    accuracy = accuracy_score(all_labels, all_preds)\n",
        "    #tp / (tp+fn)\n",
        "    recall = recall_score(all_labels, all_preds, average='macro')\n",
        "    #tp / (tp+fp)\n",
        "    precision = precision_score(all_labels, all_preds, average='macro')\n",
        "    valid_f1=2*(precision*recall)/(precision + recall)\n",
        "    #f1_score = f1_scorey(y_true, y_pred)\n",
        "    gc.collect()\n",
        "\n",
        "    return valid_loss, accuracy, recall, precision, valid_f1  "
      ],
      "execution_count": 38,
      "outputs": []
    },
    {
      "cell_type": "code",
      "metadata": {
        "id": "mcdJiLbF8FPV"
      },
      "source": [
        "def plot_training(train_losses, train_accs, train_f1s,\n",
        "                  valid_losses, valid_accs, \n",
        "                  valid_recalls,valid_precisions,\n",
        "                  valid_f1s,\n",
        "                  epoch, fold):\n",
        "    \n",
        "    loss_df = pd.DataFrame({\"Train\":train_losses,\n",
        "                            \"Valid\":valid_losses},\n",
        "                        index=range(1, epoch+2))\n",
        "    loss_df.to_csv(f\"/content/drive/My Drive/movie_research/result/loss_plot_fold={fold}.csv\", index=False)\n",
        "    loss_ax = sns.lineplot(data=loss_df).get_figure()\n",
        "    #/content/drive/My Drive/movie_research\n",
        "    loss_ax.savefig(f\"/content/drive/My Drive/movie_research/figures/loss_plot_fold={fold}.png\", dpi=300)\n",
        "    loss_ax.clf()\n",
        "\n",
        "    acc_df = pd.DataFrame({\"Train\":train_accs,\n",
        "                           \"Valid\":valid_accs},\n",
        "                          index=range(1, epoch+2))\n",
        "    acc_df.to_csv(f\"/content/drive/My Drive/movie_research/result/acc_plot_fold={fold}.csv\", index=False)\n",
        "    acc_ax = sns.lineplot(data=acc_df).get_figure()\n",
        "    acc_ax.savefig(f\"/content/drive/My Drive/movie_research/figures/acc_plot_fold={fold}.png\", dpi=300)\n",
        "    acc_ax.clf()\n",
        "\n",
        "    f1_df = pd.DataFrame({\"Train_f1\":train_f1s,\n",
        "                          \"Valid_f1\":valid_f1s,\n",
        "                          \"Valid_precision\":valid_precisions,\n",
        "                          \"Valid_recall\":valid_recalls,\n",
        "                            },\n",
        "                         index=range(1, epoch+2))\n",
        "    f1_df.to_csv(f\"/content/drive/My Drive/movie_research/result/f1_plot_fold={fold}.csv\", index=False)\n",
        "    f1_ax = sns.lineplot(data=f1_df).get_figure()\n",
        "    f1_ax.savefig(f\"/content/drive/My Drive/movie_research/figures/f1_plot_fold={fold}.png\", dpi=300)\n",
        "    f1_ax.clf()"
      ],
      "execution_count": 59,
      "outputs": []
    },
    {
      "cell_type": "code",
      "metadata": {
        "id": "YFI5pRhhLzGh"
      },
      "source": [
        "class DataLoader(object):\n",
        "  def __init__(self, X, Y, batch_size, shuffle=True):\n",
        "    \"\"\"\n",
        "    :param X: list, 入力言語の文章のリスト (単語IDのリスト)\n",
        "    :param Y: list, 出力言語の文章のリスト (単語IDのリスト)\n",
        "    :param batch_size: int, バッチサイズ\n",
        "    :param shuffle: bool, サンプルをシャッフルするかどうか\n",
        "    \"\"\"\n",
        "    self.data = list(zip(X, Y))\n",
        "    self.batch_size = batch_size \n",
        "    self.shuffle = shuffle \n",
        "    self.start_index = 0 \n",
        "    self.reset() \n",
        "\n",
        "  def reset(self):\n",
        "    if self.shuffle:\n",
        "      self.data = shuffle(self.data, random_state=random_state)\n",
        "    self.start_index = 0 \n",
        "\n",
        "  def __iter__(self):\n",
        "    return self \n",
        "  def __len__(self) -> int:\n",
        "    return len(self.data)\n",
        "  def __next__(self):\n",
        "\n",
        "  #ポインタが最後まで到達したら初期化する\n",
        "    if self.start_index >= len(self.data): \n",
        "      self.reset() \n",
        "      raise StopIteration() \n",
        "\n",
        "    #バッチを取得\n",
        "    X, Y = zip(*self.data[self.start_index:self.start_index+self.batch_size])\n",
        "    #短い系列の末尾をパディングする\n",
        "    lengths_X = [len(s) for s in X]\n",
        "    max_length_X = max(lengths_X) \n",
        "    padded_X = [self.pad_seq(s, max_length_X) for s in X] \n",
        "    #tensorに変換\n",
        "    batch_X = torch.tensor(padded_X, dtype=torch.long, device=device)\n",
        "    batch_Y = torch.tensor(Y, dtype=torch.long, device=device)\n",
        "\n",
        "    #ポインタを更新する\n",
        "    self.start_index += self.batch_size \n",
        "\n",
        "    return batch_X, batch_Y \n",
        "  \n",
        "  @staticmethod \n",
        "  def pad_seq(seq, max_length):\n",
        "    \"\"\"\n",
        "    系列の末尾をパディングする \n",
        "    :param seq: list or int, 単語のインデックスのリスト\n",
        "    :param seq: max_length: int, バッチ内の系列の最大長\n",
        "    :return seq: list of int, 単語のインデックスのリスト\n",
        "    \"\"\"\n",
        "    PAD = 0\n",
        "    seq += [PAD for i in range(max_length - len(seq))]\n",
        "    return seq "
      ],
      "execution_count": 20,
      "outputs": []
    },
    {
      "cell_type": "code",
      "metadata": {
        "id": "kC2wwcYD7U6J"
      },
      "source": [
        "def trainer(fold, df, batch_size, lr, EPOCHS, weight):\n",
        "\n",
        "  train_df = df[df.kfold != fold].reset_index(drop=True)\n",
        "  valid_df = df[df.kfold == fold].reset_index(drop=True)\n",
        "\n",
        "  train_X = train_df[\"tokenize\"]\n",
        "  train_y = train_df[\"score\"]\n",
        "  valid_X = valid_df[\"tokenize\"]\n",
        "  valid_y = valid_df[\"score\"] \n",
        "\n",
        "  #訓練データを使って辞書を作る\n",
        "  vocab = make_dataset(train_X)\n",
        "\n",
        "  ###データセットの作成\n",
        "  #各データをid化\n",
        "  train_X = [sentence_to_ids(vocab, x) for x in train_X]\n",
        "  valid_X = [sentence_to_ids(vocab, x) for x in valid_X]\n",
        "\n",
        "  train_dataloader = DataLoader(train_X, train_y, batch_size)\n",
        "  valid_dataloader = DataLoader(valid_X, valid_y, batch_size)\n",
        "\n",
        "  model_args = {\n",
        "      'vocab_size': len(vocab.id2word),\n",
        "      'embedding_size': 128,\n",
        "      'class_num': 9,\n",
        "      'kernel_num': 64, \n",
        "      'kernel_sizes': [3,4,5],\n",
        "      'dropout': 0.5, \n",
        "      'static': False,\n",
        "  }\n",
        "  #modelの設定 \n",
        "  model = TextCNN(**model_args)\n",
        "  model = model.to(device)\n",
        "\n",
        "  #if weight != None:\n",
        "  #  criterion = nn.CrossEntropyLoss(weight=weights.to(device))\n",
        "  #else:\n",
        "  #  criterion = nn.CrossEntropyLoss()\n",
        "  criterion = nn.CrossEntropyLoss()\n",
        "  \n",
        "  #AdamWを使ってみる\n",
        "  optimizer = optim.AdamW(model.parameters(), lr=lr)\n",
        "\n",
        "  scheduler = optim.lr_scheduler.StepLR(optimizer, step_size=10000, gamma=1.0)\n",
        "\n",
        "  train_losses = []\n",
        "  train_accs = []\n",
        "  train_f1s = []\n",
        "  valid_losses = []\n",
        "  valid_accs = []\n",
        "  valid_f1s = []\n",
        "  valid_recalls = []\n",
        "  valid_precisions = []\n",
        " \n",
        "  best_loss = np.inf \n",
        "  best_acc = 0 \n",
        "  best_f1 = 0 \n",
        "\n",
        "  for epoch in range(EPOCHS):\n",
        "    train_loss, train_acc, train_f1 = train_function(train_dataloader, model, criterion, optimizer, scheduler, device, epoch)\n",
        "    valid_loss, valid_acc, valid_recall, valid_precision, valid_f1 = evalu_function(valid_dataloader, model, criterion, device, epoch)\n",
        "    print(f\"Loss: {valid_loss}  Acc: {valid_acc}  f1: {valid_f1}  \")\n",
        "\n",
        "    train_losses.append(train_loss)\n",
        "    train_accs.append(train_acc)\n",
        "    train_f1s.append(train_f1)\n",
        "    valid_losses.append(valid_loss)\n",
        "    valid_accs.append(valid_acc)\n",
        "    valid_recalls.append(valid_recall)\n",
        "    valid_precisions.append(valid_precision)\n",
        "    valid_f1s.append(valid_f1)\n",
        "\n",
        "    plot_training(train_losses, train_accs, train_f1s,\n",
        "                      valid_losses, valid_accs, \n",
        "                      valid_recalls,valid_precisions,\n",
        "                      valid_f1s,\n",
        "                      epoch, fold)\n",
        "\n",
        "    best_loss = valid_loss if valid_loss < best_loss else best_loss\n",
        "    besl_acc = valid_acc if valid_acc > best_acc else best_acc\n",
        "    if valid_f1 > best_f1:\n",
        "      best_f1 = valid_f1\n",
        "      print(\"model saving!\", end=\"\")\n",
        "      torch.save(model.state_dict(), MODELS_DIR + f\"best_{MODEL_NAME}_{fold}.pth\")\n",
        "      print(\"\\n\")\n",
        "\n",
        "    return best_f1\n"
      ],
      "execution_count": 40,
      "outputs": []
    },
    {
      "cell_type": "code",
      "metadata": {
        "id": "eHdvZHR-9yO7"
      },
      "source": [
        "from sklearn.preprocessing import LabelEncoder\n",
        "\n",
        "\n",
        "def create_folds(df, num_splits):\n",
        "    df = df.copy()\n",
        "    #df[\"jobflag\"] = df[\"jobflag\"] - 1\n",
        "    df[\"kfold\"] = -1 \n",
        "\n",
        "    #fracで抽出する行の割合1は100%\n",
        "    df = df.sample(frac=1).reset_index(drop=True)\n",
        "    y = df[\"score\"].values \n",
        "    label_encoder = LabelEncoder()\n",
        "    y = label_encoder.fit_transform(y)\n",
        "    \n",
        "    skf = StratifiedKFold(n_splits=num_splits)\n",
        "\n",
        "    for f, (t_, v_) in enumerate(skf.split(X=df, y=y)):\n",
        "        df.loc[v_,'kfold'] = f ###locより高速\n",
        "    return df"
      ],
      "execution_count": 22,
      "outputs": []
    },
    {
      "cell_type": "code",
      "metadata": {
        "id": "qgFac6ot9khs",
        "outputId": "87436bbf-2d10-4b98-f0df-630fcecef4a5",
        "colab": {
          "base_uri": "https://localhost:8080/",
          "height": 268
        }
      },
      "source": [
        "df.info() \n"
      ],
      "execution_count": 23,
      "outputs": [
        {
          "output_type": "stream",
          "text": [
            "<class 'pandas.core.frame.DataFrame'>\n",
            "Int64Index: 18880 entries, 412299 to 431178\n",
            "Data columns (total 8 columns):\n",
            " #   Column           Non-Null Count  Dtype  \n",
            "---  ------           --------------  -----  \n",
            " 0   title            18880 non-null  object \n",
            " 1   name             18880 non-null  object \n",
            " 2   time             18880 non-null  object \n",
            " 3   review           18880 non-null  object \n",
            " 4   score            18880 non-null  float64\n",
            " 5   URL              18880 non-null  object \n",
            " 6   length           18880 non-null  int64  \n",
            " 7   review_tokenize  18880 non-null  object \n",
            "dtypes: float64(1), int64(1), object(6)\n",
            "memory usage: 1.9+ MB\n"
          ],
          "name": "stdout"
        }
      ]
    },
    {
      "cell_type": "code",
      "metadata": {
        "id": "_6HNYJwe_WZ6"
      },
      "source": [
        "NUM_SPLITS = 5\n",
        "\n",
        "test_df = df[df.score == -1]\n",
        "df = df[df.score != -1]\n",
        "\n",
        "df = create_folds(df, NUM_SPLITS)"
      ],
      "execution_count": 24,
      "outputs": []
    },
    {
      "cell_type": "code",
      "metadata": {
        "id": "ZBSHdGH39tT0",
        "outputId": "14287f0d-ddbf-4d9b-a8de-f4027733d2a0",
        "colab": {
          "base_uri": "https://localhost:8080/",
          "height": 397
        }
      },
      "source": [
        "test_df.head() "
      ],
      "execution_count": 25,
      "outputs": [
        {
          "output_type": "execute_result",
          "data": {
            "text/html": [
              "<div>\n",
              "<style scoped>\n",
              "    .dataframe tbody tr th:only-of-type {\n",
              "        vertical-align: middle;\n",
              "    }\n",
              "\n",
              "    .dataframe tbody tr th {\n",
              "        vertical-align: top;\n",
              "    }\n",
              "\n",
              "    .dataframe thead th {\n",
              "        text-align: right;\n",
              "    }\n",
              "</style>\n",
              "<table border=\"1\" class=\"dataframe\">\n",
              "  <thead>\n",
              "    <tr style=\"text-align: right;\">\n",
              "      <th></th>\n",
              "      <th>title</th>\n",
              "      <th>name</th>\n",
              "      <th>time</th>\n",
              "      <th>review</th>\n",
              "      <th>score</th>\n",
              "      <th>URL</th>\n",
              "      <th>length</th>\n",
              "      <th>review_tokenize</th>\n",
              "    </tr>\n",
              "  </thead>\n",
              "  <tbody>\n",
              "    <tr>\n",
              "      <th>412313</th>\n",
              "      <td>レディ・プレイヤー1|Ready Player One</td>\n",
              "      <td>べすの感想・評価</td>\n",
              "      <td>2020/08/16 15:46</td>\n",
              "      <td>映画ｹﾞｰﾑ昔の音楽知っていると楽しいところがいくつかあって遊び心がかいまみれた俺はｶﾞﾝﾀ...</td>\n",
              "      <td>-1.0</td>\n",
              "      <td>https://filmarks.com//movies/63747?page=10</td>\n",
              "      <td>60</td>\n",
              "      <td>映画 ｹﾞｰﾑ 昔 音楽 知る 居る 楽しい ところ いく 有る 遊び心 垣間見る ｶﾞﾝﾀ...</td>\n",
              "    </tr>\n",
              "    <tr>\n",
              "      <th>412326</th>\n",
              "      <td>レディ・プレイヤー1|Ready Player One</td>\n",
              "      <td>TaikiSoneの感想・評価</td>\n",
              "      <td>2020/07/06 23:55</td>\n",
              "      <td>ｵﾓﾛかったｰﾘｱﾙとｵｱｼｽ仮想世界ｼｬｲﾆﾝｸﾞのｼｰﾝは笑うこの手のﾀｲﾌﾟも意外によ...</td>\n",
              "      <td>-1.0</td>\n",
              "      <td>https://filmarks.com//movies/63747?page=100</td>\n",
              "      <td>59</td>\n",
              "      <td>ｵﾓﾛ 買う ｰﾘｱﾙ ｵｱｼｽ 仮想 世界 ｼｬｲﾆﾝｸﾞ ｼｰﾝ 笑う 手 ﾀｲﾌﾟ か...</td>\n",
              "    </tr>\n",
              "    <tr>\n",
              "      <th>412372</th>\n",
              "      <td>レディ・プレイヤー1|Ready Player One</td>\n",
              "      <td>N村の感想・評価</td>\n",
              "      <td>2018/09/09 07:08</td>\n",
              "      <td>是非usjのﾊﾞｯｸﾄｩｰｻﾞﾌｭｰﾁｬｰのｱﾄﾗｸｼｮﾝやったところでやってほしい</td>\n",
              "      <td>-1.0</td>\n",
              "      <td>https://filmarks.com//movies/63747?page=1004</td>\n",
              "      <td>42</td>\n",
              "      <td>usj ﾊﾞｯｸﾄｩｰｻﾞﾌｭｰﾁｬｰ ｱﾄﾗｸｼｮﾝ 遣る ところ 遣る 欲しい</td>\n",
              "    </tr>\n",
              "    <tr>\n",
              "      <th>412381</th>\n",
              "      <td>レディ・プレイヤー1|Ready Player One</td>\n",
              "      <td>おかだの感想・評価</td>\n",
              "      <td>2018/09/09 01:34</td>\n",
              "      <td>面白いのはもちろんなんだが最近盛り上がってきたばかりの気がするvrを早くも題材にして作り上げ...</td>\n",
              "      <td>-1.0</td>\n",
              "      <td>https://filmarks.com//movies/63747?page=1005</td>\n",
              "      <td>152</td>\n",
              "      <td>面白い 最近 盛り上がる 来る 気 為る vr 早い 題材 為る 作り上げる ところ ｽﾋﾟ...</td>\n",
              "    </tr>\n",
              "    <tr>\n",
              "      <th>412430</th>\n",
              "      <td>レディ・プレイヤー1|Ready Player One</td>\n",
              "      <td>RIKEの感想・評価</td>\n",
              "      <td>2020/07/06 23:26</td>\n",
              "      <td>所々にﾎﾟｯﾌﾟｶﾙﾁｬｰ感じられる小ﾈﾀが散りばめられていて宝探しのようだったｺﾞｰﾙﾃﾞ...</td>\n",
              "      <td>-1.0</td>\n",
              "      <td>https://filmarks.com//movies/63747?page=101</td>\n",
              "      <td>63</td>\n",
              "      <td>所々 ﾎﾟｯﾌﾟｶﾙﾁｬｰ 感ずる ﾈﾀ 鏤める 居る 宝探し ｺﾞｰﾙﾃﾞｨｳｨﾙｿﾝ ﾎ...</td>\n",
              "    </tr>\n",
              "  </tbody>\n",
              "</table>\n",
              "</div>"
            ],
            "text/plain": [
              "                              title  ...                                    review_tokenize\n",
              "412313  レディ・プレイヤー1|Ready Player One  ...  映画 ｹﾞｰﾑ 昔 音楽 知る 居る 楽しい ところ いく 有る 遊び心 垣間見る ｶﾞﾝﾀ...\n",
              "412326  レディ・プレイヤー1|Ready Player One  ...  ｵﾓﾛ 買う ｰﾘｱﾙ ｵｱｼｽ 仮想 世界 ｼｬｲﾆﾝｸﾞ ｼｰﾝ 笑う 手 ﾀｲﾌﾟ か...\n",
              "412372  レディ・プレイヤー1|Ready Player One  ...          usj ﾊﾞｯｸﾄｩｰｻﾞﾌｭｰﾁｬｰ ｱﾄﾗｸｼｮﾝ 遣る ところ 遣る 欲しい\n",
              "412381  レディ・プレイヤー1|Ready Player One  ...  面白い 最近 盛り上がる 来る 気 為る vr 早い 題材 為る 作り上げる ところ ｽﾋﾟ...\n",
              "412430  レディ・プレイヤー1|Ready Player One  ...  所々 ﾎﾟｯﾌﾟｶﾙﾁｬｰ 感ずる ﾈﾀ 鏤める 居る 宝探し ｺﾞｰﾙﾃﾞｨｳｨﾙｿﾝ ﾎ...\n",
              "\n",
              "[5 rows x 8 columns]"
            ]
          },
          "metadata": {
            "tags": []
          },
          "execution_count": 25
        }
      ]
    },
    {
      "cell_type": "code",
      "metadata": {
        "id": "xNVIL95y9ww9",
        "outputId": "e8e5ffa3-ffc3-4979-8fc4-4050eb096d4a",
        "colab": {
          "base_uri": "https://localhost:8080/",
          "height": 397
        }
      },
      "source": [
        "df.head()"
      ],
      "execution_count": 26,
      "outputs": [
        {
          "output_type": "execute_result",
          "data": {
            "text/html": [
              "<div>\n",
              "<style scoped>\n",
              "    .dataframe tbody tr th:only-of-type {\n",
              "        vertical-align: middle;\n",
              "    }\n",
              "\n",
              "    .dataframe tbody tr th {\n",
              "        vertical-align: top;\n",
              "    }\n",
              "\n",
              "    .dataframe thead th {\n",
              "        text-align: right;\n",
              "    }\n",
              "</style>\n",
              "<table border=\"1\" class=\"dataframe\">\n",
              "  <thead>\n",
              "    <tr style=\"text-align: right;\">\n",
              "      <th></th>\n",
              "      <th>title</th>\n",
              "      <th>name</th>\n",
              "      <th>time</th>\n",
              "      <th>review</th>\n",
              "      <th>score</th>\n",
              "      <th>URL</th>\n",
              "      <th>length</th>\n",
              "      <th>review_tokenize</th>\n",
              "      <th>kfold</th>\n",
              "    </tr>\n",
              "  </thead>\n",
              "  <tbody>\n",
              "    <tr>\n",
              "      <th>0</th>\n",
              "      <td>レディ・プレイヤー1|Ready Player One</td>\n",
              "      <td>かふぃの感想・評価</td>\n",
              "      <td>2018/05/17 11:03</td>\n",
              "      <td>0dで鑑賞したらあんまり集中できなかったけど面白かった数十年後には仮想世界で生きていくように...</td>\n",
              "      <td>4.0</td>\n",
              "      <td>https://filmarks.com//movies/63747?page=1366</td>\n",
              "      <td>55</td>\n",
              "      <td>0 d 鑑賞 為る 集中 出来る 面白い 数十 年 仮想 世界 生きる 行く 成る</td>\n",
              "      <td>0</td>\n",
              "    </tr>\n",
              "    <tr>\n",
              "      <th>1</th>\n",
              "      <td>レディ・プレイヤー1|Ready Player One</td>\n",
              "      <td>らの感想・評価</td>\n",
              "      <td>2018/06/11 23:01</td>\n",
              "      <td>記録vrの世界すごいｱﾄﾗｸｼｮﾝ感ある主人公の呼びかけに皆が応じるのとありがとう僕のｹﾞｰ...</td>\n",
              "      <td>4.5</td>\n",
              "      <td>https://filmarks.com//movies/63747?page=1176</td>\n",
              "      <td>67</td>\n",
              "      <td>記録 vr 世界 凄い ｱﾄﾗｸｼｮﾝ 感 有る 主人 呼びかけ 皆 応ずる ｹﾞｰﾑ ﾌﾟ...</td>\n",
              "      <td>0</td>\n",
              "    </tr>\n",
              "    <tr>\n",
              "      <th>2</th>\n",
              "      <td>レディ・プレイヤー1|Ready Player One</td>\n",
              "      <td>もふもふさんの感想・評価</td>\n",
              "      <td>2018/05/09 19:06</td>\n",
              "      <td>すごいよかったｽﾄｰﾘｰが面白い今は非現実だけどもしかしたらこんな時代が来るかもしれないって...</td>\n",
              "      <td>4.5</td>\n",
              "      <td>https://filmarks.com//movies/63747?page=1497</td>\n",
              "      <td>88</td>\n",
              "      <td>凄い 良い ｽﾄｰﾘｰ 面白い 今 現実 為る 時代 来る 知れる 考える 不安 期待 両方...</td>\n",
              "      <td>0</td>\n",
              "    </tr>\n",
              "    <tr>\n",
              "      <th>3</th>\n",
              "      <td>レディ・プレイヤー1|Ready Player One</td>\n",
              "      <td>Mamiの感想・評価</td>\n",
              "      <td>2020/04/27 16:59</td>\n",
              "      <td>ｽﾋﾟﾙﾊﾞｰｸﾞ監督はやっぱりすごいおもしろかったﾊﾞｰﾁｬﾙとﾘｱﾙの世界</td>\n",
              "      <td>4.5</td>\n",
              "      <td>https://filmarks.com//movies/63747?page=283</td>\n",
              "      <td>38</td>\n",
              "      <td>ｽﾋﾟﾙﾊﾞｰｸﾞ 監督 凄い 面白い ﾊﾞｰﾁｬﾙ ﾘｱﾙ 世界</td>\n",
              "      <td>0</td>\n",
              "    </tr>\n",
              "    <tr>\n",
              "      <th>4</th>\n",
              "      <td>レディ・プレイヤー1|Ready Player One</td>\n",
              "      <td>わたしの感想・評価</td>\n",
              "      <td>2019/01/28 15:41</td>\n",
              "      <td>なんせﾃﾝﾎﾟがいいb級ぽいと思いきや全然ちがう楽しくてﾜｸﾜｸして仕方ない作品でしたそれと...</td>\n",
              "      <td>4.5</td>\n",
              "      <td>https://filmarks.com//movies/63747?page=738</td>\n",
              "      <td>65</td>\n",
              "      <td>ﾃﾝﾎﾟ 良い b 思う 違う 楽しい ﾜｸﾜｸ 為る 仕方無い 作品 ｼｬｲﾆﾝｸﾞ 知る 怖い</td>\n",
              "      <td>0</td>\n",
              "    </tr>\n",
              "  </tbody>\n",
              "</table>\n",
              "</div>"
            ],
            "text/plain": [
              "                         title  ... kfold\n",
              "0  レディ・プレイヤー1|Ready Player One  ...     0\n",
              "1  レディ・プレイヤー1|Ready Player One  ...     0\n",
              "2  レディ・プレイヤー1|Ready Player One  ...     0\n",
              "3  レディ・プレイヤー1|Ready Player One  ...     0\n",
              "4  レディ・プレイヤー1|Ready Player One  ...     0\n",
              "\n",
              "[5 rows x 9 columns]"
            ]
          },
          "metadata": {
            "tags": []
          },
          "execution_count": 26
        }
      ]
    },
    {
      "cell_type": "code",
      "metadata": {
        "id": "bDRrDuLvJlRq",
        "outputId": "27236d62-4386-4993-c58c-2e024fc3f2d4",
        "colab": {
          "base_uri": "https://localhost:8080/",
          "height": 404
        }
      },
      "source": [
        "df = df[[\"review_tokenize\", \"score\",\"kfold\"]]\n",
        "df = df.rename(columns={\"review_tokenize\":\"tokenize\"})\n",
        "df"
      ],
      "execution_count": 27,
      "outputs": [
        {
          "output_type": "execute_result",
          "data": {
            "text/html": [
              "<div>\n",
              "<style scoped>\n",
              "    .dataframe tbody tr th:only-of-type {\n",
              "        vertical-align: middle;\n",
              "    }\n",
              "\n",
              "    .dataframe tbody tr th {\n",
              "        vertical-align: top;\n",
              "    }\n",
              "\n",
              "    .dataframe thead th {\n",
              "        text-align: right;\n",
              "    }\n",
              "</style>\n",
              "<table border=\"1\" class=\"dataframe\">\n",
              "  <thead>\n",
              "    <tr style=\"text-align: right;\">\n",
              "      <th></th>\n",
              "      <th>tokenize</th>\n",
              "      <th>score</th>\n",
              "      <th>kfold</th>\n",
              "    </tr>\n",
              "  </thead>\n",
              "  <tbody>\n",
              "    <tr>\n",
              "      <th>0</th>\n",
              "      <td>0 d 鑑賞 為る 集中 出来る 面白い 数十 年 仮想 世界 生きる 行く 成る</td>\n",
              "      <td>4.0</td>\n",
              "      <td>0</td>\n",
              "    </tr>\n",
              "    <tr>\n",
              "      <th>1</th>\n",
              "      <td>記録 vr 世界 凄い ｱﾄﾗｸｼｮﾝ 感 有る 主人 呼びかけ 皆 応ずる ｹﾞｰﾑ ﾌﾟ...</td>\n",
              "      <td>4.5</td>\n",
              "      <td>0</td>\n",
              "    </tr>\n",
              "    <tr>\n",
              "      <th>2</th>\n",
              "      <td>凄い 良い ｽﾄｰﾘｰ 面白い 今 現実 為る 時代 来る 知れる 考える 不安 期待 両方...</td>\n",
              "      <td>4.5</td>\n",
              "      <td>0</td>\n",
              "    </tr>\n",
              "    <tr>\n",
              "      <th>3</th>\n",
              "      <td>ｽﾋﾟﾙﾊﾞｰｸﾞ 監督 凄い 面白い ﾊﾞｰﾁｬﾙ ﾘｱﾙ 世界</td>\n",
              "      <td>4.5</td>\n",
              "      <td>0</td>\n",
              "    </tr>\n",
              "    <tr>\n",
              "      <th>4</th>\n",
              "      <td>ﾃﾝﾎﾟ 良い b 思う 違う 楽しい ﾜｸﾜｸ 為る 仕方無い 作品 ｼｬｲﾆﾝｸﾞ 知る 怖い</td>\n",
              "      <td>4.5</td>\n",
              "      <td>0</td>\n",
              "    </tr>\n",
              "    <tr>\n",
              "      <th>...</th>\n",
              "      <td>...</td>\n",
              "      <td>...</td>\n",
              "      <td>...</td>\n",
              "    </tr>\n",
              "    <tr>\n",
              "      <th>17821</th>\n",
              "      <td>日本 有る こと 誇り 感ずる ｱﾊﾞﾀｰ 為る</td>\n",
              "      <td>4.0</td>\n",
              "      <td>4</td>\n",
              "    </tr>\n",
              "    <tr>\n",
              "      <th>17822</th>\n",
              "      <td>現実 世界 ﾊﾞｰﾁｬﾙﾘｱﾘﾃｨ 世界 没頭 為る 居る 人々 溢れる 未来 描く 映画 ...</td>\n",
              "      <td>4.0</td>\n",
              "      <td>4</td>\n",
              "    </tr>\n",
              "    <tr>\n",
              "      <th>17823</th>\n",
              "      <td>ｹﾞｰﾑ 遣る 見る 違う 自分 慣れる 仕舞う 言う 莫大 財産 手 入る 言う ｹﾞｰﾑ...</td>\n",
              "      <td>3.5</td>\n",
              "      <td>4</td>\n",
              "    </tr>\n",
              "    <tr>\n",
              "      <th>17824</th>\n",
              "      <td>ｵﾀｸ 楽しむ 場面 満載 友情 愛 詰まる 映画 現実 世界 ﾊﾞｰﾁｬﾙ 世界 関係 ﾊ...</td>\n",
              "      <td>4.0</td>\n",
              "      <td>4</td>\n",
              "    </tr>\n",
              "    <tr>\n",
              "      <th>17825</th>\n",
              "      <td>ｽﾋﾟﾙﾊﾞｰｸﾞ 遣る こと 全部 詰まる 感ずる 良作 立て続け 0 回 見る</td>\n",
              "      <td>4.0</td>\n",
              "      <td>4</td>\n",
              "    </tr>\n",
              "  </tbody>\n",
              "</table>\n",
              "<p>17826 rows × 3 columns</p>\n",
              "</div>"
            ],
            "text/plain": [
              "                                                tokenize  score  kfold\n",
              "0              0 d 鑑賞 為る 集中 出来る 面白い 数十 年 仮想 世界 生きる 行く 成る    4.0      0\n",
              "1      記録 vr 世界 凄い ｱﾄﾗｸｼｮﾝ 感 有る 主人 呼びかけ 皆 応ずる ｹﾞｰﾑ ﾌﾟ...    4.5      0\n",
              "2      凄い 良い ｽﾄｰﾘｰ 面白い 今 現実 為る 時代 来る 知れる 考える 不安 期待 両方...    4.5      0\n",
              "3                      ｽﾋﾟﾙﾊﾞｰｸﾞ 監督 凄い 面白い ﾊﾞｰﾁｬﾙ ﾘｱﾙ 世界    4.5      0\n",
              "4      ﾃﾝﾎﾟ 良い b 思う 違う 楽しい ﾜｸﾜｸ 為る 仕方無い 作品 ｼｬｲﾆﾝｸﾞ 知る 怖い    4.5      0\n",
              "...                                                  ...    ...    ...\n",
              "17821                           日本 有る こと 誇り 感ずる ｱﾊﾞﾀｰ 為る    4.0      4\n",
              "17822  現実 世界 ﾊﾞｰﾁｬﾙﾘｱﾘﾃｨ 世界 没頭 為る 居る 人々 溢れる 未来 描く 映画 ...    4.0      4\n",
              "17823  ｹﾞｰﾑ 遣る 見る 違う 自分 慣れる 仕舞う 言う 莫大 財産 手 入る 言う ｹﾞｰﾑ...    3.5      4\n",
              "17824  ｵﾀｸ 楽しむ 場面 満載 友情 愛 詰まる 映画 現実 世界 ﾊﾞｰﾁｬﾙ 世界 関係 ﾊ...    4.0      4\n",
              "17825          ｽﾋﾟﾙﾊﾞｰｸﾞ 遣る こと 全部 詰まる 感ずる 良作 立て続け 0 回 見る    4.0      4\n",
              "\n",
              "[17826 rows x 3 columns]"
            ]
          },
          "metadata": {
            "tags": []
          },
          "execution_count": 27
        }
      ]
    },
    {
      "cell_type": "code",
      "metadata": {
        "id": "GIw7tCLR-mgq",
        "outputId": "a540b40f-b7d9-4a54-c07e-6cff20d478c6",
        "colab": {
          "base_uri": "https://localhost:8080/",
          "height": 184
        }
      },
      "source": [
        "df.score.value_counts() \n"
      ],
      "execution_count": 28,
      "outputs": [
        {
          "output_type": "execute_result",
          "data": {
            "text/plain": [
              "4.0    7285\n",
              "4.5    3975\n",
              "3.5    2975\n",
              "5.0    2104\n",
              "3.0    1050\n",
              "2.5     237\n",
              "2.0     132\n",
              "1.0      35\n",
              "1.5      33\n",
              "Name: score, dtype: int64"
            ]
          },
          "metadata": {
            "tags": []
          },
          "execution_count": 28
        }
      ]
    },
    {
      "cell_type": "code",
      "metadata": {
        "id": "cp9nBU2VJkKh",
        "outputId": "0034836e-fa69-41dc-94c4-ba5c16039698",
        "colab": {
          "base_uri": "https://localhost:8080/",
          "height": 806
        }
      },
      "source": [
        "f1_scores = []\n",
        "BATCH_SIZE = 128\n",
        "lr = 0.001 \n",
        "NUM_EPOCHS = 500\n",
        "\n",
        "for fold in range(NUM_SPLITS):\n",
        "    print(f\"fold {fold}\", \"=\"*70)\n",
        "    f1 = trainer(fold, df,BATCH_SIZE,lr, NUM_EPOCHS,weight=None)\n",
        "    f1_scores.append(f1)\n",
        "    print(f\"<fold={fold}> best score: {f1}\\n\")"
      ],
      "execution_count": 60,
      "outputs": [
        {
          "output_type": "stream",
          "text": [
            "fold 0 ======================================================================\n",
            "語彙数: 2485\n"
          ],
          "name": "stdout"
        },
        {
          "output_type": "stream",
          "text": [
            "/usr/local/lib/python3.6/dist-packages/sklearn/metrics/_classification.py:1272: UndefinedMetricWarning: Precision is ill-defined and being set to 0.0 in labels with no predicted samples. Use `zero_division` parameter to control this behavior.\n",
            "  _warn_prf(average, modifier, msg_start, len(result))\n"
          ],
          "name": "stderr"
        },
        {
          "output_type": "stream",
          "text": [
            "Loss: 0.0076140520516500935  Acc: 0.6315199102636007  f1: 0.15482983843245104  \n",
            "model saving!\n",
            "\n",
            "<fold=0> best score: 0.15482983843245104\n",
            "\n",
            "fold 1 ======================================================================\n",
            "語彙数: 2465\n"
          ],
          "name": "stdout"
        },
        {
          "output_type": "stream",
          "text": [
            "/usr/local/lib/python3.6/dist-packages/sklearn/metrics/_classification.py:1272: UndefinedMetricWarning: Precision is ill-defined and being set to 0.0 in labels with no predicted samples. Use `zero_division` parameter to control this behavior.\n",
            "  _warn_prf(average, modifier, msg_start, len(result))\n"
          ],
          "name": "stderr"
        },
        {
          "output_type": "stream",
          "text": [
            "Loss: 0.0074500950322412005  Acc: 0.6319775596072932  f1: 0.24839227461794303  \n",
            "model saving!\n",
            "\n",
            "<fold=1> best score: 0.24839227461794303\n",
            "\n",
            "fold 2 ======================================================================\n",
            "語彙数: 2493\n"
          ],
          "name": "stdout"
        },
        {
          "output_type": "stream",
          "text": [
            "/usr/local/lib/python3.6/dist-packages/sklearn/metrics/_classification.py:1272: UndefinedMetricWarning: Precision is ill-defined and being set to 0.0 in labels with no predicted samples. Use `zero_division` parameter to control this behavior.\n",
            "  _warn_prf(average, modifier, msg_start, len(result))\n"
          ],
          "name": "stderr"
        },
        {
          "output_type": "stream",
          "text": [
            "Loss: 0.007438329560225007  Acc: 0.6311360448807855  f1: 0.18740302210786391  \n",
            "model saving!\n",
            "\n",
            "<fold=2> best score: 0.18740302210786391\n",
            "\n",
            "fold 3 ======================================================================\n",
            "語彙数: 2454\n"
          ],
          "name": "stdout"
        },
        {
          "output_type": "stream",
          "text": [
            "/usr/local/lib/python3.6/dist-packages/sklearn/metrics/_classification.py:1272: UndefinedMetricWarning: Precision is ill-defined and being set to 0.0 in labels with no predicted samples. Use `zero_division` parameter to control this behavior.\n",
            "  _warn_prf(average, modifier, msg_start, len(result))\n"
          ],
          "name": "stderr"
        },
        {
          "output_type": "stream",
          "text": [
            "Loss: 0.007426655409546754  Acc: 0.6319775596072932  f1: 0.21252729011200092  \n",
            "model saving!\n",
            "\n",
            "<fold=3> best score: 0.21252729011200092\n",
            "\n",
            "fold 4 ======================================================================\n",
            "語彙数: 2480\n"
          ],
          "name": "stdout"
        },
        {
          "output_type": "stream",
          "text": [
            "/usr/local/lib/python3.6/dist-packages/sklearn/metrics/_classification.py:1272: UndefinedMetricWarning: Precision is ill-defined and being set to 0.0 in labels with no predicted samples. Use `zero_division` parameter to control this behavior.\n",
            "  _warn_prf(average, modifier, msg_start, len(result))\n"
          ],
          "name": "stderr"
        },
        {
          "output_type": "stream",
          "text": [
            "Loss: 0.007503424938062799  Acc: 0.6319775596072932  f1: 0.24820799993222553  \n",
            "model saving!\n",
            "\n",
            "<fold=4> best score: 0.24820799993222553\n",
            "\n"
          ],
          "name": "stdout"
        },
        {
          "output_type": "display_data",
          "data": {
            "text/plain": [
              "<Figure size 432x288 with 0 Axes>"
            ]
          },
          "metadata": {
            "tags": []
          }
        }
      ]
    },
    {
      "cell_type": "code",
      "metadata": {
        "id": "eUHLc32s_mKQ",
        "outputId": "627e65ab-a19b-4b6e-a4c1-bd588dc3f8ed",
        "colab": {
          "base_uri": "https://localhost:8080/",
          "height": 33
        }
      },
      "source": [
        "cv = sum(f1_scores) / len(f1_scores)\n",
        "print(f\"CV: {cv}\")"
      ],
      "execution_count": 49,
      "outputs": [
        {
          "output_type": "stream",
          "text": [
            "CV: 0.16638529883937003\n"
          ],
          "name": "stdout"
        }
      ]
    },
    {
      "cell_type": "code",
      "metadata": {
        "id": "HwFW2L0FIkoD"
      },
      "source": [
        ""
      ],
      "execution_count": null,
      "outputs": []
    }
  ]
}