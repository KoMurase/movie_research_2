{
  "nbformat": 4,
  "nbformat_minor": 0,
  "metadata": {
    "colab": {
      "name": "research_ReadyPlayer1_TextCNN_skf.ipynb",
      "provenance": [],
      "collapsed_sections": [],
      "mount_file_id": "1WfPmMGLACpcAWbQ9OVsgUJk4ugFBIv6B",
      "authorship_tag": "ABX9TyOpskJGB4bQjGXoqOs0VBCv",
      "include_colab_link": true
    },
    "kernelspec": {
      "name": "python3",
      "display_name": "Python 3"
    },
    "accelerator": "GPU"
  },
  "cells": [
    {
      "cell_type": "markdown",
      "metadata": {
        "id": "view-in-github",
        "colab_type": "text"
      },
      "source": [
        "<a href=\"https://colab.research.google.com/github/KoMurase/movie_research_2/blob/master/research_ReadyPlayer1_TextCNN_skf.ipynb\" target=\"_parent\"><img src=\"https://colab.research.google.com/assets/colab-badge.svg\" alt=\"Open In Colab\"/></a>"
      ]
    },
    {
      "cell_type": "code",
      "metadata": {
        "id": "tJJc1x61Ault",
        "outputId": "91ae4eec-14b4-4293-c4af-3f18dbb139ee",
        "colab": {
          "base_uri": "https://localhost:8080/",
          "height": 1000
        }
      },
      "source": [
        "!pip install japanize-matplotlib\n",
        "!apt-get -q -y install swig \n",
        "!apt-get install mecab\n",
        "!apt-get install libmecab-dev\n",
        "!apt-get install mecab-ipadic-utf8\n",
        "!pip install mecab-python3\n",
        "!pip install unidic-lite\n",
        "#日本語フォントのインストール　（wordcloudなどで可視化するため）\n",
        "!apt-get -y install fonts-ipafont-gothic\n",
        "\n",
        "!pip install neologdn \n",
        "#半角を全角に変換\n",
        "!pip install mojimoji"
      ],
      "execution_count": null,
      "outputs": [
        {
          "output_type": "stream",
          "text": [
            "Collecting japanize-matplotlib\n",
            "\u001b[?25l  Downloading https://files.pythonhosted.org/packages/2c/aa/3b24d54bd02e25d63c8f23bb316694e1aad7ffdc07ba296e7c9be2f6837d/japanize-matplotlib-1.1.2.tar.gz (4.1MB)\n",
            "\u001b[K     |████████████████████████████████| 4.1MB 5.3MB/s \n",
            "\u001b[?25hRequirement already satisfied: matplotlib in /usr/local/lib/python3.6/dist-packages (from japanize-matplotlib) (3.2.2)\n",
            "Requirement already satisfied: pyparsing!=2.0.4,!=2.1.2,!=2.1.6,>=2.0.1 in /usr/local/lib/python3.6/dist-packages (from matplotlib->japanize-matplotlib) (2.4.7)\n",
            "Requirement already satisfied: numpy>=1.11 in /usr/local/lib/python3.6/dist-packages (from matplotlib->japanize-matplotlib) (1.18.5)\n",
            "Requirement already satisfied: cycler>=0.10 in /usr/local/lib/python3.6/dist-packages (from matplotlib->japanize-matplotlib) (0.10.0)\n",
            "Requirement already satisfied: kiwisolver>=1.0.1 in /usr/local/lib/python3.6/dist-packages (from matplotlib->japanize-matplotlib) (1.2.0)\n",
            "Requirement already satisfied: python-dateutil>=2.1 in /usr/local/lib/python3.6/dist-packages (from matplotlib->japanize-matplotlib) (2.8.1)\n",
            "Requirement already satisfied: six in /usr/local/lib/python3.6/dist-packages (from cycler>=0.10->matplotlib->japanize-matplotlib) (1.15.0)\n",
            "Building wheels for collected packages: japanize-matplotlib\n",
            "  Building wheel for japanize-matplotlib (setup.py) ... \u001b[?25l\u001b[?25hdone\n",
            "  Created wheel for japanize-matplotlib: filename=japanize_matplotlib-1.1.2-cp36-none-any.whl size=4120193 sha256=e4587ecb777a1d76c2a5ec12b335896131707895d02f1661f5f8fa250653bba3\n",
            "  Stored in directory: /root/.cache/pip/wheels/9c/f9/fc/bc052ce743a03f94ccc7fda73d1d389ce98216c6ffaaf65afc\n",
            "Successfully built japanize-matplotlib\n",
            "Installing collected packages: japanize-matplotlib\n",
            "Successfully installed japanize-matplotlib-1.1.2\n",
            "Reading package lists...\n",
            "Building dependency tree...\n",
            "Reading state information...\n",
            "The following additional packages will be installed:\n",
            "  swig3.0\n",
            "Suggested packages:\n",
            "  swig-doc swig-examples swig3.0-examples swig3.0-doc\n",
            "The following NEW packages will be installed:\n",
            "  swig swig3.0\n",
            "0 upgraded, 2 newly installed, 0 to remove and 21 not upgraded.\n",
            "Need to get 1,100 kB of archives.\n",
            "After this operation, 5,822 kB of additional disk space will be used.\n",
            "Get:1 http://archive.ubuntu.com/ubuntu bionic/universe amd64 swig3.0 amd64 3.0.12-1 [1,094 kB]\n",
            "Get:2 http://archive.ubuntu.com/ubuntu bionic/universe amd64 swig amd64 3.0.12-1 [6,460 B]\n",
            "Fetched 1,100 kB in 1s (840 kB/s)\n",
            "Selecting previously unselected package swig3.0.\n",
            "(Reading database ... 144619 files and directories currently installed.)\n",
            "Preparing to unpack .../swig3.0_3.0.12-1_amd64.deb ...\n",
            "Unpacking swig3.0 (3.0.12-1) ...\n",
            "Selecting previously unselected package swig.\n",
            "Preparing to unpack .../swig_3.0.12-1_amd64.deb ...\n",
            "Unpacking swig (3.0.12-1) ...\n",
            "Setting up swig3.0 (3.0.12-1) ...\n",
            "Setting up swig (3.0.12-1) ...\n",
            "Processing triggers for man-db (2.8.3-2ubuntu0.1) ...\n",
            "Reading package lists... Done\n",
            "Building dependency tree       \n",
            "Reading state information... Done\n",
            "The following additional packages will be installed:\n",
            "  libmecab2 mecab-jumandic mecab-jumandic-utf8 mecab-utils\n",
            "The following NEW packages will be installed:\n",
            "  libmecab2 mecab mecab-jumandic mecab-jumandic-utf8 mecab-utils\n",
            "0 upgraded, 5 newly installed, 0 to remove and 21 not upgraded.\n",
            "Need to get 16.5 MB of archives.\n",
            "After this operation, 219 MB of additional disk space will be used.\n",
            "Get:1 http://archive.ubuntu.com/ubuntu bionic/universe amd64 libmecab2 amd64 0.996-5 [257 kB]\n",
            "Get:2 http://archive.ubuntu.com/ubuntu bionic/universe amd64 mecab-utils amd64 0.996-5 [4,856 B]\n",
            "Get:3 http://archive.ubuntu.com/ubuntu bionic/universe amd64 mecab-jumandic-utf8 all 7.0-20130310-4 [16.2 MB]\n",
            "Get:4 http://archive.ubuntu.com/ubuntu bionic/universe amd64 mecab-jumandic all 7.0-20130310-4 [2,212 B]\n",
            "Get:5 http://archive.ubuntu.com/ubuntu bionic/universe amd64 mecab amd64 0.996-5 [132 kB]\n",
            "Fetched 16.5 MB in 2s (7,658 kB/s)\n",
            "Selecting previously unselected package libmecab2:amd64.\n",
            "(Reading database ... 145410 files and directories currently installed.)\n",
            "Preparing to unpack .../libmecab2_0.996-5_amd64.deb ...\n",
            "Unpacking libmecab2:amd64 (0.996-5) ...\n",
            "Selecting previously unselected package mecab-utils.\n",
            "Preparing to unpack .../mecab-utils_0.996-5_amd64.deb ...\n",
            "Unpacking mecab-utils (0.996-5) ...\n",
            "Selecting previously unselected package mecab-jumandic-utf8.\n",
            "Preparing to unpack .../mecab-jumandic-utf8_7.0-20130310-4_all.deb ...\n",
            "Unpacking mecab-jumandic-utf8 (7.0-20130310-4) ...\n",
            "Selecting previously unselected package mecab-jumandic.\n",
            "Preparing to unpack .../mecab-jumandic_7.0-20130310-4_all.deb ...\n",
            "Unpacking mecab-jumandic (7.0-20130310-4) ...\n",
            "Selecting previously unselected package mecab.\n",
            "Preparing to unpack .../mecab_0.996-5_amd64.deb ...\n",
            "Unpacking mecab (0.996-5) ...\n",
            "Setting up libmecab2:amd64 (0.996-5) ...\n",
            "Setting up mecab-utils (0.996-5) ...\n",
            "Setting up mecab-jumandic-utf8 (7.0-20130310-4) ...\n",
            "Compiling Juman dictionary for Mecab.\n",
            "reading /usr/share/mecab/dic/juman/unk.def ... 37\n",
            "emitting double-array: 100% |###########################################| \n",
            "reading /usr/share/mecab/dic/juman/Emoticon.csv ... 972\n",
            "reading /usr/share/mecab/dic/juman/Prefix.csv ... 90\n",
            "reading /usr/share/mecab/dic/juman/AuxV.csv ... 593\n",
            "reading /usr/share/mecab/dic/juman/ContentW.csv ... 551145\n",
            "reading /usr/share/mecab/dic/juman/Noun.hukusi.csv ... 81\n",
            "reading /usr/share/mecab/dic/juman/Noun.suusi.csv ... 49\n",
            "reading /usr/share/mecab/dic/juman/Rengo.csv ... 1118\n",
            "reading /usr/share/mecab/dic/juman/Wikipedia.csv ... 167709\n",
            "reading /usr/share/mecab/dic/juman/Noun.keishiki.csv ... 8\n",
            "reading /usr/share/mecab/dic/juman/Postp.csv ... 108\n",
            "reading /usr/share/mecab/dic/juman/Suffix.csv ... 2128\n",
            "reading /usr/share/mecab/dic/juman/Noun.koyuu.csv ... 7964\n",
            "reading /usr/share/mecab/dic/juman/Auto.csv ... 18931\n",
            "reading /usr/share/mecab/dic/juman/Assert.csv ... 34\n",
            "reading /usr/share/mecab/dic/juman/Demonstrative.csv ... 97\n",
            "reading /usr/share/mecab/dic/juman/Special.csv ... 158\n",
            "emitting double-array: 100% |###########################################| \n",
            "reading /usr/share/mecab/dic/juman/matrix.def ... 1876x1876\n",
            "emitting matrix      : 100% |###########################################| \n",
            "\n",
            "done!\n",
            "update-alternatives: using /var/lib/mecab/dic/juman-utf8 to provide /var/lib/mecab/dic/debian (mecab-dictionary) in auto mode\n",
            "Setting up mecab (0.996-5) ...\n",
            "Setting up mecab-jumandic (7.0-20130310-4) ...\n",
            "Processing triggers for man-db (2.8.3-2ubuntu0.1) ...\n",
            "Processing triggers for libc-bin (2.27-3ubuntu1.2) ...\n",
            "/sbin/ldconfig.real: /usr/local/lib/python3.6/dist-packages/ideep4py/lib/libmkldnn.so.0 is not a symbolic link\n",
            "\n",
            "Reading package lists... Done\n",
            "Building dependency tree       \n",
            "Reading state information... Done\n",
            "The following NEW packages will be installed:\n",
            "  libmecab-dev\n",
            "0 upgraded, 1 newly installed, 0 to remove and 21 not upgraded.\n",
            "Need to get 308 kB of archives.\n",
            "After this operation, 3,132 kB of additional disk space will be used.\n",
            "Get:1 http://archive.ubuntu.com/ubuntu bionic/universe amd64 libmecab-dev amd64 0.996-5 [308 kB]\n",
            "Fetched 308 kB in 1s (290 kB/s)\n",
            "Selecting previously unselected package libmecab-dev.\n",
            "(Reading database ... 145535 files and directories currently installed.)\n",
            "Preparing to unpack .../libmecab-dev_0.996-5_amd64.deb ...\n",
            "Unpacking libmecab-dev (0.996-5) ...\n",
            "Setting up libmecab-dev (0.996-5) ...\n",
            "Processing triggers for man-db (2.8.3-2ubuntu0.1) ...\n",
            "Reading package lists... Done\n",
            "Building dependency tree       \n",
            "Reading state information... Done\n",
            "The following additional packages will be installed:\n",
            "  mecab-ipadic\n",
            "The following NEW packages will be installed:\n",
            "  mecab-ipadic mecab-ipadic-utf8\n",
            "0 upgraded, 2 newly installed, 0 to remove and 21 not upgraded.\n",
            "Need to get 12.1 MB of archives.\n",
            "After this operation, 54.4 MB of additional disk space will be used.\n",
            "Get:1 http://archive.ubuntu.com/ubuntu bionic/universe amd64 mecab-ipadic all 2.7.0-20070801+main-1 [12.1 MB]\n",
            "Get:2 http://archive.ubuntu.com/ubuntu bionic/universe amd64 mecab-ipadic-utf8 all 2.7.0-20070801+main-1 [3,522 B]\n",
            "Fetched 12.1 MB in 2s (6,057 kB/s)\n",
            "Selecting previously unselected package mecab-ipadic.\n",
            "(Reading database ... 145543 files and directories currently installed.)\n",
            "Preparing to unpack .../mecab-ipadic_2.7.0-20070801+main-1_all.deb ...\n",
            "Unpacking mecab-ipadic (2.7.0-20070801+main-1) ...\n",
            "Selecting previously unselected package mecab-ipadic-utf8.\n",
            "Preparing to unpack .../mecab-ipadic-utf8_2.7.0-20070801+main-1_all.deb ...\n",
            "Unpacking mecab-ipadic-utf8 (2.7.0-20070801+main-1) ...\n",
            "Setting up mecab-ipadic (2.7.0-20070801+main-1) ...\n",
            "Compiling IPA dictionary for Mecab.  This takes long time...\n",
            "reading /usr/share/mecab/dic/ipadic/unk.def ... 40\n",
            "emitting double-array: 100% |###########################################| \n",
            "/usr/share/mecab/dic/ipadic/model.def is not found. skipped.\n",
            "reading /usr/share/mecab/dic/ipadic/Noun.verbal.csv ... 12146\n",
            "reading /usr/share/mecab/dic/ipadic/Noun.number.csv ... 42\n",
            "reading /usr/share/mecab/dic/ipadic/Symbol.csv ... 208\n",
            "reading /usr/share/mecab/dic/ipadic/Filler.csv ... 19\n",
            "reading /usr/share/mecab/dic/ipadic/Interjection.csv ... 252\n",
            "reading /usr/share/mecab/dic/ipadic/Prefix.csv ... 221\n",
            "reading /usr/share/mecab/dic/ipadic/Adj.csv ... 27210\n",
            "reading /usr/share/mecab/dic/ipadic/Noun.nai.csv ... 42\n",
            "reading /usr/share/mecab/dic/ipadic/Noun.org.csv ... 16668\n",
            "reading /usr/share/mecab/dic/ipadic/Noun.proper.csv ... 27327\n",
            "reading /usr/share/mecab/dic/ipadic/Auxil.csv ... 199\n",
            "reading /usr/share/mecab/dic/ipadic/Noun.others.csv ... 151\n",
            "reading /usr/share/mecab/dic/ipadic/Adnominal.csv ... 135\n",
            "reading /usr/share/mecab/dic/ipadic/Noun.place.csv ... 72999\n",
            "reading /usr/share/mecab/dic/ipadic/Adverb.csv ... 3032\n",
            "reading /usr/share/mecab/dic/ipadic/Postp.csv ... 146\n",
            "reading /usr/share/mecab/dic/ipadic/Noun.adverbal.csv ... 795\n",
            "reading /usr/share/mecab/dic/ipadic/Conjunction.csv ... 171\n",
            "reading /usr/share/mecab/dic/ipadic/Postp-col.csv ... 91\n",
            "reading /usr/share/mecab/dic/ipadic/Verb.csv ... 130750\n",
            "reading /usr/share/mecab/dic/ipadic/Suffix.csv ... 1393\n",
            "reading /usr/share/mecab/dic/ipadic/Noun.demonst.csv ... 120\n",
            "reading /usr/share/mecab/dic/ipadic/Others.csv ... 2\n",
            "reading /usr/share/mecab/dic/ipadic/Noun.csv ... 60477\n",
            "reading /usr/share/mecab/dic/ipadic/Noun.adjv.csv ... 3328\n",
            "reading /usr/share/mecab/dic/ipadic/Noun.name.csv ... 34202\n",
            "emitting double-array: 100% |###########################################| \n",
            "reading /usr/share/mecab/dic/ipadic/matrix.def ... 1316x1316\n",
            "emitting matrix      : 100% |###########################################| \n",
            "\n",
            "done!\n",
            "update-alternatives: using /var/lib/mecab/dic/ipadic to provide /var/lib/mecab/dic/debian (mecab-dictionary) in auto mode\n",
            "Setting up mecab-ipadic-utf8 (2.7.0-20070801+main-1) ...\n",
            "Compiling IPA dictionary for Mecab.  This takes long time...\n",
            "reading /usr/share/mecab/dic/ipadic/unk.def ... 40\n",
            "emitting double-array: 100% |###########################################| \n",
            "/usr/share/mecab/dic/ipadic/model.def is not found. skipped.\n",
            "reading /usr/share/mecab/dic/ipadic/Noun.verbal.csv ... 12146\n",
            "reading /usr/share/mecab/dic/ipadic/Noun.number.csv ... 42\n",
            "reading /usr/share/mecab/dic/ipadic/Symbol.csv ... 208\n",
            "reading /usr/share/mecab/dic/ipadic/Filler.csv ... 19\n",
            "reading /usr/share/mecab/dic/ipadic/Interjection.csv ... 252\n",
            "reading /usr/share/mecab/dic/ipadic/Prefix.csv ... 221\n",
            "reading /usr/share/mecab/dic/ipadic/Adj.csv ... 27210\n",
            "reading /usr/share/mecab/dic/ipadic/Noun.nai.csv ... 42\n",
            "reading /usr/share/mecab/dic/ipadic/Noun.org.csv ... 16668\n",
            "reading /usr/share/mecab/dic/ipadic/Noun.proper.csv ... 27327\n",
            "reading /usr/share/mecab/dic/ipadic/Auxil.csv ... 199\n",
            "reading /usr/share/mecab/dic/ipadic/Noun.others.csv ... 151\n",
            "reading /usr/share/mecab/dic/ipadic/Adnominal.csv ... 135\n",
            "reading /usr/share/mecab/dic/ipadic/Noun.place.csv ... 72999\n",
            "reading /usr/share/mecab/dic/ipadic/Adverb.csv ... 3032\n",
            "reading /usr/share/mecab/dic/ipadic/Postp.csv ... 146\n",
            "reading /usr/share/mecab/dic/ipadic/Noun.adverbal.csv ... 795\n",
            "reading /usr/share/mecab/dic/ipadic/Conjunction.csv ... 171\n",
            "reading /usr/share/mecab/dic/ipadic/Postp-col.csv ... 91\n",
            "reading /usr/share/mecab/dic/ipadic/Verb.csv ... 130750\n",
            "reading /usr/share/mecab/dic/ipadic/Suffix.csv ... 1393\n",
            "reading /usr/share/mecab/dic/ipadic/Noun.demonst.csv ... 120\n",
            "reading /usr/share/mecab/dic/ipadic/Others.csv ... 2\n",
            "reading /usr/share/mecab/dic/ipadic/Noun.csv ... 60477\n",
            "reading /usr/share/mecab/dic/ipadic/Noun.adjv.csv ... 3328\n",
            "reading /usr/share/mecab/dic/ipadic/Noun.name.csv ... 34202\n",
            "emitting double-array: 100% |###########################################| \n",
            "reading /usr/share/mecab/dic/ipadic/matrix.def ... 1316x1316\n",
            "emitting matrix      : 100% |###########################################| \n",
            "\n",
            "done!\n",
            "update-alternatives: using /var/lib/mecab/dic/ipadic-utf8 to provide /var/lib/mecab/dic/debian (mecab-dictionary) in auto mode\n",
            "Collecting mecab-python3\n",
            "\u001b[?25l  Downloading https://files.pythonhosted.org/packages/8b/06/2aeff86243c88580ccf78b136d403ce5e0a1eed9091103157f01e806499f/mecab_python3-1.0.1-cp36-cp36m-manylinux2010_x86_64.whl (3.5MB)\n",
            "\u001b[K     |████████████████████████████████| 3.5MB 4.9MB/s \n",
            "\u001b[?25hInstalling collected packages: mecab-python3\n",
            "Successfully installed mecab-python3-1.0.1\n",
            "Collecting unidic-lite\n",
            "\u001b[?25l  Downloading https://files.pythonhosted.org/packages/74/d2/a4233f65f718f27065a4cf23a2c4f05d8bd4c75821e092060c4efaf28e66/unidic-lite-1.0.7.tar.gz (47.3MB)\n",
            "\u001b[K     |████████████████████████████████| 47.3MB 61kB/s \n",
            "\u001b[?25hBuilding wheels for collected packages: unidic-lite\n",
            "  Building wheel for unidic-lite (setup.py) ... \u001b[?25l\u001b[?25hdone\n",
            "  Created wheel for unidic-lite: filename=unidic_lite-1.0.7-cp36-none-any.whl size=47556594 sha256=6269f0a1b4269de1366f014c3731d15f4a4e5e68695fd6ce5bd389c14b284f06\n",
            "  Stored in directory: /root/.cache/pip/wheels/a8/82/7d/086724645e33a575aafd0b1dae2835c37d2c00c6a0a96ee3a0\n",
            "Successfully built unidic-lite\n",
            "Installing collected packages: unidic-lite\n",
            "Successfully installed unidic-lite-1.0.7\n",
            "Reading package lists... Done\n",
            "Building dependency tree       \n",
            "Reading state information... Done\n",
            "The following additional packages will be installed:\n",
            "  fonts-ipafont-mincho\n",
            "The following NEW packages will be installed:\n",
            "  fonts-ipafont-gothic fonts-ipafont-mincho\n",
            "0 upgraded, 2 newly installed, 0 to remove and 21 not upgraded.\n",
            "Need to get 8,251 kB of archives.\n",
            "After this operation, 28.7 MB of additional disk space will be used.\n",
            "Get:1 http://archive.ubuntu.com/ubuntu bionic/universe amd64 fonts-ipafont-gothic all 00303-18ubuntu1 [3,526 kB]\n",
            "Get:2 http://archive.ubuntu.com/ubuntu bionic/universe amd64 fonts-ipafont-mincho all 00303-18ubuntu1 [4,725 kB]\n",
            "Fetched 8,251 kB in 2s (4,762 kB/s)\n",
            "Selecting previously unselected package fonts-ipafont-gothic.\n",
            "(Reading database ... 145588 files and directories currently installed.)\n",
            "Preparing to unpack .../fonts-ipafont-gothic_00303-18ubuntu1_all.deb ...\n",
            "Unpacking fonts-ipafont-gothic (00303-18ubuntu1) ...\n",
            "Selecting previously unselected package fonts-ipafont-mincho.\n",
            "Preparing to unpack .../fonts-ipafont-mincho_00303-18ubuntu1_all.deb ...\n",
            "Unpacking fonts-ipafont-mincho (00303-18ubuntu1) ...\n",
            "Setting up fonts-ipafont-gothic (00303-18ubuntu1) ...\n",
            "update-alternatives: using /usr/share/fonts/opentype/ipafont-gothic/ipag.ttf to provide /usr/share/fonts/truetype/fonts-japanese-gothic.ttf (fonts-japanese-gothic.ttf) in auto mode\n",
            "Setting up fonts-ipafont-mincho (00303-18ubuntu1) ...\n",
            "update-alternatives: using /usr/share/fonts/opentype/ipafont-mincho/ipam.ttf to provide /usr/share/fonts/truetype/fonts-japanese-mincho.ttf (fonts-japanese-mincho.ttf) in auto mode\n",
            "Processing triggers for fontconfig (2.12.6-0ubuntu2) ...\n",
            "Collecting neologdn\n",
            "\u001b[?25l  Downloading https://files.pythonhosted.org/packages/18/fd/9e84b382e4f12b73737faabeeb57fd617198dbb29b7084e28604803f7926/neologdn-0.4.tar.gz (59kB)\n",
            "\u001b[K     |████████████████████████████████| 61kB 3.3MB/s \n",
            "\u001b[?25hBuilding wheels for collected packages: neologdn\n",
            "  Building wheel for neologdn (setup.py) ... \u001b[?25l\u001b[?25hdone\n",
            "  Created wheel for neologdn: filename=neologdn-0.4-cp36-cp36m-linux_x86_64.whl size=186926 sha256=d580760c8498a5450ce9838c6b7a1228c244df196e07a76a3d56744b0ea0f55a\n",
            "  Stored in directory: /root/.cache/pip/wheels/b3/6f/d4/c132b4e7aef22019e307e7673d97010644c9c15f28c0d0b018\n",
            "Successfully built neologdn\n",
            "Installing collected packages: neologdn\n",
            "Successfully installed neologdn-0.4\n",
            "Collecting mojimoji\n",
            "\u001b[?25l  Downloading https://files.pythonhosted.org/packages/1d/0e/eb8297652315519ccc0ca3da9e06f0457d87e27f1000f696ca537914856f/mojimoji-0.0.11-cp36-cp36m-manylinux1_x86_64.whl (126kB)\n",
            "\u001b[K     |████████████████████████████████| 133kB 4.8MB/s \n",
            "\u001b[?25hInstalling collected packages: mojimoji\n",
            "Successfully installed mojimoji-0.0.11\n"
          ],
          "name": "stdout"
        }
      ]
    },
    {
      "cell_type": "code",
      "metadata": {
        "id": "sJFwBqH6xV4t"
      },
      "source": [
        "!export CUDA_LAUNCH_BLOCKING=1"
      ],
      "execution_count": 1,
      "outputs": []
    },
    {
      "cell_type": "code",
      "metadata": {
        "id": "V9D4zQ1v4mT5",
        "outputId": "bc7e7722-3ea1-4e87-b599-fdcdb4f07091",
        "colab": {
          "base_uri": "https://localhost:8080/",
          "height": 35
        }
      },
      "source": [
        "import numpy as np\n",
        "from sklearn.utils import shuffle\n",
        "\n",
        "import torch\n",
        "import torch.nn as nn\n",
        "import torch.nn.init as init\n",
        "import torch.optim as optim\n",
        "import torch.nn.functional as F\n",
        "\n",
        "device = torch.device(\"cuda\" if torch.cuda.is_available() else \"cpu\")\n",
        "print(device)\n",
        "torch.manual_seed(1)\n",
        "random_state = 42\n",
        "\n",
        "import gc \n",
        "from tqdm import tqdm\n",
        "\n",
        "from sklearn.model_selection import StratifiedKFold\n",
        "\n",
        "\n",
        "#評価\n",
        "from sklearn.metrics import accuracy_score, precision_score, recall_score, f1_score\n",
        "#混同行列\n",
        "from sklearn.metrics import confusion_matrix \n",
        "\n",
        "import pandas as pd \n",
        "import matplotlib.pyplot as plt \n",
        "%matplotlib inline  \n",
        "\n",
        "import seaborn as sns\n",
        "\n",
        "from torch.autograd import Variable"
      ],
      "execution_count": 2,
      "outputs": [
        {
          "output_type": "stream",
          "text": [
            "cuda\n"
          ],
          "name": "stdout"
        }
      ]
    },
    {
      "cell_type": "code",
      "metadata": {
        "id": "FHyY5wI1FflX"
      },
      "source": [
        "MODEL_NAME = 'TextCNN'\n",
        "MODELS_DIR = '/content/drive/My Drive/movie_research/models/'"
      ],
      "execution_count": 3,
      "outputs": []
    },
    {
      "cell_type": "code",
      "metadata": {
        "id": "dKdbxv7zA9Hh",
        "outputId": "a36098fb-93ae-4ae6-f80b-435591b005f3",
        "colab": {
          "base_uri": "https://localhost:8080/",
          "height": 35
        }
      },
      "source": [
        "path = \"/content/drive/My Drive/movie_research/review_csv/SF_data.csv\"\n",
        "data = pd.read_csv(path) \n",
        "\n",
        "df = data[data[\"title\"] == \"レディ・プレイヤー1|Ready Player One\"]\n",
        "del data\n",
        "gc.collect()\n",
        "print('{}件のデータを扱う'.format(len(df)))"
      ],
      "execution_count": 4,
      "outputs": [
        {
          "output_type": "stream",
          "text": [
            "18880件のデータを扱う\n"
          ],
          "name": "stdout"
        }
      ]
    },
    {
      "cell_type": "code",
      "metadata": {
        "id": "eVHj_Gb0BGzk"
      },
      "source": [
        "#数値カラムに変換する\n",
        "def prepro(df, col):\n",
        "  df = df.copy() \n",
        "  df[col] = df[col].replace('-','-1') #回答してない人を0埋め\n",
        "  df[col] = df[col].astype(float)\n",
        "\n",
        "  return df"
      ],
      "execution_count": 5,
      "outputs": []
    },
    {
      "cell_type": "code",
      "metadata": {
        "id": "7gaUlEWrBKF9",
        "outputId": "b0c40068-da25-40ec-9728-92373a815445",
        "colab": {
          "base_uri": "https://localhost:8080/",
          "height": 405
        }
      },
      "source": [
        "df = prepro(df, \"score\")\n",
        "df[\"score\"] = df[\"score\"]*2.0\n",
        "df[\"score\"] = df[\"score\"].round() / 2.0\n",
        "plt.figure(figsize=(15, 5))\n",
        "sns.countplot(df[\"score\"].sort_values(), palette='Blues')"
      ],
      "execution_count": 6,
      "outputs": [
        {
          "output_type": "stream",
          "text": [
            "/usr/local/lib/python3.6/dist-packages/seaborn/_decorators.py:43: FutureWarning: Pass the following variable as a keyword arg: x. From version 0.12, the only valid positional argument will be `data`, and passing other arguments without an explicit keyword will result in an error or misinterpretation.\n",
            "  FutureWarning\n"
          ],
          "name": "stderr"
        },
        {
          "output_type": "execute_result",
          "data": {
            "text/plain": [
              "<matplotlib.axes._subplots.AxesSubplot at 0x7f19300aa198>"
            ]
          },
          "metadata": {
            "tags": []
          },
          "execution_count": 6
        },
        {
          "output_type": "display_data",
          "data": {
            "image/png": "[encoded data removed]",
            "text/plain": [
              "<Figure size 1080x360 with 1 Axes>"
            ]
          },
          "metadata": {
            "tags": [],
            "needs_background": "light"
          }
        }
      ]
    },
    {
      "cell_type": "code",
      "metadata": {
        "id": "2fbInQ6qCDlH",
        "outputId": "4a4adbfb-4145-4ae6-976e-486c0a3a9aef",
        "colab": {
          "base_uri": "https://localhost:8080/",
          "height": 351
        }
      },
      "source": [
        "df[\"length\"] = df[\"review\"].apply(lambda x: len(x))\n",
        "plt.figure(figsize=(15, 5))\n",
        "sns.scatterplot(x=df[\"score\"].sort_values(), y=df[\"length\"], palette='YlOrBr')"
      ],
      "execution_count": 7,
      "outputs": [
        {
          "output_type": "execute_result",
          "data": {
            "text/plain": [
              "<matplotlib.axes._subplots.AxesSubplot at 0x7f191f580550>"
            ]
          },
          "metadata": {
            "tags": []
          },
          "execution_count": 7
        },
        {
          "output_type": "display_data",
          "data": {
            "image/png": "[encoded data removed]",
            "text/plain": [
              "<Figure size 1080x360 with 1 Axes>"
            ]
          },
          "metadata": {
            "tags": [],
            "needs_background": "light"
          }
        }
      ]
    },
    {
      "cell_type": "code",
      "metadata": {
        "id": "ILJAMJ5dggN8",
        "outputId": "ee096bf8-0228-4448-a98a-d1416c953721",
        "colab": {
          "base_uri": "https://localhost:8080/",
          "height": 351
        }
      },
      "source": [
        "df[\"length\"] = df[\"review\"].apply(lambda x: len(x))\n",
        "plt.figure(figsize=(20, 5))\n",
        "sns.scatterplot(y=df[\"score\"].sort_values(), x=df[\"length\"], palette='YlOrBr')"
      ],
      "execution_count": 8,
      "outputs": [
        {
          "output_type": "execute_result",
          "data": {
            "text/plain": [
              "<matplotlib.axes._subplots.AxesSubplot at 0x7f19300e2358>"
            ]
          },
          "metadata": {
            "tags": []
          },
          "execution_count": 8
        },
        {
          "output_type": "display_data",
          "data": {
            "image/png": "[encoded data removed]",
            "text/plain": [
              "<Figure size 1440x360 with 1 Axes>"
            ]
          },
          "metadata": {
            "tags": [],
            "needs_background": "light"
          }
        }
      ]
    },
    {
      "cell_type": "code",
      "metadata": {
        "id": "bmdjWT9xhcBG",
        "outputId": "6429c1ee-d84e-461b-e45a-5450e112e1ae",
        "colab": {
          "base_uri": "https://localhost:8080/",
          "height": 351
        }
      },
      "source": [
        "sns.countplot(df[\"length\"])"
      ],
      "execution_count": 9,
      "outputs": [
        {
          "output_type": "stream",
          "text": [
            "/usr/local/lib/python3.6/dist-packages/seaborn/_decorators.py:43: FutureWarning: Pass the following variable as a keyword arg: x. From version 0.12, the only valid positional argument will be `data`, and passing other arguments without an explicit keyword will result in an error or misinterpretation.\n",
            "  FutureWarning\n"
          ],
          "name": "stderr"
        },
        {
          "output_type": "execute_result",
          "data": {
            "text/plain": [
              "<matplotlib.axes._subplots.AxesSubplot at 0x7f19306aa208>"
            ]
          },
          "metadata": {
            "tags": []
          },
          "execution_count": 9
        },
        {
          "output_type": "display_data",
          "data": {
            "image/png": "[encoded data removed]",
            "text/plain": [
              "<Figure size 432x288 with 1 Axes>"
            ]
          },
          "metadata": {
            "tags": [],
            "needs_background": "light"
          }
        }
      ]
    },
    {
      "cell_type": "code",
      "metadata": {
        "id": "7p8mvdazgtyH",
        "outputId": "04e24025-a873-45fa-f62e-fb19ae525644",
        "colab": {
          "base_uri": "https://localhost:8080/",
          "height": 104
        }
      },
      "source": [
        "print(\"max : \",df[\"length\"].max())\n",
        "print(\"mean :\",df[\"length\"].mean() )\n",
        "print(\"median :\",df[\"length\"].median() )\n",
        "print(\"mode :\",df[\"length\"].mode() )"
      ],
      "execution_count": 10,
      "outputs": [
        {
          "output_type": "stream",
          "text": [
            "max :  5232\n",
            "mean : 156.8050847457627\n",
            "median : 96.0\n",
            "mode : 0    33\n",
            "dtype: int64\n"
          ],
          "name": "stdout"
        }
      ]
    },
    {
      "cell_type": "code",
      "metadata": {
        "id": "iRNxcLkniYfq",
        "outputId": "5600bdb3-344b-487d-f57f-a8ee41e5c8a0",
        "colab": {
          "base_uri": "https://localhost:8080/",
          "height": 35
        }
      },
      "source": [
        "df[df[\"length\"] < 400 ].__len__()"
      ],
      "execution_count": 11,
      "outputs": [
        {
          "output_type": "execute_result",
          "data": {
            "text/plain": [
              "17573"
            ]
          },
          "metadata": {
            "tags": []
          },
          "execution_count": 11
        }
      ]
    },
    {
      "cell_type": "code",
      "metadata": {
        "id": "VqiAByxNjM40",
        "outputId": "3d1f79b9-e406-4572-f3c1-9bf4e2ce291d",
        "colab": {
          "base_uri": "https://localhost:8080/",
          "height": 351
        }
      },
      "source": [
        "sns.boxplot(df[\"length\"])"
      ],
      "execution_count": 12,
      "outputs": [
        {
          "output_type": "stream",
          "text": [
            "/usr/local/lib/python3.6/dist-packages/seaborn/_decorators.py:43: FutureWarning: Pass the following variable as a keyword arg: x. From version 0.12, the only valid positional argument will be `data`, and passing other arguments without an explicit keyword will result in an error or misinterpretation.\n",
            "  FutureWarning\n"
          ],
          "name": "stderr"
        },
        {
          "output_type": "execute_result",
          "data": {
            "text/plain": [
              "<matplotlib.axes._subplots.AxesSubplot at 0x7f1932de1630>"
            ]
          },
          "metadata": {
            "tags": []
          },
          "execution_count": 12
        },
        {
          "output_type": "display_data",
          "data": {
            "image/png": "[encoded data removed]",
            "text/plain": [
              "<Figure size 432x288 with 1 Axes>"
            ]
          },
          "metadata": {
            "tags": [],
            "needs_background": "light"
          }
        }
      ]
    },
    {
      "cell_type": "code",
      "metadata": {
        "id": "W5hKYT0_i2QJ"
      },
      "source": [
        "df = df[df[\"length\"] < 400 ]"
      ],
      "execution_count": 13,
      "outputs": []
    },
    {
      "cell_type": "code",
      "metadata": {
        "id": "aEfxyHxojd9T",
        "outputId": "7aaf6e51-1093-41aa-9845-df6b5a05b146",
        "colab": {
          "base_uri": "https://localhost:8080/",
          "height": 351
        }
      },
      "source": [
        "sns.boxplot(df[\"length\"])"
      ],
      "execution_count": 14,
      "outputs": [
        {
          "output_type": "stream",
          "text": [
            "/usr/local/lib/python3.6/dist-packages/seaborn/_decorators.py:43: FutureWarning: Pass the following variable as a keyword arg: x. From version 0.12, the only valid positional argument will be `data`, and passing other arguments without an explicit keyword will result in an error or misinterpretation.\n",
            "  FutureWarning\n"
          ],
          "name": "stderr"
        },
        {
          "output_type": "execute_result",
          "data": {
            "text/plain": [
              "<matplotlib.axes._subplots.AxesSubplot at 0x7f191fbb88d0>"
            ]
          },
          "metadata": {
            "tags": []
          },
          "execution_count": 14
        },
        {
          "output_type": "display_data",
          "data": {
            "image/png": "[encoded data removed]",
            "text/plain": [
              "<Figure size 432x288 with 1 Axes>"
            ]
          },
          "metadata": {
            "tags": [],
            "needs_background": "light"
          }
        }
      ]
    },
    {
      "cell_type": "code",
      "metadata": {
        "id": "2mEghBqijhJP",
        "outputId": "f77f0c35-b2d6-4faa-f5e1-75c31a266330",
        "colab": {
          "base_uri": "https://localhost:8080/",
          "height": 35
        }
      },
      "source": [
        "df[df[\"length\"] > 300 ].__len__()"
      ],
      "execution_count": 15,
      "outputs": [
        {
          "output_type": "execute_result",
          "data": {
            "text/plain": [
              "910"
            ]
          },
          "metadata": {
            "tags": []
          },
          "execution_count": 15
        }
      ]
    },
    {
      "cell_type": "code",
      "metadata": {
        "id": "18jzxklTjFdt",
        "outputId": "3ebfea28-804d-4f34-df80-8dbcca10f946",
        "colab": {
          "base_uri": "https://localhost:8080/",
          "height": 207
        }
      },
      "source": [
        "df.score.value_counts()"
      ],
      "execution_count": 16,
      "outputs": [
        {
          "output_type": "execute_result",
          "data": {
            "text/plain": [
              " 4.0    6864\n",
              " 4.5    3638\n",
              " 3.5    2798\n",
              " 5.0    1904\n",
              "-1.0     986\n",
              " 3.0     983\n",
              " 2.5     222\n",
              " 2.0     118\n",
              " 1.0      31\n",
              " 1.5      29\n",
              "Name: score, dtype: int64"
            ]
          },
          "metadata": {
            "tags": []
          },
          "execution_count": 16
        }
      ]
    },
    {
      "cell_type": "code",
      "metadata": {
        "id": "hAOqc2vICVTl"
      },
      "source": [
        "import neologdn \n",
        "import string \n",
        "import mojimoji \n",
        "import re \n",
        "\n",
        "def text_preprocess(text):\n",
        "\n",
        "  text = neologdn.normalize(text)\n",
        "  #URLを除去する\n",
        "  text = re.sub(\n",
        "      r'(http|https)://([-\\w]+\\.)+[-\\w]+(/[-\\w./?%&=]*)?', \n",
        "      \"\",\n",
        "      text)\n",
        "  #全角から半角に\n",
        "  text = mojimoji.zen_to_han(text) \n",
        "\n",
        "  #3D,2Dを残したい\n",
        "  text = text.replace('3D','三次元')\n",
        "  text = text.replace('2D','二次元')\n",
        "\n",
        "  #数字をすべて0に置換 \n",
        "  text = re.sub(r'\\d+', '0', text)\n",
        "\n",
        "  #string.punctuationの除去\n",
        "  table = str.maketrans('', '', string.punctuation)\n",
        "  text = text.translate(table) \n",
        "\n",
        "  text = text.replace(\"｡\",'')\n",
        "  text = text.replace(\"。\",'')\n",
        "  text = text.replace(\"，\",'')\n",
        "  text = text.replace(\",\",'')\n",
        "  text = text.replace(\"、\",'')\n",
        "  text = text.replace(\"､\",'')\n",
        "  text = text.replace(\"…\",'')\n",
        "  text = text.replace(\"･\",'')\n",
        "  \n",
        "\n",
        "  # 【】の除去\n",
        "  text = re.sub(r'[【】]', '', text)\n",
        "  # （）の除去\n",
        "  text = re.sub(r'[（）()]', '', text)\n",
        "  # ［］の除去\n",
        "  text = re.sub(r'[［］\\[\\]]', '', text)\n",
        "  #アルファベットをの大文字を小文字に変換\n",
        "  text = text.lower()\n",
        "\n",
        "  #改行コードの除去\n",
        "  text = text.replace('\\n', '')\n",
        "  text = text.replace('\\r\\n','')\n",
        "  \n",
        "  #空白を除去\n",
        "  #全角スペース\n",
        "  text = text.replace('\\u3000','')\n",
        "  #タブキー\n",
        "  text = text.replace('\\t','')\n",
        "  #半角\n",
        "  #text = re.sub(r' ','', text) →英字幕などの指摘もあるため後で行う\n",
        "  \n",
        "  return text "
      ],
      "execution_count": 17,
      "outputs": []
    },
    {
      "cell_type": "code",
      "metadata": {
        "id": "TMZmlYpoCW_X",
        "outputId": "f0f405ee-d3bb-4780-dfcf-52ba26301938",
        "colab": {
          "base_uri": "https://localhost:8080/",
          "height": 121
        }
      },
      "source": [
        "!pip install emoji \n",
        "!pip install nagisa \n",
        "#!pip install unicodedata \n",
        "\n",
        "import emoji\n",
        "import nagisa\n",
        "\n",
        "def delete_emoji(text):\n",
        "  target_list = [w for w in text if w in emoji.UNICODE_EMOJI]\n",
        "  for trg in target_list:\n",
        "    text = text.replace(trg, \"\")\n",
        "  return text "
      ],
      "execution_count": 18,
      "outputs": [
        {
          "output_type": "stream",
          "text": [
            "Requirement already satisfied: emoji in /usr/local/lib/python3.6/dist-packages (0.6.0)\n",
            "Requirement already satisfied: nagisa in /usr/local/lib/python3.6/dist-packages (0.2.7)\n",
            "Requirement already satisfied: numpy in /usr/local/lib/python3.6/dist-packages (from nagisa) (1.18.5)\n",
            "Requirement already satisfied: DyNet in /usr/local/lib/python3.6/dist-packages (from nagisa) (2.1)\n",
            "Requirement already satisfied: six in /usr/local/lib/python3.6/dist-packages (from nagisa) (1.15.0)\n",
            "Requirement already satisfied: cython in /usr/local/lib/python3.6/dist-packages (from DyNet->nagisa) (0.29.21)\n"
          ],
          "name": "stdout"
        }
      ]
    },
    {
      "cell_type": "code",
      "metadata": {
        "id": "vGcgqoXZCY7g"
      },
      "source": [
        "df[\"review\"] = df[\"review\"].apply(text_preprocess) \n",
        "df[\"review\"] = df[\"review\"].apply(delete_emoji)"
      ],
      "execution_count": 19,
      "outputs": []
    },
    {
      "cell_type": "code",
      "metadata": {
        "id": "7T2sFujaCfNq"
      },
      "source": [
        "import MeCab\n",
        "def mecab_dokuritugo(text):\n",
        "  tagger = MeCab.Tagger() \n",
        "  tagger.parse('')\n",
        "  node = tagger.parseToNode(text) \n",
        "  word_list = [] \n",
        "  while node: \n",
        "    pos = node.feature.split(\",\")[0] ### 単語の品詞を抽出\n",
        "    if pos in [\"動詞\",\"形容詞\"]:\n",
        "      ### 動詞,形容詞の原型を抽出 \n",
        "      ### [6]は原型がカタカナになって返ってくる\n",
        "      word = node.feature.split(\",\")[7]  \n",
        "      word_list.append(word) \n",
        "\n",
        "    elif pos in [\"名詞\"]: ### 名詞はそのまま\n",
        "      word = node.surface \n",
        "      word_list.append(word)\n",
        "    node = node.next\n",
        "  return \" \".join(word_list)"
      ],
      "execution_count": 20,
      "outputs": []
    },
    {
      "cell_type": "code",
      "metadata": {
        "id": "Hu2KHSpzCi1n"
      },
      "source": [
        "df[\"review_tokenize\"] = df[\"review\"].apply(mecab_dokuritugo)"
      ],
      "execution_count": 21,
      "outputs": []
    },
    {
      "cell_type": "code",
      "metadata": {
        "id": "fZhwhTcp-_gV"
      },
      "source": [
        "class TextCNN(nn.Module):\n",
        "\n",
        "  def __init__(self, vocab_size, embedding_size, class_num, kernel_num, kernel_sizes, dropout, static):\n",
        "    \"\"\"\n",
        "     :param vocab_size: int, 入力言語の語彙数\n",
        "     :param embedding_size: int, 埋め込みベクトルの次元数\n",
        "     :param class_num: int, 出力のクラス数\n",
        "     :param kernel_num: int,　畳み込み層の出力チャネル数\n",
        "     :param kernel_sizes: list of int, カーネルのウィンドウサイズ\n",
        "     :param dropout: float, ドロップアウト率\n",
        "     :param static: bool, 埋め込みを固定するか否かのフラグ\n",
        "    \n",
        "    \"\"\"\n",
        "    super(TextCNN, self).__init__()\n",
        "    self.static = static \n",
        "    self.embedding = nn.Embedding(vocab_size, embedding_size)\n",
        "    # nn.ModuleList: 任意の数のModuleをlistのような形で保持することができるクラス\n",
        "    self.convs = nn.ModuleList(\n",
        "        [nn.Conv1d(1, kernel_num, (kernel_size, embedding_size)) for kernel_size in kernel_sizes]\n",
        "    )\n",
        "    self.dropout = nn.Dropout(dropout) \n",
        "    self.out = nn.Linear(len(kernel_sizes)*kernel_num, class_num)\n",
        "\n",
        "  def forward(self, x):\n",
        "    # x: (batch_size, max_length) \n",
        "    x = self.embedding(x) #(batch_size, max_length, embedding_size)\n",
        "\n",
        "    if self.static:\n",
        "      x = torch.tensor(x) #埋め込みを固定\n",
        "\n",
        "    # (batch_size, 1, max_length, embedding_size)\n",
        "    x = x.unsqueeze(1) \n",
        "    # [(batch_size, kernel_num, max_length-kernel_size+1), ...]*len(kernel_sizes)\n",
        "    x = [F.relu(conv(x)).squeeze(3) for conv in self.convs] \n",
        "    # [(batch_size, kernel_num), ...]*len(kernel_sizes)\n",
        "    x = [F.max_pool1d(i, i.size(2)).squeeze(2) for i in x]  \n",
        "    # [(batch_size, len(kernel_sizes)*kernel_num)]\n",
        "    x = torch.cat(x, 1)\n",
        "    x = self.dropout(x) \n",
        "\n",
        "    logit = self.out(x) \n",
        "    return logit "
      ],
      "execution_count": 22,
      "outputs": []
    },
    {
      "cell_type": "code",
      "metadata": {
        "id": "5pZmqpL3t-hR"
      },
      "source": [
        "def sentence_to_ids(vocab, sen):\n",
        "  \"\"\"\n",
        "  単語のリストをIDのリストに変換する関数\n",
        "  :param vocab: class Vocab object\n",
        "  :param sen : list of str, 文を分かち書きして得られた単語のリスト\n",
        "  \"\"\"\n",
        "  UNK = 1\n",
        "\n",
        "  #辞書にない言葉にUNKを割り当てる\n",
        "  out = [vocab.word2id.get(word, UNK) for word in sen ]\n",
        "  return out \n"
      ],
      "execution_count": 23,
      "outputs": []
    },
    {
      "cell_type": "code",
      "metadata": {
        "id": "oY_4SHvHKhdt"
      },
      "source": [
        "class Vocab(object):\n",
        "  def __init__(self, word2id={}):\n",
        "    self.word2id = dict(word2id)\n",
        "    self.id2word = {v: k for k, v in self.word2id.items()}\n",
        "  \n",
        "  def build_vocab(self, sentences, min_count=1):\n",
        "    \"\"\"\n",
        "    コーパスから語彙の辞書を構築するメソッド\n",
        "\n",
        "    :param sentences: list of list of str, コーパス\n",
        "    :param min_count: int, 辞書に含める単語の最小出現回数\n",
        "    \"\"\"\n",
        "    word_counter = {}\n",
        "    for sentence in sentences:\n",
        "      for word in sentence:\n",
        "        # dict.get(key, 0)はdictにdict[key],なければ0を返す\n",
        "        word_counter[word] = word_counter.get(word, 0) + 1\n",
        "    \n",
        "    #min_count回以上出現する単語を加える\n",
        "    for word, count in sorted(word_counter.items(), key=lambda x: -x[1]):\n",
        "      if count < min_count : \n",
        "        break \n",
        "      _id = len(self.word2id)\n",
        "      self.word2id.setdefault(word, _id)\n",
        "      self.id2word[_id] = word "
      ],
      "execution_count": 24,
      "outputs": []
    },
    {
      "cell_type": "code",
      "metadata": {
        "id": "5ddEB2LOr-hf"
      },
      "source": [
        "def make_dataset(df):\n",
        "  # 特殊なトークンは事前に定義しておく\n",
        "  PAD = 0\n",
        "  UNK = 1\n",
        "  PAD_TOKEN = '<PAD>'\n",
        "  UNK_TOKEN = '<UNK>'\n",
        "\n",
        "  MIN_COUNT = 1  # 語彙に含める単語の最低出現回数\n",
        "\n",
        "  # 単語をIDに変換する辞書の初期値を設定\n",
        "  word2id = {\n",
        "      PAD_TOKEN: PAD,\n",
        "      UNK_TOKEN: UNK,\n",
        "      }\n",
        "  vocab = Vocab(word2id=word2id)\n",
        "  vocab.build_vocab(df.values.tolist(), min_count=MIN_COUNT)\n",
        "\n",
        "  print(\"語彙数:\", len(vocab.word2id))\n",
        "  \n",
        "  return vocab"
      ],
      "execution_count": 25,
      "outputs": []
    },
    {
      "cell_type": "code",
      "metadata": {
        "id": "2MDagsMA8bZ9"
      },
      "source": [
        "def train_function(dataloader, model, criterion, optimizer, scheduler, DEVICE, epoch):\n",
        "  model.train() \n",
        "  total_loss = 0 \n",
        "  total_corrects = 0\n",
        "  all_labels = []\n",
        "  all_preds = []\n",
        "\n",
        "  #progress = tqdm(dataloader, total=len(dataloader))\n",
        "\n",
        "  for i, batch in enumerate(dataloader):\n",
        "    #progress.set_description(f\"<Train> Epoch{epoch+1}\")\n",
        "    batch_X, batch_Y = batch \n",
        "    del batch\n",
        "    batch_X, batch_Y = Variable(batch_X), Variable(batch_Y),\n",
        "    optimizer.zero_grad() \n",
        "\n",
        "    outputs = model(batch_X).float()\n",
        "    del batch_X \n",
        "    loss = criterion(outputs, batch_Y)\n",
        "    loss.backward()\n",
        "    optimizer.step() \n",
        "    scheduler.step() \n",
        "    preds = torch.max(outputs, 1)[1].view(batch_Y.size())\n",
        "    del outputs \n",
        "\n",
        "    total_loss += loss.item() \n",
        "    del loss \n",
        "    total_corrects += torch.sum(preds == batch_Y)\n",
        "\n",
        "    all_labels += batch_Y.tolist() \n",
        "    all_preds += preds.tolist() \n",
        "    del batch_Y, preds \n",
        "\n",
        "    #progress.set_postfix(loss=total_loss/(i+1), f1=f1_score(all_labels, all_preds, average=\"macro\"))\n",
        "\n",
        "    gc.collect()\n",
        "  train_loss = total_loss / len(dataloader)\n",
        "  #train_acc = total_corrects.double().cpu().detach().numpy() / len(dataloader.dataset)\n",
        "  train_f1 = f1_score(all_labels, all_preds, average=\"macro\")\n",
        "  accuracy = accuracy_score(all_labels, all_preds)\n",
        "  #tp / (tp+fn)\n",
        "  #recall = recall_score(all_labels, all_preds)\n",
        "  #tp / (tp+fp)\n",
        "  #precision = precision_score(all_labels, all_preds)\n",
        "  #F1=2*(precision*recall)/(precision + recall)\n",
        "  #f1_score = f1_scorey(y_true, y_pred)\n",
        "  gc.collect()\n",
        "  return train_loss, accuracy, train_f1"
      ],
      "execution_count": 26,
      "outputs": []
    },
    {
      "cell_type": "code",
      "metadata": {
        "id": "27AO5FOf8bQa"
      },
      "source": [
        "def evalu_function(dataloader, model, criterion, device, epoch):\n",
        "  model.eval() \n",
        "  total_loss = 0\n",
        "  total_corrects = 0 \n",
        "  all_labels = []\n",
        "  all_preds = []\n",
        "\n",
        "  with torch.no_grad(): \n",
        "    #progress = tqdm(dataloader, total=len(dataloader))\n",
        "\n",
        "    for i, batch in enumerate(dataloader):\n",
        "      #progress.set_description(f\"Valid - Epoch{epoch+1}\")\n",
        "      batch_X, batch_Y = batch \n",
        "      del batch\n",
        "      batch_X, batch_Y = Variable(batch_X), Variable(batch_Y),    \n",
        "      \n",
        "      outputs = model(batch_X).float()\n",
        "      del batch_X \n",
        "      loss = criterion(outputs, batch_Y)\n",
        "      preds = torch.max(outputs, 1)[1].view(batch_Y.size())\n",
        "      del outputs \n",
        "\n",
        "\n",
        "      total_loss += loss.item() \n",
        "      del loss \n",
        "      total_corrects += torch.sum(preds == batch_Y)\n",
        "\n",
        "      all_labels += batch_Y.tolist() \n",
        "      all_preds += preds.tolist() \n",
        "      del batch_Y, preds \n",
        "\n",
        "      #progress.set_postfix(loss=total_loss/(i+1), f1=f1_score(all_labels, all_preds, average=\"macro\"))\n",
        "\n",
        "      gc.collect()\n",
        "\n",
        "    valid_loss = total_loss / len(dataloader)\n",
        "    #train_acc = total_corrects.double().cpu().detach().numpy() / len(dataloader.dataset)\n",
        "    #valid_f1 = f1_score(all_labels, all_preds, average=\"macro\")\n",
        "    accuracy = accuracy_score(all_labels, all_preds)\n",
        "    #tp / (tp+fn)\n",
        "    recall = recall_score(all_labels, all_preds, average='macro')\n",
        "    #tp / (tp+fp)\n",
        "    precision = precision_score(all_labels, all_preds, average='macro')\n",
        "    #valid_f1=2*(precision*recall)/(precision + recall)\n",
        "    valid_f1 = f1_score(all_labels, all_preds, average='macro')\n",
        "    gc.collect()\n",
        "\n",
        "    return valid_loss, accuracy, recall, precision, valid_f1  "
      ],
      "execution_count": 27,
      "outputs": []
    },
    {
      "cell_type": "code",
      "metadata": {
        "id": "mcdJiLbF8FPV"
      },
      "source": [
        "def plot_training(train_losses, train_accs, train_f1s,\n",
        "                  valid_losses, valid_accs, \n",
        "                  valid_recalls,valid_precisions,\n",
        "                  valid_f1s,\n",
        "                  epoch, fold):\n",
        "    \n",
        "    loss_df = pd.DataFrame({\"Train\":train_losses,\n",
        "                            \"Valid\":valid_losses},\n",
        "                        index=range(1, epoch+2))\n",
        "    loss_df.to_csv(f\"/content/drive/My Drive/movie_research/result/loss_plot_fold={fold}.csv\", index=False)\n",
        "    loss_ax = sns.lineplot(data=loss_df).get_figure()\n",
        "    #/content/drive/My Drive/movie_research\n",
        "    loss_ax.savefig(f\"/content/drive/My Drive/movie_research/figures/loss_plot_fold={fold}.png\", dpi=300)\n",
        "    loss_ax.clf()\n",
        "\n",
        "    acc_df = pd.DataFrame({\"Train\":train_accs,\n",
        "                           \"Valid\":valid_accs},\n",
        "                          index=range(1, epoch+2))\n",
        "    acc_df.to_csv(f\"/content/drive/My Drive/movie_research/result/acc_plot_fold={fold}.csv\", index=False)\n",
        "    acc_ax = sns.lineplot(data=acc_df).get_figure()\n",
        "    acc_ax.savefig(f\"/content/drive/My Drive/movie_research/figures/acc_plot_fold={fold}.png\", dpi=300)\n",
        "    acc_ax.clf()\n",
        "\n",
        "    f1_df = pd.DataFrame({\"Train_f1\":train_f1s,\n",
        "                          \"Valid_f1\":valid_f1s,\n",
        "                          \"Valid_precision\":valid_precisions,\n",
        "                          \"Valid_recall\":valid_recalls,\n",
        "                            },\n",
        "                         index=range(1, epoch+2))\n",
        "    f1_df.to_csv(f\"/content/drive/My Drive/movie_research/result/f1_plot_fold={fold}.csv\", index=False)\n",
        "    f1_ax = sns.lineplot(data=f1_df).get_figure()\n",
        "    f1_ax.savefig(f\"/content/drive/My Drive/movie_research/figures/f1_plot_fold={fold}.png\", dpi=300)\n",
        "    f1_ax.clf()"
      ],
      "execution_count": 28,
      "outputs": []
    },
    {
      "cell_type": "code",
      "metadata": {
        "id": "YFI5pRhhLzGh"
      },
      "source": [
        "class DataLoader(object):\n",
        "  def __init__(self, X, Y, batch_size, shuffle=True):\n",
        "    \"\"\"\n",
        "    :param X: list, 入力言語の文章のリスト (単語IDのリスト)\n",
        "    :param Y: list, 出力言語の文章のリスト (単語IDのリスト)\n",
        "    :param batch_size: int, バッチサイズ\n",
        "    :param shuffle: bool, サンプルをシャッフルするかどうか\n",
        "    \"\"\"\n",
        "    self.data = list(zip(X, Y))\n",
        "    self.batch_size = batch_size \n",
        "    self.shuffle = shuffle \n",
        "    self.start_index = 0 \n",
        "    self.reset() \n",
        "\n",
        "  def reset(self):\n",
        "    if self.shuffle:\n",
        "      self.data = shuffle(self.data, random_state=random_state)\n",
        "    self.start_index = 0 \n",
        "\n",
        "  def __iter__(self):\n",
        "    return self \n",
        "  def __len__(self) -> int:\n",
        "    return len(self.data)\n",
        "  def __next__(self):\n",
        "\n",
        "  #ポインタが最後まで到達したら初期化する\n",
        "    if self.start_index >= len(self.data): \n",
        "      self.reset() \n",
        "      raise StopIteration() \n",
        "\n",
        "    #バッチを取得\n",
        "    X, Y = zip(*self.data[self.start_index:self.start_index+self.batch_size])\n",
        "    #短い系列の末尾をパディングする\n",
        "    lengths_X = [len(s) for s in X]\n",
        "    max_length_X = max(lengths_X) \n",
        "    padded_X = [self.pad_seq(s, max_length_X) for s in X] \n",
        "    #tensorに変換\n",
        "    batch_X = torch.tensor(padded_X, dtype=torch.long, device=device)\n",
        "    batch_Y = torch.tensor(Y, dtype=torch.long, device=device)\n",
        "\n",
        "    #ポインタを更新する\n",
        "    self.start_index += self.batch_size \n",
        "\n",
        "    return batch_X, batch_Y \n",
        "  \n",
        "  @staticmethod \n",
        "  def pad_seq(seq, max_length):\n",
        "    \"\"\"\n",
        "    系列の末尾をパディングする \n",
        "    :param seq: list or int, 単語のインデックスのリスト\n",
        "    :param seq: max_length: int, バッチ内の系列の最大長\n",
        "    :return seq: list of int, 単語のインデックスのリスト\n",
        "    \"\"\"\n",
        "    PAD = 0\n",
        "    seq += [PAD for i in range(max_length - len(seq))]\n",
        "    return seq "
      ],
      "execution_count": 29,
      "outputs": []
    },
    {
      "cell_type": "code",
      "metadata": {
        "id": "kC2wwcYD7U6J"
      },
      "source": [
        "def trainer(fold, df, batch_size, lr, EPOCHS, vocab):\n",
        "\n",
        "  train_df = df[df.kfold != fold].reset_index(drop=True)\n",
        "  valid_df = df[df.kfold == fold].reset_index(drop=True)\n",
        "\n",
        "  train_X = train_df[\"tokenize\"]\n",
        "  train_y = train_df[\"score\"]\n",
        "  valid_X = valid_df[\"tokenize\"]\n",
        "  valid_y = valid_df[\"score\"] \n",
        "\n",
        "  #訓練データを使って辞書を作る\n",
        "  #vocab = make_dataset(train_X)\n",
        "\n",
        "  ###データセットの作成\n",
        "  #各データをid化\n",
        "  train_X = [sentence_to_ids(vocab, x) for x in train_X]\n",
        "  valid_X = [sentence_to_ids(vocab, x) for x in valid_X]\n",
        "\n",
        "  train_dataloader = DataLoader(train_X, train_y, batch_size)\n",
        "  valid_dataloader = DataLoader(valid_X, valid_y, batch_size)\n",
        "\n",
        "  model_args = {\n",
        "      'vocab_size': len(vocab.id2word),\n",
        "      'embedding_size': 128,\n",
        "      'class_num': 9,\n",
        "      'kernel_num': 64, \n",
        "      'kernel_sizes': [3,4,5],\n",
        "      'dropout': 0.3, \n",
        "      'static': False,\n",
        "  }\n",
        "  #modelの設定 \n",
        "  model = TextCNN(**model_args)\n",
        "  model = model.to(device)\n",
        "\n",
        "  #if weight != None:\n",
        "  #  criterion = nn.CrossEntropyLoss(weight=weights.to(device))\n",
        "  #else:\n",
        "  #  criterion = nn.CrossEntropyLoss()\n",
        "  #criterion = nn.CrossEntropyLoss()\n",
        "\n",
        "  #weightの計算: scoreの分布にばらつきがあるため\n",
        "  weight = 1 / pd.DataFrame(train_y).reset_index().groupby(\"score\").count().values\n",
        "  weight /= weight.sum()\n",
        "  weights = torch.FloatTensor(weight).to(device)\n",
        "  del weight\n",
        "\n",
        "  criterion = nn.CrossEntropyLoss(weight=weights.to(device))\n",
        "  #AdamWを使ってみる\n",
        "  optimizer = optim.AdamW(model.parameters(), lr=lr)\n",
        "\n",
        "  scheduler = optim.lr_scheduler.StepLR(optimizer, step_size=10000, gamma=1.0)\n",
        "\n",
        "  train_losses = []\n",
        "  train_accs = []\n",
        "  train_f1s = []\n",
        "  valid_losses = []\n",
        "  valid_accs = []\n",
        "  valid_f1s = []\n",
        "  valid_recalls = []\n",
        "  valid_precisions = []\n",
        " \n",
        "  best_loss = np.inf \n",
        "  best_acc = 0 \n",
        "  best_f1 = 0 \n",
        "\n",
        "  for epoch in range(EPOCHS):\n",
        "    train_loss, train_acc, train_f1 = train_function(train_dataloader, model, criterion, optimizer, scheduler, device, epoch)\n",
        "    valid_loss, valid_acc, valid_recall, valid_precision, valid_f1 = evalu_function(valid_dataloader, model, criterion, device, epoch)\n",
        "    print(\"Train:\\n\")\n",
        "    print(f\"Loss: {train_loss}  Acc: {train_acc}  f1: {train_f1}  \")\n",
        "    print(\"Valid:\\n\")\n",
        "    print(f\"Loss: {valid_loss}  Acc: {valid_acc}  f1: {valid_f1}  \")\n",
        "\n",
        "    train_losses.append(train_loss)\n",
        "    train_accs.append(train_acc)\n",
        "    train_f1s.append(train_f1)\n",
        "    valid_losses.append(valid_loss)\n",
        "    valid_accs.append(valid_acc)\n",
        "    valid_recalls.append(valid_recall)\n",
        "    valid_precisions.append(valid_precision)\n",
        "    valid_f1s.append(valid_f1)\n",
        "\n",
        "    plot_training(train_losses, train_accs, train_f1s,\n",
        "                      valid_losses, valid_accs, \n",
        "                      valid_recalls,valid_precisions,\n",
        "                      valid_f1s,\n",
        "                      epoch, fold)\n",
        "\n",
        "    best_loss = valid_loss if valid_loss < best_loss else best_loss\n",
        "    besl_acc = valid_acc if valid_acc > best_acc else best_acc\n",
        "    if valid_f1 > best_f1:\n",
        "      best_f1 = valid_f1\n",
        "      print(\"model saving!\", end=\"\")\n",
        "      torch.save(model.state_dict(), MODELS_DIR + f\"best_{MODEL_NAME}_{fold}.pth\")\n",
        "      print(\"\\n\")\n",
        "\n",
        "    return best_f1\n"
      ],
      "execution_count": 30,
      "outputs": []
    },
    {
      "cell_type": "code",
      "metadata": {
        "id": "eHdvZHR-9yO7"
      },
      "source": [
        "from sklearn.preprocessing import LabelEncoder\n",
        "\n",
        "\n",
        "def create_folds(df, num_splits):\n",
        "    df = df.copy()\n",
        "    #df[\"jobflag\"] = df[\"jobflag\"] - 1\n",
        "    df[\"kfold\"] = -1 \n",
        "\n",
        "    #fracで抽出する行の割合1は100%\n",
        "    df = df.sample(frac=1).reset_index(drop=True)\n",
        "    y = df[\"score\"].values \n",
        "    label_encoder = LabelEncoder()\n",
        "    y = label_encoder.fit_transform(y)\n",
        "    \n",
        "    skf = StratifiedKFold(n_splits=num_splits)\n",
        "\n",
        "    for f, (t_, v_) in enumerate(skf.split(X=df, y=y)):\n",
        "        df.loc[v_,'kfold'] = f ###locより高速\n",
        "    return df"
      ],
      "execution_count": 31,
      "outputs": []
    },
    {
      "cell_type": "code",
      "metadata": {
        "id": "_6HNYJwe_WZ6"
      },
      "source": [
        "NUM_SPLITS = 5\n",
        "\n",
        "test_df = df[df.score == -1]\n",
        "df = df[df.score != -1]\n",
        "df = create_folds(df, NUM_SPLITS)"
      ],
      "execution_count": 32,
      "outputs": []
    },
    {
      "cell_type": "code",
      "metadata": {
        "id": "ZBSHdGH39tT0",
        "outputId": "39308c95-7911-4839-df1a-c686892f6643",
        "colab": {
          "base_uri": "https://localhost:8080/",
          "height": 285
        }
      },
      "source": [
        "test_df.head() "
      ],
      "execution_count": 33,
      "outputs": [
        {
          "output_type": "execute_result",
          "data": {
            "text/html": [
              "<div>\n",
              "<style scoped>\n",
              "    .dataframe tbody tr th:only-of-type {\n",
              "        vertical-align: middle;\n",
              "    }\n",
              "\n",
              "    .dataframe tbody tr th {\n",
              "        vertical-align: top;\n",
              "    }\n",
              "\n",
              "    .dataframe thead th {\n",
              "        text-align: right;\n",
              "    }\n",
              "</style>\n",
              "<table border=\"1\" class=\"dataframe\">\n",
              "  <thead>\n",
              "    <tr style=\"text-align: right;\">\n",
              "      <th></th>\n",
              "      <th>title</th>\n",
              "      <th>name</th>\n",
              "      <th>time</th>\n",
              "      <th>review</th>\n",
              "      <th>score</th>\n",
              "      <th>URL</th>\n",
              "      <th>length</th>\n",
              "      <th>review_tokenize</th>\n",
              "    </tr>\n",
              "  </thead>\n",
              "  <tbody>\n",
              "    <tr>\n",
              "      <th>412313</th>\n",
              "      <td>レディ・プレイヤー1|Ready Player One</td>\n",
              "      <td>べすの感想・評価</td>\n",
              "      <td>2020/08/16 15:46</td>\n",
              "      <td>映画ｹﾞｰﾑ昔の音楽知っていると楽しいところがいくつかあって遊び心がかいまみれた俺はｶﾞﾝﾀ...</td>\n",
              "      <td>-1.0</td>\n",
              "      <td>https://filmarks.com//movies/63747?page=10</td>\n",
              "      <td>60</td>\n",
              "      <td>映画 ｹﾞｰﾑ 昔 音楽 知る 居る 楽しい ところ いく 有る 遊び心 垣間見る ｶﾞﾝﾀ...</td>\n",
              "    </tr>\n",
              "    <tr>\n",
              "      <th>412326</th>\n",
              "      <td>レディ・プレイヤー1|Ready Player One</td>\n",
              "      <td>TaikiSoneの感想・評価</td>\n",
              "      <td>2020/07/06 23:55</td>\n",
              "      <td>ｵﾓﾛかったｰﾘｱﾙとｵｱｼｽ仮想世界ｼｬｲﾆﾝｸﾞのｼｰﾝは笑うこの手のﾀｲﾌﾟも意外によ...</td>\n",
              "      <td>-1.0</td>\n",
              "      <td>https://filmarks.com//movies/63747?page=100</td>\n",
              "      <td>59</td>\n",
              "      <td>ｵﾓﾛ 買う ｰﾘｱﾙ ｵｱｼｽ 仮想 世界 ｼｬｲﾆﾝｸﾞ ｼｰﾝ 笑う 手 ﾀｲﾌﾟ か...</td>\n",
              "    </tr>\n",
              "    <tr>\n",
              "      <th>412372</th>\n",
              "      <td>レディ・プレイヤー1|Ready Player One</td>\n",
              "      <td>N村の感想・評価</td>\n",
              "      <td>2018/09/09 07:08</td>\n",
              "      <td>是非usjのﾊﾞｯｸﾄｩｰｻﾞﾌｭｰﾁｬｰのｱﾄﾗｸｼｮﾝやったところでやってほしい</td>\n",
              "      <td>-1.0</td>\n",
              "      <td>https://filmarks.com//movies/63747?page=1004</td>\n",
              "      <td>42</td>\n",
              "      <td>usj ﾊﾞｯｸﾄｩｰｻﾞﾌｭｰﾁｬｰ ｱﾄﾗｸｼｮﾝ 遣る ところ 遣る 欲しい</td>\n",
              "    </tr>\n",
              "    <tr>\n",
              "      <th>412381</th>\n",
              "      <td>レディ・プレイヤー1|Ready Player One</td>\n",
              "      <td>おかだの感想・評価</td>\n",
              "      <td>2018/09/09 01:34</td>\n",
              "      <td>面白いのはもちろんなんだが最近盛り上がってきたばかりの気がするvrを早くも題材にして作り上げ...</td>\n",
              "      <td>-1.0</td>\n",
              "      <td>https://filmarks.com//movies/63747?page=1005</td>\n",
              "      <td>152</td>\n",
              "      <td>面白い 最近 盛り上がる 来る 気 為る vr 早い 題材 為る 作り上げる ところ ｽﾋﾟ...</td>\n",
              "    </tr>\n",
              "    <tr>\n",
              "      <th>412430</th>\n",
              "      <td>レディ・プレイヤー1|Ready Player One</td>\n",
              "      <td>RIKEの感想・評価</td>\n",
              "      <td>2020/07/06 23:26</td>\n",
              "      <td>所々にﾎﾟｯﾌﾟｶﾙﾁｬｰ感じられる小ﾈﾀが散りばめられていて宝探しのようだったｺﾞｰﾙﾃﾞ...</td>\n",
              "      <td>-1.0</td>\n",
              "      <td>https://filmarks.com//movies/63747?page=101</td>\n",
              "      <td>63</td>\n",
              "      <td>所々 ﾎﾟｯﾌﾟｶﾙﾁｬｰ 感ずる ﾈﾀ 鏤める 居る 宝探し ｺﾞｰﾙﾃﾞｨｳｨﾙｿﾝ ﾎ...</td>\n",
              "    </tr>\n",
              "  </tbody>\n",
              "</table>\n",
              "</div>"
            ],
            "text/plain": [
              "                              title  ...                                    review_tokenize\n",
              "412313  レディ・プレイヤー1|Ready Player One  ...  映画 ｹﾞｰﾑ 昔 音楽 知る 居る 楽しい ところ いく 有る 遊び心 垣間見る ｶﾞﾝﾀ...\n",
              "412326  レディ・プレイヤー1|Ready Player One  ...  ｵﾓﾛ 買う ｰﾘｱﾙ ｵｱｼｽ 仮想 世界 ｼｬｲﾆﾝｸﾞ ｼｰﾝ 笑う 手 ﾀｲﾌﾟ か...\n",
              "412372  レディ・プレイヤー1|Ready Player One  ...          usj ﾊﾞｯｸﾄｩｰｻﾞﾌｭｰﾁｬｰ ｱﾄﾗｸｼｮﾝ 遣る ところ 遣る 欲しい\n",
              "412381  レディ・プレイヤー1|Ready Player One  ...  面白い 最近 盛り上がる 来る 気 為る vr 早い 題材 為る 作り上げる ところ ｽﾋﾟ...\n",
              "412430  レディ・プレイヤー1|Ready Player One  ...  所々 ﾎﾟｯﾌﾟｶﾙﾁｬｰ 感ずる ﾈﾀ 鏤める 居る 宝探し ｺﾞｰﾙﾃﾞｨｳｨﾙｿﾝ ﾎ...\n",
              "\n",
              "[5 rows x 8 columns]"
            ]
          },
          "metadata": {
            "tags": []
          },
          "execution_count": 33
        }
      ]
    },
    {
      "cell_type": "code",
      "metadata": {
        "id": "xNVIL95y9ww9",
        "outputId": "a0e38905-4213-4078-ba40-47073f919b75",
        "colab": {
          "base_uri": "https://localhost:8080/",
          "height": 285
        }
      },
      "source": [
        "df.head()"
      ],
      "execution_count": 34,
      "outputs": [
        {
          "output_type": "execute_result",
          "data": {
            "text/html": [
              "<div>\n",
              "<style scoped>\n",
              "    .dataframe tbody tr th:only-of-type {\n",
              "        vertical-align: middle;\n",
              "    }\n",
              "\n",
              "    .dataframe tbody tr th {\n",
              "        vertical-align: top;\n",
              "    }\n",
              "\n",
              "    .dataframe thead th {\n",
              "        text-align: right;\n",
              "    }\n",
              "</style>\n",
              "<table border=\"1\" class=\"dataframe\">\n",
              "  <thead>\n",
              "    <tr style=\"text-align: right;\">\n",
              "      <th></th>\n",
              "      <th>title</th>\n",
              "      <th>name</th>\n",
              "      <th>time</th>\n",
              "      <th>review</th>\n",
              "      <th>score</th>\n",
              "      <th>URL</th>\n",
              "      <th>length</th>\n",
              "      <th>review_tokenize</th>\n",
              "      <th>kfold</th>\n",
              "    </tr>\n",
              "  </thead>\n",
              "  <tbody>\n",
              "    <tr>\n",
              "      <th>0</th>\n",
              "      <td>レディ・プレイヤー1|Ready Player One</td>\n",
              "      <td>しのの感想・評価</td>\n",
              "      <td>2020/05/23 20:57</td>\n",
              "      <td>映画好きｹﾞｰﾑ好きにはほんとに堪らない作品音楽や映像も綺麗ﾒｲﾝｷｬﾗｸﾀｰ達もとっても魅...</td>\n",
              "      <td>4.0</td>\n",
              "      <td>https://filmarks.com//movies/63747?page=254</td>\n",
              "      <td>114</td>\n",
              "      <td>映画 ｹﾞｰﾑ ほんと 堪る 作品 音楽 映像 ﾒｲﾝｷｬﾗｸﾀｰ 魅力 恋愛 面 進む ｹ...</td>\n",
              "      <td>0</td>\n",
              "    </tr>\n",
              "    <tr>\n",
              "      <th>1</th>\n",
              "      <td>レディ・プレイヤー1|Ready Player One</td>\n",
              "      <td>blackholeの感想・評価</td>\n",
              "      <td>2018/11/18 01:45</td>\n",
              "      <td>最高に面白く楽しめたｹﾞｰﾑ好きは絶対に見るべきこれのじゃねってい気づきがいたるところにあっ...</td>\n",
              "      <td>5.0</td>\n",
              "      <td>https://filmarks.com//movies/63747?page=848</td>\n",
              "      <td>111</td>\n",
              "      <td>最高 面白い 楽しむ ｹﾞｰﾑ 絶対 見る 気づき 至る ところ 有る 興奮 為る 音楽 良...</td>\n",
              "      <td>0</td>\n",
              "    </tr>\n",
              "    <tr>\n",
              "      <th>2</th>\n",
              "      <td>レディ・プレイヤー1|Ready Player One</td>\n",
              "      <td>SOLESOLEの感想・評価</td>\n",
              "      <td>2019/12/17 23:06</td>\n",
              "      <td>最後まで楽しめた映画でしたｵｰﾙｽﾀｰ感謝祭みたいな人気ｷｬﾗｸﾀｰ総出でﾗｽﾄもｵﾁがしっ...</td>\n",
              "      <td>4.5</td>\n",
              "      <td>https://filmarks.com//movies/63747?page=355</td>\n",
              "      <td>56</td>\n",
              "      <td>最後 楽しむ 映画 ｵｰﾙｽﾀｰ 感謝 人気 ｷｬﾗｸﾀｰ 総出 ﾗｽﾄ ｵﾁ 為る 居る</td>\n",
              "      <td>0</td>\n",
              "    </tr>\n",
              "    <tr>\n",
              "      <th>3</th>\n",
              "      <td>レディ・プレイヤー1|Ready Player One</td>\n",
              "      <td>さらてぃんの感想・評価</td>\n",
              "      <td>2020/07/03 18:55</td>\n",
              "      <td>めちゃめちゃ面白かったもっかい映画館でみたい大きい画面で見ることを勧める</td>\n",
              "      <td>4.5</td>\n",
              "      <td>https://filmarks.com//movies/63747?page=229</td>\n",
              "      <td>40</td>\n",
              "      <td>面白い もっか 映画 大きい 画面 見る こと 勧める</td>\n",
              "      <td>0</td>\n",
              "    </tr>\n",
              "    <tr>\n",
              "      <th>4</th>\n",
              "      <td>レディ・プレイヤー1|Ready Player One</td>\n",
              "      <td>Takeの感想・評価</td>\n",
              "      <td>2019/01/17 18:12</td>\n",
              "      <td>日本のｱﾆﾒｷｬﾗがいっぱいｶﾞﾝﾀﾞﾑもﾊﾘｳｯﾄﾞで作成が決定してるみたいです楽しみｽﾋ...</td>\n",
              "      <td>3.5</td>\n",
              "      <td>https://filmarks.com//movies/63747?page=761</td>\n",
              "      <td>67</td>\n",
              "      <td>日本 ｱﾆﾒｷｬﾗ ｶﾞﾝﾀﾞﾑ ﾊﾘｳｯﾄﾞ 作成 決定 為る 楽しみ ｽﾋﾟﾙﾊﾞｰｸﾞ...</td>\n",
              "      <td>0</td>\n",
              "    </tr>\n",
              "  </tbody>\n",
              "</table>\n",
              "</div>"
            ],
            "text/plain": [
              "                         title  ... kfold\n",
              "0  レディ・プレイヤー1|Ready Player One  ...     0\n",
              "1  レディ・プレイヤー1|Ready Player One  ...     0\n",
              "2  レディ・プレイヤー1|Ready Player One  ...     0\n",
              "3  レディ・プレイヤー1|Ready Player One  ...     0\n",
              "4  レディ・プレイヤー1|Ready Player One  ...     0\n",
              "\n",
              "[5 rows x 9 columns]"
            ]
          },
          "metadata": {
            "tags": []
          },
          "execution_count": 34
        }
      ]
    },
    {
      "cell_type": "code",
      "metadata": {
        "id": "bDRrDuLvJlRq",
        "outputId": "48082df3-18c7-40fc-998e-d77530a85fa5",
        "colab": {
          "base_uri": "https://localhost:8080/",
          "height": 407
        }
      },
      "source": [
        "df = df[[\"review_tokenize\", \"score\",\"kfold\"]]\n",
        "df = df.rename(columns={\"review_tokenize\":\"tokenize\"})\n",
        "df"
      ],
      "execution_count": 35,
      "outputs": [
        {
          "output_type": "execute_result",
          "data": {
            "text/html": [
              "<div>\n",
              "<style scoped>\n",
              "    .dataframe tbody tr th:only-of-type {\n",
              "        vertical-align: middle;\n",
              "    }\n",
              "\n",
              "    .dataframe tbody tr th {\n",
              "        vertical-align: top;\n",
              "    }\n",
              "\n",
              "    .dataframe thead th {\n",
              "        text-align: right;\n",
              "    }\n",
              "</style>\n",
              "<table border=\"1\" class=\"dataframe\">\n",
              "  <thead>\n",
              "    <tr style=\"text-align: right;\">\n",
              "      <th></th>\n",
              "      <th>tokenize</th>\n",
              "      <th>score</th>\n",
              "      <th>kfold</th>\n",
              "    </tr>\n",
              "  </thead>\n",
              "  <tbody>\n",
              "    <tr>\n",
              "      <th>0</th>\n",
              "      <td>映画 ｹﾞｰﾑ ほんと 堪る 作品 音楽 映像 ﾒｲﾝｷｬﾗｸﾀｰ 魅力 恋愛 面 進む ｹ...</td>\n",
              "      <td>4.0</td>\n",
              "      <td>0</td>\n",
              "    </tr>\n",
              "    <tr>\n",
              "      <th>1</th>\n",
              "      <td>最高 面白い 楽しむ ｹﾞｰﾑ 絶対 見る 気づき 至る ところ 有る 興奮 為る 音楽 良...</td>\n",
              "      <td>5.0</td>\n",
              "      <td>0</td>\n",
              "    </tr>\n",
              "    <tr>\n",
              "      <th>2</th>\n",
              "      <td>最後 楽しむ 映画 ｵｰﾙｽﾀｰ 感謝 人気 ｷｬﾗｸﾀｰ 総出 ﾗｽﾄ ｵﾁ 為る 居る</td>\n",
              "      <td>4.5</td>\n",
              "      <td>0</td>\n",
              "    </tr>\n",
              "    <tr>\n",
              "      <th>3</th>\n",
              "      <td>面白い もっか 映画 大きい 画面 見る こと 勧める</td>\n",
              "      <td>4.5</td>\n",
              "      <td>0</td>\n",
              "    </tr>\n",
              "    <tr>\n",
              "      <th>4</th>\n",
              "      <td>日本 ｱﾆﾒｷｬﾗ ｶﾞﾝﾀﾞﾑ ﾊﾘｳｯﾄﾞ 作成 決定 為る 楽しみ ｽﾋﾟﾙﾊﾞｰｸﾞ...</td>\n",
              "      <td>3.5</td>\n",
              "      <td>0</td>\n",
              "    </tr>\n",
              "    <tr>\n",
              "      <th>...</th>\n",
              "      <td>...</td>\n",
              "      <td>...</td>\n",
              "      <td>...</td>\n",
              "    </tr>\n",
              "    <tr>\n",
              "      <th>16582</th>\n",
              "      <td>映画 ｱﾆﾒ 0 s pop ｶﾙﾁｬｰ 知識 有る 二 倍 楽しむ ｽﾋﾟﾙﾊﾞｰｸﾞ 映...</td>\n",
              "      <td>3.5</td>\n",
              "      <td>4</td>\n",
              "    </tr>\n",
              "    <tr>\n",
              "      <th>16583</th>\n",
              "      <td>ｱﾄﾗｸｼｮﾝ 映画 ﾊﾞﾁﾎﾞｺ 楽しい 耳 ﾀｺ ｾﾘﾌ 主人 愛する ﾊﾞｶ ｱﾊﾞﾀ...</td>\n",
              "      <td>5.0</td>\n",
              "      <td>4</td>\n",
              "    </tr>\n",
              "    <tr>\n",
              "      <th>16584</th>\n",
              "      <td>0 分間 画面 釘付け ｱｸｼｮﾝ 謎解き ﾎﾞｰｲﾐｰﾂｶﾞｰﾙ ﾊﾞﾗﾝｽ 良い 面白い...</td>\n",
              "      <td>4.0</td>\n",
              "      <td>4</td>\n",
              "    </tr>\n",
              "    <tr>\n",
              "      <th>16585</th>\n",
              "      <td>ﾄﾚｰﾗｰ 見る 0 年代 音楽 懐かしい ｷｬﾗｸﾀｰ 楽しみ 自分 気付く ｷｬﾗ ｱﾊ...</td>\n",
              "      <td>3.5</td>\n",
              "      <td>4</td>\n",
              "    </tr>\n",
              "    <tr>\n",
              "      <th>16586</th>\n",
              "      <td>期待 どおり 面白い 0 年代 映画 音楽 ｱﾆﾒ ﾎﾟｯﾌﾟｶﾙﾁｬｰ ﾘｱﾙﾀｲﾑ 体験...</td>\n",
              "      <td>5.0</td>\n",
              "      <td>4</td>\n",
              "    </tr>\n",
              "  </tbody>\n",
              "</table>\n",
              "<p>16587 rows × 3 columns</p>\n",
              "</div>"
            ],
            "text/plain": [
              "                                                tokenize  score  kfold\n",
              "0      映画 ｹﾞｰﾑ ほんと 堪る 作品 音楽 映像 ﾒｲﾝｷｬﾗｸﾀｰ 魅力 恋愛 面 進む ｹ...    4.0      0\n",
              "1      最高 面白い 楽しむ ｹﾞｰﾑ 絶対 見る 気づき 至る ところ 有る 興奮 為る 音楽 良...    5.0      0\n",
              "2          最後 楽しむ 映画 ｵｰﾙｽﾀｰ 感謝 人気 ｷｬﾗｸﾀｰ 総出 ﾗｽﾄ ｵﾁ 為る 居る    4.5      0\n",
              "3                            面白い もっか 映画 大きい 画面 見る こと 勧める    4.5      0\n",
              "4      日本 ｱﾆﾒｷｬﾗ ｶﾞﾝﾀﾞﾑ ﾊﾘｳｯﾄﾞ 作成 決定 為る 楽しみ ｽﾋﾟﾙﾊﾞｰｸﾞ...    3.5      0\n",
              "...                                                  ...    ...    ...\n",
              "16582  映画 ｱﾆﾒ 0 s pop ｶﾙﾁｬｰ 知識 有る 二 倍 楽しむ ｽﾋﾟﾙﾊﾞｰｸﾞ 映...    3.5      4\n",
              "16583  ｱﾄﾗｸｼｮﾝ 映画 ﾊﾞﾁﾎﾞｺ 楽しい 耳 ﾀｺ ｾﾘﾌ 主人 愛する ﾊﾞｶ ｱﾊﾞﾀ...    5.0      4\n",
              "16584  0 分間 画面 釘付け ｱｸｼｮﾝ 謎解き ﾎﾞｰｲﾐｰﾂｶﾞｰﾙ ﾊﾞﾗﾝｽ 良い 面白い...    4.0      4\n",
              "16585  ﾄﾚｰﾗｰ 見る 0 年代 音楽 懐かしい ｷｬﾗｸﾀｰ 楽しみ 自分 気付く ｷｬﾗ ｱﾊ...    3.5      4\n",
              "16586  期待 どおり 面白い 0 年代 映画 音楽 ｱﾆﾒ ﾎﾟｯﾌﾟｶﾙﾁｬｰ ﾘｱﾙﾀｲﾑ 体験...    5.0      4\n",
              "\n",
              "[16587 rows x 3 columns]"
            ]
          },
          "metadata": {
            "tags": []
          },
          "execution_count": 35
        }
      ]
    },
    {
      "cell_type": "code",
      "metadata": {
        "id": "GIw7tCLR-mgq",
        "outputId": "9c8daa27-ab13-4fa6-a74d-de974748ce14",
        "colab": {
          "base_uri": "https://localhost:8080/",
          "height": 190
        }
      },
      "source": [
        "df.score.value_counts() "
      ],
      "execution_count": 36,
      "outputs": [
        {
          "output_type": "execute_result",
          "data": {
            "text/plain": [
              "4.0    6864\n",
              "4.5    3638\n",
              "3.5    2798\n",
              "5.0    1904\n",
              "3.0     983\n",
              "2.5     222\n",
              "2.0     118\n",
              "1.0      31\n",
              "1.5      29\n",
              "Name: score, dtype: int64"
            ]
          },
          "metadata": {
            "tags": []
          },
          "execution_count": 36
        }
      ]
    },
    {
      "cell_type": "code",
      "metadata": {
        "id": "cp9nBU2VJkKh",
        "outputId": "6b757648-40dd-4d18-b383-2e0deb5260ae",
        "colab": {
          "base_uri": "https://localhost:8080/",
          "height": 1000
        }
      },
      "source": [
        "f1_scores = []\n",
        "BATCH_SIZE = 128\n",
        "lr = 0.001 \n",
        "NUM_EPOCHS = 1000 \n",
        "\n",
        "vocab = make_dataset(df[\"tokenize\"])\n",
        "\n",
        "for fold in range(NUM_SPLITS):\n",
        "    print(f\"fold {fold}\", \"=\"*70)\n",
        "    f1 = trainer(fold, df,BATCH_SIZE,lr, NUM_EPOCHS,vocab)\n",
        "    f1_scores.append(f1)\n",
        "    print(f\"<fold={fold}> best score: {f1}\\n\")"
      ],
      "execution_count": 37,
      "outputs": [
        {
          "output_type": "stream",
          "text": [
            "語彙数: 2349\n",
            "fold 0 ======================================================================\n"
          ],
          "name": "stdout"
        },
        {
          "output_type": "stream",
          "text": [
            "/usr/local/lib/python3.6/dist-packages/sklearn/metrics/_classification.py:1272: UndefinedMetricWarning: Precision is ill-defined and being set to 0.0 in labels with no predicted samples. Use `zero_division` parameter to control this behavior.\n",
            "  _warn_prf(average, modifier, msg_start, len(result))\n"
          ],
          "name": "stderr"
        },
        {
          "output_type": "stream",
          "text": [
            "Train:\n",
            "\n",
            "Loss: 0.009976263816736325  Acc: 0.3543597859672922  f1: 0.11196036863406045  \n",
            "Valid:\n",
            "\n",
            "Loss: 0.008974123568761917  Acc: 0.29264617239300783  f1: 0.11821590703387463  \n",
            "model saving!\n",
            "\n",
            "<fold=0> best score: 0.11821590703387463\n",
            "\n",
            "fold 1 ======================================================================\n"
          ],
          "name": "stdout"
        },
        {
          "output_type": "stream",
          "text": [
            "/usr/local/lib/python3.6/dist-packages/sklearn/metrics/_classification.py:1272: UndefinedMetricWarning: Precision is ill-defined and being set to 0.0 in labels with no predicted samples. Use `zero_division` parameter to control this behavior.\n",
            "  _warn_prf(average, modifier, msg_start, len(result))\n"
          ],
          "name": "stderr"
        },
        {
          "output_type": "stream",
          "text": [
            "Train:\n",
            "\n",
            "Loss: 0.010018263920401563  Acc: 0.3679252392795237  f1: 0.09312004651814437  \n",
            "Valid:\n",
            "\n",
            "Loss: 0.00917837406368842  Acc: 0.29807112718505124  f1: 0.12208001266232298  \n",
            "model saving!\n",
            "\n",
            "<fold=1> best score: 0.12208001266232298\n",
            "\n",
            "fold 2 ======================================================================\n"
          ],
          "name": "stdout"
        },
        {
          "output_type": "stream",
          "text": [
            "/usr/local/lib/python3.6/dist-packages/sklearn/metrics/_classification.py:1272: UndefinedMetricWarning: Precision is ill-defined and being set to 0.0 in labels with no predicted samples. Use `zero_division` parameter to control this behavior.\n",
            "  _warn_prf(average, modifier, msg_start, len(result))\n"
          ],
          "name": "stderr"
        },
        {
          "output_type": "stream",
          "text": [
            "Train:\n",
            "\n",
            "Loss: 0.00989561062067545  Acc: 0.3602110022607385  f1: 0.08874423057335719  \n",
            "Valid:\n",
            "\n",
            "Loss: 0.009210230213782858  Acc: 0.33976484775399457  f1: 0.14453551990810784  \n",
            "model saving!\n",
            "\n",
            "<fold=2> best score: 0.14453551990810784\n",
            "\n",
            "fold 3 ======================================================================\n"
          ],
          "name": "stdout"
        },
        {
          "output_type": "stream",
          "text": [
            "/usr/local/lib/python3.6/dist-packages/sklearn/metrics/_classification.py:1272: UndefinedMetricWarning: Precision is ill-defined and being set to 0.0 in labels with no predicted samples. Use `zero_division` parameter to control this behavior.\n",
            "  _warn_prf(average, modifier, msg_start, len(result))\n"
          ],
          "name": "stderr"
        },
        {
          "output_type": "stream",
          "text": [
            "Train:\n",
            "\n",
            "Loss: 0.010150691914037375  Acc: 0.36299924642049736  f1: 0.11546767487157324  \n",
            "Valid:\n",
            "\n",
            "Loss: 0.00896658164605988  Acc: 0.3180584865842629  f1: 0.13209509930559285  \n",
            "model saving!\n",
            "\n",
            "<fold=3> best score: 0.13209509930559285\n",
            "\n",
            "fold 4 ======================================================================\n"
          ],
          "name": "stdout"
        },
        {
          "output_type": "stream",
          "text": [
            "/usr/local/lib/python3.6/dist-packages/sklearn/metrics/_classification.py:1272: UndefinedMetricWarning: Precision is ill-defined and being set to 0.0 in labels with no predicted samples. Use `zero_division` parameter to control this behavior.\n",
            "  _warn_prf(average, modifier, msg_start, len(result))\n"
          ],
          "name": "stderr"
        },
        {
          "output_type": "stream",
          "text": [
            "Train:\n",
            "\n",
            "Loss: 0.010165852797866855  Acc: 0.3611906556141673  f1: 0.11492267551271414  \n",
            "Valid:\n",
            "\n",
            "Loss: 0.008761747885368515  Acc: 0.32770575821525477  f1: 0.13847735873924022  \n",
            "model saving!\n",
            "\n",
            "<fold=4> best score: 0.13847735873924022\n",
            "\n"
          ],
          "name": "stdout"
        },
        {
          "output_type": "display_data",
          "data": {
            "text/plain": [
              "<Figure size 432x288 with 0 Axes>"
            ]
          },
          "metadata": {
            "tags": []
          }
        }
      ]
    },
    {
      "cell_type": "code",
      "metadata": {
        "id": "eUHLc32s_mKQ",
        "outputId": "7432660e-f479-423b-a83d-162eb4c77dc7",
        "colab": {
          "base_uri": "https://localhost:8080/",
          "height": 35
        }
      },
      "source": [
        "cv = sum(f1_scores) / len(f1_scores)\n",
        "print(f\"CV: {cv}\")"
      ],
      "execution_count": 38,
      "outputs": [
        {
          "output_type": "stream",
          "text": [
            "CV: 0.13108077952982772\n"
          ],
          "name": "stdout"
        }
      ]
    },
    {
      "cell_type": "code",
      "metadata": {
        "id": "HwFW2L0FIkoD",
        "outputId": "e9e41eda-6c44-41ab-fcb1-f434df5a4eb9",
        "colab": {
          "base_uri": "https://localhost:8080/",
          "height": 351
        }
      },
      "source": [
        "df[\"length\"] = df[\"tokenize\"].apply(lambda x: len(x))\n",
        "plt.figure(figsize=(20, 5))\n",
        "sns.scatterplot(y=df[\"score\"].sort_values(), x=df[\"length\"], palette='YlOrBr')"
      ],
      "execution_count": 39,
      "outputs": [
        {
          "output_type": "execute_result",
          "data": {
            "text/plain": [
              "<matplotlib.axes._subplots.AxesSubplot at 0x7f19166d8320>"
            ]
          },
          "metadata": {
            "tags": []
          },
          "execution_count": 39
        },
        {
          "output_type": "display_data",
          "data": {
            "image/png": "[encoded data removed]",
            "text/plain": [
              "<Figure size 1440x360 with 1 Axes>"
            ]
          },
          "metadata": {
            "tags": [],
            "needs_background": "light"
          }
        }
      ]
    },
    {
      "cell_type": "code",
      "metadata": {
        "id": "sao_8PWMgBcv"
      },
      "source": [
        ""
      ],
      "execution_count": null,
      "outputs": []
    }
  ]
}